{
 "cells": [
  {
   "cell_type": "code",
   "execution_count": 90,
   "id": "d161ad03-4ecf-44b7-bd9d-30ec8372bedb",
   "metadata": {},
   "outputs": [],
   "source": [
    "import os\n",
    "import pandas as pd\n",
    "import numpy as np\n",
    "import matplotlib.pyplot as plt"
   ]
  },
  {
   "cell_type": "code",
   "execution_count": 91,
   "id": "c96abcd3-582d-4256-b338-5de41601b2e4",
   "metadata": {},
   "outputs": [
    {
     "name": "stdout",
     "output_type": "stream",
     "text": [
      "C:\\Users\\Aniket\\Desktop\\INTENTION\n"
     ]
    }
   ],
   "source": [
    "cd=os.getcwd()\n",
    "print(cd)\n"
   ]
  },
  {
   "cell_type": "code",
   "execution_count": 92,
   "id": "f5d29c3e-8fd3-4150-bb9b-49ecfc6f7401",
   "metadata": {},
   "outputs": [],
   "source": [
    "os.chdir(r\"C:\\Users\\Aniket\\Desktop\\INTENTION\")"
   ]
  },
  {
   "cell_type": "code",
   "execution_count": 93,
   "id": "312ea5ad-4010-472e-bbfb-a3951304b341",
   "metadata": {},
   "outputs": [
    {
     "name": "stdout",
     "output_type": "stream",
     "text": [
      "C:\\Users\\Aniket\\Desktop\\INTENTION\n"
     ]
    }
   ],
   "source": [
    "cd=os.getcwd()\n",
    "print(cd)"
   ]
  },
  {
   "cell_type": "code",
   "execution_count": 94,
   "id": "da2a0c6b-6c29-40a1-895f-353ad04e8f4b",
   "metadata": {},
   "outputs": [
    {
     "name": "stdout",
     "output_type": "stream",
     "text": [
      "['arrays.npz', 'max_m.npy', 'max_m_ML.npy', 'min_m.npy', 'min_m_ML.npy', 'U001_test_intention.csv', 'U001_train_intention.csv', 'U001_val_intention.csv', 'U002_test_intention.csv', 'U002_train_intention.csv', 'U002_val_intention.csv', 'U003_test_intention.csv', 'U003_train_intention.csv', 'U003_val_intention.csv', 'U004_test_intention.csv', 'U004_train_intention.csv', 'U004_val_intention.csv', 'U005_test_intention.csv', 'U005_train_intention.csv', 'U005_val_intention.csv', 'U006_test_intention.csv', 'U006_train_intention.csv', 'U006_val_intention.csv', 'U007_test_intention.csv', 'U007_train_intention.csv', 'U007_val_intention.csv', 'U008_test_intention.csv', 'U008_train_intention.csv', 'U008_val_intention.csv', 'U009_test_intention.csv', 'U009_train_intention.csv', 'U009_val_intention.csv', 'U010_test_intention.csv', 'U010_train_intention.csv', 'U010_val_intention.csv', 'U011_test_intention.csv', 'U011_train_intention.csv', 'U011_val_intention.csv', 'U012_test_intention.csv', 'U012_train_intention.csv', 'U012_val_intention.csv', 'x_in.npy', 'x_in1.npy', 'x_in10.npy', 'x_in11.npy', 'x_in12.npy', 'x_in2.npy', 'x_in3.npy', 'x_in4.npy', 'x_in5.npy', 'x_in6.npy', 'x_in7.npy', 'x_in8.npy', 'x_in9.npy', 'x_in=.npy', 'x_incom.npy', 'X_train.npy', 'X_vel.npy', 'X_vel_ML.npy', 'y_op.npy', 'y_op1.npy', 'y_op10.npy', 'y_op11.npy', 'y_op12.npy', 'y_op2.npy', 'y_op3.npy', 'y_op4.npy', 'y_op5.npy', 'y_op6.npy', 'y_op7.npy', 'y_op8.npy', 'y_op9.npy', 'y_opcom.npy', 'Y_train.npy', 'Y_train_ML.npy', 'Y_vel.npy', 'Y_vel_ML.npy']\n"
     ]
    }
   ],
   "source": [
    "items=os.listdir(cd)\n",
    "print(items)"
   ]
  },
  {
   "cell_type": "code",
   "execution_count": 95,
   "id": "cba961f2-e95e-471f-80e5-089675d78d48",
   "metadata": {},
   "outputs": [
    {
     "name": "stdout",
     "output_type": "stream",
     "text": [
      "   Axel_X_C9  Axel_Y_C9  Axel_Z_C9  Gyro_X_C9  Gyro_Y_C9  Gyro_Z_C9  \\\n",
      "0   9.805716  -1.292188  -0.533351  -0.004780   0.009180   0.004407   \n",
      "1   9.761404  -1.289689  -0.564034  -0.006107   0.013830   0.002867   \n",
      "2   9.755974  -1.340217  -0.540215   0.001280   0.007532   0.004853   \n",
      "3   9.777711  -1.293986  -0.509525   0.002509   0.004383   0.007947   \n",
      "4   9.780746  -1.317977  -0.534234   0.001352   0.004501   0.003264   \n",
      "\n",
      "   Axel_X_3B  Axel_Y_3B  Axel_Z_3B  Gyro_X_3B  ...  Gyro_X_B6  Gyro_Y_B6  \\\n",
      "0   9.656664   1.975358  -0.301980  -0.000013  ...   0.022529   0.016503   \n",
      "1   9.680856   1.975143  -0.297574   0.001533  ...   0.020462   0.009110   \n",
      "2   9.625826   1.970346  -0.341177   0.002518  ...   0.015382  -0.009136   \n",
      "3   9.643860   1.989431  -0.377410   0.001644  ...   0.008974  -0.007808   \n",
      "4   9.574934   1.986543  -0.411916   0.011106  ...   0.001474  -0.009681   \n",
      "\n",
      "   Gyro_Z_B6  Axel_X_BB  Axel_Y_BB  Axel_Z_BB  Gyro_X_BB  Gyro_Y_BB  \\\n",
      "0   0.003683   9.402755  -2.626369   2.546914   0.015848  -0.002688   \n",
      "1   0.008042   9.402098  -2.616811   2.569726   0.011352  -0.004605   \n",
      "2   0.006390   9.386433  -2.656148   2.610206   0.006799  -0.005966   \n",
      "3   0.001410   9.383196  -2.641832   2.578405   0.009836  -0.005023   \n",
      "4  -0.003038   9.359454  -2.645589   2.578895   0.016324  -0.007830   \n",
      "\n",
      "   Gyro_Z_BB  target  \n",
      "0  -0.005708     0.0  \n",
      "1  -0.005360     0.0  \n",
      "2  -0.001997     0.0  \n",
      "3  -0.006844     0.0  \n",
      "4  -0.000077     0.0  \n",
      "\n",
      "[5 rows x 31 columns]\n"
     ]
    }
   ],
   "source": [
    "path=os.path.join(cd,\"U009_test_intention.csv\")\n",
    "df1=pd.read_csv(path)\n",
    "print(df1.head(5))"
   ]
  },
  {
   "cell_type": "code",
   "execution_count": 96,
   "id": "0b80ff8e-7fa5-4583-9fcf-0085402c6f5d",
   "metadata": {},
   "outputs": [
    {
     "name": "stdout",
     "output_type": "stream",
     "text": [
      "<class 'pandas.core.frame.DataFrame'>\n",
      "RangeIndex: 15141 entries, 0 to 15140\n",
      "Data columns (total 31 columns):\n",
      " #   Column     Non-Null Count  Dtype  \n",
      "---  ------     --------------  -----  \n",
      " 0   Axel_X_C9  15141 non-null  float64\n",
      " 1   Axel_Y_C9  15141 non-null  float64\n",
      " 2   Axel_Z_C9  15141 non-null  float64\n",
      " 3   Gyro_X_C9  15141 non-null  float64\n",
      " 4   Gyro_Y_C9  15141 non-null  float64\n",
      " 5   Gyro_Z_C9  15141 non-null  float64\n",
      " 6   Axel_X_3B  15141 non-null  float64\n",
      " 7   Axel_Y_3B  15141 non-null  float64\n",
      " 8   Axel_Z_3B  15141 non-null  float64\n",
      " 9   Gyro_X_3B  15141 non-null  float64\n",
      " 10  Gyro_Y_3B  15141 non-null  float64\n",
      " 11  Gyro_Z_3B  15141 non-null  float64\n",
      " 12  Axel_X_B5  15141 non-null  float64\n",
      " 13  Axel_Y_B5  15141 non-null  float64\n",
      " 14  Axel_Z_B5  15141 non-null  float64\n",
      " 15  Gyro_X_B5  15141 non-null  float64\n",
      " 16  Gyro_Y_B5  15141 non-null  float64\n",
      " 17  Gyro_Z_B5  15141 non-null  float64\n",
      " 18  Axel_X_B6  15141 non-null  float64\n",
      " 19  Axel_Y_B6  15141 non-null  float64\n",
      " 20  Axel_Z_B6  15141 non-null  float64\n",
      " 21  Gyro_X_B6  15141 non-null  float64\n",
      " 22  Gyro_Y_B6  15141 non-null  float64\n",
      " 23  Gyro_Z_B6  15141 non-null  float64\n",
      " 24  Axel_X_BB  15141 non-null  float64\n",
      " 25  Axel_Y_BB  15141 non-null  float64\n",
      " 26  Axel_Z_BB  15141 non-null  float64\n",
      " 27  Gyro_X_BB  15141 non-null  float64\n",
      " 28  Gyro_Y_BB  15141 non-null  float64\n",
      " 29  Gyro_Z_BB  15141 non-null  float64\n",
      " 30  target     15141 non-null  float64\n",
      "dtypes: float64(31)\n",
      "memory usage: 3.6 MB\n",
      "None\n"
     ]
    }
   ],
   "source": [
    "print(df1.info())"
   ]
  },
  {
   "cell_type": "code",
   "execution_count": 97,
   "id": "68dfceca-dfe2-41af-85cc-c889da7c6fee",
   "metadata": {},
   "outputs": [
    {
     "name": "stdout",
     "output_type": "stream",
     "text": [
      "   Axel_Y_C9  Gyro_Y_C9  Axel_Y_3B  Gyro_Y_3B  Axel_Y_B5\n",
      "0  -1.292188   0.009180   1.975358   0.007740   2.218227\n",
      "1  -1.289689   0.013830   1.975143   0.009262   2.179171\n",
      "2  -1.340217   0.007532   1.970346   0.009042   2.216383\n",
      "3  -1.293986   0.004383   1.989431   0.009153   2.270430\n",
      "4  -1.317977   0.004501   1.986543  -0.001990   2.305136\n",
      "(15141, 5)\n",
      "[[-1.292188  0.00918   1.975358  0.00774   2.218227]\n",
      " [-1.289689  0.01383   1.975143  0.009262  2.179171]\n",
      " [-1.340217  0.007532  1.970346  0.009042  2.216383]\n",
      " ...\n",
      " [-2.233562  0.014739  1.774046  0.028871  1.590331]\n",
      " [-2.219847  0.016331  1.736958  0.021651  1.560459]\n",
      " [-2.208558  0.01977   1.777328  0.01999   1.589826]]\n"
     ]
    }
   ],
   "source": [
    "Gyro_Y=df1.iloc[:,[1,4,7,10,13]]\n",
    "Dat=Gyro_Y.values\n",
    "print(Gyro_Y.head())\n",
    "print(Dat.shape)\n",
    "print(Dat)"
   ]
  },
  {
   "cell_type": "code",
   "execution_count": 98,
   "id": "7b7305ce-0625-4fe9-af75-c5b70eb36048",
   "metadata": {},
   "outputs": [
    {
     "name": "stdout",
     "output_type": "stream",
     "text": [
      "15141\n",
      "15027\n"
     ]
    }
   ],
   "source": [
    "#windowed output shape [m x o] where m=Sample-(window+output)+1\n",
    "#and windowed input shape will be [mxw].\n",
    "\n",
    "Sample=Gyro_Y.shape[0]\n",
    "print(Sample)\n",
    "window=100\n",
    "output=15\n",
    "m=Sample-(window+output)+1\n",
    "\n",
    "X=np.zeros((m,window))\n",
    "y=np.zeros((m,output))\n",
    "print(m)"
   ]
  },
  {
   "cell_type": "code",
   "execution_count": 99,
   "id": "27d7c876-1ffd-41f8-a23d-618c351d8552",
   "metadata": {},
   "outputs": [
    {
     "name": "stdout",
     "output_type": "stream",
     "text": [
      "x_in:\n",
      "(15027, 100, 5)\n",
      "(15027, 15, 5)\n"
     ]
    }
   ],
   "source": [
    "import numpy as np\n",
    "\n",
    "\n",
    "\n",
    "#taking window input as 100 and window ouput as 15 for sample=m  \n",
    "x_in = np.zeros((m,100,5))\n",
    "y_op = np.zeros((m,15,5))\n",
    "\n",
    "\n",
    "for i in range(m):\n",
    "    # Store the first 100 rows\n",
    "   # print(\"x_in[i:,:,].shape\",x_in[i,:,:].shape,\"y_op[i:,:,].shape\",y_op[i,:,:].shape,\"Dat[i:i+100,:].shape\",Dat[i:i+100,:].shape,\"Dat[i+100:i+115,:].shape\",Dat[i+100:i+115,:].shape)\n",
    "    x_in[i,:,:] =Dat[i:i+100,:]\n",
    "    y_op[i,:,:]=Dat[i+100:i+115,:]\n",
    "     \n",
    "    \n",
    " \n",
    "    \n",
    "\n",
    "    # Print the stored arrays\n",
    "print(\"x_in:\")\n",
    "print(x_in.shape)\n",
    "print(y_op.shape)\n",
    "   \n",
    "\n",
    "    \n",
    "\n",
    " \n",
    "\n",
    "\n"
   ]
  },
  {
   "cell_type": "code",
   "execution_count": 100,
   "id": "353683b7-94b2-44e9-9d03-bd4e1eded126",
   "metadata": {},
   "outputs": [],
   "source": [
    "\n",
    "\n",
    "# Save arrays to a file\n",
    "np.save('x_in9.npy',x_in)\n",
    "np.save('y_op9.npy',y_op)\n"
   ]
  },
  {
   "cell_type": "code",
   "execution_count": null,
   "id": "5d45e9ba-d9d8-4634-a50c-efb6afc535ba",
   "metadata": {},
   "outputs": [],
   "source": []
  }
 ],
 "metadata": {
  "kernelspec": {
   "display_name": "Python 3 (ipykernel)",
   "language": "python",
   "name": "python3"
  },
  "language_info": {
   "codemirror_mode": {
    "name": "ipython",
    "version": 3
   },
   "file_extension": ".py",
   "mimetype": "text/x-python",
   "name": "python",
   "nbconvert_exporter": "python",
   "pygments_lexer": "ipython3",
   "version": "3.10.9"
  }
 },
 "nbformat": 4,
 "nbformat_minor": 5
}

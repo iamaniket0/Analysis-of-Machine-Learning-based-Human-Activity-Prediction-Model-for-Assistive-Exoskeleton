{
 "cells": [
  {
   "cell_type": "code",
   "execution_count": 60,
   "id": "d161ad03-4ecf-44b7-bd9d-30ec8372bedb",
   "metadata": {},
   "outputs": [],
   "source": [
    "import os\n",
    "import pandas as pd\n",
    "import numpy as np\n",
    "import matplotlib.pyplot as plt"
   ]
  },
  {
   "cell_type": "code",
   "execution_count": 61,
   "id": "c96abcd3-582d-4256-b338-5de41601b2e4",
   "metadata": {},
   "outputs": [
    {
     "name": "stdout",
     "output_type": "stream",
     "text": [
      "C:\\Users\\Aniket\\Desktop\\INTENTION\n"
     ]
    }
   ],
   "source": [
    "cd=os.getcwd()\n",
    "print(cd)\n"
   ]
  },
  {
   "cell_type": "code",
   "execution_count": 62,
   "id": "f5d29c3e-8fd3-4150-bb9b-49ecfc6f7401",
   "metadata": {},
   "outputs": [],
   "source": [
    "os.chdir(r\"C:\\Users\\Aniket\\Desktop\\INTENTION\")"
   ]
  },
  {
   "cell_type": "code",
   "execution_count": 63,
   "id": "312ea5ad-4010-472e-bbfb-a3951304b341",
   "metadata": {},
   "outputs": [
    {
     "name": "stdout",
     "output_type": "stream",
     "text": [
      "C:\\Users\\Aniket\\Desktop\\INTENTION\n"
     ]
    }
   ],
   "source": [
    "cd=os.getcwd()\n",
    "print(cd)"
   ]
  },
  {
   "cell_type": "code",
   "execution_count": 64,
   "id": "da2a0c6b-6c29-40a1-895f-353ad04e8f4b",
   "metadata": {},
   "outputs": [
    {
     "name": "stdout",
     "output_type": "stream",
     "text": [
      "['arrays.npz', 'U001_test_intention.csv', 'U001_train_intention.csv', 'U001_val_intention.csv', 'U002_test_intention.csv', 'U002_train_intention.csv', 'U002_val_intention.csv', 'U003_test_intention.csv', 'U003_train_intention.csv', 'U003_val_intention.csv', 'U004_test_intention.csv', 'U004_train_intention.csv', 'U004_val_intention.csv', 'U005_test_intention.csv', 'U005_train_intention.csv', 'U005_val_intention.csv', 'U006_test_intention.csv', 'U006_train_intention.csv', 'U006_val_intention.csv', 'U007_test_intention.csv', 'U007_train_intention.csv', 'U007_val_intention.csv', 'U008_test_intention.csv', 'U008_train_intention.csv', 'U008_val_intention.csv', 'U009_test_intention.csv', 'U009_train_intention.csv', 'U009_val_intention.csv', 'U010_test_intention.csv', 'U010_train_intention.csv', 'U010_val_intention.csv', 'U011_test_intention.csv', 'U011_train_intention.csv', 'U011_val_intention.csv', 'U012_test_intention.csv', 'U012_train_intention.csv', 'U012_val_intention.csv', 'x_in.npy', 'x_in2.npy', 'x_in3.npy', 'x_in4.npy', 'x_in5.npy', 'x_in6.npy', 'x_in7.npy', 'x_in=.npy', 'y_op.npy', 'y_op2.npy', 'y_op3.npy', 'y_op4.npy', 'y_op5.npy', 'y_op6.npy', 'y_op7.npy']\n"
     ]
    }
   ],
   "source": [
    "items=os.listdir(cd)\n",
    "print(items)"
   ]
  },
  {
   "cell_type": "code",
   "execution_count": 65,
   "id": "cba961f2-e95e-471f-80e5-089675d78d48",
   "metadata": {},
   "outputs": [
    {
     "name": "stdout",
     "output_type": "stream",
     "text": [
      "   Axel_X_C9  Axel_Y_C9  Axel_Z_C9  Gyro_X_C9  Gyro_Y_C9  Gyro_Z_C9  \\\n",
      "0   9.834513  -0.222748  -0.017160  -0.054571  -0.008453   0.106020   \n",
      "1   9.815735  -0.144040   0.119557  -0.075463  -0.024534   0.100620   \n",
      "2   9.814612  -0.075729   0.268725  -0.122038  -0.030189   0.096657   \n",
      "3   9.820679   0.045152   0.406711  -0.183143  -0.023269   0.097446   \n",
      "4   9.916372   0.092030   0.416472  -0.251607   0.005274   0.093120   \n",
      "\n",
      "   Axel_X_3B  Axel_Y_3B  Axel_Z_3B  Gyro_X_3B  ...  Gyro_X_B6  Gyro_Y_B6  \\\n",
      "0   9.671903   0.821166  -0.640402  -0.123489  ...  -0.061236  -0.235297   \n",
      "1   9.822559   0.670178  -0.645212  -0.116772  ...  -0.073824  -0.234015   \n",
      "2   9.984182   0.526552  -0.581866  -0.093609  ...  -0.086533  -0.222309   \n",
      "3   9.992512   0.443045  -0.446665  -0.039963  ...  -0.101781  -0.213251   \n",
      "4  10.036437   0.377570  -0.283490   0.023524  ...  -0.103429  -0.205970   \n",
      "\n",
      "   Gyro_Z_B6  Axel_X_BB  Axel_Y_BB  Axel_Z_BB  Gyro_X_BB  Gyro_Y_BB  \\\n",
      "0   0.017084   9.477097  -2.371543   2.826338   0.104849  -0.078404   \n",
      "1   0.011719   9.410803  -2.328163   2.866629   0.114934  -0.080070   \n",
      "2   0.013529   9.468874  -2.321201   2.929554   0.120267  -0.080146   \n",
      "3   0.009795   9.550788  -2.375571   2.950104   0.123132  -0.083475   \n",
      "4   0.012414   9.562193  -2.438619   3.082796   0.136637  -0.065844   \n",
      "\n",
      "   Gyro_Z_BB  target  \n",
      "0  -0.011284     0.0  \n",
      "1   0.003486     0.0  \n",
      "2   0.018719     0.0  \n",
      "3   0.037028     0.0  \n",
      "4   0.065062     0.0  \n",
      "\n",
      "[5 rows x 31 columns]\n"
     ]
    }
   ],
   "source": [
    "path=os.path.join(cd,\"U008_train_intention.csv\")\n",
    "df1=pd.read_csv(path)\n",
    "print(df1.head(5))"
   ]
  },
  {
   "cell_type": "code",
   "execution_count": 66,
   "id": "0b80ff8e-7fa5-4583-9fcf-0085402c6f5d",
   "metadata": {},
   "outputs": [
    {
     "name": "stdout",
     "output_type": "stream",
     "text": [
      "<class 'pandas.core.frame.DataFrame'>\n",
      "RangeIndex: 98997 entries, 0 to 98996\n",
      "Data columns (total 31 columns):\n",
      " #   Column     Non-Null Count  Dtype  \n",
      "---  ------     --------------  -----  \n",
      " 0   Axel_X_C9  98997 non-null  float64\n",
      " 1   Axel_Y_C9  98997 non-null  float64\n",
      " 2   Axel_Z_C9  98997 non-null  float64\n",
      " 3   Gyro_X_C9  98997 non-null  float64\n",
      " 4   Gyro_Y_C9  98997 non-null  float64\n",
      " 5   Gyro_Z_C9  98997 non-null  float64\n",
      " 6   Axel_X_3B  98997 non-null  float64\n",
      " 7   Axel_Y_3B  98997 non-null  float64\n",
      " 8   Axel_Z_3B  98997 non-null  float64\n",
      " 9   Gyro_X_3B  98997 non-null  float64\n",
      " 10  Gyro_Y_3B  98997 non-null  float64\n",
      " 11  Gyro_Z_3B  98997 non-null  float64\n",
      " 12  Axel_X_B5  98997 non-null  float64\n",
      " 13  Axel_Y_B5  98997 non-null  float64\n",
      " 14  Axel_Z_B5  98997 non-null  float64\n",
      " 15  Gyro_X_B5  98997 non-null  float64\n",
      " 16  Gyro_Y_B5  98997 non-null  float64\n",
      " 17  Gyro_Z_B5  98997 non-null  float64\n",
      " 18  Axel_X_B6  98997 non-null  float64\n",
      " 19  Axel_Y_B6  98997 non-null  float64\n",
      " 20  Axel_Z_B6  98997 non-null  float64\n",
      " 21  Gyro_X_B6  98997 non-null  float64\n",
      " 22  Gyro_Y_B6  98997 non-null  float64\n",
      " 23  Gyro_Z_B6  98997 non-null  float64\n",
      " 24  Axel_X_BB  98997 non-null  float64\n",
      " 25  Axel_Y_BB  98997 non-null  float64\n",
      " 26  Axel_Z_BB  98997 non-null  float64\n",
      " 27  Gyro_X_BB  98997 non-null  float64\n",
      " 28  Gyro_Y_BB  98997 non-null  float64\n",
      " 29  Gyro_Z_BB  98997 non-null  float64\n",
      " 30  target     98997 non-null  float64\n",
      "dtypes: float64(31)\n",
      "memory usage: 23.4 MB\n",
      "None\n"
     ]
    }
   ],
   "source": [
    "print(df1.info())"
   ]
  },
  {
   "cell_type": "code",
   "execution_count": 67,
   "id": "68dfceca-dfe2-41af-85cc-c889da7c6fee",
   "metadata": {},
   "outputs": [
    {
     "name": "stdout",
     "output_type": "stream",
     "text": [
      "   Axel_Y_C9  Gyro_Y_C9  Axel_Y_3B  Gyro_Y_3B  Axel_Y_B5\n",
      "0  -0.222748  -0.008453   0.821166   0.009619   3.331442\n",
      "1  -0.144040  -0.024534   0.670178   0.013394   3.378121\n",
      "2  -0.075729  -0.030189   0.526552   0.028020   3.355973\n",
      "3   0.045152  -0.023269   0.443045   0.046857   3.311885\n",
      "4   0.092030   0.005274   0.377570   0.053635   3.199918\n",
      "(98997, 5)\n",
      "[[-0.222748 -0.008453  0.821166  0.009619  3.331442]\n",
      " [-0.14404  -0.024534  0.670178  0.013394  3.378121]\n",
      " [-0.075729 -0.030189  0.526552  0.02802   3.355973]\n",
      " ...\n",
      " [-1.298655  0.232649  1.137845  0.07117   3.670335]\n",
      " [-1.286987  0.209136  1.257688  0.04935   3.719069]\n",
      " [-1.230848  0.200286  1.385844  0.034435  3.514086]]\n"
     ]
    }
   ],
   "source": [
    "Gyro_Y=df1.iloc[:,[1,4,7,10,13]]\n",
    "Dat=Gyro_Y.values\n",
    "print(Gyro_Y.head())\n",
    "print(Dat.shape)\n",
    "print(Dat)"
   ]
  },
  {
   "cell_type": "code",
   "execution_count": 68,
   "id": "7b7305ce-0625-4fe9-af75-c5b70eb36048",
   "metadata": {},
   "outputs": [
    {
     "name": "stdout",
     "output_type": "stream",
     "text": [
      "98997\n",
      "98883\n"
     ]
    }
   ],
   "source": [
    "#windowed output shape [m x o] where m=Sample-(window+output)+1\n",
    "#and windowed input shape will be [mxw].\n",
    "\n",
    "Sample=Gyro_Y.shape[0]\n",
    "print(Sample)\n",
    "window=100\n",
    "output=15\n",
    "m=Sample-(window+output)+1\n",
    "\n",
    "X=np.zeros((m,window))\n",
    "y=np.zeros((m,output))\n",
    "print(m)"
   ]
  },
  {
   "cell_type": "code",
   "execution_count": 69,
   "id": "27d7c876-1ffd-41f8-a23d-618c351d8552",
   "metadata": {},
   "outputs": [
    {
     "name": "stdout",
     "output_type": "stream",
     "text": [
      "x_in:\n",
      "(98883, 100, 5)\n",
      "(98883, 15, 5)\n"
     ]
    }
   ],
   "source": [
    "import numpy as np\n",
    "\n",
    "\n",
    "\n",
    "#taking window input as 100 and window ouput as 15 for sample=m  \n",
    "x_in = np.zeros((m,100,5))\n",
    "y_op = np.zeros((m,15,5))\n",
    "\n",
    "\n",
    "for i in range(m):\n",
    "    # Store the first 100 rows\n",
    "   # print(\"x_in[i:,:,].shape\",x_in[i,:,:].shape,\"y_op[i:,:,].shape\",y_op[i,:,:].shape,\"Dat[i:i+100,:].shape\",Dat[i:i+100,:].shape,\"Dat[i+100:i+115,:].shape\",Dat[i+100:i+115,:].shape)\n",
    "    x_in[i,:,:] =Dat[i:i+100,:]\n",
    "    y_op[i,:,:]=Dat[i+100:i+115,:]\n",
    "     \n",
    "    \n",
    " \n",
    "    \n",
    "\n",
    "    # Print the stored arrays\n",
    "print(\"x_in:\")\n",
    "print(x_in.shape)\n",
    "print(y_op.shape)\n",
    "   \n",
    "\n",
    "    \n",
    "\n",
    " \n",
    "\n",
    "\n"
   ]
  },
  {
   "cell_type": "code",
   "execution_count": 70,
   "id": "353683b7-94b2-44e9-9d03-bd4e1eded126",
   "metadata": {},
   "outputs": [],
   "source": [
    "\n",
    "\n",
    "# Save arrays to a file\n",
    "np.save('x_in8.npy',x_in)\n",
    "np.save('y_op8.npy',y_op)\n"
   ]
  },
  {
   "cell_type": "code",
   "execution_count": null,
   "id": "5d45e9ba-d9d8-4634-a50c-efb6afc535ba",
   "metadata": {},
   "outputs": [],
   "source": []
  }
 ],
 "metadata": {
  "kernelspec": {
   "display_name": "Python 3 (ipykernel)",
   "language": "python",
   "name": "python3"
  },
  "language_info": {
   "codemirror_mode": {
    "name": "ipython",
    "version": 3
   },
   "file_extension": ".py",
   "mimetype": "text/x-python",
   "name": "python",
   "nbconvert_exporter": "python",
   "pygments_lexer": "ipython3",
   "version": "3.10.9"
  }
 },
 "nbformat": 4,
 "nbformat_minor": 5
}

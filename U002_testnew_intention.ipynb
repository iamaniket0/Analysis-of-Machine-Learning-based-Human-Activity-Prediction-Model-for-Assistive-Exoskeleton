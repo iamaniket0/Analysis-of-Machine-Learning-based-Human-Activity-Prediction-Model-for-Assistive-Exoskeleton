{
 "cells": [
  {
   "cell_type": "code",
   "execution_count": 14,
   "id": "d161ad03-4ecf-44b7-bd9d-30ec8372bedb",
   "metadata": {},
   "outputs": [],
   "source": [
    "import os\n",
    "import pandas as pd\n",
    "import numpy as np\n",
    "import matplotlib.pyplot as plt"
   ]
  },
  {
   "cell_type": "code",
   "execution_count": 15,
   "id": "c96abcd3-582d-4256-b338-5de41601b2e4",
   "metadata": {},
   "outputs": [
    {
     "name": "stdout",
     "output_type": "stream",
     "text": [
      "C:\\Users\\Aniket\\Desktop\\INTENTION\n"
     ]
    }
   ],
   "source": [
    "cd=os.getcwd()\n",
    "print(cd)\n"
   ]
  },
  {
   "cell_type": "code",
   "execution_count": 16,
   "id": "f5d29c3e-8fd3-4150-bb9b-49ecfc6f7401",
   "metadata": {},
   "outputs": [],
   "source": [
    "os.chdir(r\"C:\\Users\\Aniket\\Desktop\\INTENTION\")"
   ]
  },
  {
   "cell_type": "code",
   "execution_count": 17,
   "id": "312ea5ad-4010-472e-bbfb-a3951304b341",
   "metadata": {},
   "outputs": [
    {
     "name": "stdout",
     "output_type": "stream",
     "text": [
      "C:\\Users\\Aniket\\Desktop\\INTENTION\n"
     ]
    }
   ],
   "source": [
    "cd=os.getcwd()\n",
    "print(cd)"
   ]
  },
  {
   "cell_type": "code",
   "execution_count": 18,
   "id": "da2a0c6b-6c29-40a1-895f-353ad04e8f4b",
   "metadata": {},
   "outputs": [
    {
     "name": "stdout",
     "output_type": "stream",
     "text": [
      "['arrays.npz', 'max_m.npy', 'max_m_ML.npy', 'min_m.npy', 'min_m_ML.npy', 'U001_test_intention.csv', 'U001_train_intention.csv', 'U001_val_intention.csv', 'U002_test_intention.csv', 'U002_train_intention.csv', 'U002_val_intention.csv', 'U003_test_intention.csv', 'U003_train_intention.csv', 'U003_val_intention.csv', 'U004_test_intention.csv', 'U004_train_intention.csv', 'U004_val_intention.csv', 'U005_test_intention.csv', 'U005_train_intention.csv', 'U005_val_intention.csv', 'U006_test_intention.csv', 'U006_train_intention.csv', 'U006_val_intention.csv', 'U007_test_intention.csv', 'U007_train_intention.csv', 'U007_val_intention.csv', 'U008_test_intention.csv', 'U008_train_intention.csv', 'U008_val_intention.csv', 'U009_test_intention.csv', 'U009_train_intention.csv', 'U009_val_intention.csv', 'U010_test_intention.csv', 'U010_train_intention.csv', 'U010_val_intention.csv', 'U011_test_intention.csv', 'U011_train_intention.csv', 'U011_val_intention.csv', 'U012_test_intention.csv', 'U012_train_intention.csv', 'U012_val_intention.csv', 'x_in.npy', 'x_in1.npy', 'x_in10.npy', 'x_in11.npy', 'x_in12.npy', 'x_in2.npy', 'x_in3.npy', 'x_in4.npy', 'x_in5.npy', 'x_in6.npy', 'x_in7.npy', 'x_in8.npy', 'x_in9.npy', 'x_in=.npy', 'x_incom.npy', 'X_train.npy', 'X_vel.npy', 'X_vel_ML.npy', 'y_op.npy', 'y_op1.npy', 'y_op10.npy', 'y_op11.npy', 'y_op12.npy', 'y_op2.npy', 'y_op3.npy', 'y_op4.npy', 'y_op5.npy', 'y_op6.npy', 'y_op7.npy', 'y_op8.npy', 'y_op9.npy', 'y_opcom.npy', 'Y_train.npy', 'Y_train_ML.npy', 'Y_vel.npy', 'Y_vel_ML.npy']\n"
     ]
    }
   ],
   "source": [
    "items=os.listdir(cd)\n",
    "print(items)"
   ]
  },
  {
   "cell_type": "code",
   "execution_count": 19,
   "id": "cba961f2-e95e-471f-80e5-089675d78d48",
   "metadata": {},
   "outputs": [
    {
     "name": "stdout",
     "output_type": "stream",
     "text": [
      "   Axel_X_C9  Axel_Y_C9  Axel_Z_C9  Gyro_X_C9  Gyro_Y_C9  Gyro_Z_C9  \\\n",
      "0   9.843251   0.334928  -0.830445   0.002227  -0.005310   0.005479   \n",
      "1   9.864525   0.390093  -0.834568  -0.003177  -0.009675   0.006931   \n",
      "2   9.857777   0.367857  -0.878942  -0.002954  -0.011297   0.009508   \n",
      "3   9.806334   0.353794  -0.893461  -0.008732  -0.019567   0.008551   \n",
      "4   9.805834   0.320327  -0.906801  -0.014015  -0.022630   0.010806   \n",
      "\n",
      "   Axel_X_3B  Axel_Y_3B  Axel_Z_3B  Gyro_X_3B  ...  Gyro_X_B6  Gyro_Y_B6  \\\n",
      "0   9.690310   0.846790  -1.386316   0.022893  ...   0.020320   0.010041   \n",
      "1   9.686135   0.858660  -1.419828   0.024733  ...  -0.015275   0.017349   \n",
      "2   9.666782   0.813488  -1.397846   0.023077  ...  -0.024598   0.012132   \n",
      "3   9.711036   0.828425  -1.436571   0.017842  ...   0.017524  -0.018013   \n",
      "4   9.689048   0.805189  -1.425609   0.008556  ...   0.036743  -0.063033   \n",
      "\n",
      "   Gyro_Z_B6  Axel_X_BB  Axel_Y_BB  Axel_Z_BB  Gyro_X_BB  Gyro_Y_BB  \\\n",
      "0  -0.016352   9.445992  -2.216411   2.190420  -0.033753  -0.068964   \n",
      "1  -0.003820   9.493534  -2.248822   2.135800  -0.048344  -0.071006   \n",
      "2  -0.002290   9.568784  -2.247761   2.144768  -0.060187  -0.062376   \n",
      "3   0.003242   9.541770  -2.297230   2.168798  -0.069622  -0.055545   \n",
      "4  -0.001095   9.513648  -2.304158   2.170525  -0.072868  -0.055076   \n",
      "\n",
      "   Gyro_Z_BB  target  \n",
      "0  -0.207800     0.0  \n",
      "1  -0.209275     0.0  \n",
      "2  -0.203434     0.0  \n",
      "3  -0.196025     0.0  \n",
      "4  -0.192781     0.0  \n",
      "\n",
      "[5 rows x 31 columns]\n"
     ]
    }
   ],
   "source": [
    "path=os.path.join(cd,\"U002_test_intention.csv\")\n",
    "df1=pd.read_csv(path)\n",
    "print(df1.head(5))"
   ]
  },
  {
   "cell_type": "code",
   "execution_count": 20,
   "id": "0b80ff8e-7fa5-4583-9fcf-0085402c6f5d",
   "metadata": {},
   "outputs": [
    {
     "name": "stdout",
     "output_type": "stream",
     "text": [
      "<class 'pandas.core.frame.DataFrame'>\n",
      "RangeIndex: 15801 entries, 0 to 15800\n",
      "Data columns (total 31 columns):\n",
      " #   Column     Non-Null Count  Dtype  \n",
      "---  ------     --------------  -----  \n",
      " 0   Axel_X_C9  15801 non-null  float64\n",
      " 1   Axel_Y_C9  15801 non-null  float64\n",
      " 2   Axel_Z_C9  15801 non-null  float64\n",
      " 3   Gyro_X_C9  15801 non-null  float64\n",
      " 4   Gyro_Y_C9  15801 non-null  float64\n",
      " 5   Gyro_Z_C9  15801 non-null  float64\n",
      " 6   Axel_X_3B  15801 non-null  float64\n",
      " 7   Axel_Y_3B  15801 non-null  float64\n",
      " 8   Axel_Z_3B  15801 non-null  float64\n",
      " 9   Gyro_X_3B  15801 non-null  float64\n",
      " 10  Gyro_Y_3B  15801 non-null  float64\n",
      " 11  Gyro_Z_3B  15801 non-null  float64\n",
      " 12  Axel_X_B5  15801 non-null  float64\n",
      " 13  Axel_Y_B5  15801 non-null  float64\n",
      " 14  Axel_Z_B5  15801 non-null  float64\n",
      " 15  Gyro_X_B5  15801 non-null  float64\n",
      " 16  Gyro_Y_B5  15801 non-null  float64\n",
      " 17  Gyro_Z_B5  15801 non-null  float64\n",
      " 18  Axel_X_B6  15801 non-null  float64\n",
      " 19  Axel_Y_B6  15801 non-null  float64\n",
      " 20  Axel_Z_B6  15801 non-null  float64\n",
      " 21  Gyro_X_B6  15801 non-null  float64\n",
      " 22  Gyro_Y_B6  15801 non-null  float64\n",
      " 23  Gyro_Z_B6  15801 non-null  float64\n",
      " 24  Axel_X_BB  15801 non-null  float64\n",
      " 25  Axel_Y_BB  15801 non-null  float64\n",
      " 26  Axel_Z_BB  15801 non-null  float64\n",
      " 27  Gyro_X_BB  15801 non-null  float64\n",
      " 28  Gyro_Y_BB  15801 non-null  float64\n",
      " 29  Gyro_Z_BB  15801 non-null  float64\n",
      " 30  target     15801 non-null  float64\n",
      "dtypes: float64(31)\n",
      "memory usage: 3.7 MB\n",
      "None\n"
     ]
    }
   ],
   "source": [
    "print(df1.info())"
   ]
  },
  {
   "cell_type": "code",
   "execution_count": 21,
   "id": "68dfceca-dfe2-41af-85cc-c889da7c6fee",
   "metadata": {},
   "outputs": [
    {
     "name": "stdout",
     "output_type": "stream",
     "text": [
      "   Axel_Y_C9  Gyro_Y_C9  Axel_Y_3B  Gyro_Y_3B  Axel_Y_B5\n",
      "0   0.334928  -0.005310   0.846790  -0.008737   0.065735\n",
      "1   0.390093  -0.009675   0.858660  -0.010782   0.076383\n",
      "2   0.367857  -0.011297   0.813488  -0.010361   0.082136\n",
      "3   0.353794  -0.019567   0.828425  -0.018976   0.115326\n",
      "4   0.320327  -0.022630   0.805189  -0.016854   0.120884\n",
      "(15801, 5)\n",
      "[[ 0.334928 -0.00531   0.84679  -0.008737  0.065735]\n",
      " [ 0.390093 -0.009675  0.85866  -0.010782  0.076383]\n",
      " [ 0.367857 -0.011297  0.813488 -0.010361  0.082136]\n",
      " ...\n",
      " [ 0.93323  -0.69669   3.47064   0.682885  0.410624]\n",
      " [ 0.995119 -0.662013  0.964177  0.761033  0.292278]\n",
      " [ 1.208262 -0.635054 -1.689214  0.534524 -0.01193 ]]\n"
     ]
    }
   ],
   "source": [
    "Gyro_Y=df1.iloc[:,[1,4,7,10,13]]\n",
    "Dat=Gyro_Y.values\n",
    "print(Gyro_Y.head())\n",
    "print(Dat.shape)\n",
    "print(Dat)"
   ]
  },
  {
   "cell_type": "code",
   "execution_count": 22,
   "id": "7b7305ce-0625-4fe9-af75-c5b70eb36048",
   "metadata": {},
   "outputs": [
    {
     "name": "stdout",
     "output_type": "stream",
     "text": [
      "15801\n",
      "15687\n"
     ]
    }
   ],
   "source": [
    "#windowed output shape [m x o] where m=Sample-(window+output)+1\n",
    "#and windowed input shape will be [mxw].\n",
    "\n",
    "Sample=Gyro_Y.shape[0]\n",
    "print(Sample)\n",
    "window=100\n",
    "output=15\n",
    "m=Sample-(window+output)+1\n",
    "\n",
    "X=np.zeros((m,window))\n",
    "y=np.zeros((m,output))\n",
    "print(m)"
   ]
  },
  {
   "cell_type": "code",
   "execution_count": 23,
   "id": "27d7c876-1ffd-41f8-a23d-618c351d8552",
   "metadata": {},
   "outputs": [
    {
     "name": "stdout",
     "output_type": "stream",
     "text": [
      "x_in:\n",
      "(15687, 100, 5)\n",
      "(15687, 15, 5)\n"
     ]
    }
   ],
   "source": [
    "import numpy as np\n",
    "\n",
    "\n",
    "\n",
    "#taking window input as 100 and window ouput as 15 for sample=m  \n",
    "x_in = np.zeros((m,100,5))\n",
    "y_op = np.zeros((m,15,5))\n",
    "\n",
    "\n",
    "for i in range(m):\n",
    "    # Store the first 100 rows\n",
    "   # print(\"x_in[i:,:,].shape\",x_in[i,:,:].shape,\"y_op[i:,:,].shape\",y_op[i,:,:].shape,\"Dat[i:i+100,:].shape\",Dat[i:i+100,:].shape,\"Dat[i+100:i+115,:].shape\",Dat[i+100:i+115,:].shape)\n",
    "    x_in[i,:,:] =Dat[i:i+100,:]\n",
    "    y_op[i,:,:]=Dat[i+100:i+115,:]\n",
    "     \n",
    "    \n",
    " \n",
    "    \n",
    "\n",
    "    # Print the stored arrays\n",
    "print(\"x_in:\")\n",
    "print(x_in.shape)\n",
    "print(y_op.shape)\n",
    "   \n",
    "\n",
    "    \n",
    "\n",
    " \n",
    "\n",
    "\n"
   ]
  },
  {
   "cell_type": "code",
   "execution_count": 24,
   "id": "353683b7-94b2-44e9-9d03-bd4e1eded126",
   "metadata": {},
   "outputs": [],
   "source": [
    "\n",
    "\n",
    "# Save arrays to a file\n",
    "np.save('x_in2.npy',x_in)\n",
    "np.save('y_op2.npy',y_op)\n"
   ]
  },
  {
   "cell_type": "code",
   "execution_count": null,
   "id": "5d45e9ba-d9d8-4634-a50c-efb6afc535ba",
   "metadata": {},
   "outputs": [],
   "source": []
  }
 ],
 "metadata": {
  "kernelspec": {
   "display_name": "Python 3 (ipykernel)",
   "language": "python",
   "name": "python3"
  },
  "language_info": {
   "codemirror_mode": {
    "name": "ipython",
    "version": 3
   },
   "file_extension": ".py",
   "mimetype": "text/x-python",
   "name": "python",
   "nbconvert_exporter": "python",
   "pygments_lexer": "ipython3",
   "version": "3.10.9"
  }
 },
 "nbformat": 4,
 "nbformat_minor": 5
}

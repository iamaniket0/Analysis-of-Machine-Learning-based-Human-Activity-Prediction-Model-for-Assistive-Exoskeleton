{
 "cells": [
  {
   "cell_type": "code",
   "execution_count": 27,
   "id": "d161ad03-4ecf-44b7-bd9d-30ec8372bedb",
   "metadata": {},
   "outputs": [],
   "source": [
    "import os\n",
    "import pandas as pd\n",
    "import numpy as np\n",
    "import matplotlib.pyplot as plt"
   ]
  },
  {
   "cell_type": "code",
   "execution_count": 28,
   "id": "c96abcd3-582d-4256-b338-5de41601b2e4",
   "metadata": {},
   "outputs": [
    {
     "name": "stdout",
     "output_type": "stream",
     "text": [
      "C:\\Users\\Aniket\\Desktop\\INTENTION\n"
     ]
    }
   ],
   "source": [
    "cd=os.getcwd()\n",
    "print(cd)\n"
   ]
  },
  {
   "cell_type": "code",
   "execution_count": 29,
   "id": "f5d29c3e-8fd3-4150-bb9b-49ecfc6f7401",
   "metadata": {},
   "outputs": [],
   "source": [
    "os.chdir(r\"C:\\Users\\Aniket\\Desktop\\INTENTION\")"
   ]
  },
  {
   "cell_type": "code",
   "execution_count": 30,
   "id": "312ea5ad-4010-472e-bbfb-a3951304b341",
   "metadata": {},
   "outputs": [
    {
     "name": "stdout",
     "output_type": "stream",
     "text": [
      "C:\\Users\\Aniket\\Desktop\\INTENTION\n"
     ]
    }
   ],
   "source": [
    "cd=os.getcwd()\n",
    "print(cd)"
   ]
  },
  {
   "cell_type": "code",
   "execution_count": 31,
   "id": "da2a0c6b-6c29-40a1-895f-353ad04e8f4b",
   "metadata": {},
   "outputs": [
    {
     "name": "stdout",
     "output_type": "stream",
     "text": [
      "['arrays.npz', 'U001_test_intention.csv', 'U001_train_intention.csv', 'U001_val_intention.csv', 'U002_test_intention.csv', 'U002_train_intention.csv', 'U002_val_intention.csv', 'U003_test_intention.csv', 'U003_train_intention.csv', 'U003_val_intention.csv', 'U004_test_intention.csv', 'U004_train_intention.csv', 'U004_val_intention.csv', 'U005_test_intention.csv', 'U005_train_intention.csv', 'U005_val_intention.csv', 'U006_test_intention.csv', 'U006_train_intention.csv', 'U006_val_intention.csv', 'U007_test_intention.csv', 'U007_train_intention.csv', 'U007_val_intention.csv', 'U008_test_intention.csv', 'U008_train_intention.csv', 'U008_val_intention.csv', 'U009_test_intention.csv', 'U009_train_intention.csv', 'U009_val_intention.csv', 'U010_test_intention.csv', 'U010_train_intention.csv', 'U010_val_intention.csv', 'U011_test_intention.csv', 'U011_train_intention.csv', 'U011_val_intention.csv', 'U012_test_intention.csv', 'U012_train_intention.csv', 'U012_val_intention.csv', 'x_in.npy', 'x_in2.npy', 'x_in3.npy', 'x_in4.npy', 'x_in=.npy', 'y_op.npy', 'y_op2.npy', 'y_op3.npy', 'y_op4.npy']\n"
     ]
    }
   ],
   "source": [
    "items=os.listdir(cd)\n",
    "print(items)"
   ]
  },
  {
   "cell_type": "code",
   "execution_count": 32,
   "id": "cba961f2-e95e-471f-80e5-089675d78d48",
   "metadata": {},
   "outputs": [
    {
     "name": "stdout",
     "output_type": "stream",
     "text": [
      "   Axel_X_C9  Axel_Y_C9  Axel_Z_C9  Gyro_X_C9  Gyro_Y_C9  Gyro_Z_C9  \\\n",
      "0   9.309346   0.779177  -2.653114  -0.004515  -0.027185  -0.066773   \n",
      "1   9.286545   0.831112  -2.733128  -0.003122  -0.059088  -0.058523   \n",
      "2   9.189770   0.808689  -2.817059  -0.000144  -0.098644  -0.051624   \n",
      "3   9.140257   0.883275  -2.905688   0.001280  -0.133597  -0.043319   \n",
      "4   9.113244   0.909391  -2.969673  -0.004934  -0.157889  -0.035376   \n",
      "\n",
      "   Axel_X_3B  Axel_Y_3B  Axel_Z_3B  Gyro_X_3B  ...  Gyro_X_B6  Gyro_Y_B6  \\\n",
      "0   9.863510   0.346955   0.166419  -0.009065  ...   0.120293   0.070444   \n",
      "1   9.863510   0.376245   0.161806   0.002812  ...   0.115776   0.068589   \n",
      "2   9.839865   0.428244   0.147253   0.019603  ...   0.113890   0.072356   \n",
      "3   9.847731   0.520364   0.208532   0.029262  ...   0.101246   0.073774   \n",
      "4   9.831220   0.539214   0.280031   0.033340  ...   0.083823   0.076310   \n",
      "\n",
      "   Gyro_Z_B6  Axel_X_BB  Axel_Y_BB  Axel_Z_BB  Gyro_X_BB  Gyro_Y_BB  \\\n",
      "0  -0.076860   8.406933  -0.698972  -3.471952  -0.246948   0.431947   \n",
      "1  -0.076548   8.492853  -0.702460  -3.611358  -0.240328   0.409286   \n",
      "2  -0.072662   8.634542  -0.633240  -3.764310  -0.254387   0.404948   \n",
      "3  -0.068438   8.722839  -0.639980  -3.877743  -0.230091   0.439642   \n",
      "4  -0.064510   8.588798  -0.683889  -3.799768  -0.202824   0.470822   \n",
      "\n",
      "   Gyro_Z_BB  target  \n",
      "0   0.094018     0.0  \n",
      "1   0.086230     0.0  \n",
      "2   0.090529     0.0  \n",
      "3   0.104078     0.0  \n",
      "4   0.102146     0.0  \n",
      "\n",
      "[5 rows x 31 columns]\n"
     ]
    }
   ],
   "source": [
    "path=os.path.join(cd,\"U005_train_intention.csv\")\n",
    "df1=pd.read_csv(path)\n",
    "print(df1.head(5))"
   ]
  },
  {
   "cell_type": "code",
   "execution_count": 33,
   "id": "0b80ff8e-7fa5-4583-9fcf-0085402c6f5d",
   "metadata": {},
   "outputs": [
    {
     "name": "stdout",
     "output_type": "stream",
     "text": [
      "<class 'pandas.core.frame.DataFrame'>\n",
      "RangeIndex: 77710 entries, 0 to 77709\n",
      "Data columns (total 31 columns):\n",
      " #   Column     Non-Null Count  Dtype  \n",
      "---  ------     --------------  -----  \n",
      " 0   Axel_X_C9  77710 non-null  float64\n",
      " 1   Axel_Y_C9  77710 non-null  float64\n",
      " 2   Axel_Z_C9  77710 non-null  float64\n",
      " 3   Gyro_X_C9  77710 non-null  float64\n",
      " 4   Gyro_Y_C9  77710 non-null  float64\n",
      " 5   Gyro_Z_C9  77710 non-null  float64\n",
      " 6   Axel_X_3B  77710 non-null  float64\n",
      " 7   Axel_Y_3B  77710 non-null  float64\n",
      " 8   Axel_Z_3B  77710 non-null  float64\n",
      " 9   Gyro_X_3B  77710 non-null  float64\n",
      " 10  Gyro_Y_3B  77710 non-null  float64\n",
      " 11  Gyro_Z_3B  77710 non-null  float64\n",
      " 12  Axel_X_B5  77710 non-null  float64\n",
      " 13  Axel_Y_B5  77710 non-null  float64\n",
      " 14  Axel_Z_B5  77710 non-null  float64\n",
      " 15  Gyro_X_B5  77710 non-null  float64\n",
      " 16  Gyro_Y_B5  77710 non-null  float64\n",
      " 17  Gyro_Z_B5  77710 non-null  float64\n",
      " 18  Axel_X_B6  77710 non-null  float64\n",
      " 19  Axel_Y_B6  77710 non-null  float64\n",
      " 20  Axel_Z_B6  77710 non-null  float64\n",
      " 21  Gyro_X_B6  77710 non-null  float64\n",
      " 22  Gyro_Y_B6  77710 non-null  float64\n",
      " 23  Gyro_Z_B6  77710 non-null  float64\n",
      " 24  Axel_X_BB  77710 non-null  float64\n",
      " 25  Axel_Y_BB  77710 non-null  float64\n",
      " 26  Axel_Z_BB  77710 non-null  float64\n",
      " 27  Gyro_X_BB  77710 non-null  float64\n",
      " 28  Gyro_Y_BB  77710 non-null  float64\n",
      " 29  Gyro_Z_BB  77710 non-null  float64\n",
      " 30  target     77710 non-null  float64\n",
      "dtypes: float64(31)\n",
      "memory usage: 18.4 MB\n",
      "None\n"
     ]
    }
   ],
   "source": [
    "print(df1.info())"
   ]
  },
  {
   "cell_type": "code",
   "execution_count": 34,
   "id": "68dfceca-dfe2-41af-85cc-c889da7c6fee",
   "metadata": {},
   "outputs": [
    {
     "name": "stdout",
     "output_type": "stream",
     "text": [
      "   Axel_Y_C9  Gyro_Y_C9  Axel_Y_3B  Gyro_Y_3B  Axel_Y_B5\n",
      "0   0.779177  -0.027185   0.346955   0.001694   5.122025\n",
      "1   0.831112  -0.059088   0.376245   0.006824   4.966761\n",
      "2   0.808689  -0.098644   0.428244   0.011732   4.960805\n",
      "3   0.883275  -0.133597   0.520364   0.015939   5.044014\n",
      "4   0.909391  -0.157889   0.539214   0.021085   4.925624\n",
      "(77710, 5)\n",
      "[[ 7.791770e-01 -2.718500e-02  3.469550e-01  1.694000e-03  5.122025e+00]\n",
      " [ 8.311120e-01 -5.908800e-02  3.762450e-01  6.824000e-03  4.966761e+00]\n",
      " [ 8.086890e-01 -9.864400e-02  4.282440e-01  1.173200e-02  4.960805e+00]\n",
      " ...\n",
      " [-1.771474e+00 -7.769800e-02  2.643086e+00 -2.024570e-01  3.589777e+00]\n",
      " [-1.863610e+00 -5.608600e-02  2.437569e+00 -2.295590e-01  4.768867e+00]\n",
      " [-1.786507e+00 -5.209300e-02  2.247701e+00 -2.372580e-01  5.542813e+00]]\n"
     ]
    }
   ],
   "source": [
    "Gyro_Y=df1.iloc[:,[1,4,7,10,13]]\n",
    "Dat=Gyro_Y.values\n",
    "print(Gyro_Y.head())\n",
    "print(Dat.shape)\n",
    "print(Dat)"
   ]
  },
  {
   "cell_type": "code",
   "execution_count": 35,
   "id": "7b7305ce-0625-4fe9-af75-c5b70eb36048",
   "metadata": {},
   "outputs": [
    {
     "name": "stdout",
     "output_type": "stream",
     "text": [
      "77710\n",
      "77596\n"
     ]
    }
   ],
   "source": [
    "#windowed output shape [m x o] where m=Sample-(window+output)+1\n",
    "#and windowed input shape will be [mxw].\n",
    "\n",
    "Sample=Gyro_Y.shape[0]\n",
    "print(Sample)\n",
    "window=100\n",
    "output=15\n",
    "m=Sample-(window+output)+1\n",
    "\n",
    "X=np.zeros((m,window))\n",
    "y=np.zeros((m,output))\n",
    "print(m)"
   ]
  },
  {
   "cell_type": "code",
   "execution_count": 36,
   "id": "27d7c876-1ffd-41f8-a23d-618c351d8552",
   "metadata": {},
   "outputs": [
    {
     "name": "stdout",
     "output_type": "stream",
     "text": [
      "x_in:\n",
      "(77596, 100, 5)\n",
      "(77596, 15, 5)\n"
     ]
    }
   ],
   "source": [
    "import numpy as np\n",
    "\n",
    "\n",
    "\n",
    "#taking window input as 100 and window ouput as 15 for sample=m  \n",
    "x_in = np.zeros((m,100,5))\n",
    "y_op = np.zeros((m,15,5))\n",
    "\n",
    "\n",
    "for i in range(m):\n",
    "    # Store the first 100 rows\n",
    "   # print(\"x_in[i:,:,].shape\",x_in[i,:,:].shape,\"y_op[i:,:,].shape\",y_op[i,:,:].shape,\"Dat[i:i+100,:].shape\",Dat[i:i+100,:].shape,\"Dat[i+100:i+115,:].shape\",Dat[i+100:i+115,:].shape)\n",
    "    x_in[i,:,:] =Dat[i:i+100,:]\n",
    "    y_op[i,:,:]=Dat[i+100:i+115,:]\n",
    "     \n",
    "    \n",
    " \n",
    "    \n",
    "\n",
    "    # Print the stored arrays\n",
    "print(\"x_in:\")\n",
    "print(x_in.shape)\n",
    "print(y_op.shape)\n",
    "   \n",
    "\n",
    "    \n",
    "\n",
    " \n",
    "\n",
    "\n"
   ]
  },
  {
   "cell_type": "code",
   "execution_count": 37,
   "id": "353683b7-94b2-44e9-9d03-bd4e1eded126",
   "metadata": {},
   "outputs": [],
   "source": [
    "\n",
    "\n",
    "# Save arrays to a file\n",
    "np.save('x_in5.npy',x_in)\n",
    "np.save('y_op5.npy',y_op)\n"
   ]
  },
  {
   "cell_type": "code",
   "execution_count": null,
   "id": "5d45e9ba-d9d8-4634-a50c-efb6afc535ba",
   "metadata": {},
   "outputs": [],
   "source": []
  }
 ],
 "metadata": {
  "kernelspec": {
   "display_name": "Python 3 (ipykernel)",
   "language": "python",
   "name": "python3"
  },
  "language_info": {
   "codemirror_mode": {
    "name": "ipython",
    "version": 3
   },
   "file_extension": ".py",
   "mimetype": "text/x-python",
   "name": "python",
   "nbconvert_exporter": "python",
   "pygments_lexer": "ipython3",
   "version": "3.10.9"
  }
 },
 "nbformat": 4,
 "nbformat_minor": 5
}

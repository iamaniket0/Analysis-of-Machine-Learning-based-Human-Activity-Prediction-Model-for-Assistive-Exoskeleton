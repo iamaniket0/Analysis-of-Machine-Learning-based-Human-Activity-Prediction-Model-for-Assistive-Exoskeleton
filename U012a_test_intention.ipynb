{
 "cells": [
  {
   "cell_type": "code",
   "execution_count": 1,
   "id": "d161ad03-4ecf-44b7-bd9d-30ec8372bedb",
   "metadata": {},
   "outputs": [],
   "source": [
    "import os\n",
    "import pandas as pd\n",
    "import numpy as np\n",
    "import matplotlib.pyplot as plt"
   ]
  },
  {
   "cell_type": "code",
   "execution_count": 2,
   "id": "c96abcd3-582d-4256-b338-5de41601b2e4",
   "metadata": {},
   "outputs": [
    {
     "name": "stdout",
     "output_type": "stream",
     "text": [
      "C:\\Users\\Aniket\n"
     ]
    }
   ],
   "source": [
    "cd=os.getcwd()\n",
    "print(cd)\n"
   ]
  },
  {
   "cell_type": "code",
   "execution_count": 3,
   "id": "f5d29c3e-8fd3-4150-bb9b-49ecfc6f7401",
   "metadata": {},
   "outputs": [],
   "source": [
    "os.chdir(r\"C:\\Users\\Aniket\\Desktop\\INTENTION\")"
   ]
  },
  {
   "cell_type": "code",
   "execution_count": 4,
   "id": "312ea5ad-4010-472e-bbfb-a3951304b341",
   "metadata": {},
   "outputs": [
    {
     "name": "stdout",
     "output_type": "stream",
     "text": [
      "C:\\Users\\Aniket\\Desktop\\INTENTION\n"
     ]
    }
   ],
   "source": [
    "cd=os.getcwd()\n",
    "print(cd)"
   ]
  },
  {
   "cell_type": "code",
   "execution_count": 5,
   "id": "da2a0c6b-6c29-40a1-895f-353ad04e8f4b",
   "metadata": {},
   "outputs": [
    {
     "name": "stdout",
     "output_type": "stream",
     "text": [
      "['arrays.npz', 'max_m.npy', 'max_m_ML.npy', 'min_m.npy', 'min_m_ML.npy', 'U001_test_intention.csv', 'U001_train_intention.csv', 'U001_val_intention.csv', 'U002_test_intention.csv', 'U002_train_intention.csv', 'U002_val_intention.csv', 'U003_test_intention.csv', 'U003_train_intention.csv', 'U003_val_intention.csv', 'U004_test_intention.csv', 'U004_train_intention.csv', 'U004_val_intention.csv', 'U005_test_intention.csv', 'U005_train_intention.csv', 'U005_val_intention.csv', 'U006_test_intention.csv', 'U006_train_intention.csv', 'U006_val_intention.csv', 'U007_test_intention.csv', 'U007_train_intention.csv', 'U007_val_intention.csv', 'U008_test_intention.csv', 'U008_train_intention.csv', 'U008_val_intention.csv', 'U009_test_intention.csv', 'U009_train_intention.csv', 'U009_val_intention.csv', 'U010_test_intention.csv', 'U010_train_intention.csv', 'U010_val_intention.csv', 'U011_test_intention.csv', 'U011_train_intention.csv', 'U011_val_intention.csv', 'U012_test_intention.csv', 'U012_train_intention.csv', 'U012_val_intention.csv', 'x_in.npy', 'x_in10.npy', 'x_in11.npy', 'x_in12.npy', 'x_in2.npy', 'x_in3.npy', 'x_in4.npy', 'x_in5.npy', 'x_in6.npy', 'x_in7.npy', 'x_in8.npy', 'x_in9.npy', 'x_in=.npy', 'x_incom.npy', 'X_train.npy', 'X_vel.npy', 'X_vel_ML.npy', 'y_op.npy', 'y_op10.npy', 'y_op11.npy', 'y_op12.npy', 'y_op2.npy', 'y_op3.npy', 'y_op4.npy', 'y_op5.npy', 'y_op6.npy', 'y_op7.npy', 'y_op8.npy', 'y_op9.npy', 'y_opcom.npy', 'Y_train.npy', 'Y_train_ML.npy', 'Y_vel.npy', 'Y_vel_ML.npy']\n"
     ]
    }
   ],
   "source": [
    "items=os.listdir(cd)\n",
    "print(items)"
   ]
  },
  {
   "cell_type": "code",
   "execution_count": 6,
   "id": "cba961f2-e95e-471f-80e5-089675d78d48",
   "metadata": {},
   "outputs": [
    {
     "name": "stdout",
     "output_type": "stream",
     "text": [
      "   Gyro_X_C9  Gyro_Y_C9  Gyro_Z_C9  Gyro_X_3B  Gyro_Y_3B  Gyro_Z_3B  \\\n",
      "0  -0.003301   0.003108   0.006429   0.008471  -0.001293  -0.001056   \n",
      "1  -0.000273   0.002850   0.007587   0.007631  -0.002413  -0.000322   \n",
      "2   0.003585   0.003493   0.006959   0.008472  -0.001293  -0.001056   \n",
      "3   0.000052   0.002415   0.011353   0.011868  -0.003059  -0.000849   \n",
      "4  -0.007158   0.002466   0.007057   0.010763   0.001010  -0.004643   \n",
      "\n",
      "   Gyro_X_B5  Gyro_Y_B5  Gyro_Z_B5  Gyro_X_B6  Gyro_Y_B6  Gyro_Z_B6  \\\n",
      "0  -0.004435  -0.014313  -0.009454  -0.002486   0.066973  -0.029534   \n",
      "1  -0.005602  -0.010750  -0.009857  -0.010069   0.076443  -0.025291   \n",
      "2  -0.008474  -0.012894  -0.012194  -0.013269   0.081873  -0.024645   \n",
      "3  -0.011794  -0.009761  -0.013167  -0.016492   0.076151  -0.024798   \n",
      "4  -0.016248  -0.008865  -0.013853  -0.007390   0.070878  -0.023847   \n",
      "\n",
      "   Gyro_X_BB  Gyro_Y_BB  Gyro_Z_BB  target  \n",
      "0   0.048590  -0.005188  -0.014915       0  \n",
      "1   0.045663  -0.002525  -0.011840       0  \n",
      "2   0.048744  -0.001826  -0.006396       0  \n",
      "3   0.053845  -0.002256  -0.007610       0  \n",
      "4   0.048761  -0.001812  -0.006408       0  \n"
     ]
    }
   ],
   "source": [
    "path=os.path.join(cd,\"U001_test_intention.csv\")\n",
    "df1=pd.read_csv(path)\n",
    "print(df1.head(5))"
   ]
  },
  {
   "cell_type": "code",
   "execution_count": 7,
   "id": "0b80ff8e-7fa5-4583-9fcf-0085402c6f5d",
   "metadata": {},
   "outputs": [
    {
     "name": "stdout",
     "output_type": "stream",
     "text": [
      "<class 'pandas.core.frame.DataFrame'>\n",
      "RangeIndex: 1746 entries, 0 to 1745\n",
      "Data columns (total 16 columns):\n",
      " #   Column     Non-Null Count  Dtype  \n",
      "---  ------     --------------  -----  \n",
      " 0   Gyro_X_C9  1746 non-null   float64\n",
      " 1   Gyro_Y_C9  1746 non-null   float64\n",
      " 2   Gyro_Z_C9  1746 non-null   float64\n",
      " 3   Gyro_X_3B  1746 non-null   float64\n",
      " 4   Gyro_Y_3B  1746 non-null   float64\n",
      " 5   Gyro_Z_3B  1746 non-null   float64\n",
      " 6   Gyro_X_B5  1746 non-null   float64\n",
      " 7   Gyro_Y_B5  1746 non-null   float64\n",
      " 8   Gyro_Z_B5  1746 non-null   float64\n",
      " 9   Gyro_X_B6  1746 non-null   float64\n",
      " 10  Gyro_Y_B6  1746 non-null   float64\n",
      " 11  Gyro_Z_B6  1746 non-null   float64\n",
      " 12  Gyro_X_BB  1746 non-null   float64\n",
      " 13  Gyro_Y_BB  1746 non-null   float64\n",
      " 14  Gyro_Z_BB  1746 non-null   float64\n",
      " 15  target     1746 non-null   int64  \n",
      "dtypes: float64(15), int64(1)\n",
      "memory usage: 218.4 KB\n",
      "None\n"
     ]
    }
   ],
   "source": [
    "print(df1.info())"
   ]
  },
  {
   "cell_type": "code",
   "execution_count": 8,
   "id": "68dfceca-dfe2-41af-85cc-c889da7c6fee",
   "metadata": {},
   "outputs": [
    {
     "name": "stdout",
     "output_type": "stream",
     "text": [
      "   Gyro_Y_C9  Gyro_Y_3B  Gyro_Y_B5  Gyro_Y_B6  Gyro_Y_BB\n",
      "0   0.003108  -0.001293  -0.014313   0.066973  -0.005188\n",
      "1   0.002850  -0.002413  -0.010750   0.076443  -0.002525\n",
      "2   0.003493  -0.001293  -0.012894   0.081873  -0.001826\n",
      "3   0.002415  -0.003059  -0.009761   0.076151  -0.002256\n",
      "4   0.002466   0.001010  -0.008865   0.070878  -0.001812\n",
      "(1746, 5)\n",
      "[[ 3.108000e-03 -1.293000e-03 -1.431300e-02  6.697300e-02 -5.188000e-03]\n",
      " [ 2.850000e-03 -2.413000e-03 -1.075000e-02  7.644300e-02 -2.525000e-03]\n",
      " [ 3.493000e-03 -1.293000e-03 -1.289400e-02  8.187300e-02 -1.826000e-03]\n",
      " ...\n",
      " [-2.063550e+00 -2.161242e+00 -5.731140e-01  2.307875e+00 -3.438970e-01]\n",
      " [-1.965258e+00 -1.997112e+00 -5.437530e-01  2.318974e+00 -3.101530e-01]\n",
      " [-1.917985e+00 -1.825734e+00 -4.997440e-01  2.357349e+00 -2.694310e-01]]\n"
     ]
    }
   ],
   "source": [
    "Gyro_Y=df1.iloc[:,[1,4,7,10,13]]\n",
    "Dat=Gyro_Y.values\n",
    "print(Gyro_Y.head())\n",
    "print(Dat.shape)\n",
    "print(Dat)"
   ]
  },
  {
   "cell_type": "code",
   "execution_count": 9,
   "id": "7b7305ce-0625-4fe9-af75-c5b70eb36048",
   "metadata": {},
   "outputs": [
    {
     "name": "stdout",
     "output_type": "stream",
     "text": [
      "1746\n",
      "1632\n"
     ]
    }
   ],
   "source": [
    "#windowed output shape [m x o] where m=Sample-(window+output)+1\n",
    "#and windowed input shape will be [mxw].\n",
    "\n",
    "Sample=Gyro_Y.shape[0]\n",
    "print(Sample)\n",
    "window=100\n",
    "output=15\n",
    "m=Sample-(window+output)+1\n",
    "\n",
    "X=np.zeros((m,window))\n",
    "y=np.zeros((m,output))\n",
    "print(m)"
   ]
  },
  {
   "cell_type": "code",
   "execution_count": 10,
   "id": "27d7c876-1ffd-41f8-a23d-618c351d8552",
   "metadata": {},
   "outputs": [
    {
     "name": "stdout",
     "output_type": "stream",
     "text": [
      "x_in:\n",
      "(1632, 100, 5)\n",
      "(1632, 15, 5)\n"
     ]
    }
   ],
   "source": [
    "import numpy as np\n",
    "\n",
    "\n",
    "\n",
    "#taking window input as 100 and window ouput as 15 for sample=m  \n",
    "x_in = np.zeros((m,100,5))\n",
    "y_op = np.zeros((m,15,5))\n",
    "\n",
    "\n",
    "for i in range(m):\n",
    "    # Store the first 100 rows\n",
    "   # print(\"x_in[i:,:,].shape\",x_in[i,:,:].shape,\"y_op[i:,:,].shape\",y_op[i,:,:].shape,\"Dat[i:i+100,:].shape\",Dat[i:i+100,:].shape,\"Dat[i+100:i+115,:].shape\",Dat[i+100:i+115,:].shape)\n",
    "    x_in[i,:,:] =Dat[i:i+100,:]\n",
    "    y_op[i,:,:]=Dat[i+100:i+115,:]\n",
    "     \n",
    "    \n",
    " \n",
    "    \n",
    "\n",
    "    # Print the stored arrays\n",
    "print(\"x_in:\")\n",
    "print(x_in.shape)\n",
    "print(y_op.shape)\n",
    "   \n",
    "\n",
    "    \n",
    "\n",
    " \n",
    "\n",
    "\n"
   ]
  },
  {
   "cell_type": "code",
   "execution_count": 13,
   "id": "353683b7-94b2-44e9-9d03-bd4e1eded126",
   "metadata": {},
   "outputs": [],
   "source": [
    "\n",
    "\n",
    "# Save arrays to a file\n",
    "np.save('x_in1.npy',x_in)\n",
    "np.save('y_op1.npy',y_op)\n"
   ]
  },
  {
   "cell_type": "code",
   "execution_count": null,
   "id": "5d45e9ba-d9d8-4634-a50c-efb6afc535ba",
   "metadata": {},
   "outputs": [],
   "source": []
  }
 ],
 "metadata": {
  "kernelspec": {
   "display_name": "Python 3 (ipykernel)",
   "language": "python",
   "name": "python3"
  },
  "language_info": {
   "codemirror_mode": {
    "name": "ipython",
    "version": 3
   },
   "file_extension": ".py",
   "mimetype": "text/x-python",
   "name": "python",
   "nbconvert_exporter": "python",
   "pygments_lexer": "ipython3",
   "version": "3.10.9"
  }
 },
 "nbformat": 4,
 "nbformat_minor": 5
}

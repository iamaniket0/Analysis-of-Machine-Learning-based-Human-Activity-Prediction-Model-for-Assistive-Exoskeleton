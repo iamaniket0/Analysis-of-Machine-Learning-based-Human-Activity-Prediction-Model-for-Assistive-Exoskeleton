{
 "cells": [
  {
   "cell_type": "code",
   "execution_count": 1,
   "id": "0c5d584b-a366-46e1-a960-0d2b589c454d",
   "metadata": {},
   "outputs": [
    {
     "name": "stdout",
     "output_type": "stream",
     "text": [
      "C:\\Users\\Aniket\n",
      "C:\\Users\\Aniket\\Desktop\\INTENTION\n",
      "   Axel_X_C9  Axel_Y_C9  Axel_Z_C9  Gyro_X_C9  Gyro_Y_C9  Gyro_Z_C9  \\\n",
      "0   9.348951  -1.384352  -2.825925  -0.009147   0.003162   0.004520   \n",
      "1   9.373568  -1.385355  -2.849880  -0.009126   0.006213   0.004488   \n",
      "2   9.324661  -1.383874  -2.800631  -0.001460   0.010722   0.002938   \n",
      "3   9.349589  -1.385449  -2.848393  -0.001471   0.009197   0.002953   \n",
      "4   9.373891  -1.410422  -2.846875   0.003111   0.009149   0.001441   \n",
      "\n",
      "   Axel_X_3B  Axel_Y_3B  Axel_Z_3B  Gyro_X_3B  ...  Gyro_X_B6  Gyro_Y_B6  \\\n",
      "0   9.754537   0.431866  -1.372894   0.013675  ...   0.021193   0.015231   \n",
      "1   9.730889   0.382773  -1.370538   0.015215  ...   0.030425   0.012274   \n",
      "2   9.730614   0.407186  -1.370894   0.016749  ...   0.039599   0.010957   \n",
      "3   9.730755   0.407982  -1.346172   0.010661  ...   0.036305   0.024588   \n",
      "4   9.755107   0.407310  -1.370482   0.006097  ...   0.025360   0.038153   \n",
      "\n",
      "   Gyro_Z_B6  Axel_X_BB  Axel_Y_BB  Axel_Z_BB  Gyro_X_BB  Gyro_Y_BB  \\\n",
      "0  -0.017047   9.291366  -2.761617   2.717428   0.010574   0.007776   \n",
      "1  -0.019973   9.291116  -2.761500   2.718400   0.007539   0.007767   \n",
      "2  -0.018360   9.289904  -2.737604   2.694424   0.009057   0.007771   \n",
      "3  -0.020250   9.290459  -2.761656   2.695724   0.010622   0.003166   \n",
      "4  -0.019134   9.289802  -2.736587   2.695807   0.012139   0.003170   \n",
      "\n",
      "   Gyro_Z_BB  target  \n",
      "0  -0.000142     0.0  \n",
      "1   0.002927     0.0  \n",
      "2   0.001393     0.0  \n",
      "3  -0.003145     0.0  \n",
      "4  -0.004679     0.0  \n",
      "\n",
      "[5 rows x 31 columns]\n"
     ]
    }
   ],
   "source": [
    "import os\n",
    "import pandas as pd\n",
    "import numpy as np\n",
    "import matplotlib.pyplot as plt\n",
    "cd=os.getcwd()\n",
    "print(cd)\n",
    "os.chdir(r\"C:\\Users\\Aniket\\Desktop\\INTENTION\")\n",
    "cd=os.getcwd()\n",
    "print(cd)\n",
    "path=os.path.join(cd,\"U001_val_intention.csv\")\n",
    "df1=pd.read_csv(path)\n",
    "print(df1.head(5))"
   ]
  },
  {
   "cell_type": "code",
   "execution_count": 5,
   "id": "4b5d33de-0f83-458e-a9b9-ec3cebfb772e",
   "metadata": {},
   "outputs": [
    {
     "name": "stdout",
     "output_type": "stream",
     "text": [
      "4427\n",
      "4313\n",
      "(4313, 100)\n",
      "(4313, 15)\n"
     ]
    }
   ],
   "source": [
    "# for GYRO_y_C9\n",
    "Gyro_y_c9 = df1[\"Gyro_Y_C9\"]\n",
    "Gyro_c9=df1[\"Gyro_Y_C9\"]\n",
    "Dat=Gyro_c9.values\n",
    "Sample=Gyro_c9.shape[0]\n",
    "print(Sample)\n",
    "window=100\n",
    "output=15\n",
    "m=Sample-(window+output)+1\n",
    "print(m)\n",
    "x_in=np.zeros((m,100))\n",
    "y_op=np.zeros((m,15))\n",
    "x1=np.arange(0,m)\n",
    "for i in range(m):\n",
    "    x_in[i,:]=Dat[i:i+100]\n",
    "    y_op[i,:]=Dat[i+100:i+115]\n",
    "x_1=x_in[0,:]\n",
    "y_1=y_op[0,:]\n",
    "x_act=Dat[0:115]\n",
    "print(x_in.shape)\n",
    "print(y_op.shape)"
   ]
  },
  {
   "cell_type": "code",
   "execution_count": 7,
   "id": "7c7cdb27-765c-4b78-968d-19394548c0a8",
   "metadata": {},
   "outputs": [],
   "source": [
    "import numpy as np\n",
    "\n",
    "# Create NumPy arrays\n",
    "x = np.array(x_in)\n",
    "y = np.array(y_op)\n",
    "\n",
    "# Save arrays to a file\n",
    "np.savez('arrays.npz', x=x, y=y)\n",
    "import numpy as np\n",
    "\n",
    "# Load the arrays from file\n",
    "loaded_arrays = np.load('arrays.npz')\n",
    "\n",
    "# Access the individual arrays\n",
    "x_loaded_y_C9 = loaded_arrays['x']\n",
    "y_loaded_y_C9= loaded_arrays['y']\n",
    "\n"
   ]
  },
  {
   "cell_type": "code",
   "execution_count": 9,
   "id": "985bd01e-a284-4bdc-ac2a-193ec6c162cc",
   "metadata": {},
   "outputs": [
    {
     "name": "stdout",
     "output_type": "stream",
     "text": [
      "4427\n"
     ]
    }
   ],
   "source": [
    "# for GYRO_y_3B\n",
    "Gyro_y_3B = df1[\"Gyro_Y_3B\"]\n",
    "Gyro_3B=df1[\"Gyro_Y_3B\"]\n",
    "Dat=Gyro_3B.values\n",
    "Sample=Gyro_3B.shape[0]\n",
    "print(Sample)\n",
    "window=100\n",
    "output=15\n",
    "m=Sample-(window+output)+1\n",
    "\n",
    "X=np.zeros((m,window))\n",
    "y=np.zeros((m,output))\n",
    "x_in=np.zeros((m,100))\n",
    "y_op=np.zeros((m,15))\n",
    "x1=np.arange(0,m)\n",
    "for i in range(m):\n",
    "    x_in[i,:]=Dat[i:i+100]\n",
    "    y_op[i,:]=Dat[i+100:i+115]\n",
    "x_1=x_in[0,:]\n",
    "y_1=y_op[0,:]\n",
    "x_act=Dat[0:115]\n",
    "# Create NumPy arrays\n",
    "x = np.array(x_in)\n",
    "y = np.array(y_op)\n",
    "\n",
    "# Save arrays to a file\n",
    "np.savez('arrays.npz', x=x, y=y)\n",
    "loaded_arrays = np.load('arrays.npz')\n",
    "\n",
    "# Access the individual arrays\n",
    "x_loaded_y_3B = loaded_arrays['x']\n",
    "y_loaded_y_3B= loaded_arrays['y']"
   ]
  },
  {
   "cell_type": "code",
   "execution_count": 10,
   "id": "47692c3a-05b5-41b9-b6fb-64c15a44b4a8",
   "metadata": {},
   "outputs": [
    {
     "name": "stdout",
     "output_type": "stream",
     "text": [
      "4427\n"
     ]
    }
   ],
   "source": [
    "# for GYRO_y_B5\n",
    "Gyro_y_B5= df1[\"Gyro_Y_B5\"]\n",
    "Gyro_B5=df1[\"Gyro_Y_B5\"]\n",
    "Dat=Gyro_B5.values\n",
    "Sample=Gyro_B5.shape[0]\n",
    "print(Sample)\n",
    "window=100\n",
    "output=15\n",
    "m=Sample-(window+output)+1\n",
    "\n",
    "X=np.zeros((m,window))\n",
    "y=np.zeros((m,output))\n",
    "x_in=np.zeros((m,100))\n",
    "y_op=np.zeros((m,15))\n",
    "x1=np.arange(0,m)\n",
    "for i in range(m):\n",
    "    x_in[i,:]=Dat[i:i+100]\n",
    "    y_op[i,:]=Dat[i+100:i+115]\n",
    "x_1=x_in[0,:]\n",
    "y_1=y_op[0,:]\n",
    "x_act=Dat[0:115]\n",
    "# Create NumPy arrays\n",
    "x = np.array(x_in)\n",
    "y = np.array(y_op)\n",
    "\n",
    "# Save arrays to a file\n",
    "np.savez('arrays.npz', x=x, y=y)\n",
    "loaded_arrays = np.load('arrays.npz')\n",
    "\n",
    "# Access the individual arrays\n",
    "x_loaded_y_B5 = loaded_arrays['x']\n",
    "y_loaded_y_B5= loaded_arrays['y']"
   ]
  },
  {
   "cell_type": "code",
   "execution_count": 11,
   "id": "c318fe13-6859-4982-8a15-078ae5f29f88",
   "metadata": {},
   "outputs": [
    {
     "name": "stdout",
     "output_type": "stream",
     "text": [
      "4427\n"
     ]
    }
   ],
   "source": [
    "# for GYRO_y_B6\n",
    "Gyro_y_B6 = df1[\"Gyro_Y_B6\"]\n",
    "Gyro_B6=df1[\"Gyro_Y_B6\"]\n",
    "Dat=Gyro_B6.values\n",
    "Sample=Gyro_B6.shape[0]\n",
    "print(Sample)\n",
    "window=100\n",
    "output=15\n",
    "m=Sample-(window+output)+1\n",
    "\n",
    "X=np.zeros((m,window))\n",
    "y=np.zeros((m,output))\n",
    "x_in=np.zeros((m,100))\n",
    "y_op=np.zeros((m,15))\n",
    "x1=np.arange(0,m)\n",
    "for i in range(m):\n",
    "    x_in[i,:]=Dat[i:i+100]\n",
    "    y_op[i,:]=Dat[i+100:i+115]\n",
    "x_1=x_in[0,:]\n",
    "y_1=y_op[0,:]\n",
    "x_act=Dat[0:115]\n",
    "# Create NumPy arrays\n",
    "x = np.array(x_in)\n",
    "y = np.array(y_op)\n",
    "\n",
    "# Save arrays to a file\n",
    "np.savez('arrays.npz', x=x, y=y)\n",
    "loaded_arrays = np.load('arrays.npz')\n",
    "\n",
    "# Access the individual arrays\n",
    "x_loaded_y_B6 = loaded_arrays['x']\n",
    "y_loaded_y_B6= loaded_arrays['y']"
   ]
  },
  {
   "cell_type": "code",
   "execution_count": 12,
   "id": "0b7e4a11-599e-4be3-8811-b5f25e6d254b",
   "metadata": {},
   "outputs": [
    {
     "name": "stdout",
     "output_type": "stream",
     "text": [
      "4427\n"
     ]
    }
   ],
   "source": [
    "# for GYRO_y_BB\n",
    "Gyro_y_BB = df1[\"Gyro_Y_BB\"]\n",
    "Gyro_BB=df1[\"Gyro_Y_BB\"]\n",
    "Dat=Gyro_BB.values\n",
    "Sample=Gyro_BB.shape[0]\n",
    "print(Sample)\n",
    "window=100\n",
    "output=15\n",
    "m=Sample-(window+output)+1\n",
    "\n",
    "X=np.zeros((m,window))\n",
    "y=np.zeros((m,output))\n",
    "x_in=np.zeros((m,100))\n",
    "y_op=np.zeros((m,15))\n",
    "x1=np.arange(0,m)\n",
    "for i in range(m):\n",
    "    x_in[i,:]=Dat[i:i+100]\n",
    "    y_op[i,:]=Dat[i+100:i+115]\n",
    "x_1=x_in[0,:]\n",
    "y_1=y_op[0,:]\n",
    "x_act=Dat[0:115]\n",
    "# Create NumPy arrays\n",
    "x = np.array(x_in)\n",
    "y = np.array(y_op)\n",
    "\n",
    "# Save arrays to a file\n",
    "np.savez('arrays.npz', x=x, y=y)\n",
    "loaded_arrays = np.load('arrays.npz')\n",
    "\n",
    "# Access the individual arrays\n",
    "x_loaded_y_BB = loaded_arrays['x']\n",
    "y_loaded_y_BB= loaded_arrays['y']"
   ]
  },
  {
   "cell_type": "code",
   "execution_count": null,
   "id": "eac6fd0b-de73-4bf3-a9b5-2b416d47c959",
   "metadata": {},
   "outputs": [],
   "source": []
  }
 ],
 "metadata": {
  "kernelspec": {
   "display_name": "Python 3 (ipykernel)",
   "language": "python",
   "name": "python3"
  },
  "language_info": {
   "codemirror_mode": {
    "name": "ipython",
    "version": 3
   },
   "file_extension": ".py",
   "mimetype": "text/x-python",
   "name": "python",
   "nbconvert_exporter": "python",
   "pygments_lexer": "ipython3",
   "version": "3.10.9"
  }
 },
 "nbformat": 4,
 "nbformat_minor": 5
}

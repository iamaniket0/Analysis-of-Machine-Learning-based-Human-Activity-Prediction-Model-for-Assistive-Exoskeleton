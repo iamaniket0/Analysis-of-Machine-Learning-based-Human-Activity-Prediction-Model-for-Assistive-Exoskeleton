{
 "cells": [
  {
   "cell_type": "code",
   "execution_count": 47,
   "id": "d161ad03-4ecf-44b7-bd9d-30ec8372bedb",
   "metadata": {},
   "outputs": [],
   "source": [
    "import os\n",
    "import pandas as pd\n",
    "import numpy as np\n",
    "import matplotlib.pyplot as plt"
   ]
  },
  {
   "cell_type": "code",
   "execution_count": 48,
   "id": "c96abcd3-582d-4256-b338-5de41601b2e4",
   "metadata": {},
   "outputs": [
    {
     "name": "stdout",
     "output_type": "stream",
     "text": [
      "C:\\Users\\Aniket\\Desktop\\INTENTION\n"
     ]
    }
   ],
   "source": [
    "cd=os.getcwd()\n",
    "print(cd)\n"
   ]
  },
  {
   "cell_type": "code",
   "execution_count": 49,
   "id": "f5d29c3e-8fd3-4150-bb9b-49ecfc6f7401",
   "metadata": {},
   "outputs": [],
   "source": [
    "os.chdir(r\"C:\\Users\\Aniket\\Desktop\\INTENTION\")"
   ]
  },
  {
   "cell_type": "code",
   "execution_count": 50,
   "id": "312ea5ad-4010-472e-bbfb-a3951304b341",
   "metadata": {},
   "outputs": [
    {
     "name": "stdout",
     "output_type": "stream",
     "text": [
      "C:\\Users\\Aniket\\Desktop\\INTENTION\n"
     ]
    }
   ],
   "source": [
    "cd=os.getcwd()\n",
    "print(cd)"
   ]
  },
  {
   "cell_type": "code",
   "execution_count": 40,
   "id": "da2a0c6b-6c29-40a1-895f-353ad04e8f4b",
   "metadata": {},
   "outputs": [
    {
     "name": "stdout",
     "output_type": "stream",
     "text": [
      "['arrays.npz', 'max_m.npy', 'max_m_ML.npy', 'min_m.npy', 'min_m_ML.npy', 'U001_test_intention.csv', 'U001_train_intention.csv', 'U001_val_intention.csv', 'U002_test_intention.csv', 'U002_train_intention.csv', 'U002_val_intention.csv', 'U003_test_intention.csv', 'U003_train_intention.csv', 'U003_val_intention.csv', 'U004_test_intention.csv', 'U004_train_intention.csv', 'U004_val_intention.csv', 'U005_test_intention.csv', 'U005_train_intention.csv', 'U005_val_intention.csv', 'U006_test_intention.csv', 'U006_train_intention.csv', 'U006_val_intention.csv', 'U007_test_intention.csv', 'U007_train_intention.csv', 'U007_val_intention.csv', 'U008_test_intention.csv', 'U008_train_intention.csv', 'U008_val_intention.csv', 'U009_test_intention.csv', 'U009_train_intention.csv', 'U009_val_intention.csv', 'U010_test_intention.csv', 'U010_train_intention.csv', 'U010_val_intention.csv', 'U011_test_intention.csv', 'U011_train_intention.csv', 'U011_val_intention.csv', 'U012_test_intention.csv', 'U012_train_intention.csv', 'U012_val_intention.csv', 'x_in.npy', 'x_in1.npy', 'x_in10.npy', 'x_in11.npy', 'x_in12.npy', 'x_in2.npy', 'x_in3.npy', 'x_in4.npy', 'x_in5.npy', 'x_in6.npy', 'x_in7.npy', 'x_in8.npy', 'x_in9.npy', 'x_in=.npy', 'x_incom.npy', 'X_train.npy', 'X_vel.npy', 'X_vel_ML.npy', 'y_op.npy', 'y_op1.npy', 'y_op10.npy', 'y_op11.npy', 'y_op12.npy', 'y_op2.npy', 'y_op3.npy', 'y_op4.npy', 'y_op5.npy', 'y_op6.npy', 'y_op7.npy', 'y_op8.npy', 'y_op9.npy', 'y_opcom.npy', 'Y_train.npy', 'Y_train_ML.npy', 'Y_vel.npy', 'Y_vel_ML.npy']\n"
     ]
    }
   ],
   "source": [
    "items=os.listdir(cd)\n",
    "print(items)"
   ]
  },
  {
   "cell_type": "code",
   "execution_count": 51,
   "id": "cba961f2-e95e-471f-80e5-089675d78d48",
   "metadata": {},
   "outputs": [
    {
     "name": "stdout",
     "output_type": "stream",
     "text": [
      "   Axel_X_C9  Axel_Y_C9  Axel_Z_C9  Gyro_X_C9  Gyro_Y_C9  Gyro_Z_C9  \\\n",
      "0   9.599294  -0.136510  -2.250159  -0.012207   0.012201   0.001583   \n",
      "1   9.599640  -0.111911  -2.248318  -0.018309   0.015258   0.001578   \n",
      "2   9.624335  -0.136178  -2.247180  -0.018320   0.013716   0.003087   \n",
      "3   9.624749  -0.111550  -2.245040  -0.021357   0.019839   0.001610   \n",
      "4   9.649220  -0.136311  -2.219056  -0.021368   0.018296   0.003119   \n",
      "\n",
      "   Axel_X_3B  Axel_Y_3B  Axel_Z_3B  Gyro_X_3B  ...  Gyro_X_B6  Gyro_Y_B6  \\\n",
      "0   9.811836   0.252189  -0.946014  -0.010775  ...  -0.062609  -0.068588   \n",
      "1   9.813377   0.252356  -0.969081  -0.015398  ...  -0.028217  -0.035672   \n",
      "2   9.787745   0.251842  -0.944588  -0.018361  ...   0.026480  -0.023655   \n",
      "3   9.790725   0.252749  -0.991794  -0.013741  ...   0.041738  -0.023299   \n",
      "4   9.813832   0.252555  -0.964409  -0.006071  ...   0.014730  -0.045438   \n",
      "\n",
      "   Gyro_Z_B6  Axel_X_BB  Axel_Y_BB  Axel_Z_BB  Gyro_X_BB  Gyro_Y_BB  \\\n",
      "0  -0.003491   9.316166  -0.615353  -1.994596  -0.005948   0.038872   \n",
      "1   0.003615   9.294063  -0.633628  -1.993080  -0.007562   0.040225   \n",
      "2   0.012539   9.295852  -0.625240  -2.014038  -0.008958   0.034094   \n",
      "3   0.014043   9.299583  -0.693128  -1.991032  -0.012086   0.033842   \n",
      "4   0.002204   9.275740  -0.661955  -2.012020  -0.013395   0.023088   \n",
      "\n",
      "   Gyro_Z_BB  target  \n",
      "0  -0.076765     0.0  \n",
      "1  -0.072164     0.0  \n",
      "2  -0.072370     0.0  \n",
      "3  -0.066310     0.0  \n",
      "4  -0.065131     0.0  \n",
      "\n",
      "[5 rows x 31 columns]\n"
     ]
    }
   ],
   "source": [
    "path=os.path.join(cd,\"U005_test_intention.csv\")\n",
    "df1=pd.read_csv(path)\n",
    "print(df1.head(5))"
   ]
  },
  {
   "cell_type": "code",
   "execution_count": 52,
   "id": "0b80ff8e-7fa5-4583-9fcf-0085402c6f5d",
   "metadata": {},
   "outputs": [
    {
     "name": "stdout",
     "output_type": "stream",
     "text": [
      "<class 'pandas.core.frame.DataFrame'>\n",
      "RangeIndex: 13439 entries, 0 to 13438\n",
      "Data columns (total 31 columns):\n",
      " #   Column     Non-Null Count  Dtype  \n",
      "---  ------     --------------  -----  \n",
      " 0   Axel_X_C9  13439 non-null  float64\n",
      " 1   Axel_Y_C9  13439 non-null  float64\n",
      " 2   Axel_Z_C9  13439 non-null  float64\n",
      " 3   Gyro_X_C9  13439 non-null  float64\n",
      " 4   Gyro_Y_C9  13439 non-null  float64\n",
      " 5   Gyro_Z_C9  13439 non-null  float64\n",
      " 6   Axel_X_3B  13439 non-null  float64\n",
      " 7   Axel_Y_3B  13439 non-null  float64\n",
      " 8   Axel_Z_3B  13439 non-null  float64\n",
      " 9   Gyro_X_3B  13439 non-null  float64\n",
      " 10  Gyro_Y_3B  13439 non-null  float64\n",
      " 11  Gyro_Z_3B  13439 non-null  float64\n",
      " 12  Axel_X_B5  13439 non-null  float64\n",
      " 13  Axel_Y_B5  13439 non-null  float64\n",
      " 14  Axel_Z_B5  13439 non-null  float64\n",
      " 15  Gyro_X_B5  13439 non-null  float64\n",
      " 16  Gyro_Y_B5  13439 non-null  float64\n",
      " 17  Gyro_Z_B5  13439 non-null  float64\n",
      " 18  Axel_X_B6  13439 non-null  float64\n",
      " 19  Axel_Y_B6  13439 non-null  float64\n",
      " 20  Axel_Z_B6  13439 non-null  float64\n",
      " 21  Gyro_X_B6  13439 non-null  float64\n",
      " 22  Gyro_Y_B6  13439 non-null  float64\n",
      " 23  Gyro_Z_B6  13439 non-null  float64\n",
      " 24  Axel_X_BB  13439 non-null  float64\n",
      " 25  Axel_Y_BB  13439 non-null  float64\n",
      " 26  Axel_Z_BB  13439 non-null  float64\n",
      " 27  Gyro_X_BB  13439 non-null  float64\n",
      " 28  Gyro_Y_BB  13439 non-null  float64\n",
      " 29  Gyro_Z_BB  13439 non-null  float64\n",
      " 30  target     13439 non-null  float64\n",
      "dtypes: float64(31)\n",
      "memory usage: 3.2 MB\n",
      "None\n"
     ]
    }
   ],
   "source": [
    "print(df1.info())"
   ]
  },
  {
   "cell_type": "code",
   "execution_count": 53,
   "id": "68dfceca-dfe2-41af-85cc-c889da7c6fee",
   "metadata": {},
   "outputs": [
    {
     "name": "stdout",
     "output_type": "stream",
     "text": [
      "   Axel_Y_C9  Gyro_Y_C9  Axel_Y_3B  Gyro_Y_3B  Axel_Y_B5\n",
      "0  -0.136510   0.012201   0.252189   0.010656   3.782733\n",
      "1  -0.111911   0.015258   0.252356   0.015222   3.846588\n",
      "2  -0.136178   0.013716   0.251842   0.015245   3.937310\n",
      "3  -0.111550   0.019839   0.252749   0.015259   3.967249\n",
      "4  -0.136311   0.018296   0.252555   0.016801   4.042872\n",
      "(13439, 5)\n",
      "[[-1.365100e-01  1.220100e-02  2.521890e-01  1.065600e-02  3.782733e+00]\n",
      " [-1.119110e-01  1.525800e-02  2.523560e-01  1.522200e-02  3.846588e+00]\n",
      " [-1.361780e-01  1.371600e-02  2.518420e-01  1.524500e-02  3.937310e+00]\n",
      " ...\n",
      " [ 4.935190e-01  1.813730e-01 -1.499399e+00 -2.633400e-02  5.558531e+00]\n",
      " [ 6.793490e-01  2.421500e-01 -1.458658e+00 -1.170000e-04  5.569760e+00]\n",
      " [ 8.500580e-01  3.285340e-01 -1.352617e+00  1.558200e-02  5.390585e+00]]\n"
     ]
    }
   ],
   "source": [
    "Gyro_Y=df1.iloc[:,[1,4,7,10,13]]\n",
    "Dat=Gyro_Y.values\n",
    "print(Gyro_Y.head())\n",
    "print(Dat.shape)\n",
    "print(Dat)"
   ]
  },
  {
   "cell_type": "code",
   "execution_count": 54,
   "id": "7b7305ce-0625-4fe9-af75-c5b70eb36048",
   "metadata": {},
   "outputs": [
    {
     "name": "stdout",
     "output_type": "stream",
     "text": [
      "13439\n",
      "13325\n"
     ]
    }
   ],
   "source": [
    "#windowed output shape [m x o] where m=Sample-(window+output)+1\n",
    "#and windowed input shape will be [mxw].\n",
    "\n",
    "Sample=Gyro_Y.shape[0]\n",
    "print(Sample)\n",
    "window=100\n",
    "output=15\n",
    "m=Sample-(window+output)+1\n",
    "\n",
    "X=np.zeros((m,window))\n",
    "y=np.zeros((m,output))\n",
    "print(m)"
   ]
  },
  {
   "cell_type": "code",
   "execution_count": 55,
   "id": "27d7c876-1ffd-41f8-a23d-618c351d8552",
   "metadata": {},
   "outputs": [
    {
     "name": "stdout",
     "output_type": "stream",
     "text": [
      "x_in:\n",
      "(13325, 100, 5)\n",
      "(13325, 15, 5)\n"
     ]
    }
   ],
   "source": [
    "import numpy as np\n",
    "\n",
    "\n",
    "\n",
    "#taking window input as 100 and window ouput as 15 for sample=m  \n",
    "x_in = np.zeros((m,100,5))\n",
    "y_op = np.zeros((m,15,5))\n",
    "\n",
    "\n",
    "for i in range(m):\n",
    "    # Store the first 100 rows\n",
    "   # print(\"x_in[i:,:,].shape\",x_in[i,:,:].shape,\"y_op[i:,:,].shape\",y_op[i,:,:].shape,\"Dat[i:i+100,:].shape\",Dat[i:i+100,:].shape,\"Dat[i+100:i+115,:].shape\",Dat[i+100:i+115,:].shape)\n",
    "    x_in[i,:,:] =Dat[i:i+100,:]\n",
    "    y_op[i,:,:]=Dat[i+100:i+115,:]\n",
    "     \n",
    "    \n",
    " \n",
    "    \n",
    "\n",
    "    # Print the stored arrays\n",
    "print(\"x_in:\")\n",
    "print(x_in.shape)\n",
    "print(y_op.shape)\n",
    "   \n",
    "\n",
    "    \n",
    "\n",
    " \n",
    "\n",
    "\n"
   ]
  },
  {
   "cell_type": "code",
   "execution_count": 56,
   "id": "353683b7-94b2-44e9-9d03-bd4e1eded126",
   "metadata": {},
   "outputs": [],
   "source": [
    "\n",
    "\n",
    "# Save arrays to a file\n",
    "np.save('x_in5.npy',x_in)\n",
    "np.save('y_op5.npy',y_op)\n"
   ]
  },
  {
   "cell_type": "code",
   "execution_count": null,
   "id": "5d45e9ba-d9d8-4634-a50c-efb6afc535ba",
   "metadata": {},
   "outputs": [],
   "source": []
  }
 ],
 "metadata": {
  "kernelspec": {
   "display_name": "Python 3 (ipykernel)",
   "language": "python",
   "name": "python3"
  },
  "language_info": {
   "codemirror_mode": {
    "name": "ipython",
    "version": 3
   },
   "file_extension": ".py",
   "mimetype": "text/x-python",
   "name": "python",
   "nbconvert_exporter": "python",
   "pygments_lexer": "ipython3",
   "version": "3.10.9"
  }
 },
 "nbformat": 4,
 "nbformat_minor": 5
}

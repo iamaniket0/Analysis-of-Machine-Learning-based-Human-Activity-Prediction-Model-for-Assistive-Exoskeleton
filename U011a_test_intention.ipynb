{
 "cells": [
  {
   "cell_type": "code",
   "execution_count": 82,
   "id": "d161ad03-4ecf-44b7-bd9d-30ec8372bedb",
   "metadata": {},
   "outputs": [],
   "source": [
    "import os\n",
    "import pandas as pd\n",
    "import numpy as np\n",
    "import matplotlib.pyplot as plt"
   ]
  },
  {
   "cell_type": "code",
   "execution_count": 83,
   "id": "c96abcd3-582d-4256-b338-5de41601b2e4",
   "metadata": {},
   "outputs": [
    {
     "name": "stdout",
     "output_type": "stream",
     "text": [
      "C:\\Users\\Aniket\\Desktop\\INTENTION\n"
     ]
    }
   ],
   "source": [
    "cd=os.getcwd()\n",
    "print(cd)\n"
   ]
  },
  {
   "cell_type": "code",
   "execution_count": 84,
   "id": "f5d29c3e-8fd3-4150-bb9b-49ecfc6f7401",
   "metadata": {},
   "outputs": [],
   "source": [
    "os.chdir(r\"C:\\Users\\Aniket\\Desktop\\INTENTION\")"
   ]
  },
  {
   "cell_type": "code",
   "execution_count": 85,
   "id": "312ea5ad-4010-472e-bbfb-a3951304b341",
   "metadata": {},
   "outputs": [
    {
     "name": "stdout",
     "output_type": "stream",
     "text": [
      "C:\\Users\\Aniket\\Desktop\\INTENTION\n"
     ]
    }
   ],
   "source": [
    "cd=os.getcwd()\n",
    "print(cd)"
   ]
  },
  {
   "cell_type": "code",
   "execution_count": 86,
   "id": "da2a0c6b-6c29-40a1-895f-353ad04e8f4b",
   "metadata": {},
   "outputs": [
    {
     "name": "stdout",
     "output_type": "stream",
     "text": [
      "['arrays.npz', 'U001_test_intention.csv', 'U001_train_intention.csv', 'U001_val_intention.csv', 'U002_test_intention.csv', 'U002_train_intention.csv', 'U002_val_intention.csv', 'U003_test_intention.csv', 'U003_train_intention.csv', 'U003_val_intention.csv', 'U004_test_intention.csv', 'U004_train_intention.csv', 'U004_val_intention.csv', 'U005_test_intention.csv', 'U005_train_intention.csv', 'U005_val_intention.csv', 'U006_test_intention.csv', 'U006_train_intention.csv', 'U006_val_intention.csv', 'U007_test_intention.csv', 'U007_train_intention.csv', 'U007_val_intention.csv', 'U008_test_intention.csv', 'U008_train_intention.csv', 'U008_val_intention.csv', 'U009_test_intention.csv', 'U009_train_intention.csv', 'U009_val_intention.csv', 'U010_test_intention.csv', 'U010_train_intention.csv', 'U010_val_intention.csv', 'U011_test_intention.csv', 'U011_train_intention.csv', 'U011_val_intention.csv', 'U012_test_intention.csv', 'U012_train_intention.csv', 'U012_val_intention.csv', 'x_in.npy', 'x_in2.npy', 'x_in3.npy', 'x_in4.npy', 'x_in5.npy', 'x_in6.npy', 'x_in7.npy', 'x_in8.npy', 'x_in9.npy', 'x_in=.npy', 'y_op.npy', 'y_op2.npy', 'y_op3.npy', 'y_op4.npy', 'y_op5.npy', 'y_op6.npy', 'y_op7.npy', 'y_op8.npy', 'y_op9.npy']\n"
     ]
    }
   ],
   "source": [
    "items=os.listdir(cd)\n",
    "print(items)"
   ]
  },
  {
   "cell_type": "code",
   "execution_count": 87,
   "id": "cba961f2-e95e-471f-80e5-089675d78d48",
   "metadata": {},
   "outputs": [
    {
     "name": "stdout",
     "output_type": "stream",
     "text": [
      "   Axel_X_C9  Axel_Y_C9  Axel_Z_C9  Gyro_X_C9  Gyro_Y_C9  Gyro_Z_C9  \\\n",
      "0   9.886925  -1.027045  -0.637042   0.149898   0.007059  -0.025742   \n",
      "1   9.793711  -1.089804  -0.744438   0.173356   0.017515  -0.024442   \n",
      "2   9.755901  -1.044676  -0.729763   0.191034   0.003291  -0.014067   \n",
      "3   9.746078  -0.976124  -0.614404   0.202987  -0.022944  -0.011000   \n",
      "4   9.816432  -0.937496  -0.481693   0.181575  -0.042007  -0.006808   \n",
      "\n",
      "   Axel_X_3B  Axel_Y_3B  Axel_Z_3B  Gyro_X_3B  ...  Gyro_X_B6  Gyro_Y_B6  \\\n",
      "0   9.870556   0.752292  -1.767731  -0.045117  ...   0.063111   0.002906   \n",
      "1   9.764399   0.698346  -1.756453  -0.077202  ...   0.083244   0.007958   \n",
      "2   9.703144   0.735472  -1.674514  -0.094386  ...   0.096736   0.007636   \n",
      "3   9.701363   0.689902  -1.589968  -0.091056  ...   0.086556   0.014637   \n",
      "4   9.665071   0.779057  -1.514013  -0.084665  ...   0.084527   0.012447   \n",
      "\n",
      "   Gyro_Z_B6  Axel_X_BB  Axel_Y_BB  Axel_Z_BB  Gyro_X_BB  Gyro_Y_BB  \\\n",
      "0  -0.053364   9.549052  -2.629604   2.419684  -0.609021   0.049342   \n",
      "1  -0.049046   9.637047  -2.580797   2.625285  -0.788335   0.097221   \n",
      "2  -0.056402   9.462582  -2.828505   2.683288  -0.975239   0.124813   \n",
      "3  -0.062168   9.350672  -3.405835   2.652200  -1.072684   0.142045   \n",
      "4  -0.072559   9.219702  -3.744893   2.541203  -1.024742   0.119746   \n",
      "\n",
      "   Gyro_Z_BB  target  \n",
      "0  -0.077434     0.0  \n",
      "1  -0.048622     0.0  \n",
      "2  -0.035871     0.0  \n",
      "3  -0.034840     0.0  \n",
      "4  -0.022909     0.0  \n",
      "\n",
      "[5 rows x 31 columns]\n"
     ]
    }
   ],
   "source": [
    "path=os.path.join(cd,\"U010_train_intention.csv\")\n",
    "df1=pd.read_csv(path)\n",
    "print(df1.head(5))"
   ]
  },
  {
   "cell_type": "code",
   "execution_count": 88,
   "id": "0b80ff8e-7fa5-4583-9fcf-0085402c6f5d",
   "metadata": {},
   "outputs": [
    {
     "name": "stdout",
     "output_type": "stream",
     "text": [
      "<class 'pandas.core.frame.DataFrame'>\n",
      "RangeIndex: 97811 entries, 0 to 97810\n",
      "Data columns (total 31 columns):\n",
      " #   Column     Non-Null Count  Dtype  \n",
      "---  ------     --------------  -----  \n",
      " 0   Axel_X_C9  97811 non-null  float64\n",
      " 1   Axel_Y_C9  97811 non-null  float64\n",
      " 2   Axel_Z_C9  97811 non-null  float64\n",
      " 3   Gyro_X_C9  97811 non-null  float64\n",
      " 4   Gyro_Y_C9  97811 non-null  float64\n",
      " 5   Gyro_Z_C9  97811 non-null  float64\n",
      " 6   Axel_X_3B  97811 non-null  float64\n",
      " 7   Axel_Y_3B  97811 non-null  float64\n",
      " 8   Axel_Z_3B  97811 non-null  float64\n",
      " 9   Gyro_X_3B  97811 non-null  float64\n",
      " 10  Gyro_Y_3B  97811 non-null  float64\n",
      " 11  Gyro_Z_3B  97811 non-null  float64\n",
      " 12  Axel_X_B5  97811 non-null  float64\n",
      " 13  Axel_Y_B5  97811 non-null  float64\n",
      " 14  Axel_Z_B5  97811 non-null  float64\n",
      " 15  Gyro_X_B5  97811 non-null  float64\n",
      " 16  Gyro_Y_B5  97811 non-null  float64\n",
      " 17  Gyro_Z_B5  97811 non-null  float64\n",
      " 18  Axel_X_B6  97811 non-null  float64\n",
      " 19  Axel_Y_B6  97811 non-null  float64\n",
      " 20  Axel_Z_B6  97811 non-null  float64\n",
      " 21  Gyro_X_B6  97811 non-null  float64\n",
      " 22  Gyro_Y_B6  97811 non-null  float64\n",
      " 23  Gyro_Z_B6  97811 non-null  float64\n",
      " 24  Axel_X_BB  97811 non-null  float64\n",
      " 25  Axel_Y_BB  97811 non-null  float64\n",
      " 26  Axel_Z_BB  97811 non-null  float64\n",
      " 27  Gyro_X_BB  97811 non-null  float64\n",
      " 28  Gyro_Y_BB  97811 non-null  float64\n",
      " 29  Gyro_Z_BB  97811 non-null  float64\n",
      " 30  target     97811 non-null  float64\n",
      "dtypes: float64(31)\n",
      "memory usage: 23.1 MB\n",
      "None\n"
     ]
    }
   ],
   "source": [
    "print(df1.info())"
   ]
  },
  {
   "cell_type": "code",
   "execution_count": 89,
   "id": "68dfceca-dfe2-41af-85cc-c889da7c6fee",
   "metadata": {},
   "outputs": [
    {
     "name": "stdout",
     "output_type": "stream",
     "text": [
      "   Axel_Y_C9  Gyro_Y_C9  Axel_Y_3B  Gyro_Y_3B  Axel_Y_B5\n",
      "0  -1.027045   0.007059   0.752292  -0.073255   4.593331\n",
      "1  -1.089804   0.017515   0.698346  -0.085250   5.161860\n",
      "2  -1.044676   0.003291   0.735472  -0.078009   7.273243\n",
      "3  -0.976124  -0.022944   0.689902  -0.063289   6.762212\n",
      "4  -0.937496  -0.042007   0.779057  -0.029406   5.505238\n",
      "(97811, 5)\n",
      "[[-1.027045e+00  7.059000e-03  7.522920e-01 -7.325500e-02  4.593331e+00]\n",
      " [-1.089804e+00  1.751500e-02  6.983460e-01 -8.525000e-02  5.161860e+00]\n",
      " [-1.044676e+00  3.291000e-03  7.354720e-01 -7.800900e-02  7.273243e+00]\n",
      " ...\n",
      " [ 6.862370e-01  1.467500e-02  2.716987e+00  2.433100e-02  1.009357e+00]\n",
      " [ 5.885150e-01  7.955000e-03  2.725310e+00  2.455700e-02  1.021007e+00]\n",
      " [ 6.398930e-01  1.233200e-02  2.694815e+00  1.884500e-02  1.016910e+00]]\n"
     ]
    }
   ],
   "source": [
    "Gyro_Y=df1.iloc[:,[1,4,7,10,13]]\n",
    "Dat=Gyro_Y.values\n",
    "print(Gyro_Y.head())\n",
    "print(Dat.shape)\n",
    "print(Dat)"
   ]
  },
  {
   "cell_type": "code",
   "execution_count": 90,
   "id": "7b7305ce-0625-4fe9-af75-c5b70eb36048",
   "metadata": {},
   "outputs": [
    {
     "name": "stdout",
     "output_type": "stream",
     "text": [
      "97811\n",
      "97697\n"
     ]
    }
   ],
   "source": [
    "#windowed output shape [m x o] where m=Sample-(window+output)+1\n",
    "#and windowed input shape will be [mxw].\n",
    "\n",
    "Sample=Gyro_Y.shape[0]\n",
    "print(Sample)\n",
    "window=100\n",
    "output=15\n",
    "m=Sample-(window+output)+1\n",
    "\n",
    "X=np.zeros((m,window))\n",
    "y=np.zeros((m,output))\n",
    "print(m)"
   ]
  },
  {
   "cell_type": "code",
   "execution_count": 91,
   "id": "27d7c876-1ffd-41f8-a23d-618c351d8552",
   "metadata": {},
   "outputs": [
    {
     "name": "stdout",
     "output_type": "stream",
     "text": [
      "x_in:\n",
      "(97697, 100, 5)\n",
      "(97697, 15, 5)\n"
     ]
    }
   ],
   "source": [
    "import numpy as np\n",
    "\n",
    "\n",
    "\n",
    "#taking window input as 100 and window ouput as 15 for sample=m  \n",
    "x_in = np.zeros((m,100,5))\n",
    "y_op = np.zeros((m,15,5))\n",
    "\n",
    "\n",
    "for i in range(m):\n",
    "    # Store the first 100 rows\n",
    "   # print(\"x_in[i:,:,].shape\",x_in[i,:,:].shape,\"y_op[i:,:,].shape\",y_op[i,:,:].shape,\"Dat[i:i+100,:].shape\",Dat[i:i+100,:].shape,\"Dat[i+100:i+115,:].shape\",Dat[i+100:i+115,:].shape)\n",
    "    x_in[i,:,:] =Dat[i:i+100,:]\n",
    "    y_op[i,:,:]=Dat[i+100:i+115,:]\n",
    "     \n",
    "    \n",
    " \n",
    "    \n",
    "\n",
    "    # Print the stored arrays\n",
    "print(\"x_in:\")\n",
    "print(x_in.shape)\n",
    "print(y_op.shape)\n",
    "   \n",
    "\n",
    "    \n",
    "\n",
    " \n",
    "\n",
    "\n"
   ]
  },
  {
   "cell_type": "code",
   "execution_count": 92,
   "id": "353683b7-94b2-44e9-9d03-bd4e1eded126",
   "metadata": {},
   "outputs": [],
   "source": [
    "\n",
    "\n",
    "# Save arrays to a file\n",
    "np.save('x_in10.npy',x_in)\n",
    "np.save('y_op10.npy',y_op)\n"
   ]
  },
  {
   "cell_type": "code",
   "execution_count": null,
   "id": "5d45e9ba-d9d8-4634-a50c-efb6afc535ba",
   "metadata": {},
   "outputs": [],
   "source": []
  }
 ],
 "metadata": {
  "kernelspec": {
   "display_name": "Python 3 (ipykernel)",
   "language": "python",
   "name": "python3"
  },
  "language_info": {
   "codemirror_mode": {
    "name": "ipython",
    "version": 3
   },
   "file_extension": ".py",
   "mimetype": "text/x-python",
   "name": "python",
   "nbconvert_exporter": "python",
   "pygments_lexer": "ipython3",
   "version": "3.10.9"
  }
 },
 "nbformat": 4,
 "nbformat_minor": 5
}

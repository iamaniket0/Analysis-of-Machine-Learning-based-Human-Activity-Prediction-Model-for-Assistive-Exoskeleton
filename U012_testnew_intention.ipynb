{
 "cells": [
  {
   "cell_type": "code",
   "execution_count": 131,
   "id": "d161ad03-4ecf-44b7-bd9d-30ec8372bedb",
   "metadata": {},
   "outputs": [],
   "source": [
    "import os\n",
    "import pandas as pd\n",
    "import numpy as np\n",
    "import matplotlib.pyplot as plt"
   ]
  },
  {
   "cell_type": "code",
   "execution_count": 132,
   "id": "c96abcd3-582d-4256-b338-5de41601b2e4",
   "metadata": {},
   "outputs": [
    {
     "name": "stdout",
     "output_type": "stream",
     "text": [
      "C:\\Users\\Aniket\\Desktop\\INTENTION\n"
     ]
    }
   ],
   "source": [
    "cd=os.getcwd()\n",
    "print(cd)\n"
   ]
  },
  {
   "cell_type": "code",
   "execution_count": 133,
   "id": "f5d29c3e-8fd3-4150-bb9b-49ecfc6f7401",
   "metadata": {},
   "outputs": [],
   "source": [
    "os.chdir(r\"C:\\Users\\Aniket\\Desktop\\INTENTION\")"
   ]
  },
  {
   "cell_type": "code",
   "execution_count": 134,
   "id": "312ea5ad-4010-472e-bbfb-a3951304b341",
   "metadata": {},
   "outputs": [
    {
     "name": "stdout",
     "output_type": "stream",
     "text": [
      "C:\\Users\\Aniket\\Desktop\\INTENTION\n"
     ]
    }
   ],
   "source": [
    "cd=os.getcwd()\n",
    "print(cd)"
   ]
  },
  {
   "cell_type": "code",
   "execution_count": 135,
   "id": "da2a0c6b-6c29-40a1-895f-353ad04e8f4b",
   "metadata": {},
   "outputs": [
    {
     "name": "stdout",
     "output_type": "stream",
     "text": [
      "['arrays.npz', 'max_m.npy', 'max_m_ML.npy', 'min_m.npy', 'min_m_ML.npy', 'U001_test_intention.csv', 'U001_train_intention.csv', 'U001_val_intention.csv', 'U002_test_intention.csv', 'U002_train_intention.csv', 'U002_val_intention.csv', 'U003_test_intention.csv', 'U003_train_intention.csv', 'U003_val_intention.csv', 'U004_test_intention.csv', 'U004_train_intention.csv', 'U004_val_intention.csv', 'U005_test_intention.csv', 'U005_train_intention.csv', 'U005_val_intention.csv', 'U006_test_intention.csv', 'U006_train_intention.csv', 'U006_val_intention.csv', 'U007_test_intention.csv', 'U007_train_intention.csv', 'U007_val_intention.csv', 'U008_test_intention.csv', 'U008_train_intention.csv', 'U008_val_intention.csv', 'U009_test_intention.csv', 'U009_train_intention.csv', 'U009_val_intention.csv', 'U010_test_intention.csv', 'U010_train_intention.csv', 'U010_val_intention.csv', 'U011_test_intention.csv', 'U011_train_intention.csv', 'U011_val_intention.csv', 'U012_test_intention.csv', 'U012_train_intention.csv', 'U012_val_intention.csv', 'x_in.npy', 'x_in1.npy', 'x_in10.npy', 'x_in11.npy', 'x_in12.npy', 'x_in2.npy', 'x_in3.npy', 'x_in4.npy', 'x_in5.npy', 'x_in6.npy', 'x_in7.npy', 'x_in8.npy', 'x_in9.npy', 'x_in=.npy', 'x_incom.npy', 'X_train.npy', 'X_vel.npy', 'X_vel_ML.npy', 'y_op.npy', 'y_op1.npy', 'y_op10.npy', 'y_op11.npy', 'y_op12.npy', 'y_op2.npy', 'y_op3.npy', 'y_op4.npy', 'y_op5.npy', 'y_op6.npy', 'y_op7.npy', 'y_op8.npy', 'y_op9.npy', 'y_opcom.npy', 'Y_train.npy', 'Y_train_ML.npy', 'Y_vel.npy', 'Y_vel_ML.npy']\n"
     ]
    }
   ],
   "source": [
    "items=os.listdir(cd)\n",
    "print(items)"
   ]
  },
  {
   "cell_type": "code",
   "execution_count": 136,
   "id": "cba961f2-e95e-471f-80e5-089675d78d48",
   "metadata": {},
   "outputs": [
    {
     "name": "stdout",
     "output_type": "stream",
     "text": [
      "   Axel_X_C9  Axel_Y_C9  Axel_Z_C9  Gyro_X_C9  Gyro_Y_C9  Gyro_Z_C9  \\\n",
      "0   9.921161   0.115193   0.540733  -0.072230  -0.026907  -0.023113   \n",
      "1   9.874496   0.072669   0.461152  -0.079592  -0.020399  -0.021943   \n",
      "2   9.877090   0.098451   0.459627  -0.080916  -0.011132  -0.015913   \n",
      "3   9.898765   0.072849   0.461055  -0.074589  -0.006870  -0.015633   \n",
      "4   9.907950   0.097525   0.387833  -0.083544  -0.000279  -0.012998   \n",
      "\n",
      "   Axel_X_3B  Axel_Y_3B  Axel_Z_3B  Gyro_X_3B  ...  Gyro_X_B6  Gyro_Y_B6  \\\n",
      "0   9.869606  -0.901593   0.215404  -0.062227  ...   0.002986  -0.009976   \n",
      "1   9.844510  -0.878802   0.226368  -0.060632  ...  -0.000148  -0.007027   \n",
      "2   9.848441  -0.880445   0.256319  -0.058825  ...  -0.007997  -0.001236   \n",
      "3   9.820039  -0.881493   0.242137  -0.055757  ...  -0.014194   0.003136   \n",
      "4   9.795771  -0.883359   0.251959  -0.060476  ...  -0.019183   0.010515   \n",
      "\n",
      "   Gyro_Z_B6  Axel_X_BB  Axel_Y_BB  Axel_Z_BB  Gyro_X_BB  Gyro_Y_BB  \\\n",
      "0  -0.026104   9.147005  -3.043985  -0.555856   0.103722  -0.000834   \n",
      "1  -0.027686   9.154229  -3.063744  -0.602536   0.086428   0.002578   \n",
      "2  -0.029384   9.152042  -3.037963  -0.598601   0.070584   0.009202   \n",
      "3  -0.032580   9.158314  -3.085602  -0.597576   0.051312   0.015387   \n",
      "4  -0.031074   9.160275  -3.084370  -0.618875   0.033944   0.021922   \n",
      "\n",
      "   Gyro_Z_BB  target  \n",
      "0  -0.031354     0.0  \n",
      "1  -0.024270     0.0  \n",
      "2  -0.020120     0.0  \n",
      "3  -0.005399     0.0  \n",
      "4  -0.001311     0.0  \n",
      "\n",
      "[5 rows x 31 columns]\n"
     ]
    }
   ],
   "source": [
    "path=os.path.join(cd,\"U012_test_intention.csv\")\n",
    "df1=pd.read_csv(path)\n",
    "print(df1.head(5))"
   ]
  },
  {
   "cell_type": "code",
   "execution_count": 137,
   "id": "0b80ff8e-7fa5-4583-9fcf-0085402c6f5d",
   "metadata": {},
   "outputs": [
    {
     "name": "stdout",
     "output_type": "stream",
     "text": [
      "<class 'pandas.core.frame.DataFrame'>\n",
      "RangeIndex: 16160 entries, 0 to 16159\n",
      "Data columns (total 31 columns):\n",
      " #   Column     Non-Null Count  Dtype  \n",
      "---  ------     --------------  -----  \n",
      " 0   Axel_X_C9  16160 non-null  float64\n",
      " 1   Axel_Y_C9  16160 non-null  float64\n",
      " 2   Axel_Z_C9  16160 non-null  float64\n",
      " 3   Gyro_X_C9  16160 non-null  float64\n",
      " 4   Gyro_Y_C9  16160 non-null  float64\n",
      " 5   Gyro_Z_C9  16160 non-null  float64\n",
      " 6   Axel_X_3B  16160 non-null  float64\n",
      " 7   Axel_Y_3B  16160 non-null  float64\n",
      " 8   Axel_Z_3B  16160 non-null  float64\n",
      " 9   Gyro_X_3B  16160 non-null  float64\n",
      " 10  Gyro_Y_3B  16160 non-null  float64\n",
      " 11  Gyro_Z_3B  16160 non-null  float64\n",
      " 12  Axel_X_B5  16160 non-null  float64\n",
      " 13  Axel_Y_B5  16160 non-null  float64\n",
      " 14  Axel_Z_B5  16160 non-null  float64\n",
      " 15  Gyro_X_B5  16160 non-null  float64\n",
      " 16  Gyro_Y_B5  16160 non-null  float64\n",
      " 17  Gyro_Z_B5  16160 non-null  float64\n",
      " 18  Axel_X_B6  16160 non-null  float64\n",
      " 19  Axel_Y_B6  16160 non-null  float64\n",
      " 20  Axel_Z_B6  16160 non-null  float64\n",
      " 21  Gyro_X_B6  16160 non-null  float64\n",
      " 22  Gyro_Y_B6  16160 non-null  float64\n",
      " 23  Gyro_Z_B6  16160 non-null  float64\n",
      " 24  Axel_X_BB  16160 non-null  float64\n",
      " 25  Axel_Y_BB  16160 non-null  float64\n",
      " 26  Axel_Z_BB  16160 non-null  float64\n",
      " 27  Gyro_X_BB  16160 non-null  float64\n",
      " 28  Gyro_Y_BB  16160 non-null  float64\n",
      " 29  Gyro_Z_BB  16160 non-null  float64\n",
      " 30  target     16160 non-null  float64\n",
      "dtypes: float64(31)\n",
      "memory usage: 3.8 MB\n",
      "None\n"
     ]
    }
   ],
   "source": [
    "print(df1.info())"
   ]
  },
  {
   "cell_type": "code",
   "execution_count": 138,
   "id": "68dfceca-dfe2-41af-85cc-c889da7c6fee",
   "metadata": {},
   "outputs": [
    {
     "name": "stdout",
     "output_type": "stream",
     "text": [
      "   Axel_Y_C9  Gyro_Y_C9  Axel_Y_3B  Gyro_Y_3B  Axel_Y_B5\n",
      "0   0.115193  -0.026907  -0.901593   0.063052   3.444379\n",
      "1   0.072669  -0.020399  -0.878802   0.066116   3.418722\n",
      "2   0.098451  -0.011132  -0.880445   0.064560   3.458389\n",
      "3   0.072849  -0.006870  -0.881493   0.063091   3.464203\n",
      "4   0.097525  -0.000279  -0.883359   0.064549   3.421811\n",
      "(16160, 5)\n",
      "[[ 1.151930e-01 -2.690700e-02 -9.015930e-01  6.305200e-02  3.444379e+00]\n",
      " [ 7.266900e-02 -2.039900e-02 -8.788020e-01  6.611600e-02  3.418722e+00]\n",
      " [ 9.845100e-02 -1.113200e-02 -8.804450e-01  6.456000e-02  3.458389e+00]\n",
      " ...\n",
      " [ 1.872300e-01  2.523000e-03 -8.949320e-01  1.066800e-02  3.094897e+00]\n",
      " [ 1.970610e-01  6.032000e-03 -9.284070e-01  1.000300e-02  3.087585e+00]\n",
      " [ 1.884890e-01  2.692000e-03 -9.154310e-01  6.168000e-03  3.103365e+00]]\n"
     ]
    }
   ],
   "source": [
    "Gyro_Y=df1.iloc[:,[1,4,7,10,13]]\n",
    "Dat=Gyro_Y.values\n",
    "print(Gyro_Y.head())\n",
    "print(Dat.shape)\n",
    "print(Dat)"
   ]
  },
  {
   "cell_type": "code",
   "execution_count": 139,
   "id": "7b7305ce-0625-4fe9-af75-c5b70eb36048",
   "metadata": {},
   "outputs": [
    {
     "name": "stdout",
     "output_type": "stream",
     "text": [
      "16160\n",
      "16046\n"
     ]
    }
   ],
   "source": [
    "#windowed output shape [m x o] where m=Sample-(window+output)+1\n",
    "#and windowed input shape will be [mxw].\n",
    "\n",
    "Sample=Gyro_Y.shape[0]\n",
    "print(Sample)\n",
    "window=100\n",
    "output=15\n",
    "m=Sample-(window+output)+1\n",
    "\n",
    "X=np.zeros((m,window))\n",
    "y=np.zeros((m,output))\n",
    "print(m)"
   ]
  },
  {
   "cell_type": "code",
   "execution_count": 140,
   "id": "27d7c876-1ffd-41f8-a23d-618c351d8552",
   "metadata": {},
   "outputs": [
    {
     "name": "stdout",
     "output_type": "stream",
     "text": [
      "x_in:\n",
      "(16046, 100, 5)\n",
      "(16046, 15, 5)\n"
     ]
    }
   ],
   "source": [
    "import numpy as np\n",
    "\n",
    "\n",
    "\n",
    "#taking window input as 100 and window ouput as 15 for sample=m  \n",
    "x_in = np.zeros((m,100,5))\n",
    "y_op = np.zeros((m,15,5))\n",
    "\n",
    "\n",
    "for i in range(m):\n",
    "    # Store the first 100 rows\n",
    "   # print(\"x_in[i:,:,].shape\",x_in[i,:,:].shape,\"y_op[i:,:,].shape\",y_op[i,:,:].shape,\"Dat[i:i+100,:].shape\",Dat[i:i+100,:].shape,\"Dat[i+100:i+115,:].shape\",Dat[i+100:i+115,:].shape)\n",
    "    x_in[i,:,:] =Dat[i:i+100,:]\n",
    "    y_op[i,:,:]=Dat[i+100:i+115,:]\n",
    "     \n",
    "    \n",
    " \n",
    "    \n",
    "\n",
    "    # Print the stored arrays\n",
    "print(\"x_in:\")\n",
    "print(x_in.shape)\n",
    "print(y_op.shape)\n",
    "   \n",
    "\n",
    "    \n",
    "\n",
    " \n",
    "\n",
    "\n"
   ]
  },
  {
   "cell_type": "code",
   "execution_count": 141,
   "id": "353683b7-94b2-44e9-9d03-bd4e1eded126",
   "metadata": {},
   "outputs": [],
   "source": [
    "\n",
    "\n",
    "# Save arrays to a file\n",
    "np.save('x_in12.npy',x_in)\n",
    "np.save('y_op12.npy',y_op)\n"
   ]
  },
  {
   "cell_type": "code",
   "execution_count": null,
   "id": "5d45e9ba-d9d8-4634-a50c-efb6afc535ba",
   "metadata": {},
   "outputs": [],
   "source": []
  }
 ],
 "metadata": {
  "kernelspec": {
   "display_name": "Python 3 (ipykernel)",
   "language": "python",
   "name": "python3"
  },
  "language_info": {
   "codemirror_mode": {
    "name": "ipython",
    "version": 3
   },
   "file_extension": ".py",
   "mimetype": "text/x-python",
   "name": "python",
   "nbconvert_exporter": "python",
   "pygments_lexer": "ipython3",
   "version": "3.10.9"
  }
 },
 "nbformat": 4,
 "nbformat_minor": 5
}

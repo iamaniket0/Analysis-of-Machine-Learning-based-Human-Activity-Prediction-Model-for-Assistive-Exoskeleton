{
 "cells": [
  {
   "cell_type": "code",
   "execution_count": 4,
   "id": "bcbbd320-f302-42c4-99e1-71b7f3c53f42",
   "metadata": {},
   "outputs": [
    {
     "name": "stdout",
     "output_type": "stream",
     "text": [
      "x_in1.shape (1632, 100, 5)\n",
      "y_op1.shape (1632, 15, 5)\n"
     ]
    }
   ],
   "source": [
    "\n",
    "import os\n",
    "import pandas as pd\n",
    "import numpy as np\n",
    "import matplotlib.pyplot as plt\n",
    "\n",
    "os.chdir(r\"C:\\Users\\Aniket\\Desktop\\INTENTION\")\n",
    "\n",
    "x_in1= np.load('x_in1.npy')\n",
    "y_op1= np.load('y_op1.npy')\n",
    "print(\"x_in1.shape\",x_in1.shape)\n",
    "print(\"y_op1.shape\",y_op1.shape)\n"
   ]
  },
  {
   "cell_type": "code",
   "execution_count": 14,
   "id": "47a4c5fb-c21d-41aa-81c8-2baba715fc4e",
   "metadata": {},
   "outputs": [
    {
     "name": "stdout",
     "output_type": "stream",
     "text": [
      "x_in2.shape (15687, 100, 5)\n",
      "y_op2.shape (15687, 15, 5)\n",
      "x_in.shape (17319, 100, 5)\n",
      "y_op.shape (17319, 15, 5)\n"
     ]
    }
   ],
   "source": [
    "x_in2= np.load('x_in2.npy')\n",
    "y_op2= np.load('y_op2.npy')\n",
    "print(\"x_in2.shape\",x_in2.shape)\n",
    "print(\"y_op2.shape\",y_op2.shape)\n",
    "x_in=np.append(x_in1,x_in2,axis=0)\n",
    "y_op=np.append(y_op1,y_op2,axis=0)\n",
    "print(\"x_in.shape\",x_in.shape)\n",
    "print(\"y_op.shape\",y_op.shape)"
   ]
  },
  {
   "cell_type": "code",
   "execution_count": 15,
   "id": "73e91383-4bd5-4887-809a-edfeb50545de",
   "metadata": {},
   "outputs": [
    {
     "name": "stdout",
     "output_type": "stream",
     "text": [
      "x_in3.shape (15892, 100, 5)\n",
      "y_op3.shape (15892, 15, 5)\n",
      "x_in.shape (33211, 100, 5)\n",
      "y_op.shape (33211, 15, 5)\n"
     ]
    }
   ],
   "source": [
    "x_in3= np.load('x_in3.npy')\n",
    "y_op3= np.load('y_op3.npy')\n",
    "print(\"x_in3.shape\",x_in3.shape)\n",
    "print(\"y_op3.shape\",y_op3.shape)\n",
    "x_in=np.append(x_in,x_in3,axis=0)\n",
    "y_op=np.append(y_op,y_op3,axis=0)\n",
    "print(\"x_in.shape\",x_in.shape)\n",
    "print(\"y_op.shape\",y_op.shape)"
   ]
  },
  {
   "cell_type": "code",
   "execution_count": 16,
   "id": "ef9cf570-7d81-444b-a267-72c438108197",
   "metadata": {},
   "outputs": [
    {
     "name": "stdout",
     "output_type": "stream",
     "text": [
      "x_in4.shape (12859, 100, 5)\n",
      "y_op4.shape (12859, 15, 5)\n",
      "x_in.shape (46070, 100, 5)\n",
      "y_op.shape (46070, 15, 5)\n"
     ]
    }
   ],
   "source": [
    "x_in4= np.load('x_in4.npy')\n",
    "y_op4= np.load('y_op4.npy')\n",
    "print(\"x_in4.shape\",x_in4.shape)\n",
    "print(\"y_op4.shape\",y_op4.shape)\n",
    "x_in=np.append(x_in,x_in4,axis=0)\n",
    "y_op=np.append(y_op,y_op4,axis=0)\n",
    "print(\"x_in.shape\",x_in.shape)\n",
    "print(\"y_op.shape\",y_op.shape)"
   ]
  },
  {
   "cell_type": "code",
   "execution_count": 17,
   "id": "606fd90b-658c-42ff-85a3-550008a60d6a",
   "metadata": {},
   "outputs": [
    {
     "name": "stdout",
     "output_type": "stream",
     "text": [
      "x_in5.shape (13325, 100, 5)\n",
      "y_op5.shape (13325, 15, 5)\n",
      "x_in.shape (59395, 100, 5)\n",
      "y_op.shape (59395, 15, 5)\n"
     ]
    }
   ],
   "source": [
    "x_in5= np.load('x_in5.npy')\n",
    "y_op5= np.load('y_op5.npy')\n",
    "print(\"x_in5.shape\",x_in5.shape)\n",
    "print(\"y_op5.shape\",y_op5.shape)\n",
    "x_in=np.append(x_in,x_in5,axis=0)\n",
    "y_op=np.append(y_op,y_op5,axis=0)\n",
    "print(\"x_in.shape\",x_in.shape)\n",
    "print(\"y_op.shape\",y_op.shape)"
   ]
  },
  {
   "cell_type": "code",
   "execution_count": 18,
   "id": "bd1e0a59-e43d-4f7f-8054-8e62fcdde9a9",
   "metadata": {},
   "outputs": [
    {
     "name": "stdout",
     "output_type": "stream",
     "text": [
      "x_in6.shape (15590, 100, 5)\n",
      "y_op6.shape (15590, 15, 5)\n",
      "x_in.shape (74985, 100, 5)\n",
      "y_op.shape (74985, 15, 5)\n"
     ]
    }
   ],
   "source": [
    "x_in6= np.load('x_in6.npy')\n",
    "y_op6= np.load('y_op6.npy')\n",
    "print(\"x_in6.shape\",x_in6.shape)\n",
    "print(\"y_op6.shape\",y_op6.shape)\n",
    "x_in=np.append(x_in,x_in6,axis=0)\n",
    "y_op=np.append(y_op,y_op6,axis=0)\n",
    "print(\"x_in.shape\",x_in.shape)\n",
    "print(\"y_op.shape\",y_op.shape)"
   ]
  },
  {
   "cell_type": "code",
   "execution_count": 19,
   "id": "42f198f8-462c-42c4-b761-a350fa2d8533",
   "metadata": {},
   "outputs": [
    {
     "name": "stdout",
     "output_type": "stream",
     "text": [
      "x_in7.shape (12764, 100, 5)\n",
      "y_op7.shape (12764, 15, 5)\n",
      "x_in.shape (87749, 100, 5)\n",
      "y_op.shape (87749, 15, 5)\n"
     ]
    }
   ],
   "source": [
    "x_in7= np.load('x_in7.npy')\n",
    "y_op7= np.load('y_op7.npy')\n",
    "print(\"x_in7.shape\",x_in7.shape)\n",
    "print(\"y_op7.shape\",y_op7.shape)\n",
    "x_in=np.append(x_in,x_in7,axis=0)\n",
    "y_op=np.append(y_op,y_op7,axis=0)\n",
    "print(\"x_in.shape\",x_in.shape)\n",
    "print(\"y_op.shape\",y_op.shape)"
   ]
  },
  {
   "cell_type": "code",
   "execution_count": 20,
   "id": "e4aa502b-5dbb-4cb0-85f3-83fa2ab98f89",
   "metadata": {},
   "outputs": [
    {
     "name": "stdout",
     "output_type": "stream",
     "text": [
      "x_in8.shape (16320, 100, 5)\n",
      "y_op8.shape (16320, 15, 5)\n",
      "x_in.shape (104069, 100, 5)\n",
      "y_op.shape (104069, 15, 5)\n"
     ]
    }
   ],
   "source": [
    "x_in8= np.load('x_in8.npy')\n",
    "y_op8= np.load('y_op8.npy')\n",
    "print(\"x_in8.shape\",x_in8.shape)\n",
    "print(\"y_op8.shape\",y_op8.shape)\n",
    "x_in=np.append(x_in,x_in8,axis=0)\n",
    "y_op=np.append(y_op,y_op8,axis=0)\n",
    "print(\"x_in.shape\",x_in.shape)\n",
    "print(\"y_op.shape\",y_op.shape)"
   ]
  },
  {
   "cell_type": "code",
   "execution_count": 21,
   "id": "12769c32-9f84-46a7-8cdc-e20feb479b3a",
   "metadata": {},
   "outputs": [
    {
     "name": "stdout",
     "output_type": "stream",
     "text": [
      "x_in9.shape (15027, 100, 5)\n",
      "y_op9.shape (15027, 15, 5)\n",
      "x_in.shape (119096, 100, 5)\n",
      "y_op.shape (119096, 15, 5)\n"
     ]
    }
   ],
   "source": [
    "x_in9= np.load('x_in9.npy')\n",
    "y_op9= np.load('y_op9.npy')\n",
    "print(\"x_in9.shape\",x_in9.shape)\n",
    "print(\"y_op9.shape\",y_op9.shape)\n",
    "x_in=np.append(x_in,x_in9,axis=0)\n",
    "y_op=np.append(y_op,y_op9,axis=0)\n",
    "print(\"x_in.shape\",x_in.shape)\n",
    "print(\"y_op.shape\",y_op.shape)"
   ]
  },
  {
   "cell_type": "code",
   "execution_count": 22,
   "id": "9940976d-7a7e-45f1-be2e-c6e6a8bce2e1",
   "metadata": {},
   "outputs": [
    {
     "name": "stdout",
     "output_type": "stream",
     "text": [
      "x_in10.shape (25791, 100, 5)\n",
      "y_op10.shape (25791, 15, 5)\n",
      "x_in.shape (144887, 100, 5)\n",
      "y_op.shape (144887, 15, 5)\n"
     ]
    }
   ],
   "source": [
    "x_in10= np.load('x_in10.npy')\n",
    "y_op10= np.load('y_op10.npy')\n",
    "print(\"x_in10.shape\",x_in10.shape)\n",
    "print(\"y_op10.shape\",y_op10.shape)\n",
    "x_in=np.append(x_in,x_in10,axis=0)\n",
    "y_op=np.append(y_op,y_op10,axis=0)\n",
    "print(\"x_in.shape\",x_in.shape)\n",
    "print(\"y_op.shape\",y_op.shape)"
   ]
  },
  {
   "cell_type": "code",
   "execution_count": 23,
   "id": "7da1dc98-8e25-4886-879e-0d87ba74abbd",
   "metadata": {},
   "outputs": [
    {
     "name": "stdout",
     "output_type": "stream",
     "text": [
      "x_in11.shape (16414, 100, 5)\n",
      "y_op11.shape (16414, 15, 5)\n",
      "x_in.shape (161301, 100, 5)\n",
      "y_op.shape (161301, 15, 5)\n"
     ]
    }
   ],
   "source": [
    "x_in11= np.load('x_in11.npy')\n",
    "y_op11= np.load('y_op11.npy')\n",
    "print(\"x_in11.shape\",x_in11.shape)\n",
    "print(\"y_op11.shape\",y_op11.shape)\n",
    "x_in=np.append(x_in,x_in11,axis=0)\n",
    "y_op=np.append(y_op,y_op11,axis=0)\n",
    "print(\"x_in.shape\",x_in.shape)\n",
    "print(\"y_op.shape\",y_op.shape)"
   ]
  },
  {
   "cell_type": "code",
   "execution_count": 24,
   "id": "8618ccd3-931f-49a7-b483-9270fa4d7ea3",
   "metadata": {},
   "outputs": [],
   "source": [
    "np.save('x_incom.npy',x_in)\n",
    "np.save('y_opcom.npy',y_op)\n"
   ]
  },
  {
   "cell_type": "code",
   "execution_count": null,
   "id": "4043f39f-457a-4bfb-8a01-c6bed3dc9268",
   "metadata": {},
   "outputs": [],
   "source": []
  },
  {
   "cell_type": "code",
   "execution_count": null,
   "id": "189d5fa6-e01b-4b4f-95f0-c80dd5a66e23",
   "metadata": {},
   "outputs": [],
   "source": []
  }
 ],
 "metadata": {
  "kernelspec": {
   "display_name": "Python 3 (ipykernel)",
   "language": "python",
   "name": "python3"
  },
  "language_info": {
   "codemirror_mode": {
    "name": "ipython",
    "version": 3
   },
   "file_extension": ".py",
   "mimetype": "text/x-python",
   "name": "python",
   "nbconvert_exporter": "python",
   "pygments_lexer": "ipython3",
   "version": "3.10.9"
  }
 },
 "nbformat": 4,
 "nbformat_minor": 5
}

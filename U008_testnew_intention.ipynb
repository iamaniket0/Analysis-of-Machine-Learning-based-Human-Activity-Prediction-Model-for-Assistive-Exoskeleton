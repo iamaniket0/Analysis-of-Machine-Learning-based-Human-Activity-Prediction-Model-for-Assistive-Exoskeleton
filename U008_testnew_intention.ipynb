{
 "cells": [
  {
   "cell_type": "code",
   "execution_count": 79,
   "id": "d161ad03-4ecf-44b7-bd9d-30ec8372bedb",
   "metadata": {},
   "outputs": [],
   "source": [
    "import os\n",
    "import pandas as pd\n",
    "import numpy as np\n",
    "import matplotlib.pyplot as plt"
   ]
  },
  {
   "cell_type": "code",
   "execution_count": 80,
   "id": "c96abcd3-582d-4256-b338-5de41601b2e4",
   "metadata": {},
   "outputs": [
    {
     "name": "stdout",
     "output_type": "stream",
     "text": [
      "C:\\Users\\Aniket\\Desktop\\INTENTION\n"
     ]
    }
   ],
   "source": [
    "cd=os.getcwd()\n",
    "print(cd)\n"
   ]
  },
  {
   "cell_type": "code",
   "execution_count": 81,
   "id": "f5d29c3e-8fd3-4150-bb9b-49ecfc6f7401",
   "metadata": {},
   "outputs": [],
   "source": [
    "os.chdir(r\"C:\\Users\\Aniket\\Desktop\\INTENTION\")"
   ]
  },
  {
   "cell_type": "code",
   "execution_count": 82,
   "id": "312ea5ad-4010-472e-bbfb-a3951304b341",
   "metadata": {},
   "outputs": [
    {
     "name": "stdout",
     "output_type": "stream",
     "text": [
      "C:\\Users\\Aniket\\Desktop\\INTENTION\n"
     ]
    }
   ],
   "source": [
    "cd=os.getcwd()\n",
    "print(cd)"
   ]
  },
  {
   "cell_type": "code",
   "execution_count": 83,
   "id": "da2a0c6b-6c29-40a1-895f-353ad04e8f4b",
   "metadata": {},
   "outputs": [
    {
     "name": "stdout",
     "output_type": "stream",
     "text": [
      "['arrays.npz', 'max_m.npy', 'max_m_ML.npy', 'min_m.npy', 'min_m_ML.npy', 'U001_test_intention.csv', 'U001_train_intention.csv', 'U001_val_intention.csv', 'U002_test_intention.csv', 'U002_train_intention.csv', 'U002_val_intention.csv', 'U003_test_intention.csv', 'U003_train_intention.csv', 'U003_val_intention.csv', 'U004_test_intention.csv', 'U004_train_intention.csv', 'U004_val_intention.csv', 'U005_test_intention.csv', 'U005_train_intention.csv', 'U005_val_intention.csv', 'U006_test_intention.csv', 'U006_train_intention.csv', 'U006_val_intention.csv', 'U007_test_intention.csv', 'U007_train_intention.csv', 'U007_val_intention.csv', 'U008_test_intention.csv', 'U008_train_intention.csv', 'U008_val_intention.csv', 'U009_test_intention.csv', 'U009_train_intention.csv', 'U009_val_intention.csv', 'U010_test_intention.csv', 'U010_train_intention.csv', 'U010_val_intention.csv', 'U011_test_intention.csv', 'U011_train_intention.csv', 'U011_val_intention.csv', 'U012_test_intention.csv', 'U012_train_intention.csv', 'U012_val_intention.csv', 'x_in.npy', 'x_in1.npy', 'x_in10.npy', 'x_in11.npy', 'x_in12.npy', 'x_in2.npy', 'x_in3.npy', 'x_in4.npy', 'x_in5.npy', 'x_in6.npy', 'x_in7.npy', 'x_in8.npy', 'x_in9.npy', 'x_in=.npy', 'x_incom.npy', 'X_train.npy', 'X_vel.npy', 'X_vel_ML.npy', 'y_op.npy', 'y_op1.npy', 'y_op10.npy', 'y_op11.npy', 'y_op12.npy', 'y_op2.npy', 'y_op3.npy', 'y_op4.npy', 'y_op5.npy', 'y_op6.npy', 'y_op7.npy', 'y_op8.npy', 'y_op9.npy', 'y_opcom.npy', 'Y_train.npy', 'Y_train_ML.npy', 'Y_vel.npy', 'Y_vel_ML.npy']\n"
     ]
    }
   ],
   "source": [
    "items=os.listdir(cd)\n",
    "print(items)"
   ]
  },
  {
   "cell_type": "code",
   "execution_count": 84,
   "id": "cba961f2-e95e-471f-80e5-089675d78d48",
   "metadata": {},
   "outputs": [
    {
     "name": "stdout",
     "output_type": "stream",
     "text": [
      "   Axel_X_C9  Axel_Y_C9  Axel_Z_C9  Gyro_X_C9  Gyro_Y_C9  Gyro_Z_C9  \\\n",
      "0  10.034722   0.324988   0.722811  -0.007146  -0.015595   0.018032   \n",
      "1  10.014496   0.338487   0.831110   0.008222   0.004452   0.029784   \n",
      "2   9.927086   0.425690   0.951048   0.014886   0.029425   0.036468   \n",
      "3   9.852207   0.437106   0.873035   0.023247   0.051067   0.042929   \n",
      "4   9.809950   0.447254   0.846668   0.030818   0.063362   0.045618   \n",
      "\n",
      "   Axel_X_3B  Axel_Y_3B  Axel_Z_3B  Gyro_X_3B  ...  Gyro_X_B6  Gyro_Y_B6  \\\n",
      "0   9.817333   0.492289  -0.957003   0.065813  ...  -0.042413   0.075004   \n",
      "1   9.840357   0.509801  -0.976496   0.059374  ...  -0.036922   0.073137   \n",
      "2   9.839791   0.615594  -0.954245   0.058608  ...  -0.038978   0.067054   \n",
      "3   9.798376   0.662806  -0.917710   0.056158  ...  -0.044556   0.056973   \n",
      "4   9.793362   0.740359  -0.825847   0.048247  ...  -0.050278   0.046768   \n",
      "\n",
      "   Gyro_Z_B6  Axel_X_BB  Axel_Y_BB  Axel_Z_BB  Gyro_X_BB  Gyro_Y_BB  \\\n",
      "0  -0.026428   9.575724  -1.869226   2.237882   0.074155   0.036457   \n",
      "1  -0.022507   9.585315  -1.742406   2.214470   0.052294   0.040124   \n",
      "2  -0.027229   9.645843  -1.692199   2.257576   0.022956   0.043178   \n",
      "3  -0.025880   9.753582  -2.142810   2.160735   0.006098   0.031866   \n",
      "4  -0.032397   9.812439  -2.270008   2.140536   0.009035   0.043591   \n",
      "\n",
      "   Gyro_Z_BB  target  \n",
      "0   0.037250     0.0  \n",
      "1   0.015579     0.0  \n",
      "2  -0.006023     0.0  \n",
      "3   0.005402     0.0  \n",
      "4   0.003064     0.0  \n",
      "\n",
      "[5 rows x 31 columns]\n"
     ]
    }
   ],
   "source": [
    "path=os.path.join(cd,\"U008_test_intention.csv\")\n",
    "df1=pd.read_csv(path)\n",
    "print(df1.head(5))"
   ]
  },
  {
   "cell_type": "code",
   "execution_count": 85,
   "id": "0b80ff8e-7fa5-4583-9fcf-0085402c6f5d",
   "metadata": {},
   "outputs": [
    {
     "name": "stdout",
     "output_type": "stream",
     "text": [
      "<class 'pandas.core.frame.DataFrame'>\n",
      "RangeIndex: 16434 entries, 0 to 16433\n",
      "Data columns (total 31 columns):\n",
      " #   Column     Non-Null Count  Dtype  \n",
      "---  ------     --------------  -----  \n",
      " 0   Axel_X_C9  16434 non-null  float64\n",
      " 1   Axel_Y_C9  16434 non-null  float64\n",
      " 2   Axel_Z_C9  16434 non-null  float64\n",
      " 3   Gyro_X_C9  16434 non-null  float64\n",
      " 4   Gyro_Y_C9  16434 non-null  float64\n",
      " 5   Gyro_Z_C9  16434 non-null  float64\n",
      " 6   Axel_X_3B  16434 non-null  float64\n",
      " 7   Axel_Y_3B  16434 non-null  float64\n",
      " 8   Axel_Z_3B  16434 non-null  float64\n",
      " 9   Gyro_X_3B  16434 non-null  float64\n",
      " 10  Gyro_Y_3B  16434 non-null  float64\n",
      " 11  Gyro_Z_3B  16434 non-null  float64\n",
      " 12  Axel_X_B5  16434 non-null  float64\n",
      " 13  Axel_Y_B5  16434 non-null  float64\n",
      " 14  Axel_Z_B5  16434 non-null  float64\n",
      " 15  Gyro_X_B5  16434 non-null  float64\n",
      " 16  Gyro_Y_B5  16434 non-null  float64\n",
      " 17  Gyro_Z_B5  16434 non-null  float64\n",
      " 18  Axel_X_B6  16434 non-null  float64\n",
      " 19  Axel_Y_B6  16434 non-null  float64\n",
      " 20  Axel_Z_B6  16434 non-null  float64\n",
      " 21  Gyro_X_B6  16434 non-null  float64\n",
      " 22  Gyro_Y_B6  16434 non-null  float64\n",
      " 23  Gyro_Z_B6  16434 non-null  float64\n",
      " 24  Axel_X_BB  16434 non-null  float64\n",
      " 25  Axel_Y_BB  16434 non-null  float64\n",
      " 26  Axel_Z_BB  16434 non-null  float64\n",
      " 27  Gyro_X_BB  16434 non-null  float64\n",
      " 28  Gyro_Y_BB  16434 non-null  float64\n",
      " 29  Gyro_Z_BB  16434 non-null  float64\n",
      " 30  target     16434 non-null  float64\n",
      "dtypes: float64(31)\n",
      "memory usage: 3.9 MB\n",
      "None\n"
     ]
    }
   ],
   "source": [
    "print(df1.info())"
   ]
  },
  {
   "cell_type": "code",
   "execution_count": 86,
   "id": "68dfceca-dfe2-41af-85cc-c889da7c6fee",
   "metadata": {},
   "outputs": [
    {
     "name": "stdout",
     "output_type": "stream",
     "text": [
      "   Axel_Y_C9  Gyro_Y_C9  Axel_Y_3B  Gyro_Y_3B  Axel_Y_B5\n",
      "0   0.324988  -0.015595   0.492289  -0.037425   3.661946\n",
      "1   0.338487   0.004452   0.509801  -0.041486   3.666967\n",
      "2   0.425690   0.029425   0.615594  -0.052513   3.737857\n",
      "3   0.437106   0.051067   0.662806  -0.062311   3.717938\n",
      "4   0.447254   0.063362   0.740359  -0.067163   3.723499\n",
      "(16434, 5)\n",
      "[[ 0.324988 -0.015595  0.492289 -0.037425  3.661946]\n",
      " [ 0.338487  0.004452  0.509801 -0.041486  3.666967]\n",
      " [ 0.42569   0.029425  0.615594 -0.052513  3.737857]\n",
      " ...\n",
      " [-0.384974  0.006094  0.617035  0.00539   3.866063]\n",
      " [-0.369485  0.009604  0.600653  0.008715  3.973449]\n",
      " [-0.383125  0.011971  0.583416  0.009983  3.826566]]\n"
     ]
    }
   ],
   "source": [
    "Gyro_Y=df1.iloc[:,[1,4,7,10,13]]\n",
    "Dat=Gyro_Y.values\n",
    "print(Gyro_Y.head())\n",
    "print(Dat.shape)\n",
    "print(Dat)"
   ]
  },
  {
   "cell_type": "code",
   "execution_count": 87,
   "id": "7b7305ce-0625-4fe9-af75-c5b70eb36048",
   "metadata": {},
   "outputs": [
    {
     "name": "stdout",
     "output_type": "stream",
     "text": [
      "16434\n",
      "16320\n"
     ]
    }
   ],
   "source": [
    "#windowed output shape [m x o] where m=Sample-(window+output)+1\n",
    "#and windowed input shape will be [mxw].\n",
    "\n",
    "Sample=Gyro_Y.shape[0]\n",
    "print(Sample)\n",
    "window=100\n",
    "output=15\n",
    "m=Sample-(window+output)+1\n",
    "\n",
    "X=np.zeros((m,window))\n",
    "y=np.zeros((m,output))\n",
    "print(m)"
   ]
  },
  {
   "cell_type": "code",
   "execution_count": 88,
   "id": "27d7c876-1ffd-41f8-a23d-618c351d8552",
   "metadata": {},
   "outputs": [
    {
     "name": "stdout",
     "output_type": "stream",
     "text": [
      "x_in:\n",
      "(16320, 100, 5)\n",
      "(16320, 15, 5)\n"
     ]
    }
   ],
   "source": [
    "import numpy as np\n",
    "\n",
    "\n",
    "\n",
    "#taking window input as 100 and window ouput as 15 for sample=m  \n",
    "x_in = np.zeros((m,100,5))\n",
    "y_op = np.zeros((m,15,5))\n",
    "\n",
    "\n",
    "for i in range(m):\n",
    "    # Store the first 100 rows\n",
    "   # print(\"x_in[i:,:,].shape\",x_in[i,:,:].shape,\"y_op[i:,:,].shape\",y_op[i,:,:].shape,\"Dat[i:i+100,:].shape\",Dat[i:i+100,:].shape,\"Dat[i+100:i+115,:].shape\",Dat[i+100:i+115,:].shape)\n",
    "    x_in[i,:,:] =Dat[i:i+100,:]\n",
    "    y_op[i,:,:]=Dat[i+100:i+115,:]\n",
    "     \n",
    "    \n",
    " \n",
    "    \n",
    "\n",
    "    # Print the stored arrays\n",
    "print(\"x_in:\")\n",
    "print(x_in.shape)\n",
    "print(y_op.shape)\n",
    "   \n",
    "\n",
    "    \n",
    "\n",
    " \n",
    "\n",
    "\n"
   ]
  },
  {
   "cell_type": "code",
   "execution_count": 89,
   "id": "353683b7-94b2-44e9-9d03-bd4e1eded126",
   "metadata": {},
   "outputs": [],
   "source": [
    "\n",
    "\n",
    "# Save arrays to a file\n",
    "np.save('x_in8.npy',x_in)\n",
    "np.save('y_op8.npy',y_op)\n"
   ]
  },
  {
   "cell_type": "code",
   "execution_count": null,
   "id": "5d45e9ba-d9d8-4634-a50c-efb6afc535ba",
   "metadata": {},
   "outputs": [],
   "source": []
  }
 ],
 "metadata": {
  "kernelspec": {
   "display_name": "Python 3 (ipykernel)",
   "language": "python",
   "name": "python3"
  },
  "language_info": {
   "codemirror_mode": {
    "name": "ipython",
    "version": 3
   },
   "file_extension": ".py",
   "mimetype": "text/x-python",
   "name": "python",
   "nbconvert_exporter": "python",
   "pygments_lexer": "ipython3",
   "version": "3.10.9"
  }
 },
 "nbformat": 4,
 "nbformat_minor": 5
}

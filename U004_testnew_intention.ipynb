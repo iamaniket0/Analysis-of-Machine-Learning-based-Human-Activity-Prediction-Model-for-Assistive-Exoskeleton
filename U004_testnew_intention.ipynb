{
 "cells": [
  {
   "cell_type": "code",
   "execution_count": 36,
   "id": "d161ad03-4ecf-44b7-bd9d-30ec8372bedb",
   "metadata": {},
   "outputs": [],
   "source": [
    "import os\n",
    "import pandas as pd\n",
    "import numpy as np\n",
    "import matplotlib.pyplot as plt"
   ]
  },
  {
   "cell_type": "code",
   "execution_count": 37,
   "id": "c96abcd3-582d-4256-b338-5de41601b2e4",
   "metadata": {},
   "outputs": [
    {
     "name": "stdout",
     "output_type": "stream",
     "text": [
      "C:\\Users\\Aniket\\Desktop\\INTENTION\n"
     ]
    }
   ],
   "source": [
    "cd=os.getcwd()\n",
    "print(cd)\n"
   ]
  },
  {
   "cell_type": "code",
   "execution_count": 38,
   "id": "f5d29c3e-8fd3-4150-bb9b-49ecfc6f7401",
   "metadata": {},
   "outputs": [],
   "source": [
    "os.chdir(r\"C:\\Users\\Aniket\\Desktop\\INTENTION\")"
   ]
  },
  {
   "cell_type": "code",
   "execution_count": 39,
   "id": "312ea5ad-4010-472e-bbfb-a3951304b341",
   "metadata": {},
   "outputs": [
    {
     "name": "stdout",
     "output_type": "stream",
     "text": [
      "C:\\Users\\Aniket\\Desktop\\INTENTION\n"
     ]
    }
   ],
   "source": [
    "cd=os.getcwd()\n",
    "print(cd)"
   ]
  },
  {
   "cell_type": "code",
   "execution_count": 40,
   "id": "da2a0c6b-6c29-40a1-895f-353ad04e8f4b",
   "metadata": {},
   "outputs": [
    {
     "name": "stdout",
     "output_type": "stream",
     "text": [
      "['arrays.npz', 'max_m.npy', 'max_m_ML.npy', 'min_m.npy', 'min_m_ML.npy', 'U001_test_intention.csv', 'U001_train_intention.csv', 'U001_val_intention.csv', 'U002_test_intention.csv', 'U002_train_intention.csv', 'U002_val_intention.csv', 'U003_test_intention.csv', 'U003_train_intention.csv', 'U003_val_intention.csv', 'U004_test_intention.csv', 'U004_train_intention.csv', 'U004_val_intention.csv', 'U005_test_intention.csv', 'U005_train_intention.csv', 'U005_val_intention.csv', 'U006_test_intention.csv', 'U006_train_intention.csv', 'U006_val_intention.csv', 'U007_test_intention.csv', 'U007_train_intention.csv', 'U007_val_intention.csv', 'U008_test_intention.csv', 'U008_train_intention.csv', 'U008_val_intention.csv', 'U009_test_intention.csv', 'U009_train_intention.csv', 'U009_val_intention.csv', 'U010_test_intention.csv', 'U010_train_intention.csv', 'U010_val_intention.csv', 'U011_test_intention.csv', 'U011_train_intention.csv', 'U011_val_intention.csv', 'U012_test_intention.csv', 'U012_train_intention.csv', 'U012_val_intention.csv', 'x_in.npy', 'x_in1.npy', 'x_in10.npy', 'x_in11.npy', 'x_in12.npy', 'x_in2.npy', 'x_in3.npy', 'x_in4.npy', 'x_in5.npy', 'x_in6.npy', 'x_in7.npy', 'x_in8.npy', 'x_in9.npy', 'x_in=.npy', 'x_incom.npy', 'X_train.npy', 'X_vel.npy', 'X_vel_ML.npy', 'y_op.npy', 'y_op1.npy', 'y_op10.npy', 'y_op11.npy', 'y_op12.npy', 'y_op2.npy', 'y_op3.npy', 'y_op4.npy', 'y_op5.npy', 'y_op6.npy', 'y_op7.npy', 'y_op8.npy', 'y_op9.npy', 'y_opcom.npy', 'Y_train.npy', 'Y_train_ML.npy', 'Y_vel.npy', 'Y_vel_ML.npy']\n"
     ]
    }
   ],
   "source": [
    "items=os.listdir(cd)\n",
    "print(items)"
   ]
  },
  {
   "cell_type": "code",
   "execution_count": 41,
   "id": "cba961f2-e95e-471f-80e5-089675d78d48",
   "metadata": {},
   "outputs": [
    {
     "name": "stdout",
     "output_type": "stream",
     "text": [
      "   Axel_X_C9  Axel_Y_C9  Axel_Z_C9  Gyro_X_C9  Gyro_Y_C9  Gyro_Z_C9  \\\n",
      "0   9.683490   1.675496  -0.368844   0.586777   0.082929  -0.032607   \n",
      "1   9.701477   1.812494  -0.236138   0.502290   0.067900  -0.027349   \n",
      "2   9.721047   1.896553  -0.148063   0.411491   0.046924  -0.020485   \n",
      "3   9.696497   2.001022  -0.115634   0.316226   0.030486  -0.015564   \n",
      "4   9.719699   2.028287  -0.095515   0.219352   0.014142  -0.009177   \n",
      "\n",
      "   Axel_X_3B  Axel_Y_3B  Axel_Z_3B  Gyro_X_3B  ...  Gyro_X_B6  Gyro_Y_B6  \\\n",
      "0   9.669623   1.812166  -2.056701   0.651258  ...   0.573477   0.043922   \n",
      "1   9.693956   1.949499  -2.095716   0.576275  ...   0.541091   0.021158   \n",
      "2   9.671041   2.096054  -2.212855   0.498142  ...   0.503433   0.008711   \n",
      "3   9.645506   2.192994  -2.218500   0.401466  ...   0.458970   0.007175   \n",
      "4   9.620307   2.214576  -2.230414   0.295483  ...   0.409787   0.006670   \n",
      "\n",
      "   Gyro_Z_B6  Axel_X_BB  Axel_Y_BB  Axel_Z_BB  Gyro_X_BB  Gyro_Y_BB  \\\n",
      "0   0.049294   9.931686  -4.656753   2.903422   0.015645   0.315398   \n",
      "1   0.055028   9.983980  -4.744224   2.840713   0.041136   0.262956   \n",
      "2   0.059426   9.939117  -4.778811   2.838464   0.078451   0.220834   \n",
      "3   0.056171   9.764355  -4.686905   2.763165   0.130337   0.171154   \n",
      "4   0.051220   9.653376  -4.606405   2.737518   0.185522   0.108644   \n",
      "\n",
      "   Gyro_Z_BB  target  \n",
      "0  -0.992751     0.0  \n",
      "1  -0.838041     0.0  \n",
      "2  -0.693942     0.0  \n",
      "3  -0.536203     0.0  \n",
      "4  -0.382761     0.0  \n",
      "\n",
      "[5 rows x 31 columns]\n"
     ]
    }
   ],
   "source": [
    "path=os.path.join(cd,\"U004_test_intention.csv\")\n",
    "df1=pd.read_csv(path)\n",
    "print(df1.head(5))"
   ]
  },
  {
   "cell_type": "code",
   "execution_count": 42,
   "id": "0b80ff8e-7fa5-4583-9fcf-0085402c6f5d",
   "metadata": {},
   "outputs": [
    {
     "name": "stdout",
     "output_type": "stream",
     "text": [
      "<class 'pandas.core.frame.DataFrame'>\n",
      "RangeIndex: 12973 entries, 0 to 12972\n",
      "Data columns (total 31 columns):\n",
      " #   Column     Non-Null Count  Dtype  \n",
      "---  ------     --------------  -----  \n",
      " 0   Axel_X_C9  12973 non-null  float64\n",
      " 1   Axel_Y_C9  12973 non-null  float64\n",
      " 2   Axel_Z_C9  12973 non-null  float64\n",
      " 3   Gyro_X_C9  12973 non-null  float64\n",
      " 4   Gyro_Y_C9  12973 non-null  float64\n",
      " 5   Gyro_Z_C9  12973 non-null  float64\n",
      " 6   Axel_X_3B  12973 non-null  float64\n",
      " 7   Axel_Y_3B  12973 non-null  float64\n",
      " 8   Axel_Z_3B  12973 non-null  float64\n",
      " 9   Gyro_X_3B  12973 non-null  float64\n",
      " 10  Gyro_Y_3B  12973 non-null  float64\n",
      " 11  Gyro_Z_3B  12973 non-null  float64\n",
      " 12  Axel_X_B5  12973 non-null  float64\n",
      " 13  Axel_Y_B5  12973 non-null  float64\n",
      " 14  Axel_Z_B5  12973 non-null  float64\n",
      " 15  Gyro_X_B5  12973 non-null  float64\n",
      " 16  Gyro_Y_B5  12973 non-null  float64\n",
      " 17  Gyro_Z_B5  12973 non-null  float64\n",
      " 18  Axel_X_B6  12973 non-null  float64\n",
      " 19  Axel_Y_B6  12973 non-null  float64\n",
      " 20  Axel_Z_B6  12973 non-null  float64\n",
      " 21  Gyro_X_B6  12973 non-null  float64\n",
      " 22  Gyro_Y_B6  12973 non-null  float64\n",
      " 23  Gyro_Z_B6  12973 non-null  float64\n",
      " 24  Axel_X_BB  12973 non-null  float64\n",
      " 25  Axel_Y_BB  12973 non-null  float64\n",
      " 26  Axel_Z_BB  12973 non-null  float64\n",
      " 27  Gyro_X_BB  12973 non-null  float64\n",
      " 28  Gyro_Y_BB  12973 non-null  float64\n",
      " 29  Gyro_Z_BB  12973 non-null  float64\n",
      " 30  target     12973 non-null  float64\n",
      "dtypes: float64(31)\n",
      "memory usage: 3.1 MB\n",
      "None\n"
     ]
    }
   ],
   "source": [
    "print(df1.info())"
   ]
  },
  {
   "cell_type": "code",
   "execution_count": 43,
   "id": "68dfceca-dfe2-41af-85cc-c889da7c6fee",
   "metadata": {},
   "outputs": [
    {
     "name": "stdout",
     "output_type": "stream",
     "text": [
      "   Axel_Y_C9  Gyro_Y_C9  Axel_Y_3B  Gyro_Y_3B  Axel_Y_B5\n",
      "0   1.675496   0.082929   1.812166   0.022406   0.122514\n",
      "1   1.812494   0.067900   1.949499   0.024122  -0.159534\n",
      "2   1.896553   0.046924   2.096054   0.019737  -0.353688\n",
      "3   2.001022   0.030486   2.192994   0.020528  -0.583438\n",
      "4   2.028287   0.014142   2.214576   0.015391  -0.276590\n",
      "(12973, 5)\n",
      "[[ 1.675496  0.082929  1.812166  0.022406  0.122514]\n",
      " [ 1.812494  0.0679    1.949499  0.024122 -0.159534]\n",
      " [ 1.896553  0.046924  2.096054  0.019737 -0.353688]\n",
      " ...\n",
      " [ 0.760044  0.008452  0.842588  0.031058 -2.685165]\n",
      " [ 0.751186  0.011914  0.828441  0.031711 -2.664336]\n",
      " [ 0.745463  0.010035  0.840828  0.029004 -2.647991]]\n"
     ]
    }
   ],
   "source": [
    "Gyro_Y=df1.iloc[:,[1,4,7,10,13]]\n",
    "Dat=Gyro_Y.values\n",
    "print(Gyro_Y.head())\n",
    "print(Dat.shape)\n",
    "print(Dat)"
   ]
  },
  {
   "cell_type": "code",
   "execution_count": 44,
   "id": "7b7305ce-0625-4fe9-af75-c5b70eb36048",
   "metadata": {},
   "outputs": [
    {
     "name": "stdout",
     "output_type": "stream",
     "text": [
      "12973\n",
      "12859\n"
     ]
    }
   ],
   "source": [
    "#windowed output shape [m x o] where m=Sample-(window+output)+1\n",
    "#and windowed input shape will be [mxw].\n",
    "\n",
    "Sample=Gyro_Y.shape[0]\n",
    "print(Sample)\n",
    "window=100\n",
    "output=15\n",
    "m=Sample-(window+output)+1\n",
    "\n",
    "X=np.zeros((m,window))\n",
    "y=np.zeros((m,output))\n",
    "print(m)"
   ]
  },
  {
   "cell_type": "code",
   "execution_count": 45,
   "id": "27d7c876-1ffd-41f8-a23d-618c351d8552",
   "metadata": {},
   "outputs": [
    {
     "name": "stdout",
     "output_type": "stream",
     "text": [
      "x_in:\n",
      "(12859, 100, 5)\n",
      "(12859, 15, 5)\n"
     ]
    }
   ],
   "source": [
    "import numpy as np\n",
    "\n",
    "\n",
    "\n",
    "#taking window input as 100 and window ouput as 15 for sample=m  \n",
    "x_in = np.zeros((m,100,5))\n",
    "y_op = np.zeros((m,15,5))\n",
    "\n",
    "\n",
    "for i in range(m):\n",
    "    # Store the first 100 rows\n",
    "   # print(\"x_in[i:,:,].shape\",x_in[i,:,:].shape,\"y_op[i:,:,].shape\",y_op[i,:,:].shape,\"Dat[i:i+100,:].shape\",Dat[i:i+100,:].shape,\"Dat[i+100:i+115,:].shape\",Dat[i+100:i+115,:].shape)\n",
    "    x_in[i,:,:] =Dat[i:i+100,:]\n",
    "    y_op[i,:,:]=Dat[i+100:i+115,:]\n",
    "     \n",
    "    \n",
    " \n",
    "    \n",
    "\n",
    "    # Print the stored arrays\n",
    "print(\"x_in:\")\n",
    "print(x_in.shape)\n",
    "print(y_op.shape)\n",
    "   \n",
    "\n",
    "    \n",
    "\n",
    " \n",
    "\n",
    "\n"
   ]
  },
  {
   "cell_type": "code",
   "execution_count": 46,
   "id": "353683b7-94b2-44e9-9d03-bd4e1eded126",
   "metadata": {},
   "outputs": [],
   "source": [
    "\n",
    "\n",
    "# Save arrays to a file\n",
    "np.save('x_in4.npy',x_in)\n",
    "np.save('y_op4.npy',y_op)\n"
   ]
  },
  {
   "cell_type": "code",
   "execution_count": null,
   "id": "5d45e9ba-d9d8-4634-a50c-efb6afc535ba",
   "metadata": {},
   "outputs": [],
   "source": []
  }
 ],
 "metadata": {
  "kernelspec": {
   "display_name": "Python 3 (ipykernel)",
   "language": "python",
   "name": "python3"
  },
  "language_info": {
   "codemirror_mode": {
    "name": "ipython",
    "version": 3
   },
   "file_extension": ".py",
   "mimetype": "text/x-python",
   "name": "python",
   "nbconvert_exporter": "python",
   "pygments_lexer": "ipython3",
   "version": "3.10.9"
  }
 },
 "nbformat": 4,
 "nbformat_minor": 5
}

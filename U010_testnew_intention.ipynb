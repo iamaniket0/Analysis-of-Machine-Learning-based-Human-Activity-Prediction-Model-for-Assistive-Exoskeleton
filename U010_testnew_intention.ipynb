{
 "cells": [
  {
   "cell_type": "code",
   "execution_count": 109,
   "id": "d161ad03-4ecf-44b7-bd9d-30ec8372bedb",
   "metadata": {},
   "outputs": [],
   "source": [
    "import os\n",
    "import pandas as pd\n",
    "import numpy as np\n",
    "import matplotlib.pyplot as plt"
   ]
  },
  {
   "cell_type": "code",
   "execution_count": 110,
   "id": "c96abcd3-582d-4256-b338-5de41601b2e4",
   "metadata": {},
   "outputs": [
    {
     "name": "stdout",
     "output_type": "stream",
     "text": [
      "C:\\Users\\Aniket\\Desktop\\INTENTION\n"
     ]
    }
   ],
   "source": [
    "cd=os.getcwd()\n",
    "print(cd)\n"
   ]
  },
  {
   "cell_type": "code",
   "execution_count": 111,
   "id": "f5d29c3e-8fd3-4150-bb9b-49ecfc6f7401",
   "metadata": {},
   "outputs": [],
   "source": [
    "os.chdir(r\"C:\\Users\\Aniket\\Desktop\\INTENTION\")"
   ]
  },
  {
   "cell_type": "code",
   "execution_count": 112,
   "id": "312ea5ad-4010-472e-bbfb-a3951304b341",
   "metadata": {},
   "outputs": [
    {
     "name": "stdout",
     "output_type": "stream",
     "text": [
      "C:\\Users\\Aniket\\Desktop\\INTENTION\n"
     ]
    }
   ],
   "source": [
    "cd=os.getcwd()\n",
    "print(cd)"
   ]
  },
  {
   "cell_type": "code",
   "execution_count": 113,
   "id": "da2a0c6b-6c29-40a1-895f-353ad04e8f4b",
   "metadata": {},
   "outputs": [
    {
     "name": "stdout",
     "output_type": "stream",
     "text": [
      "['arrays.npz', 'max_m.npy', 'max_m_ML.npy', 'min_m.npy', 'min_m_ML.npy', 'U001_test_intention.csv', 'U001_train_intention.csv', 'U001_val_intention.csv', 'U002_test_intention.csv', 'U002_train_intention.csv', 'U002_val_intention.csv', 'U003_test_intention.csv', 'U003_train_intention.csv', 'U003_val_intention.csv', 'U004_test_intention.csv', 'U004_train_intention.csv', 'U004_val_intention.csv', 'U005_test_intention.csv', 'U005_train_intention.csv', 'U005_val_intention.csv', 'U006_test_intention.csv', 'U006_train_intention.csv', 'U006_val_intention.csv', 'U007_test_intention.csv', 'U007_train_intention.csv', 'U007_val_intention.csv', 'U008_test_intention.csv', 'U008_train_intention.csv', 'U008_val_intention.csv', 'U009_test_intention.csv', 'U009_train_intention.csv', 'U009_val_intention.csv', 'U010_test_intention.csv', 'U010_train_intention.csv', 'U010_val_intention.csv', 'U011_test_intention.csv', 'U011_train_intention.csv', 'U011_val_intention.csv', 'U012_test_intention.csv', 'U012_train_intention.csv', 'U012_val_intention.csv', 'x_in.npy', 'x_in1.npy', 'x_in10.npy', 'x_in11.npy', 'x_in12.npy', 'x_in2.npy', 'x_in3.npy', 'x_in4.npy', 'x_in5.npy', 'x_in6.npy', 'x_in7.npy', 'x_in8.npy', 'x_in9.npy', 'x_in=.npy', 'x_incom.npy', 'X_train.npy', 'X_vel.npy', 'X_vel_ML.npy', 'y_op.npy', 'y_op1.npy', 'y_op10.npy', 'y_op11.npy', 'y_op12.npy', 'y_op2.npy', 'y_op3.npy', 'y_op4.npy', 'y_op5.npy', 'y_op6.npy', 'y_op7.npy', 'y_op8.npy', 'y_op9.npy', 'y_opcom.npy', 'Y_train.npy', 'Y_train_ML.npy', 'Y_vel.npy', 'Y_vel_ML.npy']\n"
     ]
    }
   ],
   "source": [
    "items=os.listdir(cd)\n",
    "print(items)"
   ]
  },
  {
   "cell_type": "code",
   "execution_count": 114,
   "id": "cba961f2-e95e-471f-80e5-089675d78d48",
   "metadata": {},
   "outputs": [
    {
     "name": "stdout",
     "output_type": "stream",
     "text": [
      "   Axel_X_C9  Axel_Y_C9  Axel_Z_C9  Gyro_X_C9  Gyro_Y_C9  Gyro_Z_C9  \\\n",
      "0   9.816010  -0.168423  -1.043871  -0.004804   0.004572   0.001648   \n",
      "1   9.816056  -0.168678  -1.043385   0.002456   0.005380   0.003797   \n",
      "2   9.862877  -0.163525  -1.070470  -0.008262   0.006230   0.001197   \n",
      "3   9.839952  -0.173185  -1.045776  -0.004486   0.010056   0.002178   \n",
      "4   9.834468  -0.193149  -1.058181  -0.006149   0.007486   0.003747   \n",
      "\n",
      "   Axel_X_3B  Axel_Y_3B  Axel_Z_3B  Gyro_X_3B  ...  Gyro_X_B6  Gyro_Y_B6  \\\n",
      "0   9.606791   1.055685  -1.911412   0.007048  ...   0.015859   0.017710   \n",
      "1   9.610460   1.035608  -1.866631   0.010511  ...   0.014703   0.018230   \n",
      "2   9.608760   1.045596  -1.888373   0.008936  ...   0.015285   0.017971   \n",
      "3   9.608065   1.067830  -1.877702   0.008595  ...   0.014694   0.016923   \n",
      "4   9.606375   1.078009  -1.899296   0.008870  ...   0.008150   0.015662   \n",
      "\n",
      "   Gyro_Z_B6  Axel_X_BB  Axel_Y_BB  Axel_Z_BB  Gyro_X_BB  Gyro_Y_BB  \\\n",
      "0  -0.017704   8.489581  -3.097740   5.029782   0.024162   0.001531   \n",
      "1  -0.010915   8.488050  -3.108612   5.010155   0.022646   0.003587   \n",
      "2  -0.014310   8.523216  -3.124954   5.048698   0.019277   0.000468   \n",
      "3  -0.010092   8.521783  -3.136126   5.028745   0.012531   0.002197   \n",
      "4  -0.014024   8.554770  -3.149561   5.007498   0.018180   0.003231   \n",
      "\n",
      "   Gyro_Z_BB  target  \n",
      "0  -0.011829     0.0  \n",
      "1  -0.011365     0.0  \n",
      "2  -0.014409     0.0  \n",
      "3  -0.010625     0.0  \n",
      "4  -0.019053     0.0  \n",
      "\n",
      "[5 rows x 31 columns]\n"
     ]
    }
   ],
   "source": [
    "path=os.path.join(cd,\"U010_test_intention.csv\")\n",
    "df1=pd.read_csv(path)\n",
    "print(df1.head(5))"
   ]
  },
  {
   "cell_type": "code",
   "execution_count": 115,
   "id": "0b80ff8e-7fa5-4583-9fcf-0085402c6f5d",
   "metadata": {},
   "outputs": [
    {
     "name": "stdout",
     "output_type": "stream",
     "text": [
      "<class 'pandas.core.frame.DataFrame'>\n",
      "RangeIndex: 25905 entries, 0 to 25904\n",
      "Data columns (total 31 columns):\n",
      " #   Column     Non-Null Count  Dtype  \n",
      "---  ------     --------------  -----  \n",
      " 0   Axel_X_C9  25905 non-null  float64\n",
      " 1   Axel_Y_C9  25905 non-null  float64\n",
      " 2   Axel_Z_C9  25905 non-null  float64\n",
      " 3   Gyro_X_C9  25905 non-null  float64\n",
      " 4   Gyro_Y_C9  25905 non-null  float64\n",
      " 5   Gyro_Z_C9  25905 non-null  float64\n",
      " 6   Axel_X_3B  25905 non-null  float64\n",
      " 7   Axel_Y_3B  25905 non-null  float64\n",
      " 8   Axel_Z_3B  25905 non-null  float64\n",
      " 9   Gyro_X_3B  25905 non-null  float64\n",
      " 10  Gyro_Y_3B  25905 non-null  float64\n",
      " 11  Gyro_Z_3B  25905 non-null  float64\n",
      " 12  Axel_X_B5  25905 non-null  float64\n",
      " 13  Axel_Y_B5  25905 non-null  float64\n",
      " 14  Axel_Z_B5  25905 non-null  float64\n",
      " 15  Gyro_X_B5  25905 non-null  float64\n",
      " 16  Gyro_Y_B5  25905 non-null  float64\n",
      " 17  Gyro_Z_B5  25905 non-null  float64\n",
      " 18  Axel_X_B6  25905 non-null  float64\n",
      " 19  Axel_Y_B6  25905 non-null  float64\n",
      " 20  Axel_Z_B6  25905 non-null  float64\n",
      " 21  Gyro_X_B6  25905 non-null  float64\n",
      " 22  Gyro_Y_B6  25905 non-null  float64\n",
      " 23  Gyro_Z_B6  25905 non-null  float64\n",
      " 24  Axel_X_BB  25905 non-null  float64\n",
      " 25  Axel_Y_BB  25905 non-null  float64\n",
      " 26  Axel_Z_BB  25905 non-null  float64\n",
      " 27  Gyro_X_BB  25905 non-null  float64\n",
      " 28  Gyro_Y_BB  25905 non-null  float64\n",
      " 29  Gyro_Z_BB  25905 non-null  float64\n",
      " 30  target     25905 non-null  float64\n",
      "dtypes: float64(31)\n",
      "memory usage: 6.1 MB\n",
      "None\n"
     ]
    }
   ],
   "source": [
    "print(df1.info())"
   ]
  },
  {
   "cell_type": "code",
   "execution_count": 116,
   "id": "68dfceca-dfe2-41af-85cc-c889da7c6fee",
   "metadata": {},
   "outputs": [
    {
     "name": "stdout",
     "output_type": "stream",
     "text": [
      "   Axel_Y_C9  Gyro_Y_C9  Axel_Y_3B  Gyro_Y_3B  Axel_Y_B5\n",
      "0  -0.168423   0.004572   1.055685   0.004066   1.075123\n",
      "1  -0.168678   0.005380   1.035608   0.007565   1.127717\n",
      "2  -0.163525   0.006230   1.045596   0.003204   1.150499\n",
      "3  -0.173185   0.010056   1.067830   0.009251   1.123323\n",
      "4  -0.193149   0.007486   1.078009   0.004487   1.135368\n",
      "(25905, 5)\n",
      "[[-1.684230e-01  4.572000e-03  1.055685e+00  4.066000e-03  1.075123e+00]\n",
      " [-1.686780e-01  5.380000e-03  1.035608e+00  7.565000e-03  1.127717e+00]\n",
      " [-1.635250e-01  6.230000e-03  1.045596e+00  3.204000e-03  1.150499e+00]\n",
      " ...\n",
      " [-7.790700e-02  1.114700e-02 -1.771592e+00  9.889160e-01  1.068896e+00]\n",
      " [-1.089980e-01 -3.440000e-04 -1.505393e+00  1.055144e+00  1.078262e+00]\n",
      " [ 2.306900e-02 -4.462000e-03 -1.304119e+00  1.132452e+00  1.100470e+00]]\n"
     ]
    }
   ],
   "source": [
    "Gyro_Y=df1.iloc[:,[1,4,7,10,13]]\n",
    "Dat=Gyro_Y.values\n",
    "print(Gyro_Y.head())\n",
    "print(Dat.shape)\n",
    "print(Dat)"
   ]
  },
  {
   "cell_type": "code",
   "execution_count": 117,
   "id": "7b7305ce-0625-4fe9-af75-c5b70eb36048",
   "metadata": {},
   "outputs": [
    {
     "name": "stdout",
     "output_type": "stream",
     "text": [
      "25905\n",
      "25791\n"
     ]
    }
   ],
   "source": [
    "#windowed output shape [m x o] where m=Sample-(window+output)+1\n",
    "#and windowed input shape will be [mxw].\n",
    "\n",
    "Sample=Gyro_Y.shape[0]\n",
    "print(Sample)\n",
    "window=100\n",
    "output=15\n",
    "m=Sample-(window+output)+1\n",
    "\n",
    "X=np.zeros((m,window))\n",
    "y=np.zeros((m,output))\n",
    "print(m)"
   ]
  },
  {
   "cell_type": "code",
   "execution_count": 118,
   "id": "27d7c876-1ffd-41f8-a23d-618c351d8552",
   "metadata": {},
   "outputs": [
    {
     "name": "stdout",
     "output_type": "stream",
     "text": [
      "x_in:\n",
      "(25791, 100, 5)\n",
      "(25791, 15, 5)\n"
     ]
    }
   ],
   "source": [
    "import numpy as np\n",
    "\n",
    "\n",
    "\n",
    "#taking window input as 100 and window ouput as 15 for sample=m  \n",
    "x_in = np.zeros((m,100,5))\n",
    "y_op = np.zeros((m,15,5))\n",
    "\n",
    "\n",
    "for i in range(m):\n",
    "    # Store the first 100 rows\n",
    "   # print(\"x_in[i:,:,].shape\",x_in[i,:,:].shape,\"y_op[i:,:,].shape\",y_op[i,:,:].shape,\"Dat[i:i+100,:].shape\",Dat[i:i+100,:].shape,\"Dat[i+100:i+115,:].shape\",Dat[i+100:i+115,:].shape)\n",
    "    x_in[i,:,:] =Dat[i:i+100,:]\n",
    "    y_op[i,:,:]=Dat[i+100:i+115,:]\n",
    "     \n",
    "    \n",
    " \n",
    "    \n",
    "\n",
    "    # Print the stored arrays\n",
    "print(\"x_in:\")\n",
    "print(x_in.shape)\n",
    "print(y_op.shape)\n",
    "   \n",
    "\n",
    "    \n",
    "\n",
    " \n",
    "\n",
    "\n"
   ]
  },
  {
   "cell_type": "code",
   "execution_count": 119,
   "id": "353683b7-94b2-44e9-9d03-bd4e1eded126",
   "metadata": {},
   "outputs": [],
   "source": [
    "\n",
    "\n",
    "# Save arrays to a file\n",
    "np.save('x_in10.npy',x_in)\n",
    "np.save('y_op10.npy',y_op)\n"
   ]
  },
  {
   "cell_type": "code",
   "execution_count": null,
   "id": "5d45e9ba-d9d8-4634-a50c-efb6afc535ba",
   "metadata": {},
   "outputs": [],
   "source": []
  }
 ],
 "metadata": {
  "kernelspec": {
   "display_name": "Python 3 (ipykernel)",
   "language": "python",
   "name": "python3"
  },
  "language_info": {
   "codemirror_mode": {
    "name": "ipython",
    "version": 3
   },
   "file_extension": ".py",
   "mimetype": "text/x-python",
   "name": "python",
   "nbconvert_exporter": "python",
   "pygments_lexer": "ipython3",
   "version": "3.10.9"
  }
 },
 "nbformat": 4,
 "nbformat_minor": 5
}

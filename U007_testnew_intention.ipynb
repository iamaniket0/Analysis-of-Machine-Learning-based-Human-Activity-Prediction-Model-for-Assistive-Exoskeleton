{
 "cells": [
  {
   "cell_type": "code",
   "execution_count": 68,
   "id": "d161ad03-4ecf-44b7-bd9d-30ec8372bedb",
   "metadata": {},
   "outputs": [],
   "source": [
    "import os\n",
    "import pandas as pd\n",
    "import numpy as np\n",
    "import matplotlib.pyplot as plt"
   ]
  },
  {
   "cell_type": "code",
   "execution_count": 69,
   "id": "c96abcd3-582d-4256-b338-5de41601b2e4",
   "metadata": {},
   "outputs": [
    {
     "name": "stdout",
     "output_type": "stream",
     "text": [
      "C:\\Users\\Aniket\\Desktop\\INTENTION\n"
     ]
    }
   ],
   "source": [
    "cd=os.getcwd()\n",
    "print(cd)\n"
   ]
  },
  {
   "cell_type": "code",
   "execution_count": 70,
   "id": "f5d29c3e-8fd3-4150-bb9b-49ecfc6f7401",
   "metadata": {},
   "outputs": [],
   "source": [
    "os.chdir(r\"C:\\Users\\Aniket\\Desktop\\INTENTION\")"
   ]
  },
  {
   "cell_type": "code",
   "execution_count": 71,
   "id": "312ea5ad-4010-472e-bbfb-a3951304b341",
   "metadata": {},
   "outputs": [
    {
     "name": "stdout",
     "output_type": "stream",
     "text": [
      "C:\\Users\\Aniket\\Desktop\\INTENTION\n"
     ]
    }
   ],
   "source": [
    "cd=os.getcwd()\n",
    "print(cd)"
   ]
  },
  {
   "cell_type": "code",
   "execution_count": 72,
   "id": "da2a0c6b-6c29-40a1-895f-353ad04e8f4b",
   "metadata": {},
   "outputs": [
    {
     "name": "stdout",
     "output_type": "stream",
     "text": [
      "['arrays.npz', 'max_m.npy', 'max_m_ML.npy', 'min_m.npy', 'min_m_ML.npy', 'U001_test_intention.csv', 'U001_train_intention.csv', 'U001_val_intention.csv', 'U002_test_intention.csv', 'U002_train_intention.csv', 'U002_val_intention.csv', 'U003_test_intention.csv', 'U003_train_intention.csv', 'U003_val_intention.csv', 'U004_test_intention.csv', 'U004_train_intention.csv', 'U004_val_intention.csv', 'U005_test_intention.csv', 'U005_train_intention.csv', 'U005_val_intention.csv', 'U006_test_intention.csv', 'U006_train_intention.csv', 'U006_val_intention.csv', 'U007_test_intention.csv', 'U007_train_intention.csv', 'U007_val_intention.csv', 'U008_test_intention.csv', 'U008_train_intention.csv', 'U008_val_intention.csv', 'U009_test_intention.csv', 'U009_train_intention.csv', 'U009_val_intention.csv', 'U010_test_intention.csv', 'U010_train_intention.csv', 'U010_val_intention.csv', 'U011_test_intention.csv', 'U011_train_intention.csv', 'U011_val_intention.csv', 'U012_test_intention.csv', 'U012_train_intention.csv', 'U012_val_intention.csv', 'x_in.npy', 'x_in1.npy', 'x_in10.npy', 'x_in11.npy', 'x_in12.npy', 'x_in2.npy', 'x_in3.npy', 'x_in4.npy', 'x_in5.npy', 'x_in6.npy', 'x_in7.npy', 'x_in8.npy', 'x_in9.npy', 'x_in=.npy', 'x_incom.npy', 'X_train.npy', 'X_vel.npy', 'X_vel_ML.npy', 'y_op.npy', 'y_op1.npy', 'y_op10.npy', 'y_op11.npy', 'y_op12.npy', 'y_op2.npy', 'y_op3.npy', 'y_op4.npy', 'y_op5.npy', 'y_op6.npy', 'y_op7.npy', 'y_op8.npy', 'y_op9.npy', 'y_opcom.npy', 'Y_train.npy', 'Y_train_ML.npy', 'Y_vel.npy', 'Y_vel_ML.npy']\n"
     ]
    }
   ],
   "source": [
    "items=os.listdir(cd)\n",
    "print(items)"
   ]
  },
  {
   "cell_type": "code",
   "execution_count": 73,
   "id": "cba961f2-e95e-471f-80e5-089675d78d48",
   "metadata": {},
   "outputs": [
    {
     "name": "stdout",
     "output_type": "stream",
     "text": [
      "   Axel_X_C9  Axel_Y_C9  Axel_Z_C9  Gyro_X_C9  Gyro_Y_C9  Gyro_Z_C9  \\\n",
      "0   9.750894   0.722890  -1.603472  -0.020142  -0.005546  -0.001916   \n",
      "1   9.780541   0.770625  -1.582306  -0.020099  -0.004019  -0.001915   \n",
      "2   9.783242   0.770952  -1.558302  -0.003393  -0.002955  -0.004398   \n",
      "3   9.780466   0.722637  -1.558335   0.005916   0.002901  -0.004920   \n",
      "4   9.761847   0.723996  -1.506638   0.018227   0.007144  -0.005617   \n",
      "\n",
      "   Axel_X_3B  Axel_Y_3B  Axel_Z_3B  Gyro_X_3B  ...  Gyro_X_B6  Gyro_Y_B6  \\\n",
      "0   9.447486   2.061993  -1.775126   0.004558  ...   0.029356   0.030624   \n",
      "1   9.471476   2.059679  -1.824068   0.013721  ...   0.017030   0.025473   \n",
      "2   9.496099   2.061215  -1.799691   0.015219  ...   0.011953   0.012700   \n",
      "3   9.471844   2.037052  -1.797708   0.013685  ...   0.021755   0.019849   \n",
      "4   9.422700   2.060276  -1.822441   0.016735  ...   0.026349   0.023078   \n",
      "\n",
      "   Gyro_Z_B6  Axel_X_BB  Axel_Y_BB  Axel_Z_BB  Gyro_X_BB  Gyro_Y_BB  \\\n",
      "0  -0.010272   9.192227  -3.510405   1.989262  -0.011585   0.014357   \n",
      "1  -0.004736   9.101151  -3.567138   2.020565  -0.017445   0.009315   \n",
      "2  -0.007495   9.103744  -3.593230   1.997928  -0.019756  -0.002769   \n",
      "3  -0.001033   9.176332  -3.587369   1.970654  -0.016250  -0.010077   \n",
      "4  -0.003948   9.227635  -3.606671   1.970341  -0.005611  -0.007626   \n",
      "\n",
      "   Gyro_Z_BB  target  \n",
      "0  -0.006625     0.0  \n",
      "1  -0.009414     0.0  \n",
      "2  -0.002756     0.0  \n",
      "3   0.000582     0.0  \n",
      "4   0.008026     0.0  \n",
      "\n",
      "[5 rows x 31 columns]\n"
     ]
    }
   ],
   "source": [
    "path=os.path.join(cd,\"U007_test_intention.csv\")\n",
    "df1=pd.read_csv(path)\n",
    "print(df1.head(5))"
   ]
  },
  {
   "cell_type": "code",
   "execution_count": 74,
   "id": "0b80ff8e-7fa5-4583-9fcf-0085402c6f5d",
   "metadata": {},
   "outputs": [
    {
     "name": "stdout",
     "output_type": "stream",
     "text": [
      "<class 'pandas.core.frame.DataFrame'>\n",
      "RangeIndex: 12878 entries, 0 to 12877\n",
      "Data columns (total 31 columns):\n",
      " #   Column     Non-Null Count  Dtype  \n",
      "---  ------     --------------  -----  \n",
      " 0   Axel_X_C9  12878 non-null  float64\n",
      " 1   Axel_Y_C9  12878 non-null  float64\n",
      " 2   Axel_Z_C9  12878 non-null  float64\n",
      " 3   Gyro_X_C9  12878 non-null  float64\n",
      " 4   Gyro_Y_C9  12878 non-null  float64\n",
      " 5   Gyro_Z_C9  12878 non-null  float64\n",
      " 6   Axel_X_3B  12878 non-null  float64\n",
      " 7   Axel_Y_3B  12878 non-null  float64\n",
      " 8   Axel_Z_3B  12878 non-null  float64\n",
      " 9   Gyro_X_3B  12878 non-null  float64\n",
      " 10  Gyro_Y_3B  12878 non-null  float64\n",
      " 11  Gyro_Z_3B  12878 non-null  float64\n",
      " 12  Axel_X_B5  12878 non-null  float64\n",
      " 13  Axel_Y_B5  12878 non-null  float64\n",
      " 14  Axel_Z_B5  12878 non-null  float64\n",
      " 15  Gyro_X_B5  12878 non-null  float64\n",
      " 16  Gyro_Y_B5  12878 non-null  float64\n",
      " 17  Gyro_Z_B5  12878 non-null  float64\n",
      " 18  Axel_X_B6  12878 non-null  float64\n",
      " 19  Axel_Y_B6  12878 non-null  float64\n",
      " 20  Axel_Z_B6  12878 non-null  float64\n",
      " 21  Gyro_X_B6  12878 non-null  float64\n",
      " 22  Gyro_Y_B6  12878 non-null  float64\n",
      " 23  Gyro_Z_B6  12878 non-null  float64\n",
      " 24  Axel_X_BB  12878 non-null  float64\n",
      " 25  Axel_Y_BB  12878 non-null  float64\n",
      " 26  Axel_Z_BB  12878 non-null  float64\n",
      " 27  Gyro_X_BB  12878 non-null  float64\n",
      " 28  Gyro_Y_BB  12878 non-null  float64\n",
      " 29  Gyro_Z_BB  12878 non-null  float64\n",
      " 30  target     12878 non-null  float64\n",
      "dtypes: float64(31)\n",
      "memory usage: 3.0 MB\n",
      "None\n"
     ]
    }
   ],
   "source": [
    "print(df1.info())"
   ]
  },
  {
   "cell_type": "code",
   "execution_count": 75,
   "id": "68dfceca-dfe2-41af-85cc-c889da7c6fee",
   "metadata": {},
   "outputs": [
    {
     "name": "stdout",
     "output_type": "stream",
     "text": [
      "   Axel_Y_C9  Gyro_Y_C9  Axel_Y_3B  Gyro_Y_3B  Axel_Y_B5\n",
      "0   0.722890  -0.005546   2.061993   0.002982   4.042634\n",
      "1   0.770625  -0.004019   2.059679   0.001480   4.018448\n",
      "2   0.770952  -0.002955   2.061215   0.009071   4.024536\n",
      "3   0.722637   0.002901   2.037052   0.007461   4.054556\n",
      "4   0.723996   0.007144   2.060276   0.010560   4.058364\n",
      "(12878, 5)\n",
      "[[ 7.228900e-01 -5.546000e-03  2.061993e+00  2.982000e-03  4.042634e+00]\n",
      " [ 7.706250e-01 -4.019000e-03  2.059679e+00  1.480000e-03  4.018448e+00]\n",
      " [ 7.709520e-01 -2.955000e-03  2.061215e+00  9.071000e-03  4.024536e+00]\n",
      " ...\n",
      " [ 4.974810e-01  3.864660e-01  8.809310e-01 -7.221000e-02  3.492950e+00]\n",
      " [ 7.873630e-01  3.755320e-01  1.620793e+00 -8.629900e-02  3.673267e+00]\n",
      " [ 1.216745e+00  3.481030e-01  2.144914e+00 -1.570690e-01  3.717021e+00]]\n"
     ]
    }
   ],
   "source": [
    "Gyro_Y=df1.iloc[:,[1,4,7,10,13]]\n",
    "Dat=Gyro_Y.values\n",
    "print(Gyro_Y.head())\n",
    "print(Dat.shape)\n",
    "print(Dat)"
   ]
  },
  {
   "cell_type": "code",
   "execution_count": 76,
   "id": "7b7305ce-0625-4fe9-af75-c5b70eb36048",
   "metadata": {},
   "outputs": [
    {
     "name": "stdout",
     "output_type": "stream",
     "text": [
      "12878\n",
      "12764\n"
     ]
    }
   ],
   "source": [
    "#windowed output shape [m x o] where m=Sample-(window+output)+1\n",
    "#and windowed input shape will be [mxw].\n",
    "\n",
    "Sample=Gyro_Y.shape[0]\n",
    "print(Sample)\n",
    "window=100\n",
    "output=15\n",
    "m=Sample-(window+output)+1\n",
    "\n",
    "X=np.zeros((m,window))\n",
    "y=np.zeros((m,output))\n",
    "print(m)"
   ]
  },
  {
   "cell_type": "code",
   "execution_count": 77,
   "id": "27d7c876-1ffd-41f8-a23d-618c351d8552",
   "metadata": {},
   "outputs": [
    {
     "name": "stdout",
     "output_type": "stream",
     "text": [
      "x_in:\n",
      "(12764, 100, 5)\n",
      "(12764, 15, 5)\n"
     ]
    }
   ],
   "source": [
    "import numpy as np\n",
    "\n",
    "\n",
    "\n",
    "#taking window input as 100 and window ouput as 15 for sample=m  \n",
    "x_in = np.zeros((m,100,5))\n",
    "y_op = np.zeros((m,15,5))\n",
    "\n",
    "\n",
    "for i in range(m):\n",
    "    # Store the first 100 rows\n",
    "   # print(\"x_in[i:,:,].shape\",x_in[i,:,:].shape,\"y_op[i:,:,].shape\",y_op[i,:,:].shape,\"Dat[i:i+100,:].shape\",Dat[i:i+100,:].shape,\"Dat[i+100:i+115,:].shape\",Dat[i+100:i+115,:].shape)\n",
    "    x_in[i,:,:] =Dat[i:i+100,:]\n",
    "    y_op[i,:,:]=Dat[i+100:i+115,:]\n",
    "     \n",
    "    \n",
    " \n",
    "    \n",
    "\n",
    "    # Print the stored arrays\n",
    "print(\"x_in:\")\n",
    "print(x_in.shape)\n",
    "print(y_op.shape)\n",
    "   \n",
    "\n",
    "    \n",
    "\n",
    " \n",
    "\n",
    "\n"
   ]
  },
  {
   "cell_type": "code",
   "execution_count": 78,
   "id": "353683b7-94b2-44e9-9d03-bd4e1eded126",
   "metadata": {},
   "outputs": [],
   "source": [
    "\n",
    "\n",
    "# Save arrays to a file\n",
    "np.save('x_in7.npy',x_in)\n",
    "np.save('y_op7.npy',y_op)\n"
   ]
  },
  {
   "cell_type": "code",
   "execution_count": null,
   "id": "5d45e9ba-d9d8-4634-a50c-efb6afc535ba",
   "metadata": {},
   "outputs": [],
   "source": []
  }
 ],
 "metadata": {
  "kernelspec": {
   "display_name": "Python 3 (ipykernel)",
   "language": "python",
   "name": "python3"
  },
  "language_info": {
   "codemirror_mode": {
    "name": "ipython",
    "version": 3
   },
   "file_extension": ".py",
   "mimetype": "text/x-python",
   "name": "python",
   "nbconvert_exporter": "python",
   "pygments_lexer": "ipython3",
   "version": "3.10.9"
  }
 },
 "nbformat": 4,
 "nbformat_minor": 5
}

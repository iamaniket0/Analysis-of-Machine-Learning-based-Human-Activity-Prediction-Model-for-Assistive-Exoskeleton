{
 "cells": [
  {
   "cell_type": "code",
   "execution_count": 12,
   "id": "d161ad03-4ecf-44b7-bd9d-30ec8372bedb",
   "metadata": {},
   "outputs": [],
   "source": [
    "import os\n",
    "import pandas as pd\n",
    "import numpy as np\n",
    "import matplotlib.pyplot as plt"
   ]
  },
  {
   "cell_type": "code",
   "execution_count": 13,
   "id": "c96abcd3-582d-4256-b338-5de41601b2e4",
   "metadata": {},
   "outputs": [
    {
     "name": "stdout",
     "output_type": "stream",
     "text": [
      "C:\\Users\\Aniket\\Desktop\\INTENTION\n"
     ]
    }
   ],
   "source": [
    "cd=os.getcwd()\n",
    "print(cd)\n"
   ]
  },
  {
   "cell_type": "code",
   "execution_count": 14,
   "id": "f5d29c3e-8fd3-4150-bb9b-49ecfc6f7401",
   "metadata": {},
   "outputs": [],
   "source": [
    "os.chdir(r\"C:\\Users\\Aniket\\Desktop\\INTENTION\")"
   ]
  },
  {
   "cell_type": "code",
   "execution_count": 15,
   "id": "312ea5ad-4010-472e-bbfb-a3951304b341",
   "metadata": {},
   "outputs": [
    {
     "name": "stdout",
     "output_type": "stream",
     "text": [
      "C:\\Users\\Aniket\\Desktop\\INTENTION\n"
     ]
    }
   ],
   "source": [
    "cd=os.getcwd()\n",
    "print(cd)"
   ]
  },
  {
   "cell_type": "code",
   "execution_count": 16,
   "id": "da2a0c6b-6c29-40a1-895f-353ad04e8f4b",
   "metadata": {},
   "outputs": [
    {
     "name": "stdout",
     "output_type": "stream",
     "text": [
      "['arrays.npz', 'U001_test_intention.csv', 'U001_train_intention.csv', 'U001_val_intention.csv', 'U002_test_intention.csv', 'U002_train_intention.csv', 'U002_val_intention.csv', 'U003_test_intention.csv', 'U003_train_intention.csv', 'U003_val_intention.csv', 'U004_test_intention.csv', 'U004_train_intention.csv', 'U004_val_intention.csv', 'U005_test_intention.csv', 'U005_train_intention.csv', 'U005_val_intention.csv', 'U006_test_intention.csv', 'U006_train_intention.csv', 'U006_val_intention.csv', 'U007_test_intention.csv', 'U007_train_intention.csv', 'U007_val_intention.csv', 'U008_test_intention.csv', 'U008_train_intention.csv', 'U008_val_intention.csv', 'U009_test_intention.csv', 'U009_train_intention.csv', 'U009_val_intention.csv', 'U010_test_intention.csv', 'U010_train_intention.csv', 'U010_val_intention.csv', 'U011_test_intention.csv', 'U011_train_intention.csv', 'U011_val_intention.csv', 'U012_test_intention.csv', 'U012_train_intention.csv', 'U012_val_intention.csv', 'x_in.npy', 'x_in2.npy', 'x_in3.npy', 'x_in=.npy', 'y_op.npy', 'y_op2.npy', 'y_op3.npy']\n"
     ]
    }
   ],
   "source": [
    "items=os.listdir(cd)\n",
    "print(items)"
   ]
  },
  {
   "cell_type": "code",
   "execution_count": 19,
   "id": "cba961f2-e95e-471f-80e5-089675d78d48",
   "metadata": {},
   "outputs": [
    {
     "name": "stdout",
     "output_type": "stream",
     "text": [
      "   Axel_X_C9  Axel_Y_C9  Axel_Z_C9  Gyro_X_C9  Gyro_Y_C9  Gyro_Z_C9  \\\n",
      "0   9.791250   0.798973  -1.337485  -0.023598  -0.004568   0.007017   \n",
      "1   9.784659   0.813663  -1.424187  -0.026498  -0.003917   0.006322   \n",
      "2   9.762796   0.731088  -1.346973  -0.030940   0.000237   0.008527   \n",
      "3   9.799435   0.758331  -1.275485  -0.022973  -0.001493   0.007227   \n",
      "4   9.809200   0.780540  -1.270422  -0.026014   0.015338   0.001974   \n",
      "\n",
      "   Axel_X_3B  Axel_Y_3B  Axel_Z_3B  Gyro_X_3B  ...  Gyro_X_B6  Gyro_Y_B6  \\\n",
      "0   9.675742   0.821515  -1.699097  -0.032157  ...  -0.023063  -0.051914   \n",
      "1   9.639933   0.812948  -1.736731  -0.033341  ...  -0.042731  -0.040384   \n",
      "2   9.625605   0.809624  -1.822501  -0.039761  ...   0.037677  -0.015709   \n",
      "3   9.656044   0.788008  -1.796520  -0.045149  ...   0.005901  -0.017162   \n",
      "4   9.686355   0.766080  -1.771218  -0.034042  ...  -0.123810  -0.107134   \n",
      "\n",
      "   Gyro_Z_B6  Axel_X_BB  Axel_Y_BB  Axel_Z_BB  Gyro_X_BB  Gyro_Y_BB  \\\n",
      "0  -0.062856   8.921052  -3.952897   2.487861  -0.060783   0.020761   \n",
      "1  -0.046227   8.906789  -4.021364   2.500363  -0.054237  -0.002758   \n",
      "2  -0.024365   8.967628  -4.079386   2.528919   0.021349   0.002204   \n",
      "3  -0.038904   8.909626  -4.013654   2.502642   0.099899  -0.010172   \n",
      "4  -0.045900   9.061548  -3.977054   2.475476   0.219301  -0.020994   \n",
      "\n",
      "   Gyro_Z_BB  target  \n",
      "0  -0.092454     0.0  \n",
      "1  -0.063107     0.0  \n",
      "2  -0.014980     0.0  \n",
      "3   0.029834     0.0  \n",
      "4   0.066037     0.0  \n",
      "\n",
      "[5 rows x 31 columns]\n"
     ]
    }
   ],
   "source": [
    "path=os.path.join(cd,\"U004_train_intention.csv\")\n",
    "df1=pd.read_csv(path)\n",
    "print(df1.head(5))"
   ]
  },
  {
   "cell_type": "code",
   "execution_count": 20,
   "id": "0b80ff8e-7fa5-4583-9fcf-0085402c6f5d",
   "metadata": {},
   "outputs": [
    {
     "name": "stdout",
     "output_type": "stream",
     "text": [
      "<class 'pandas.core.frame.DataFrame'>\n",
      "RangeIndex: 95724 entries, 0 to 95723\n",
      "Data columns (total 31 columns):\n",
      " #   Column     Non-Null Count  Dtype  \n",
      "---  ------     --------------  -----  \n",
      " 0   Axel_X_C9  95724 non-null  float64\n",
      " 1   Axel_Y_C9  95724 non-null  float64\n",
      " 2   Axel_Z_C9  95724 non-null  float64\n",
      " 3   Gyro_X_C9  95724 non-null  float64\n",
      " 4   Gyro_Y_C9  95724 non-null  float64\n",
      " 5   Gyro_Z_C9  95724 non-null  float64\n",
      " 6   Axel_X_3B  95724 non-null  float64\n",
      " 7   Axel_Y_3B  95724 non-null  float64\n",
      " 8   Axel_Z_3B  95724 non-null  float64\n",
      " 9   Gyro_X_3B  95724 non-null  float64\n",
      " 10  Gyro_Y_3B  95724 non-null  float64\n",
      " 11  Gyro_Z_3B  95724 non-null  float64\n",
      " 12  Axel_X_B5  95724 non-null  float64\n",
      " 13  Axel_Y_B5  95724 non-null  float64\n",
      " 14  Axel_Z_B5  95724 non-null  float64\n",
      " 15  Gyro_X_B5  95724 non-null  float64\n",
      " 16  Gyro_Y_B5  95724 non-null  float64\n",
      " 17  Gyro_Z_B5  95724 non-null  float64\n",
      " 18  Axel_X_B6  95724 non-null  float64\n",
      " 19  Axel_Y_B6  95724 non-null  float64\n",
      " 20  Axel_Z_B6  95724 non-null  float64\n",
      " 21  Gyro_X_B6  95724 non-null  float64\n",
      " 22  Gyro_Y_B6  95724 non-null  float64\n",
      " 23  Gyro_Z_B6  95724 non-null  float64\n",
      " 24  Axel_X_BB  95724 non-null  float64\n",
      " 25  Axel_Y_BB  95724 non-null  float64\n",
      " 26  Axel_Z_BB  95724 non-null  float64\n",
      " 27  Gyro_X_BB  95724 non-null  float64\n",
      " 28  Gyro_Y_BB  95724 non-null  float64\n",
      " 29  Gyro_Z_BB  95724 non-null  float64\n",
      " 30  target     95724 non-null  float64\n",
      "dtypes: float64(31)\n",
      "memory usage: 22.6 MB\n",
      "None\n"
     ]
    }
   ],
   "source": [
    "print(df1.info())"
   ]
  },
  {
   "cell_type": "code",
   "execution_count": 21,
   "id": "68dfceca-dfe2-41af-85cc-c889da7c6fee",
   "metadata": {},
   "outputs": [
    {
     "name": "stdout",
     "output_type": "stream",
     "text": [
      "   Axel_Y_C9  Gyro_Y_C9  Axel_Y_3B  Gyro_Y_3B  Axel_Y_B5\n",
      "0   0.798973  -0.004568   0.821515   0.022101  -2.849386\n",
      "1   0.813663  -0.003917   0.812948   0.021002  -2.915650\n",
      "2   0.731088   0.000237   0.809624   0.018468  -3.117260\n",
      "3   0.758331  -0.001493   0.788008   0.014510  -3.282451\n",
      "4   0.780540   0.015338   0.766080   0.014017  -3.385240\n",
      "(95724, 5)\n",
      "[[ 7.989730e-01 -4.568000e-03  8.215150e-01  2.210100e-02 -2.849386e+00]\n",
      " [ 8.136630e-01 -3.917000e-03  8.129480e-01  2.100200e-02 -2.915650e+00]\n",
      " [ 7.310880e-01  2.370000e-04  8.096240e-01  1.846800e-02 -3.117260e+00]\n",
      " ...\n",
      " [ 1.200743e+00  2.959400e-02  1.211352e+00  1.941500e-02 -3.649502e+00]\n",
      " [ 1.187101e+00  3.535000e-02  1.238283e+00  1.797400e-02 -3.654023e+00]\n",
      " [ 1.194608e+00  2.767000e-02  1.222463e+00  2.109300e-02 -3.650844e+00]]\n"
     ]
    }
   ],
   "source": [
    "Gyro_Y=df1.iloc[:,[1,4,7,10,13]]\n",
    "Dat=Gyro_Y.values\n",
    "print(Gyro_Y.head())\n",
    "print(Dat.shape)\n",
    "print(Dat)"
   ]
  },
  {
   "cell_type": "code",
   "execution_count": 22,
   "id": "7b7305ce-0625-4fe9-af75-c5b70eb36048",
   "metadata": {},
   "outputs": [
    {
     "name": "stdout",
     "output_type": "stream",
     "text": [
      "95724\n",
      "95610\n"
     ]
    }
   ],
   "source": [
    "#windowed output shape [m x o] where m=Sample-(window+output)+1\n",
    "#and windowed input shape will be [mxw].\n",
    "\n",
    "Sample=Gyro_Y.shape[0]\n",
    "print(Sample)\n",
    "window=100\n",
    "output=15\n",
    "m=Sample-(window+output)+1\n",
    "\n",
    "X=np.zeros((m,window))\n",
    "y=np.zeros((m,output))\n",
    "print(m)"
   ]
  },
  {
   "cell_type": "code",
   "execution_count": 23,
   "id": "27d7c876-1ffd-41f8-a23d-618c351d8552",
   "metadata": {},
   "outputs": [
    {
     "name": "stdout",
     "output_type": "stream",
     "text": [
      "x_in:\n",
      "(95610, 100, 5)\n",
      "(95610, 15, 5)\n"
     ]
    }
   ],
   "source": [
    "import numpy as np\n",
    "\n",
    "\n",
    "\n",
    "#taking window input as 100 and window ouput as 15 for sample=m  \n",
    "x_in = np.zeros((m,100,5))\n",
    "y_op = np.zeros((m,15,5))\n",
    "\n",
    "\n",
    "for i in range(m):\n",
    "    # Store the first 100 rows\n",
    "   # print(\"x_in[i:,:,].shape\",x_in[i,:,:].shape,\"y_op[i:,:,].shape\",y_op[i,:,:].shape,\"Dat[i:i+100,:].shape\",Dat[i:i+100,:].shape,\"Dat[i+100:i+115,:].shape\",Dat[i+100:i+115,:].shape)\n",
    "    x_in[i,:,:] =Dat[i:i+100,:]\n",
    "    y_op[i,:,:]=Dat[i+100:i+115,:]\n",
    "     \n",
    "    \n",
    " \n",
    "    \n",
    "\n",
    "    # Print the stored arrays\n",
    "print(\"x_in:\")\n",
    "print(x_in.shape)\n",
    "print(y_op.shape)\n",
    "   \n",
    "\n",
    "    \n",
    "\n",
    " \n",
    "\n",
    "\n"
   ]
  },
  {
   "cell_type": "code",
   "execution_count": 24,
   "id": "353683b7-94b2-44e9-9d03-bd4e1eded126",
   "metadata": {},
   "outputs": [],
   "source": [
    "\n",
    "\n",
    "# Save arrays to a file\n",
    "np.save('x_in4.npy',x_in)\n",
    "np.save('y_op4.npy',y_op)\n"
   ]
  },
  {
   "cell_type": "code",
   "execution_count": null,
   "id": "09682368-d9f6-4537-9e8a-e64e06e4a4d4",
   "metadata": {},
   "outputs": [],
   "source": []
  }
 ],
 "metadata": {
  "kernelspec": {
   "display_name": "Python 3 (ipykernel)",
   "language": "python",
   "name": "python3"
  },
  "language_info": {
   "codemirror_mode": {
    "name": "ipython",
    "version": 3
   },
   "file_extension": ".py",
   "mimetype": "text/x-python",
   "name": "python",
   "nbconvert_exporter": "python",
   "pygments_lexer": "ipython3",
   "version": "3.10.9"
  }
 },
 "nbformat": 4,
 "nbformat_minor": 5
}

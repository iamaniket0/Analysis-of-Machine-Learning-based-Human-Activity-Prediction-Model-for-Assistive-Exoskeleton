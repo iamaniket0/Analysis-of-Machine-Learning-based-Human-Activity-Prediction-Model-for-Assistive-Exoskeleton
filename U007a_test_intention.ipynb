{
 "cells": [
  {
   "cell_type": "code",
   "execution_count": 49,
   "id": "d161ad03-4ecf-44b7-bd9d-30ec8372bedb",
   "metadata": {},
   "outputs": [],
   "source": [
    "import os\n",
    "import pandas as pd\n",
    "import numpy as np\n",
    "import matplotlib.pyplot as plt"
   ]
  },
  {
   "cell_type": "code",
   "execution_count": 50,
   "id": "c96abcd3-582d-4256-b338-5de41601b2e4",
   "metadata": {},
   "outputs": [
    {
     "name": "stdout",
     "output_type": "stream",
     "text": [
      "C:\\Users\\Aniket\\Desktop\\INTENTION\n"
     ]
    }
   ],
   "source": [
    "cd=os.getcwd()\n",
    "print(cd)\n"
   ]
  },
  {
   "cell_type": "code",
   "execution_count": 51,
   "id": "f5d29c3e-8fd3-4150-bb9b-49ecfc6f7401",
   "metadata": {},
   "outputs": [],
   "source": [
    "os.chdir(r\"C:\\Users\\Aniket\\Desktop\\INTENTION\")"
   ]
  },
  {
   "cell_type": "code",
   "execution_count": 52,
   "id": "312ea5ad-4010-472e-bbfb-a3951304b341",
   "metadata": {},
   "outputs": [
    {
     "name": "stdout",
     "output_type": "stream",
     "text": [
      "C:\\Users\\Aniket\\Desktop\\INTENTION\n"
     ]
    }
   ],
   "source": [
    "cd=os.getcwd()\n",
    "print(cd)"
   ]
  },
  {
   "cell_type": "code",
   "execution_count": 53,
   "id": "da2a0c6b-6c29-40a1-895f-353ad04e8f4b",
   "metadata": {},
   "outputs": [
    {
     "name": "stdout",
     "output_type": "stream",
     "text": [
      "['arrays.npz', 'U001_test_intention.csv', 'U001_train_intention.csv', 'U001_val_intention.csv', 'U002_test_intention.csv', 'U002_train_intention.csv', 'U002_val_intention.csv', 'U003_test_intention.csv', 'U003_train_intention.csv', 'U003_val_intention.csv', 'U004_test_intention.csv', 'U004_train_intention.csv', 'U004_val_intention.csv', 'U005_test_intention.csv', 'U005_train_intention.csv', 'U005_val_intention.csv', 'U006_test_intention.csv', 'U006_train_intention.csv', 'U006_val_intention.csv', 'U007_test_intention.csv', 'U007_train_intention.csv', 'U007_val_intention.csv', 'U008_test_intention.csv', 'U008_train_intention.csv', 'U008_val_intention.csv', 'U009_test_intention.csv', 'U009_train_intention.csv', 'U009_val_intention.csv', 'U010_test_intention.csv', 'U010_train_intention.csv', 'U010_val_intention.csv', 'U011_test_intention.csv', 'U011_train_intention.csv', 'U011_val_intention.csv', 'U012_test_intention.csv', 'U012_train_intention.csv', 'U012_val_intention.csv', 'x_in.npy', 'x_in2.npy', 'x_in3.npy', 'x_in4.npy', 'x_in5.npy', 'x_in6.npy', 'x_in=.npy', 'y_op.npy', 'y_op2.npy', 'y_op3.npy', 'y_op4.npy', 'y_op5.npy', 'y_op6.npy']\n"
     ]
    }
   ],
   "source": [
    "items=os.listdir(cd)\n",
    "print(items)"
   ]
  },
  {
   "cell_type": "code",
   "execution_count": 54,
   "id": "cba961f2-e95e-471f-80e5-089675d78d48",
   "metadata": {},
   "outputs": [
    {
     "name": "stdout",
     "output_type": "stream",
     "text": [
      "   Axel_X_C9  Axel_Y_C9  Axel_Z_C9  Gyro_X_C9  Gyro_Y_C9  Gyro_Z_C9  \\\n",
      "0   9.144607   1.573848  -3.009947   0.122414  -0.062383   0.023278   \n",
      "1   9.034986   1.596146  -3.159209   0.130057  -0.079714   0.008962   \n",
      "2   8.988805   1.631141  -3.331753   0.122257  -0.101628   0.003151   \n",
      "3   9.027456   1.771458  -3.412068   0.134703  -0.124289   0.002869   \n",
      "4   9.207486   1.783120  -3.309806   0.169579  -0.122371   0.010609   \n",
      "\n",
      "   Axel_X_3B  Axel_Y_3B  Axel_Z_3B  Gyro_X_3B  ...  Gyro_X_B6  Gyro_Y_B6  \\\n",
      "0   8.770732   1.658186   1.144755   0.508820  ...  -0.309304  -0.362423   \n",
      "1   8.640261   1.873423   1.825183   0.566543  ...  -0.272339  -0.315952   \n",
      "2   8.685490   1.936615   1.598322   0.610241  ...  -0.234928  -0.285511   \n",
      "3   8.907596   2.081706   1.000659   0.595501  ...  -0.201415  -0.273113   \n",
      "4   8.932914   2.071789   0.987541   0.481836  ...  -0.183620  -0.280058   \n",
      "\n",
      "   Gyro_Z_B6  Axel_X_BB  Axel_Y_BB  Axel_Z_BB  Gyro_X_BB  Gyro_Y_BB  \\\n",
      "0  -0.190853   8.594905  -3.904066   2.342397  -0.359600   0.191135   \n",
      "1  -0.193375   8.681059  -3.994279   2.264568  -0.328134   0.164468   \n",
      "2  -0.191309   8.773238  -3.977451   2.308067  -0.294557   0.149739   \n",
      "3  -0.184180   8.882525  -3.942075   2.362909  -0.290493   0.145904   \n",
      "4  -0.173907   8.914718  -3.947895   2.429664  -0.294206   0.155569   \n",
      "\n",
      "   Gyro_Z_BB  target  \n",
      "0   0.071520     1.0  \n",
      "1   0.048312     1.0  \n",
      "2   0.016815     1.0  \n",
      "3  -0.023610     1.0  \n",
      "4  -0.076207     1.0  \n",
      "\n",
      "[5 rows x 31 columns]\n"
     ]
    }
   ],
   "source": [
    "path=os.path.join(cd,\"U007_train_intention.csv\")\n",
    "df1=pd.read_csv(path)\n",
    "print(df1.head(5))"
   ]
  },
  {
   "cell_type": "code",
   "execution_count": 55,
   "id": "0b80ff8e-7fa5-4583-9fcf-0085402c6f5d",
   "metadata": {},
   "outputs": [
    {
     "name": "stdout",
     "output_type": "stream",
     "text": [
      "<class 'pandas.core.frame.DataFrame'>\n",
      "RangeIndex: 99208 entries, 0 to 99207\n",
      "Data columns (total 31 columns):\n",
      " #   Column     Non-Null Count  Dtype  \n",
      "---  ------     --------------  -----  \n",
      " 0   Axel_X_C9  99208 non-null  float64\n",
      " 1   Axel_Y_C9  99208 non-null  float64\n",
      " 2   Axel_Z_C9  99208 non-null  float64\n",
      " 3   Gyro_X_C9  99208 non-null  float64\n",
      " 4   Gyro_Y_C9  99208 non-null  float64\n",
      " 5   Gyro_Z_C9  99208 non-null  float64\n",
      " 6   Axel_X_3B  99208 non-null  float64\n",
      " 7   Axel_Y_3B  99208 non-null  float64\n",
      " 8   Axel_Z_3B  99208 non-null  float64\n",
      " 9   Gyro_X_3B  99208 non-null  float64\n",
      " 10  Gyro_Y_3B  99208 non-null  float64\n",
      " 11  Gyro_Z_3B  99208 non-null  float64\n",
      " 12  Axel_X_B5  99208 non-null  float64\n",
      " 13  Axel_Y_B5  99208 non-null  float64\n",
      " 14  Axel_Z_B5  99208 non-null  float64\n",
      " 15  Gyro_X_B5  99208 non-null  float64\n",
      " 16  Gyro_Y_B5  99208 non-null  float64\n",
      " 17  Gyro_Z_B5  99208 non-null  float64\n",
      " 18  Axel_X_B6  99208 non-null  float64\n",
      " 19  Axel_Y_B6  99208 non-null  float64\n",
      " 20  Axel_Z_B6  99208 non-null  float64\n",
      " 21  Gyro_X_B6  99208 non-null  float64\n",
      " 22  Gyro_Y_B6  99208 non-null  float64\n",
      " 23  Gyro_Z_B6  99208 non-null  float64\n",
      " 24  Axel_X_BB  99208 non-null  float64\n",
      " 25  Axel_Y_BB  99208 non-null  float64\n",
      " 26  Axel_Z_BB  99208 non-null  float64\n",
      " 27  Gyro_X_BB  99208 non-null  float64\n",
      " 28  Gyro_Y_BB  99208 non-null  float64\n",
      " 29  Gyro_Z_BB  99208 non-null  float64\n",
      " 30  target     99208 non-null  float64\n",
      "dtypes: float64(31)\n",
      "memory usage: 23.5 MB\n",
      "None\n"
     ]
    }
   ],
   "source": [
    "print(df1.info())"
   ]
  },
  {
   "cell_type": "code",
   "execution_count": 56,
   "id": "68dfceca-dfe2-41af-85cc-c889da7c6fee",
   "metadata": {},
   "outputs": [
    {
     "name": "stdout",
     "output_type": "stream",
     "text": [
      "   Axel_Y_C9  Gyro_Y_C9  Axel_Y_3B  Gyro_Y_3B  Axel_Y_B5\n",
      "0   1.573848  -0.062383   1.658186   1.292294   4.170509\n",
      "1   1.596146  -0.079714   1.873423   1.132269   4.185423\n",
      "2   1.631141  -0.101628   1.936615   0.955642   4.186178\n",
      "3   1.771458  -0.124289   2.081706   0.861179   4.205724\n",
      "4   1.783120  -0.122371   2.071789   0.784591   4.235793\n",
      "(99208, 5)\n",
      "[[ 1.573848 -0.062383  1.658186  1.292294  4.170509]\n",
      " [ 1.596146 -0.079714  1.873423  1.132269  4.185423]\n",
      " [ 1.631141 -0.101628  1.936615  0.955642  4.186178]\n",
      " ...\n",
      " [-0.46831   0.006282  3.207399  0.007287  4.098692]\n",
      " [-0.468483  0.008728  3.217592  0.010385  4.100524]\n",
      " [-0.497344  0.007426  3.227733  0.008836  4.106719]]\n"
     ]
    }
   ],
   "source": [
    "Gyro_Y=df1.iloc[:,[1,4,7,10,13]]\n",
    "Dat=Gyro_Y.values\n",
    "print(Gyro_Y.head())\n",
    "print(Dat.shape)\n",
    "print(Dat)"
   ]
  },
  {
   "cell_type": "code",
   "execution_count": 57,
   "id": "7b7305ce-0625-4fe9-af75-c5b70eb36048",
   "metadata": {},
   "outputs": [
    {
     "name": "stdout",
     "output_type": "stream",
     "text": [
      "99208\n",
      "99094\n"
     ]
    }
   ],
   "source": [
    "#windowed output shape [m x o] where m=Sample-(window+output)+1\n",
    "#and windowed input shape will be [mxw].\n",
    "\n",
    "Sample=Gyro_Y.shape[0]\n",
    "print(Sample)\n",
    "window=100\n",
    "output=15\n",
    "m=Sample-(window+output)+1\n",
    "\n",
    "X=np.zeros((m,window))\n",
    "y=np.zeros((m,output))\n",
    "print(m)"
   ]
  },
  {
   "cell_type": "code",
   "execution_count": 58,
   "id": "27d7c876-1ffd-41f8-a23d-618c351d8552",
   "metadata": {},
   "outputs": [
    {
     "name": "stdout",
     "output_type": "stream",
     "text": [
      "x_in:\n",
      "(99094, 100, 5)\n",
      "(99094, 15, 5)\n"
     ]
    }
   ],
   "source": [
    "import numpy as np\n",
    "\n",
    "\n",
    "\n",
    "#taking window input as 100 and window ouput as 15 for sample=m  \n",
    "x_in = np.zeros((m,100,5))\n",
    "y_op = np.zeros((m,15,5))\n",
    "\n",
    "\n",
    "for i in range(m):\n",
    "    # Store the first 100 rows\n",
    "   # print(\"x_in[i:,:,].shape\",x_in[i,:,:].shape,\"y_op[i:,:,].shape\",y_op[i,:,:].shape,\"Dat[i:i+100,:].shape\",Dat[i:i+100,:].shape,\"Dat[i+100:i+115,:].shape\",Dat[i+100:i+115,:].shape)\n",
    "    x_in[i,:,:] =Dat[i:i+100,:]\n",
    "    y_op[i,:,:]=Dat[i+100:i+115,:]\n",
    "     \n",
    "    \n",
    " \n",
    "    \n",
    "\n",
    "    # Print the stored arrays\n",
    "print(\"x_in:\")\n",
    "print(x_in.shape)\n",
    "print(y_op.shape)\n",
    "   \n",
    "\n",
    "    \n",
    "\n",
    " \n",
    "\n",
    "\n"
   ]
  },
  {
   "cell_type": "code",
   "execution_count": 59,
   "id": "353683b7-94b2-44e9-9d03-bd4e1eded126",
   "metadata": {},
   "outputs": [],
   "source": [
    "\n",
    "\n",
    "# Save arrays to a file\n",
    "np.save('x_in7.npy',x_in)\n",
    "np.save('y_op7.npy',y_op)\n"
   ]
  },
  {
   "cell_type": "code",
   "execution_count": null,
   "id": "5d45e9ba-d9d8-4634-a50c-efb6afc535ba",
   "metadata": {},
   "outputs": [],
   "source": []
  }
 ],
 "metadata": {
  "kernelspec": {
   "display_name": "Python 3 (ipykernel)",
   "language": "python",
   "name": "python3"
  },
  "language_info": {
   "codemirror_mode": {
    "name": "ipython",
    "version": 3
   },
   "file_extension": ".py",
   "mimetype": "text/x-python",
   "name": "python",
   "nbconvert_exporter": "python",
   "pygments_lexer": "ipython3",
   "version": "3.10.9"
  }
 },
 "nbformat": 4,
 "nbformat_minor": 5
}

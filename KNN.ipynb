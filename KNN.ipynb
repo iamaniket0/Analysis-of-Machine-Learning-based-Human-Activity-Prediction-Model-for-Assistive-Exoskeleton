{
 "cells": [
  {
   "cell_type": "code",
   "execution_count": 1,
   "id": "b6ec8470-5fa7-421c-9a20-e7e35f06d96b",
   "metadata": {},
   "outputs": [],
   "source": [
    "import os\n",
    "import pandas as pd\n",
    "import numpy as np\n",
    "import matplotlib.pyplot as plt\n",
    "os.chdir(r\"C:\\Users\\Aniket\\Desktop\\INTENTION\")\n",
    "x_train=np.load('X_train_ML.npy')\n",
    "y_train=np.load('Y_train_ML.npy')\n",
    "x_vel=np.load(\"X_vel_ML.npy\")\n",
    "y_vel=np.load(\"Y_vel_ML.npy\")\n",
    "min_m=np.load(\"min_m_ML.npy\")\n",
    "max_m=np.load(\"max_m_ML.npy\")"
   ]
  },
  {
   "cell_type": "code",
   "execution_count": 2,
   "id": "97ec2e44-a745-4430-9cec-a3fc03a832ab",
   "metadata": {},
   "outputs": [
    {
     "name": "stdout",
     "output_type": "stream",
     "text": [
      "input shape: (129040, 500)\n",
      "output shape: (129040, 75)\n",
      "x_vel.shape (32261, 100, 5)\n",
      "y_vel.shape (32261, 15, 5)\n",
      "min_m.shape (1, 1, 5)\n",
      "max_m.shape (1, 1, 5)\n",
      "x_vel.shape (32261, 100, 5)\n",
      "x_val_reshaped.shspe: (32261, 500)\n",
      "y_val_reshaped.shspe: (32261, 75)\n"
     ]
    }
   ],
   "source": [
    "shape=x_train.shape\n",
    "print(\"input shape:\",shape)\n",
    "Shapey=y_train.shape\n",
    "print(\"output shape:\",y_train.shape)\n",
    "print(\"x_vel.shape\",x_vel.shape)\n",
    "print(\"y_vel.shape\",y_vel.shape)\n",
    "print(\"min_m.shape\",min_m.shape)\n",
    "print(\"max_m.shape\",max_m.shape)\n",
    "print(\"x_vel.shape\",x_vel.shape)\n",
    "x_val_reshaped = x_vel.reshape(-1, 500)\n",
    "print(\"x_val_reshaped.shspe:\",x_val_reshaped.shape)\n",
    "y_val_reshaped=y_vel.reshape(-1,75)\n",
    "print(\"y_val_reshaped.shspe:\",y_val_reshaped.shape)"
   ]
  },
  {
   "cell_type": "code",
   "execution_count": 3,
   "id": "944291a0-cf81-447c-b76c-14e969396fdc",
   "metadata": {},
   "outputs": [
    {
     "name": "stdout",
     "output_type": "stream",
     "text": [
      "Mean Squared Error: 0.7911697573411741\n"
     ]
    }
   ],
   "source": [
    "import numpy as np\n",
    "from sklearn.neighbors import KNeighborsRegressor\n",
    "from sklearn.model_selection import train_test_split\n",
    "from sklearn.preprocessing import StandardScaler\n",
    "from sklearn.metrics import mean_squared_error\n",
    "\n",
    "scaler = StandardScaler()\n",
    "X_train_scaled = scaler.fit_transform(x_train)\n",
    "\n",
    "\n",
    "X_train_split, X_test_split, y_train_split, y_test_split = train_test_split(X_train_scaled, y_train, test_size=0.2, random_state=42)\n",
    "\n",
    "k_neighbors = 5\n",
    "knn_regressor = KNeighborsRegressor(n_neighbors=k_neighbors)\n",
    "knn_regressor.fit(X_train_split, y_train_split)\n",
    "\n",
    "\n",
    "y_pred = knn_regressor.predict(X_test_split)\n",
    "mse = mean_squared_error(y_test_split, y_pred)\n",
    "print(\"Mean Squared Error:\", mse)\n"
   ]
  },
  {
   "cell_type": "code",
   "execution_count": 17,
   "id": "267a1da2-a9c3-4d66-84b3-3e23c17495d5",
   "metadata": {},
   "outputs": [
    {
     "name": "stdout",
     "output_type": "stream",
     "text": [
      "Mean Squared Error: 0.7911697573411741\n",
      "Mean Absolute Error: 0.4055531490620996\n",
      "R-squared: 0.8501075525664487\n"
     ]
    }
   ],
   "source": [
    "import numpy as np\n",
    "from sklearn.neighbors import KNeighborsRegressor\n",
    "from sklearn.model_selection import train_test_split\n",
    "from sklearn.preprocessing import StandardScaler\n",
    "from sklearn.metrics import mean_squared_error, mean_absolute_error, r2_score\n",
    "scaler = StandardScaler()\n",
    "X_train_scaled = scaler.fit_transform(x_train)\n",
    "X_train_split, X_test_split, y_train_split, y_test_split = train_test_split(X_train_scaled, y_train, test_size=0.2, random_state=42)\n",
    "k_neighbors = 5\n",
    "knn_regressor = KNeighborsRegressor(n_neighbors=k_neighbors)\n",
    "knn_regressor.fit(X_train_split, y_train_split)\n",
    "y_pred = knn_regressor.predict(X_test_split)\n",
    "mse = mean_squared_error(y_test_split, y_pred)\n",
    "mae = mean_absolute_error(y_test_split, y_pred)\n",
    "r2 = r2_score(y_test_split, y_pred)\n",
    "print(\"Mean Squared Error:\", mse)\n",
    "print(\"Mean Absolute Error:\", mae)\n",
    "print(\"R-squared:\", r2)\n"
   ]
  },
  {
   "cell_type": "code",
   "execution_count": 5,
   "id": "1f53f0d3-0bc8-46a9-94e5-938417d7da90",
   "metadata": {},
   "outputs": [
    {
     "name": "stdout",
     "output_type": "stream",
     "text": [
      "Train Mean Squared Error: 0.4644591454895479\n",
      "Train Mean Absolute Error: 0.2988845656674678\n",
      "Train R-squared: 0.9127889277866427\n"
     ]
    }
   ],
   "source": [
    "import numpy as np\n",
    "from sklearn.neighbors import KNeighborsRegressor\n",
    "from sklearn.model_selection import train_test_split\n",
    "from sklearn.preprocessing import StandardScaler\n",
    "from sklearn.metrics import mean_squared_error, mean_absolute_error, r2_score\n",
    "\n",
    "# Assuming you already have X_train and y_train data loaded or defined\n",
    "\n",
    "scaler = StandardScaler()\n",
    "X_train_scaled = scaler.fit_transform(x_train)\n",
    "\n",
    "# Splitting the data (not necessary if already done previously)\n",
    "X_train_split, X_test_split, y_train_split, y_test_split = train_test_split(X_train_scaled, y_train, test_size=0.2, random_state=42)\n",
    "\n",
    "k_neighbors = 5\n",
    "knn_regressor = KNeighborsRegressor(n_neighbors=k_neighbors)\n",
    "knn_regressor.fit(X_train_split, y_train_split)\n",
    "\n",
    "# Predictions on the train dataset\n",
    "y_train_pred = knn_regressor.predict(X_train_split)\n",
    "\n",
    "# Calculating metrics for the train dataset\n",
    "train_mse = mean_squared_error(y_train_split, y_train_pred)\n",
    "train_mae = mean_absolute_error(y_train_split, y_train_pred)\n",
    "train_r2 = r2_score(y_train_split, y_train_pred)\n",
    "\n",
    "print(\"Train Mean Squared Error:\", train_mse)\n",
    "print(\"Train Mean Absolute Error:\", train_mae)\n",
    "print(\"Train R-squared:\", train_r2)\n"
   ]
  },
  {
   "cell_type": "code",
   "execution_count": 9,
   "id": "571e9760-c273-479d-a07c-79cf133606fa",
   "metadata": {},
   "outputs": [
    {
     "name": "stdout",
     "output_type": "stream",
     "text": [
      "Validation Mean Absolute Error: 0.4086380508236362\n",
      "Validation R-squared: 0.8488559040498868\n",
      "validation mse 0.805403707136332\n"
     ]
    }
   ],
   "source": [
    "import numpy as np\n",
    "from sklearn.neighbors import KNeighborsRegressor\n",
    "from sklearn.model_selection import train_test_split\n",
    "from sklearn.preprocessing import StandardScaler\n",
    "from sklearn.metrics import mean_absolute_error, r2_score,mean_squared_error\n",
    "\n",
    "# Assuming you already have X_train, X_val, y_train, and y_val data loaded or defined\n",
    "\n",
    "scaler = StandardScaler()\n",
    "X_train_scaled = scaler.fit_transform(x_train)\n",
    "X_val_scaled = scaler.transform(x_val_reshaped)\n",
    "\n",
    "# Assuming you already have X_train and y_train data loaded or defined\n",
    "X_train_split, X_test_split, y_train_split, y_test_split = train_test_split(X_train_scaled, y_train, test_size=0.2, random_state=42)\n",
    "\n",
    "k_neighbors = 5\n",
    "knn_regressor = KNeighborsRegressor(n_neighbors=k_neighbors)\n",
    "knn_regressor.fit(X_train_split, y_train_split)\n",
    "\n",
    "# Predictions on the validation dataset\n",
    "y_val_pred = knn_regressor.predict(X_val_scaled)\n",
    "\n",
    "# Calculating metrics for the validation dataset\n",
    "val_mae = mean_absolute_error(y_val_reshaped, y_val_pred)\n",
    "val_r2 = r2_score(y_val_reshaped, y_val_pred)\n",
    "val_mse=mean_squared_error(y_val_reshaped, y_val_pred)\n",
    "\n",
    "print(\"Validation Mean Absolute Error:\", val_mae)\n",
    "print(\"Validation R-squared:\", val_r2)\n",
    "print(\"validation mse\",val_mse)\n"
   ]
  },
  {
   "cell_type": "code",
   "execution_count": 12,
   "id": "7d27a007-7a41-463c-b045-661e3bd54406",
   "metadata": {},
   "outputs": [
    {
     "name": "stdout",
     "output_type": "stream",
     "text": [
      "Mean Squared Error: 0.7911697573411741\n",
      "Mean Absolute Error: 0.4055531490620996\n",
      "R-squared: 0.8501075525664487\n",
      "Standard Deviation of Predicted Values: 2.2451714895319874\n"
     ]
    }
   ],
   "source": [
    "\n",
    "y_pred_std = np.std(y_pred)\n",
    "print(\"Standard Deviation of Predicted Values:\", y_pred_std)\n"
   ]
  },
  {
   "cell_type": "code",
   "execution_count": 4,
   "id": "7fdf17e2-2167-403d-b0cb-f0549b8fafaf",
   "metadata": {},
   "outputs": [
    {
     "name": "stdout",
     "output_type": "stream",
     "text": [
      "Memory Used (MB): 1959.87109375\n"
     ]
    }
   ],
   "source": [
    "import psutil\n",
    "\n",
    "def get_memory_usage():\n",
    "    process = psutil.Process()\n",
    "    memory_usage = process.memory_info().rss / (1024.0 ** 2)  # Memory usage in megabytes\n",
    "    return memory_usage\n",
    "\n",
    "# Your main code goes here\n",
    "\n",
    "# Calculate memory usage after executing your main code\n",
    "memory_used = get_memory_usage()\n",
    "print(\"Memory Used (MB):\", memory_used)\n"
   ]
  },
  {
   "cell_type": "code",
   "execution_count": 5,
   "id": "969a9ded-1901-42cb-b429-2a0040afb469",
   "metadata": {},
   "outputs": [
    {
     "name": "stdout",
     "output_type": "stream",
     "text": [
      "Mean Squared Error: 0.7911697573411741\n",
      "Training Time (seconds): 0.08776593208312988\n"
     ]
    }
   ],
   "source": [
    "import numpy as np\n",
    "from sklearn.neighbors import KNeighborsRegressor\n",
    "from sklearn.model_selection import train_test_split\n",
    "from sklearn.preprocessing import StandardScaler\n",
    "from sklearn.metrics import mean_squared_error\n",
    "import time\n",
    "\n",
    "scaler = StandardScaler()\n",
    "X_train_scaled = scaler.fit_transform(x_train)\n",
    "\n",
    "\n",
    "X_train_split, X_test_split, y_train_split, y_test_split = train_test_split(X_train_scaled, y_train, test_size=0.2, random_state=42)\n",
    "\n",
    "\n",
    "k_neighbors = 5\n",
    "knn_regressor = KNeighborsRegressor(n_neighbors=k_neighbors)\n",
    "\n",
    "\n",
    "start_time = time.time()\n",
    "\n",
    "\n",
    "knn_regressor.fit(X_train_split, y_train_split)\n",
    "\n",
    "\n",
    "end_time = time.time()\n",
    "\n",
    "\n",
    "y_pred = knn_regressor.predict(X_test_split)\n",
    "mse = mean_squared_error(y_test_split, y_pred)\n",
    "training_time = end_time - start_time\n",
    "print(\"Mean Squared Error:\", mse)\n",
    "print(\"Training Time (seconds):\", training_time)\n"
   ]
  },
  {
   "cell_type": "code",
   "execution_count": 4,
   "id": "c5bbf301-eaef-493a-b5d3-8dffac840a34",
   "metadata": {},
   "outputs": [
    {
     "name": "stdout",
     "output_type": "stream",
     "text": [
      "shape of min_m: (1, 1, 5)\n",
      "min_m_reshape= (1, 5)\n",
      "max_m_reshape= (1, 5)\n"
     ]
    }
   ],
   "source": [
    "print(\"shape of min_m:\",min_m.shape)\n",
    "min_m_reshape=min_m.reshape(-1,5)\n",
    "print(\"min_m_reshape=\",min_m_reshape.shape)\n",
    "max_m_reshape=max_m.reshape(-1,5)\n",
    "print(\"max_m_reshape=\",max_m_reshape.shape)"
   ]
  },
  {
   "cell_type": "code",
   "execution_count": 5,
   "id": "b437238a-2ba0-4418-9438-ef607440ad57",
   "metadata": {},
   "outputs": [
    {
     "name": "stdout",
     "output_type": "stream",
     "text": [
      "x_test12.shape: (16046, 100, 5)\n",
      "y_test12.shape: (16046, 15, 5)\n"
     ]
    }
   ],
   "source": [
    "x_test12=np.load('x_in12.npy')\n",
    "y_test12=np.load('y_op12.npy')\n",
    "print(\"x_test12.shape:\",x_test12.shape)\n",
    "print(\"y_test12.shape:\",y_test12.shape)\n"
   ]
  },
  {
   "cell_type": "code",
   "execution_count": 13,
   "id": "917c4302-ee5f-4f87-a8da-907f49281203",
   "metadata": {},
   "outputs": [
    {
     "name": "stdout",
     "output_type": "stream",
     "text": [
      "[[[0.38765795 0.58969688 0.42375179 0.48870756 0.46259281]\n",
      "  [0.38739463 0.59237653 0.42410159 0.48742557 0.46261372]\n",
      "  [0.3871609  0.59539077 0.4243439  0.48479041 0.46257292]\n",
      "  ...\n",
      "  [0.38790225 0.56091452 0.42446442 0.48192887 0.46226199]\n",
      "  [0.38789715 0.56205711 0.42421482 0.48784657 0.4622558 ]\n",
      "  [0.38796273 0.56361785 0.4239423  0.49314905 0.46224572]]\n",
      "\n",
      " [[0.38766183 0.56741378 0.42493358 0.48181887 0.46152602]\n",
      "  [0.38781015 0.5673909  0.42485809 0.48201816 0.46161478]\n",
      "  [0.38788976 0.56734707 0.42478618 0.48181225 0.46176757]\n",
      "  ...\n",
      "  [0.38708791 0.56916995 0.42448228 0.48934221 0.46178264]\n",
      "  [0.38709125 0.56916124 0.42445797 0.48931752 0.46178138]\n",
      "  [0.38710129 0.56924601 0.42442869 0.48934716 0.46178796]]\n",
      "\n",
      " [[0.38790454 0.55294813 0.42468149 0.47845723 0.46259024]\n",
      "  [0.388121   0.5503684  0.4247146  0.4782455  0.46245642]\n",
      "  [0.38831065 0.5496891  0.4247228  0.47821978 0.46248794]\n",
      "  ...\n",
      "  [0.38757281 0.5577934  0.42431298 0.48356047 0.462911  ]\n",
      "  [0.38797315 0.56277446 0.42415342 0.48436918 0.46288115]\n",
      "  [0.3880749  0.56702096 0.42394531 0.48551498 0.46275796]]\n",
      "\n",
      " ...\n",
      "\n",
      " [[0.3875369  0.56823581 0.42429953 0.48980469 0.46141406]\n",
      "  [0.38751798 0.56808967 0.42423622 0.48957603 0.46134961]\n",
      "  [0.38750057 0.56806248 0.42420689 0.48943998 0.46128782]\n",
      "  ...\n",
      "  [0.38755218 0.56875496 0.42448767 0.48953198 0.46108279]\n",
      "  [0.38753507 0.56869917 0.42446425 0.48957127 0.46106139]\n",
      "  [0.38752123 0.5687187  0.42445715 0.48959644 0.46102995]]\n",
      "\n",
      " [[0.38663816 0.58479065 0.42414358 0.48874906 0.46372682]\n",
      "  [0.38652586 0.5862398  0.424159   0.48875711 0.46391943]\n",
      "  [0.38644605 0.58768035 0.42415336 0.48900068 0.46410502]\n",
      "  ...\n",
      "  [0.38745601 0.56867198 0.42541011 0.49028929 0.46357556]\n",
      "  [0.38746836 0.56915828 0.42542037 0.49045963 0.46503711]\n",
      "  [0.38746295 0.56957314 0.42540258 0.49051823 0.46502381]]\n",
      "\n",
      " [[0.38747812 0.56428599 0.42366819 0.48704991 0.4625219 ]\n",
      "  [0.3874609  0.56318167 0.4236649  0.48703598 0.46253415]\n",
      "  [0.38733452 0.56259891 0.42365713 0.48710629 0.46255752]\n",
      "  ...\n",
      "  [0.38709836 0.56860447 0.42419554 0.48785229 0.46241946]\n",
      "  [0.38708751 0.56865823 0.42410169 0.48779217 0.4624333 ]\n",
      "  [0.3870978  0.56874212 0.42404279 0.4876221  0.46243459]]]\n"
     ]
    }
   ],
   "source": [
    "x_norm=(x_vel-min_m_reshape)/(max_m_reshape-min_m_reshape)\n",
    "print(x_norm)"
   ]
  },
  {
   "cell_type": "code",
   "execution_count": 14,
   "id": "2a6db632-46b1-40b7-8af9-9cd98deb346c",
   "metadata": {},
   "outputs": [
    {
     "name": "stdout",
     "output_type": "stream",
     "text": [
      "x_test12_reshape shape: (16046, 500)\n",
      "y_test12_reshape shape: (16046, 75)\n"
     ]
    }
   ],
   "source": [
    "x_test12_reshape= x_test12.reshape(-1, 500)\n",
    "print(\"x_test12_reshape shape:\",x_test12_reshape.shape)\n",
    "y_test12_reshape= y_test12.reshape(-1, 75)\n",
    "print(\"y_test12_reshape shape:\",y_test12_reshape.shape)"
   ]
  },
  {
   "cell_type": "code",
   "execution_count": 20,
   "id": "6e0bd059-d8e9-4ce4-989d-4a170d1aedf3",
   "metadata": {},
   "outputs": [],
   "source": [
    "y_pred_test = knn_regressor.predict(x_val_reshaped)"
   ]
  },
  {
   "cell_type": "code",
   "execution_count": 23,
   "id": "24d693d9-c9a6-4cdf-9c79-951bb2a857ab",
   "metadata": {},
   "outputs": [
    {
     "name": "stdout",
     "output_type": "stream",
     "text": [
      "[[[0.38765795 0.58969688 0.42375179 0.48870756 0.46259281]\n",
      "  [0.38739463 0.59237653 0.42410159 0.48742557 0.46261372]\n",
      "  [0.3871609  0.59539077 0.4243439  0.48479041 0.46257292]\n",
      "  ...\n",
      "  [0.38790225 0.56091452 0.42446442 0.48192887 0.46226199]\n",
      "  [0.38789715 0.56205711 0.42421482 0.48784657 0.4622558 ]\n",
      "  [0.38796273 0.56361785 0.4239423  0.49314905 0.46224572]]\n",
      "\n",
      " [[0.38766183 0.56741378 0.42493358 0.48181887 0.46152602]\n",
      "  [0.38781015 0.5673909  0.42485809 0.48201816 0.46161478]\n",
      "  [0.38788976 0.56734707 0.42478618 0.48181225 0.46176757]\n",
      "  ...\n",
      "  [0.38708791 0.56916995 0.42448228 0.48934221 0.46178264]\n",
      "  [0.38709125 0.56916124 0.42445797 0.48931752 0.46178138]\n",
      "  [0.38710129 0.56924601 0.42442869 0.48934716 0.46178796]]\n",
      "\n",
      " [[0.38790454 0.55294813 0.42468149 0.47845723 0.46259024]\n",
      "  [0.388121   0.5503684  0.4247146  0.4782455  0.46245642]\n",
      "  [0.38831065 0.5496891  0.4247228  0.47821978 0.46248794]\n",
      "  ...\n",
      "  [0.38757281 0.5577934  0.42431298 0.48356047 0.462911  ]\n",
      "  [0.38797315 0.56277446 0.42415342 0.48436918 0.46288115]\n",
      "  [0.3880749  0.56702096 0.42394531 0.48551498 0.46275796]]\n",
      "\n",
      " ...\n",
      "\n",
      " [[0.3875369  0.56823581 0.42429953 0.48980469 0.46141406]\n",
      "  [0.38751798 0.56808967 0.42423622 0.48957603 0.46134961]\n",
      "  [0.38750057 0.56806248 0.42420689 0.48943998 0.46128782]\n",
      "  ...\n",
      "  [0.38755218 0.56875496 0.42448767 0.48953198 0.46108279]\n",
      "  [0.38753507 0.56869917 0.42446425 0.48957127 0.46106139]\n",
      "  [0.38752123 0.5687187  0.42445715 0.48959644 0.46102995]]\n",
      "\n",
      " [[0.38663816 0.58479065 0.42414358 0.48874906 0.46372682]\n",
      "  [0.38652586 0.5862398  0.424159   0.48875711 0.46391943]\n",
      "  [0.38644605 0.58768035 0.42415336 0.48900068 0.46410502]\n",
      "  ...\n",
      "  [0.38745601 0.56867198 0.42541011 0.49028929 0.46357556]\n",
      "  [0.38746836 0.56915828 0.42542037 0.49045963 0.46503711]\n",
      "  [0.38746295 0.56957314 0.42540258 0.49051823 0.46502381]]\n",
      "\n",
      " [[0.38747812 0.56428599 0.42366819 0.48704991 0.4625219 ]\n",
      "  [0.3874609  0.56318167 0.4236649  0.48703598 0.46253415]\n",
      "  [0.38733452 0.56259891 0.42365713 0.48710629 0.46255752]\n",
      "  ...\n",
      "  [0.38709836 0.56860447 0.42419554 0.48785229 0.46241946]\n",
      "  [0.38708751 0.56865823 0.42410169 0.48779217 0.4624333 ]\n",
      "  [0.3870978  0.56874212 0.42404279 0.4876221  0.46243459]]]\n",
      "x_test12_reshape shape: (16046, 500)\n",
      "y_test12_reshape shape: (16046, 75)\n",
      "5.362407962594269\n",
      "-0.2859922944825975\n",
      "1.5327517386472223\n"
     ]
    }
   ],
   "source": [
    "print(x_norm)\n",
    "\n",
    "x_test12_reshape = x_test12.reshape(-1, 500)\n",
    "print(\"x_test12_reshape shape:\", x_test12_reshape.shape)\n",
    "\n",
    "y_test12_reshape = y_test12.reshape(-1, 75)\n",
    "print(\"y_test12_reshape shape:\", y_test12_reshape.shape)\n",
    "\n",
    "# Make predictions using the model and x_test12_reshape\n",
    "y_pred_test = knn_regressor.predict(x_test12_reshape)\n",
    "\n",
    "# Perform evaluation with consistent number of samples\n",
    "from sklearn.metrics import r2_score\n",
    "from sklearn.metrics import mean_squared_error\n",
    "from sklearn.metrics import mean_absolute_error\n",
    "\n",
    "print(mean_squared_error(y_test12_reshape, y_pred_test))\n",
    "print(r2_score(y_test12_reshape, y_pred_test))\n",
    "print(mean_absolute_error(y_test12_reshape, y_pred_test))"
   ]
  },
  {
   "cell_type": "code",
   "execution_count": 20,
   "id": "c6735928-91bb-41fb-bfd7-969b503c35f7",
   "metadata": {},
   "outputs": [
    {
     "name": "stdout",
     "output_type": "stream",
     "text": [
      "Standard Deviation of Predictions: 2.9542939472165886\n"
     ]
    }
   ],
   "source": [
    "import numpy as np\n",
    "\n",
    "y_pred = knn_regressor.predict(x_test12_reshape)\n",
    "\n",
    "\n",
    "std_deviation = np.std(y_pred_test)\n",
    "\n",
    "print(\"Standard Deviation of Predictions:\", std_deviation)"
   ]
  },
  {
   "cell_type": "code",
   "execution_count": null,
   "id": "cfbbea64-012e-4ad1-9c86-446058ac10ef",
   "metadata": {},
   "outputs": [],
   "source": [
    "import numpy as np\n",
    "import matplotlib.pyplot as plt\n",
    "import tensorflow as tf\n",
    "from sklearn.model_selection import train_test_split\n",
    "from sklearn.preprocessing import StandardScaler\n",
    "from sklearn.metrics import mean_squared_error\n",
    "\n",
    "# Assuming you have already defined x_train and y_train\n",
    "\n",
    "# Standardize the data\n",
    "scaler = StandardScaler()\n",
    "x_train_scaled = scaler.fit_transform(x_train)\n",
    "\n",
    "# Train-test split\n",
    "x_train_split, x_val, y_train_split, y_val = train_test_split(x_train_scaled, y_train, test_size=0.2, random_state=42)\n",
    "\n",
    "# Create the K-nearest neighbors regressor model\n",
    "k_neighbors = 5\n",
    "knn_regressor = KNeighborsRegressor(n_neighbors=k_neighbors)\n",
    "\n",
    "# Train the model and monitor training and validation loss\n",
    "epochs = 50\n",
    "train_loss_history = []\n",
    "val_loss_history = []\n",
    "\n",
    "for epoch in range(epochs):\n",
    "    # Fit the model to the training data for each epoch\n",
    "    knn_regressor.fit(x_train_split, y_train_split)\n",
    "\n",
    "    # Predict on training and validation data\n",
    "    y_pred_train = knn_regressor.predict(x_train_split)\n",
    "    y_pred_val = knn_regressor.predict(x_val)\n",
    "\n",
    "    # Calculate mean squared error for training and validation data\n",
    "    train_loss = mean_squared_error(y_train_split, y_pred_train)\n",
    "    val_loss = mean_squared_error(y_val, y_pred_val)\n",
    "\n",
    "    train_loss_history.append(train_loss)\n",
    "    val_loss_history.append(val_loss)\n",
    "\n",
    "# Plot the training and validation loss curves\n",
    "plt.figure(figsize=(8, 6))\n",
    "plt.plot(range(1, epochs + 1), train_loss_history, label='Training Loss')\n",
    "plt.plot(range(1, epochs + 1), val_loss_history, label='Validation Loss')\n",
    "plt.xlabel('Epochs')\n",
    "plt.ylabel('Mean Squared Error')\n",
    "plt.title('Training and Validation Loss Curves')\n",
    "plt.legend()\n",
    "plt.grid(True)\n",
    "plt.show()\n"
   ]
  },
  {
   "cell_type": "code",
   "execution_count": null,
   "id": "465f6a2c-4f23-4bba-bc5d-5190f72ace2a",
   "metadata": {},
   "outputs": [],
   "source": []
  }
 ],
 "metadata": {
  "kernelspec": {
   "display_name": "Python 3 (ipykernel)",
   "language": "python",
   "name": "python3"
  },
  "language_info": {
   "codemirror_mode": {
    "name": "ipython",
    "version": 3
   },
   "file_extension": ".py",
   "mimetype": "text/x-python",
   "name": "python",
   "nbconvert_exporter": "python",
   "pygments_lexer": "ipython3",
   "version": "3.10.9"
  }
 },
 "nbformat": 4,
 "nbformat_minor": 5
}

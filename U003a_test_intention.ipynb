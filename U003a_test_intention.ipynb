{
 "cells": [
  {
   "cell_type": "code",
   "execution_count": 1,
   "id": "d161ad03-4ecf-44b7-bd9d-30ec8372bedb",
   "metadata": {},
   "outputs": [],
   "source": [
    "import os\n",
    "import pandas as pd\n",
    "import numpy as np\n",
    "import matplotlib.pyplot as plt"
   ]
  },
  {
   "cell_type": "code",
   "execution_count": 2,
   "id": "c96abcd3-582d-4256-b338-5de41601b2e4",
   "metadata": {},
   "outputs": [
    {
     "name": "stdout",
     "output_type": "stream",
     "text": [
      "C:\\Users\\Aniket\n"
     ]
    }
   ],
   "source": [
    "cd=os.getcwd()\n",
    "print(cd)\n"
   ]
  },
  {
   "cell_type": "code",
   "execution_count": 3,
   "id": "f5d29c3e-8fd3-4150-bb9b-49ecfc6f7401",
   "metadata": {},
   "outputs": [],
   "source": [
    "os.chdir(r\"C:\\Users\\Aniket\\Desktop\\INTENTION\")"
   ]
  },
  {
   "cell_type": "code",
   "execution_count": 4,
   "id": "312ea5ad-4010-472e-bbfb-a3951304b341",
   "metadata": {},
   "outputs": [
    {
     "name": "stdout",
     "output_type": "stream",
     "text": [
      "C:\\Users\\Aniket\\Desktop\\INTENTION\n"
     ]
    }
   ],
   "source": [
    "cd=os.getcwd()\n",
    "print(cd)"
   ]
  },
  {
   "cell_type": "code",
   "execution_count": 5,
   "id": "da2a0c6b-6c29-40a1-895f-353ad04e8f4b",
   "metadata": {},
   "outputs": [
    {
     "name": "stdout",
     "output_type": "stream",
     "text": [
      "['arrays.npz', 'U001_test_intention.csv', 'U001_train_intention.csv', 'U001_val_intention.csv', 'U002_test_intention.csv', 'U002_train_intention.csv', 'U002_val_intention.csv', 'U003_test_intention.csv', 'U003_train_intention.csv', 'U003_val_intention.csv', 'U004_test_intention.csv', 'U004_train_intention.csv', 'U004_val_intention.csv', 'U005_test_intention.csv', 'U005_train_intention.csv', 'U005_val_intention.csv', 'U006_test_intention.csv', 'U006_train_intention.csv', 'U006_val_intention.csv', 'U007_test_intention.csv', 'U007_train_intention.csv', 'U007_val_intention.csv', 'U008_test_intention.csv', 'U008_train_intention.csv', 'U008_val_intention.csv', 'U009_test_intention.csv', 'U009_train_intention.csv', 'U009_val_intention.csv', 'U010_test_intention.csv', 'U010_train_intention.csv', 'U010_val_intention.csv', 'U011_test_intention.csv', 'U011_train_intention.csv', 'U011_val_intention.csv', 'U012_test_intention.csv', 'U012_train_intention.csv', 'U012_val_intention.csv', 'x_in.npy', 'x_in2.npy', 'x_in=.npy', 'y_op.npy', 'y_op2.npy']\n"
     ]
    }
   ],
   "source": [
    "items=os.listdir(cd)\n",
    "print(items)"
   ]
  },
  {
   "cell_type": "code",
   "execution_count": 6,
   "id": "cba961f2-e95e-471f-80e5-089675d78d48",
   "metadata": {},
   "outputs": [
    {
     "name": "stdout",
     "output_type": "stream",
     "text": [
      "   Axel_X_C9  Axel_Y_C9  Axel_Z_C9  Gyro_X_C9  Gyro_Y_C9  Gyro_Z_C9  \\\n",
      "0   8.397011  -3.644112   0.232962  -0.434916   1.304868  -0.173815   \n",
      "1   8.258917  -3.225936   0.303866  -0.306817   1.265252  -0.212189   \n",
      "2   8.254112  -2.392820   1.216174  -0.278282   1.190625  -0.227871   \n",
      "3   8.440770  -1.882961   1.941144  -0.334222   1.102515  -0.233489   \n",
      "4   8.619517  -1.893684   1.771586  -0.383854   1.071451  -0.220163   \n",
      "\n",
      "   Axel_X_3B  Axel_Y_3B  Axel_Z_3B  Gyro_X_3B  ...  Gyro_X_B6  Gyro_Y_B6  \\\n",
      "0   8.286073  -1.697515  -4.744943  -0.626845  ...   0.234055  -0.068299   \n",
      "1   8.187632  -1.648853  -4.594968  -0.632008  ...   0.235893  -0.068770   \n",
      "2   8.154153  -1.716727  -4.494684  -0.643998  ...   0.218763  -0.065580   \n",
      "3   8.182753  -1.807217  -4.573571  -0.669550  ...   0.194553  -0.067712   \n",
      "4   8.169554  -1.780202  -4.607637  -0.679056  ...   0.161030  -0.070543   \n",
      "\n",
      "   Gyro_Z_B6  Axel_X_BB  Axel_Y_BB  Axel_Z_BB  Gyro_X_BB  Gyro_Y_BB  \\\n",
      "0  -0.044859   7.783253  -5.767363  -0.073932   0.381492  -0.507870   \n",
      "1  -0.040169   7.703145  -5.795928  -0.015243   0.405428  -0.519860   \n",
      "2  -0.032387   7.600657  -5.758756   0.015577   0.451290  -0.533414   \n",
      "3  -0.016993   7.523641  -5.640637   0.040110   0.494441  -0.548937   \n",
      "4  -0.001083   7.456086  -5.471261   0.060329   0.532491  -0.550098   \n",
      "\n",
      "   Gyro_Z_BB  target  \n",
      "0   0.162587     1.0  \n",
      "1   0.205582     1.0  \n",
      "2   0.248186     1.0  \n",
      "3   0.289220     1.0  \n",
      "4   0.321878     1.0  \n",
      "\n",
      "[5 rows x 31 columns]\n"
     ]
    }
   ],
   "source": [
    "path=os.path.join(cd,\"U003_train_intention.csv\")\n",
    "df1=pd.read_csv(path)\n",
    "print(df1.head(5))"
   ]
  },
  {
   "cell_type": "code",
   "execution_count": 7,
   "id": "0b80ff8e-7fa5-4583-9fcf-0085402c6f5d",
   "metadata": {},
   "outputs": [
    {
     "name": "stdout",
     "output_type": "stream",
     "text": [
      "<class 'pandas.core.frame.DataFrame'>\n",
      "RangeIndex: 98095 entries, 0 to 98094\n",
      "Data columns (total 31 columns):\n",
      " #   Column     Non-Null Count  Dtype  \n",
      "---  ------     --------------  -----  \n",
      " 0   Axel_X_C9  98095 non-null  float64\n",
      " 1   Axel_Y_C9  98095 non-null  float64\n",
      " 2   Axel_Z_C9  98095 non-null  float64\n",
      " 3   Gyro_X_C9  98095 non-null  float64\n",
      " 4   Gyro_Y_C9  98095 non-null  float64\n",
      " 5   Gyro_Z_C9  98095 non-null  float64\n",
      " 6   Axel_X_3B  98095 non-null  float64\n",
      " 7   Axel_Y_3B  98095 non-null  float64\n",
      " 8   Axel_Z_3B  98095 non-null  float64\n",
      " 9   Gyro_X_3B  98095 non-null  float64\n",
      " 10  Gyro_Y_3B  98095 non-null  float64\n",
      " 11  Gyro_Z_3B  98095 non-null  float64\n",
      " 12  Axel_X_B5  98095 non-null  float64\n",
      " 13  Axel_Y_B5  98095 non-null  float64\n",
      " 14  Axel_Z_B5  98095 non-null  float64\n",
      " 15  Gyro_X_B5  98095 non-null  float64\n",
      " 16  Gyro_Y_B5  98095 non-null  float64\n",
      " 17  Gyro_Z_B5  98095 non-null  float64\n",
      " 18  Axel_X_B6  98095 non-null  float64\n",
      " 19  Axel_Y_B6  98095 non-null  float64\n",
      " 20  Axel_Z_B6  98095 non-null  float64\n",
      " 21  Gyro_X_B6  98095 non-null  float64\n",
      " 22  Gyro_Y_B6  98095 non-null  float64\n",
      " 23  Gyro_Z_B6  98095 non-null  float64\n",
      " 24  Axel_X_BB  98095 non-null  float64\n",
      " 25  Axel_Y_BB  98095 non-null  float64\n",
      " 26  Axel_Z_BB  98095 non-null  float64\n",
      " 27  Gyro_X_BB  98095 non-null  float64\n",
      " 28  Gyro_Y_BB  98095 non-null  float64\n",
      " 29  Gyro_Z_BB  98095 non-null  float64\n",
      " 30  target     98095 non-null  float64\n",
      "dtypes: float64(31)\n",
      "memory usage: 23.2 MB\n",
      "None\n"
     ]
    }
   ],
   "source": [
    "print(df1.info())"
   ]
  },
  {
   "cell_type": "code",
   "execution_count": 8,
   "id": "68dfceca-dfe2-41af-85cc-c889da7c6fee",
   "metadata": {},
   "outputs": [
    {
     "name": "stdout",
     "output_type": "stream",
     "text": [
      "   Axel_Y_C9  Gyro_Y_C9  Axel_Y_3B  Gyro_Y_3B  Axel_Y_B5\n",
      "0  -3.644112   1.304868  -1.697515  -0.175440   3.195290\n",
      "1  -3.225936   1.265252  -1.648853  -0.187569   3.309237\n",
      "2  -2.392820   1.190625  -1.716727  -0.220353   3.446816\n",
      "3  -1.882961   1.102515  -1.807217  -0.258475   3.548115\n",
      "4  -1.893684   1.071451  -1.780202  -0.278959   3.669381\n",
      "(98095, 5)\n",
      "[[-3.644112e+00  1.304868e+00 -1.697515e+00 -1.754400e-01  3.195290e+00]\n",
      " [-3.225936e+00  1.265252e+00 -1.648853e+00 -1.875690e-01  3.309237e+00]\n",
      " [-2.392820e+00  1.190625e+00 -1.716727e+00 -2.203530e-01  3.446816e+00]\n",
      " ...\n",
      " [-1.396478e+00  2.157900e-02 -3.510000e-04  2.420000e-03  3.891798e+00]\n",
      " [-1.383246e+00  6.386000e-03  4.466700e-02  5.200000e-03  3.925939e+00]\n",
      " [-1.436295e+00  1.365700e-02  5.800000e-04  4.098000e-03  3.909755e+00]]\n"
     ]
    }
   ],
   "source": [
    "Gyro_Y=df1.iloc[:,[1,4,7,10,13]]\n",
    "Dat=Gyro_Y.values\n",
    "print(Gyro_Y.head())\n",
    "print(Dat.shape)\n",
    "print(Dat)"
   ]
  },
  {
   "cell_type": "code",
   "execution_count": 9,
   "id": "7b7305ce-0625-4fe9-af75-c5b70eb36048",
   "metadata": {},
   "outputs": [
    {
     "name": "stdout",
     "output_type": "stream",
     "text": [
      "98095\n",
      "97981\n"
     ]
    }
   ],
   "source": [
    "#windowed output shape [m x o] where m=Sample-(window+output)+1\n",
    "#and windowed input shape will be [mxw].\n",
    "\n",
    "Sample=Gyro_Y.shape[0]\n",
    "print(Sample)\n",
    "window=100\n",
    "output=15\n",
    "m=Sample-(window+output)+1\n",
    "\n",
    "X=np.zeros((m,window))\n",
    "y=np.zeros((m,output))\n",
    "print(m)"
   ]
  },
  {
   "cell_type": "code",
   "execution_count": 10,
   "id": "27d7c876-1ffd-41f8-a23d-618c351d8552",
   "metadata": {},
   "outputs": [
    {
     "name": "stdout",
     "output_type": "stream",
     "text": [
      "x_in:\n",
      "(97981, 100, 5)\n",
      "(97981, 15, 5)\n"
     ]
    }
   ],
   "source": [
    "import numpy as np\n",
    "\n",
    "\n",
    "\n",
    "#taking window input as 100 and window ouput as 15 for sample=m  \n",
    "x_in = np.zeros((m,100,5))\n",
    "y_op = np.zeros((m,15,5))\n",
    "\n",
    "\n",
    "for i in range(m):\n",
    "    # Store the first 100 rows\n",
    "   # print(\"x_in[i:,:,].shape\",x_in[i,:,:].shape,\"y_op[i:,:,].shape\",y_op[i,:,:].shape,\"Dat[i:i+100,:].shape\",Dat[i:i+100,:].shape,\"Dat[i+100:i+115,:].shape\",Dat[i+100:i+115,:].shape)\n",
    "    x_in[i,:,:] =Dat[i:i+100,:]\n",
    "    y_op[i,:,:]=Dat[i+100:i+115,:]\n",
    "     \n",
    "    \n",
    " \n",
    "    \n",
    "\n",
    "    # Print the stored arrays\n",
    "print(\"x_in:\")\n",
    "print(x_in.shape)\n",
    "print(y_op.shape)\n",
    "   \n",
    "\n",
    "    \n",
    "\n",
    " \n",
    "\n",
    "\n"
   ]
  },
  {
   "cell_type": "code",
   "execution_count": 11,
   "id": "353683b7-94b2-44e9-9d03-bd4e1eded126",
   "metadata": {},
   "outputs": [],
   "source": [
    "\n",
    "\n",
    "# Save arrays to a file\n",
    "np.save('x_in3.npy',x_in)\n",
    "np.save('y_op3.npy',y_op)\n"
   ]
  },
  {
   "cell_type": "code",
   "execution_count": null,
   "id": "09682368-d9f6-4537-9e8a-e64e06e4a4d4",
   "metadata": {},
   "outputs": [],
   "source": []
  }
 ],
 "metadata": {
  "kernelspec": {
   "display_name": "Python 3 (ipykernel)",
   "language": "python",
   "name": "python3"
  },
  "language_info": {
   "codemirror_mode": {
    "name": "ipython",
    "version": 3
   },
   "file_extension": ".py",
   "mimetype": "text/x-python",
   "name": "python",
   "nbconvert_exporter": "python",
   "pygments_lexer": "ipython3",
   "version": "3.10.9"
  }
 },
 "nbformat": 4,
 "nbformat_minor": 5
}

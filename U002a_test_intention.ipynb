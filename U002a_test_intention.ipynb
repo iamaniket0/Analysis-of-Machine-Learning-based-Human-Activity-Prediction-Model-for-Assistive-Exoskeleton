{
 "cells": [
  {
   "cell_type": "code",
   "execution_count": 16,
   "id": "d161ad03-4ecf-44b7-bd9d-30ec8372bedb",
   "metadata": {},
   "outputs": [],
   "source": [
    "import os\n",
    "import pandas as pd\n",
    "import numpy as np\n",
    "import matplotlib.pyplot as plt"
   ]
  },
  {
   "cell_type": "code",
   "execution_count": 17,
   "id": "c96abcd3-582d-4256-b338-5de41601b2e4",
   "metadata": {},
   "outputs": [
    {
     "name": "stdout",
     "output_type": "stream",
     "text": [
      "C:\\Users\\Aniket\\Desktop\\INTENTION\n"
     ]
    }
   ],
   "source": [
    "cd=os.getcwd()\n",
    "print(cd)\n"
   ]
  },
  {
   "cell_type": "code",
   "execution_count": 18,
   "id": "f5d29c3e-8fd3-4150-bb9b-49ecfc6f7401",
   "metadata": {},
   "outputs": [],
   "source": [
    "os.chdir(r\"C:\\Users\\Aniket\\Desktop\\INTENTION\")"
   ]
  },
  {
   "cell_type": "code",
   "execution_count": 19,
   "id": "312ea5ad-4010-472e-bbfb-a3951304b341",
   "metadata": {},
   "outputs": [
    {
     "name": "stdout",
     "output_type": "stream",
     "text": [
      "C:\\Users\\Aniket\\Desktop\\INTENTION\n"
     ]
    }
   ],
   "source": [
    "cd=os.getcwd()\n",
    "print(cd)"
   ]
  },
  {
   "cell_type": "code",
   "execution_count": 20,
   "id": "da2a0c6b-6c29-40a1-895f-353ad04e8f4b",
   "metadata": {},
   "outputs": [
    {
     "name": "stdout",
     "output_type": "stream",
     "text": [
      "['arrays.npz', 'U001_test_intention.csv', 'U001_train_intention.csv', 'U001_val_intention.csv', 'U002_test_intention.csv', 'U002_train_intention.csv', 'U002_val_intention.csv', 'U003_test_intention.csv', 'U003_train_intention.csv', 'U003_val_intention.csv', 'U004_test_intention.csv', 'U004_train_intention.csv', 'U004_val_intention.csv', 'U005_test_intention.csv', 'U005_train_intention.csv', 'U005_val_intention.csv', 'U006_test_intention.csv', 'U006_train_intention.csv', 'U006_val_intention.csv', 'U007_test_intention.csv', 'U007_train_intention.csv', 'U007_val_intention.csv', 'U008_test_intention.csv', 'U008_train_intention.csv', 'U008_val_intention.csv', 'U009_test_intention.csv', 'U009_train_intention.csv', 'U009_val_intention.csv', 'U010_test_intention.csv', 'U010_train_intention.csv', 'U010_val_intention.csv', 'U011_test_intention.csv', 'U011_train_intention.csv', 'U011_val_intention.csv', 'U012_test_intention.csv', 'U012_train_intention.csv', 'U012_val_intention.csv', 'x_in.npy', 'x_in=.npy', 'y_op.npy']\n"
     ]
    }
   ],
   "source": [
    "items=os.listdir(cd)\n",
    "print(items)"
   ]
  },
  {
   "cell_type": "code",
   "execution_count": 21,
   "id": "cba961f2-e95e-471f-80e5-089675d78d48",
   "metadata": {},
   "outputs": [
    {
     "name": "stdout",
     "output_type": "stream",
     "text": [
      "   Axel_X_C9  Axel_Y_C9  Axel_Z_C9  Gyro_X_C9  Gyro_Y_C9  Gyro_Z_C9  \\\n",
      "0   8.199182   2.207052   0.783509   0.850685  -1.072093   0.410495   \n",
      "1   8.438137   2.519922   1.953930   0.683856  -1.214931   0.386091   \n",
      "2   9.311604   3.379221   2.639236   0.523188  -1.256644   0.402437   \n",
      "3  10.366902   4.325544   2.550942   0.539613  -1.177270   0.409964   \n",
      "4  10.927887   4.712421   1.597345   0.666779  -0.994159   0.425805   \n",
      "\n",
      "   Axel_X_3B  Axel_Y_3B  Axel_Z_3B  Gyro_X_3B  ...  Gyro_X_B6  Gyro_Y_B6  \\\n",
      "0   4.723330   2.392470   2.848952  -0.961156  ...   0.210884  -0.007829   \n",
      "1   6.291862   1.844391   4.989606  -1.412136  ...   0.179963   0.051064   \n",
      "2   9.119535   1.955539   9.633720  -1.726296  ...   0.142519   0.121885   \n",
      "3  13.120243   2.172550  15.220164  -1.591408  ...   0.071071   0.178092   \n",
      "4  18.622875   2.935114  15.993565  -0.616234  ...  -0.015241   0.211938   \n",
      "\n",
      "   Gyro_Z_B6  Axel_X_BB  Axel_Y_BB  Axel_Z_BB  Gyro_X_BB  Gyro_Y_BB  \\\n",
      "0   0.120377   9.644582  -4.491251   2.020048  -0.258148  -0.554771   \n",
      "1   0.154036   9.464567  -4.538838   2.173844  -0.237283  -0.570201   \n",
      "2   0.182199   9.374795  -4.642478   2.440953  -0.210710  -0.577664   \n",
      "3   0.210166   9.466676  -4.803913   2.753995  -0.126127  -0.591995   \n",
      "4   0.234181   9.643507  -4.743210   3.120979  -0.013466  -0.619029   \n",
      "\n",
      "   Gyro_Z_BB  target  \n",
      "0  -1.707061     1.0  \n",
      "1  -1.489577     1.0  \n",
      "2  -1.264212     1.0  \n",
      "3  -1.027643     1.0  \n",
      "4  -0.794481     1.0  \n",
      "\n",
      "[5 rows x 31 columns]\n"
     ]
    }
   ],
   "source": [
    "path=os.path.join(cd,\"U002_train_intention.csv\")\n",
    "df1=pd.read_csv(path)\n",
    "print(df1.head(5))"
   ]
  },
  {
   "cell_type": "code",
   "execution_count": 22,
   "id": "0b80ff8e-7fa5-4583-9fcf-0085402c6f5d",
   "metadata": {},
   "outputs": [
    {
     "name": "stdout",
     "output_type": "stream",
     "text": [
      "<class 'pandas.core.frame.DataFrame'>\n",
      "RangeIndex: 89366 entries, 0 to 89365\n",
      "Data columns (total 31 columns):\n",
      " #   Column     Non-Null Count  Dtype  \n",
      "---  ------     --------------  -----  \n",
      " 0   Axel_X_C9  89366 non-null  float64\n",
      " 1   Axel_Y_C9  89366 non-null  float64\n",
      " 2   Axel_Z_C9  89366 non-null  float64\n",
      " 3   Gyro_X_C9  89366 non-null  float64\n",
      " 4   Gyro_Y_C9  89366 non-null  float64\n",
      " 5   Gyro_Z_C9  89366 non-null  float64\n",
      " 6   Axel_X_3B  89366 non-null  float64\n",
      " 7   Axel_Y_3B  89366 non-null  float64\n",
      " 8   Axel_Z_3B  89366 non-null  float64\n",
      " 9   Gyro_X_3B  89366 non-null  float64\n",
      " 10  Gyro_Y_3B  89366 non-null  float64\n",
      " 11  Gyro_Z_3B  89366 non-null  float64\n",
      " 12  Axel_X_B5  89366 non-null  float64\n",
      " 13  Axel_Y_B5  89366 non-null  float64\n",
      " 14  Axel_Z_B5  89366 non-null  float64\n",
      " 15  Gyro_X_B5  89366 non-null  float64\n",
      " 16  Gyro_Y_B5  89366 non-null  float64\n",
      " 17  Gyro_Z_B5  89366 non-null  float64\n",
      " 18  Axel_X_B6  89366 non-null  float64\n",
      " 19  Axel_Y_B6  89366 non-null  float64\n",
      " 20  Axel_Z_B6  89366 non-null  float64\n",
      " 21  Gyro_X_B6  89366 non-null  float64\n",
      " 22  Gyro_Y_B6  89366 non-null  float64\n",
      " 23  Gyro_Z_B6  89366 non-null  float64\n",
      " 24  Axel_X_BB  89366 non-null  float64\n",
      " 25  Axel_Y_BB  89366 non-null  float64\n",
      " 26  Axel_Z_BB  89366 non-null  float64\n",
      " 27  Gyro_X_BB  89366 non-null  float64\n",
      " 28  Gyro_Y_BB  89366 non-null  float64\n",
      " 29  Gyro_Z_BB  89366 non-null  float64\n",
      " 30  target     89366 non-null  float64\n",
      "dtypes: float64(31)\n",
      "memory usage: 21.1 MB\n",
      "None\n"
     ]
    }
   ],
   "source": [
    "print(df1.info())"
   ]
  },
  {
   "cell_type": "code",
   "execution_count": 23,
   "id": "68dfceca-dfe2-41af-85cc-c889da7c6fee",
   "metadata": {},
   "outputs": [
    {
     "name": "stdout",
     "output_type": "stream",
     "text": [
      "   Axel_Y_C9  Gyro_Y_C9  Axel_Y_3B  Gyro_Y_3B  Axel_Y_B5\n",
      "0   2.207052  -1.072093   2.392470  -2.360089   0.697528\n",
      "1   2.519922  -1.214931   1.844391  -2.937608   0.555808\n",
      "2   3.379221  -1.256644   1.955539  -3.256176   0.476037\n",
      "3   4.325544  -1.177270   2.172550  -3.140566   0.353550\n",
      "4   4.712421  -0.994159   2.935114  -2.785944   0.266792\n",
      "(89366, 5)\n",
      "[[ 2.207052e+00 -1.072093e+00  2.392470e+00 -2.360089e+00  6.975280e-01]\n",
      " [ 2.519922e+00 -1.214931e+00  1.844391e+00 -2.937608e+00  5.558080e-01]\n",
      " [ 3.379221e+00 -1.256644e+00  1.955539e+00 -3.256176e+00  4.760370e-01]\n",
      " ...\n",
      " [ 5.794500e-02  4.756000e-03  9.639630e-01 -6.417000e-03  7.631360e-01]\n",
      " [ 9.070700e-02  1.228000e-03  9.575970e-01 -5.347000e-03  7.666820e-01]\n",
      " [ 6.113300e-02 -2.625000e-03  9.643810e-01 -5.654000e-03  7.975600e-01]]\n"
     ]
    }
   ],
   "source": [
    "Gyro_Y=df1.iloc[:,[1,4,7,10,13]]\n",
    "Dat=Gyro_Y.values\n",
    "print(Gyro_Y.head())\n",
    "print(Dat.shape)\n",
    "print(Dat)"
   ]
  },
  {
   "cell_type": "code",
   "execution_count": 24,
   "id": "7b7305ce-0625-4fe9-af75-c5b70eb36048",
   "metadata": {},
   "outputs": [
    {
     "name": "stdout",
     "output_type": "stream",
     "text": [
      "89366\n",
      "89252\n"
     ]
    }
   ],
   "source": [
    "#windowed output shape [m x o] where m=Sample-(window+output)+1\n",
    "#and windowed input shape will be [mxw].\n",
    "\n",
    "Sample=Gyro_Y.shape[0]\n",
    "print(Sample)\n",
    "window=100\n",
    "output=15\n",
    "m=Sample-(window+output)+1\n",
    "\n",
    "X=np.zeros((m,window))\n",
    "y=np.zeros((m,output))\n",
    "print(m)"
   ]
  },
  {
   "cell_type": "code",
   "execution_count": 25,
   "id": "27d7c876-1ffd-41f8-a23d-618c351d8552",
   "metadata": {},
   "outputs": [
    {
     "name": "stdout",
     "output_type": "stream",
     "text": [
      "x_in:\n",
      "(89252, 100, 5)\n",
      "(89252, 15, 5)\n"
     ]
    }
   ],
   "source": [
    "import numpy as np\n",
    "\n",
    "\n",
    "\n",
    "#taking window input as 100 and window ouput as 15 for sample=m  \n",
    "x_in = np.zeros((m,100,5))\n",
    "y_op = np.zeros((m,15,5))\n",
    "\n",
    "\n",
    "for i in range(m):\n",
    "    # Store the first 100 rows\n",
    "   # print(\"x_in[i:,:,].shape\",x_in[i,:,:].shape,\"y_op[i:,:,].shape\",y_op[i,:,:].shape,\"Dat[i:i+100,:].shape\",Dat[i:i+100,:].shape,\"Dat[i+100:i+115,:].shape\",Dat[i+100:i+115,:].shape)\n",
    "    x_in[i,:,:] =Dat[i:i+100,:]\n",
    "    y_op[i,:,:]=Dat[i+100:i+115,:]\n",
    "     \n",
    "    \n",
    " \n",
    "    \n",
    "\n",
    "    # Print the stored arrays\n",
    "print(\"x_in:\")\n",
    "print(x_in.shape)\n",
    "print(y_op.shape)\n",
    "   \n",
    "\n",
    "    \n",
    "\n",
    " \n",
    "\n",
    "\n"
   ]
  },
  {
   "cell_type": "code",
   "execution_count": 26,
   "id": "353683b7-94b2-44e9-9d03-bd4e1eded126",
   "metadata": {},
   "outputs": [],
   "source": [
    "\n",
    "\n",
    "# Save arrays to a file\n",
    "np.save('x_in2.npy',x_in)\n",
    "np.save('y_op2.npy',y_op)\n"
   ]
  },
  {
   "cell_type": "code",
   "execution_count": null,
   "id": "5d45e9ba-d9d8-4634-a50c-efb6afc535ba",
   "metadata": {},
   "outputs": [],
   "source": []
  }
 ],
 "metadata": {
  "kernelspec": {
   "display_name": "Python 3 (ipykernel)",
   "language": "python",
   "name": "python3"
  },
  "language_info": {
   "codemirror_mode": {
    "name": "ipython",
    "version": 3
   },
   "file_extension": ".py",
   "mimetype": "text/x-python",
   "name": "python",
   "nbconvert_exporter": "python",
   "pygments_lexer": "ipython3",
   "version": "3.10.9"
  }
 },
 "nbformat": 4,
 "nbformat_minor": 5
}

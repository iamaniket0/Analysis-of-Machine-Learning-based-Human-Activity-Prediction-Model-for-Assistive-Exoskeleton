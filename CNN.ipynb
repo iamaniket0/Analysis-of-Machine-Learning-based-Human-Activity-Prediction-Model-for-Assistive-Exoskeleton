{
 "cells": [
  {
   "cell_type": "code",
   "execution_count": 1,
   "id": "a0b5ba42-9fee-4630-8eb5-36653ea58eac",
   "metadata": {},
   "outputs": [],
   "source": [
    "import os\n",
    "import pandas as pd\n",
    "import numpy as np\n",
    "import matplotlib.pyplot as plt\n",
    "import time\n",
    "os.chdir(r\"C:\\Users\\Aniket\\Desktop\\INTENTION\")\n",
    "x_train=np.load('X_train_ML.npy')\n",
    "y_train=np.load('Y_train_ML.npy')\n",
    "x_vel=np.load(\"X_vel_ML.npy\")\n",
    "y_vel=np.load(\"Y_vel_ML.npy\")\n",
    "min_m=np.load(\"min_m_ML.npy\")\n",
    "max_m=np.load(\"max_m_ML.npy\")\n"
   ]
  },
  {
   "cell_type": "code",
   "execution_count": 2,
   "id": "5f547eb4-0761-49d5-b45d-22ef61d19003",
   "metadata": {},
   "outputs": [
    {
     "name": "stdout",
     "output_type": "stream",
     "text": [
      "input shape: (129040, 500)\n",
      "output shape: (129040, 75)\n",
      "x_vel.shape (32261, 100, 5)\n",
      "y_vel.shape (32261, 15, 5)\n",
      "min_m.shape (1, 1, 5)\n",
      "max_m.shape (1, 1, 5)\n"
     ]
    }
   ],
   "source": [
    "shape=x_train.shape\n",
    "print(\"input shape:\",shape)\n",
    "Shapey=y_train.shape\n",
    "print(\"output shape:\",y_train.shape)\n",
    "print(\"x_vel.shape\",x_vel.shape)\n",
    "print(\"y_vel.shape\",y_vel.shape)\n",
    "print(\"min_m.shape\",min_m.shape)\n",
    "print(\"max_m.shape\",max_m.shape)"
   ]
  },
  {
   "cell_type": "code",
   "execution_count": 8,
   "id": "d1d76869-3b6b-4c96-bb26-729890bc8c7a",
   "metadata": {},
   "outputs": [
    {
     "name": "stdout",
     "output_type": "stream",
     "text": [
      "Model: \"sequential_1\"\n",
      "_________________________________________________________________\n",
      " Layer (type)                Output Shape              Param #   \n",
      "=================================================================\n",
      " reshape_1 (Reshape)         (None, 500, 1)            0         \n",
      "                                                                 \n",
      " conv1d_1 (Conv1D)           (None, 498, 32)           128       \n",
      "                                                                 \n",
      " max_pooling1d_1 (MaxPoolin  (None, 249, 32)           0         \n",
      " g1D)                                                            \n",
      "                                                                 \n",
      " flatten_1 (Flatten)         (None, 7968)              0         \n",
      "                                                                 \n",
      " dense_6 (Dense)             (None, 64)                510016    \n",
      "                                                                 \n",
      " dense_7 (Dense)             (None, 32)                2080      \n",
      "                                                                 \n",
      " dense_8 (Dense)             (None, 32)                1056      \n",
      "                                                                 \n",
      " dense_9 (Dense)             (None, 32)                1056      \n",
      "                                                                 \n",
      " dense_10 (Dense)            (None, 32)                1056      \n",
      "                                                                 \n",
      " dense_11 (Dense)            (None, 75)                2475      \n",
      "                                                                 \n",
      "=================================================================\n",
      "Total params: 517867 (1.98 MB)\n",
      "Trainable params: 517867 (1.98 MB)\n",
      "Non-trainable params: 0 (0.00 Byte)\n",
      "_________________________________________________________________\n",
      "Epoch 1/10\n",
      "2581/2581 [==============================] - 19s 7ms/step - loss: 2.6972 - val_loss: 2.1915\n",
      "Epoch 2/10\n",
      "2581/2581 [==============================] - 18s 7ms/step - loss: 2.1423 - val_loss: 2.0797\n",
      "Epoch 3/10\n",
      "2581/2581 [==============================] - 17s 7ms/step - loss: 2.0423 - val_loss: 2.0048\n",
      "Epoch 4/10\n",
      "2581/2581 [==============================] - 19s 7ms/step - loss: 1.9686 - val_loss: 1.9359\n",
      "Epoch 5/10\n",
      "2581/2581 [==============================] - 18s 7ms/step - loss: 1.9209 - val_loss: 1.9844\n",
      "Epoch 6/10\n",
      "2581/2581 [==============================] - 17s 6ms/step - loss: 1.8785 - val_loss: 1.8776\n",
      "Epoch 7/10\n",
      "2581/2581 [==============================] - 17s 7ms/step - loss: 1.8456 - val_loss: 1.8523\n",
      "Epoch 8/10\n",
      "2581/2581 [==============================] - 18s 7ms/step - loss: 1.8129 - val_loss: 1.8185\n",
      "Epoch 9/10\n",
      "2581/2581 [==============================] - 18s 7ms/step - loss: 1.7872 - val_loss: 1.7999\n",
      "Epoch 10/10\n",
      "2581/2581 [==============================] - 18s 7ms/step - loss: 1.7625 - val_loss: 1.7585\n",
      "3226/3226 [==============================] - 6s 2ms/step\n"
     ]
    }
   ],
   "source": [
    "\n",
    "import numpy as np\n",
    "from tensorflow.keras.models import Sequential\n",
    "from tensorflow.keras.layers import Conv1D, MaxPooling1D, Flatten, Dense, Reshape\n",
    "from sklearn.model_selection import train_test_split\n",
    "from sklearn.metrics import mean_squared_error, r2_score,mean_absolute_error\n",
    "\n",
    "x_train_split, x_test_split, y_train_split, y_test_split = train_test_split(x_train, y_train, test_size=0.2, random_state=42)\n",
    "model = Sequential()\n",
    "model.add(Reshape((500, 1), input_shape=(500,)))\n",
    "model.add(Conv1D(filters=32, kernel_size=3, activation='relu'))\n",
    "model.add(MaxPooling1D(pool_size=2))\n",
    "model.add(Flatten())\n",
    "model.add(Dense(64, activation='relu'))\n",
    "model.add(Dense(32, activation='relu'))\n",
    "model.add(Dense(32, activation='relu'))\n",
    "model.add(Dense(32, activation='relu'))\n",
    "model.add(Dense(32, activation='relu'))\n",
    "\n",
    "model.add(Dense(75))\n",
    "model.compile(optimizer='adam', loss='mean_squared_error')\n",
    "model.summary()\n",
    "model.fit(x_train_split, y_train_split, epochs=10, batch_size=32, validation_split=0.2)\n",
    "y_pred = model.predict(x_train_split)\n",
    "\n"
   ]
  },
  {
   "cell_type": "code",
   "execution_count": 9,
   "id": "00c6738d-de6f-4d96-bc26-f4120a5e8ad3",
   "metadata": {},
   "outputs": [
    {
     "name": "stdout",
     "output_type": "stream",
     "text": [
      "3226/3226 [==============================] - 5s 2ms/step\n",
      "Mean Squared Error (MSE) for train dataset: 1.7275845798925786\n",
      "Mean Absolute Error (MAE) for train dataset: 0.7353979927140323\n",
      "R-squared (R2) for train dataset: 0.6438643959377918\n"
     ]
    }
   ],
   "source": [
    "# ... (previous code for model definition and compilation)\n",
    "\n",
    "# Assuming you have already trained the model using `x_train_split` and `y_train_split`.\n",
    "# If not, you can train the model using `model.fit(x_train_split, y_train_split, epochs=epochs, batch_size=batch_size)`\n",
    "\n",
    "# Predict the target values on the training set\n",
    "y_train_pred = model.predict(x_train_split)\n",
    "\n",
    "# Calculate the Mean Squared Error (MSE)\n",
    "mse_train = mean_squared_error(y_train_split, y_train_pred)\n",
    "\n",
    "# Calculate the Mean Absolute Error (MAE)\n",
    "mae_train = mean_absolute_error(y_train_split, y_train_pred)\n",
    "\n",
    "# Calculate the R-squared (R2)\n",
    "r2_train = r2_score(y_train_split, y_train_pred)\n",
    "\n",
    "# Print the results\n",
    "print(\"Mean Squared Error (MSE) for train dataset:\", mse_train)\n",
    "print(\"Mean Absolute Error (MAE) for train dataset:\", mae_train)\n",
    "print(\"R-squared (R2) for train dataset:\", r2_train)\n"
   ]
  },
  {
   "cell_type": "code",
   "execution_count": null,
   "id": "1d08ed3a-48bb-470a-a879-8ae280a49bae",
   "metadata": {},
   "outputs": [
    {
     "ename": "NameError",
     "evalue": "name 'history' is not defined",
     "output_type": "error",
     "traceback": [
      "\u001b[1;31m---------------------------------------------------------------------------\u001b[0m",
      "\u001b[1;31mNameError\u001b[0m                                 Traceback (most recent call last)",
      "Cell \u001b[1;32mIn[4], line 1\u001b[0m\n\u001b[1;32m----> 1\u001b[0m train_loss \u001b[38;5;241m=\u001b[39m \u001b[43mhistory\u001b[49m\u001b[38;5;241m.\u001b[39mhistory[\u001b[38;5;124m'\u001b[39m\u001b[38;5;124mloss\u001b[39m\u001b[38;5;124m'\u001b[39m]\n\u001b[0;32m      2\u001b[0m val_loss \u001b[38;5;241m=\u001b[39m history\u001b[38;5;241m.\u001b[39mhistory[\u001b[38;5;124m'\u001b[39m\u001b[38;5;124mval_loss\u001b[39m\u001b[38;5;124m'\u001b[39m]\n\u001b[0;32m      3\u001b[0m epochs \u001b[38;5;241m=\u001b[39m \u001b[38;5;28mrange\u001b[39m(\u001b[38;5;241m1\u001b[39m, \u001b[38;5;28mlen\u001b[39m(train_loss) \u001b[38;5;241m+\u001b[39m \u001b[38;5;241m1\u001b[39m)\n",
      "\u001b[1;31mNameError\u001b[0m: name 'history' is not defined"
     ]
    }
   ],
   "source": [
    "\n",
    "history = model.fit(x_train_split, y_train_split, epochs=100, batch_size=32, validation_split=0.2)\n",
    "train_loss = history.history['loss']\n",
    "val_loss = history.history['val_loss']\n",
    "epochs = range(1, len(train_loss) + 1)\n",
    "plt.plot(epochs, train_loss, 'b', label='Training Loss')\n",
    "plt.plot(epochs, val_loss, 'r', label='Validation Loss')\n",
    "plt.title('Training and Validation Loss')\n",
    "plt.xlabel('Epochs')\n",
    "plt.ylabel('Loss')\n",
    "plt.legend()\n",
    "plt.show()\n",
    "\n"
   ]
  },
  {
   "cell_type": "code",
   "execution_count": 34,
   "id": "553251b0-1a8b-41e6-816a-3d491acb3853",
   "metadata": {},
   "outputs": [
    {
     "name": "stdout",
     "output_type": "stream",
     "text": [
      "Epoch 1/10\n",
      "2581/2581 [==============================] - 23s 9ms/step - loss: 1.3986 - val_loss: 1.5313\n",
      "Epoch 2/10\n",
      "2581/2581 [==============================] - 22s 9ms/step - loss: 1.3967 - val_loss: 1.5619\n",
      "Epoch 3/10\n",
      "2581/2581 [==============================] - 22s 9ms/step - loss: 1.3967 - val_loss: 1.5437\n",
      "Epoch 4/10\n",
      "2581/2581 [==============================] - 22s 9ms/step - loss: 1.3954 - val_loss: 1.5503\n",
      "Epoch 5/10\n",
      "2581/2581 [==============================] - 22s 9ms/step - loss: 1.3953 - val_loss: 1.6342\n",
      "Epoch 6/10\n",
      "2581/2581 [==============================] - 23s 9ms/step - loss: 1.3915 - val_loss: 1.5806\n",
      "Epoch 7/10\n",
      "2581/2581 [==============================] - 22s 9ms/step - loss: 1.3922 - val_loss: 1.5807\n",
      "Epoch 8/10\n",
      "2581/2581 [==============================] - 23s 9ms/step - loss: 1.3926 - val_loss: 1.5683\n",
      "Epoch 9/10\n",
      "2581/2581 [==============================] - 23s 9ms/step - loss: 1.3907 - val_loss: 1.5666\n",
      "Epoch 10/10\n",
      "2581/2581 [==============================] - 22s 9ms/step - loss: 1.3905 - val_loss: 1.5601\n",
      "Training time: 226.79 seconds\n"
     ]
    }
   ],
   "source": [
    "start_time = time.time()\n",
    "model.fit(x_train_split, y_train_split, epochs=10, batch_size=32, validation_split=0.2)\n",
    "end_time = time.time()\n",
    "training_time = end_time - start_time\n",
    "print(f\"Training time: {training_time:.2f} seconds\")"
   ]
  },
  {
   "cell_type": "code",
   "execution_count": 8,
   "id": "2c733ac4-20f0-420d-b71b-bfcbfbfdb312",
   "metadata": {},
   "outputs": [
    {
     "name": "stdout",
     "output_type": "stream",
     "text": [
      "Memory Used: 2037846016 bytes\n"
     ]
    }
   ],
   "source": [
    "import psutil\n",
    "\n",
    "def get_memory_used():\n",
    "    process = psutil.Process()\n",
    "    memory_info = process.memory_info()\n",
    "    memory_used = memory_info.rss  # Resident Set Size (non-swapped physical memory usage)\n",
    "    return memory_used\n",
    "\n",
    "if __name__ == \"__main__\":\n",
    "    memory_used = get_memory_used()\n",
    "    print(f\"Memory Used: {memory_used} bytes\")\n"
   ]
  },
  {
   "cell_type": "code",
   "execution_count": 35,
   "id": "7dd20f00-ead3-4caa-bcd3-e9f3e9497f99",
   "metadata": {},
   "outputs": [
    {
     "name": "stdout",
     "output_type": "stream",
     "text": [
      "807/807 [==============================] - 2s 2ms/step\n",
      "Standard Deviation of Predictions: 2.1405911\n"
     ]
    }
   ],
   "source": [
    "import numpy as np\n",
    "\n",
    "# Assuming you have already trained the model and made predictions on x_test_split\n",
    "y_pred = model.predict(x_test_split)\n",
    "\n",
    "# Calculate the standard deviation of the predictions\n",
    "std_deviation = np.std(y_pred)\n",
    "\n",
    "print(\"Standard Deviation of Predictions:\", std_deviation)\n"
   ]
  },
  {
   "cell_type": "code",
   "execution_count": 36,
   "id": "c1c11574-3d71-4dd3-acd4-af498f85f08c",
   "metadata": {},
   "outputs": [
    {
     "name": "stdout",
     "output_type": "stream",
     "text": [
      "0.7161777521537259\n"
     ]
    }
   ],
   "source": [
    "from sklearn.metrics import mean_squared_error, r2_score,mean_absolute_error\n",
    "print(mean_absolute_error(y_test_split, y_pred))"
   ]
  },
  {
   "cell_type": "code",
   "execution_count": 37,
   "id": "26cfb49f-5f53-4a93-92ed-90982ad838ae",
   "metadata": {},
   "outputs": [
    {
     "name": "stdout",
     "output_type": "stream",
     "text": [
      "shape of min_m: (1, 1, 5)\n",
      "min_m_reshape= (1, 5)\n",
      "max_m_reshape= (1, 5)\n"
     ]
    }
   ],
   "source": [
    "print(\"shape of min_m:\",min_m.shape)\n",
    "min_m_reshape=min_m.reshape(-1,5)\n",
    "print(\"min_m_reshape=\",min_m_reshape.shape)\n",
    "max_m_reshape=max_m.reshape(-1,5)\n",
    "print(\"max_m_reshape=\",max_m_reshape.shape)"
   ]
  },
  {
   "cell_type": "code",
   "execution_count": 38,
   "id": "9e48a5f8-bbbb-4faa-91c7-6c2dd0d7b34d",
   "metadata": {},
   "outputs": [
    {
     "name": "stdout",
     "output_type": "stream",
     "text": [
      "x_test12.shape: (16046, 100, 5)\n",
      "y_test12.shape: (16046, 15, 5)\n"
     ]
    }
   ],
   "source": [
    "x_test12=np.load('x_in12.npy')\n",
    "y_test12=np.load('y_op12.npy')\n",
    "print(\"x_test12.shape:\",x_test12.shape)\n",
    "print(\"y_test12.shape:\",y_test12.shape)"
   ]
  },
  {
   "cell_type": "code",
   "execution_count": 39,
   "id": "c0fec217-380b-4b25-b9f9-1e46e8681b9e",
   "metadata": {},
   "outputs": [
    {
     "name": "stdout",
     "output_type": "stream",
     "text": [
      "[[[0.3827419  0.51593461 0.4018613  0.45883533 0.50436771]\n",
      "  [0.38202139 0.51656545 0.40224799 0.45907565 0.50400144]\n",
      "  [0.38245823 0.51746373 0.40222012 0.45895361 0.50456772]\n",
      "  ...\n",
      "  [0.39219826 0.51257151 0.40065783 0.45382585 0.49483494]\n",
      "  [0.39106777 0.50947188 0.40130774 0.45306802 0.49664447]\n",
      "  [0.38750032 0.50947963 0.40153741 0.45196297 0.4995851 ]]\n",
      "\n",
      " [[0.38202139 0.51656545 0.40224799 0.45907565 0.50400144]\n",
      "  [0.38245823 0.51746373 0.40222012 0.45895361 0.50456772]\n",
      "  [0.38202444 0.51787686 0.40220234 0.45883839 0.50465072]\n",
      "  ...\n",
      "  [0.39106777 0.50947188 0.40130774 0.45306802 0.49664447]\n",
      "  [0.38750032 0.50947963 0.40153741 0.45196297 0.4995851 ]\n",
      "  [0.38472053 0.51065097 0.40160003 0.45089831 0.5050765 ]]\n",
      "\n",
      " [[0.38245823 0.51746373 0.40222012 0.45895361 0.50456772]\n",
      "  [0.38202444 0.51787686 0.40220234 0.45883839 0.50465072]\n",
      "  [0.38244254 0.51851574 0.40217068 0.45895275 0.50404554]\n",
      "  ...\n",
      "  [0.38750032 0.50947963 0.40153741 0.45196297 0.4995851 ]\n",
      "  [0.38472053 0.51065097 0.40160003 0.45089831 0.5050765 ]\n",
      "  [0.38475262 0.51275956 0.40162165 0.45054716 0.50752758]]\n",
      "\n",
      " ...\n",
      "\n",
      " [[0.38603076 0.51289352 0.39720267 0.45006354 0.49784557]\n",
      "  [0.38569869 0.51312064 0.39915587 0.44852921 0.49775446]\n",
      "  [0.3849128  0.51355732 0.40080827 0.44778237 0.49747077]\n",
      "  ...\n",
      "  [0.38445668 0.51839719 0.40310835 0.45469513 0.50002987]\n",
      "  [0.38460118 0.51843393 0.4028684  0.45447606 0.49949359]\n",
      "  [0.38449499 0.51856838 0.40229638 0.4545214  0.49881108]]\n",
      "\n",
      " [[0.38569869 0.51312064 0.39915587 0.44852921 0.49775446]\n",
      "  [0.3849128  0.51355732 0.40080827 0.44778237 0.49747077]\n",
      "  [0.38469555 0.5141996  0.40225858 0.44751687 0.49780133]\n",
      "  ...\n",
      "  [0.38460118 0.51843393 0.4028684  0.45447606 0.49949359]\n",
      "  [0.38449499 0.51856838 0.40229638 0.4545214  0.49881108]\n",
      "  [0.38507668 0.51825519 0.40188097 0.45431606 0.49787693]]\n",
      "\n",
      " [[0.3849128  0.51355732 0.40080827 0.44778237 0.49747077]\n",
      "  [0.38469555 0.5141996  0.40225858 0.44751687 0.49780133]\n",
      "  [0.38317528 0.51503507 0.40384194 0.44807547 0.49746718]\n",
      "  ...\n",
      "  [0.38449499 0.51856838 0.40229638 0.4545214  0.49881108]\n",
      "  [0.38507668 0.51825519 0.40188097 0.45431606 0.49787693]\n",
      "  [0.38527076 0.51877359 0.40210825 0.45429363 0.49762988]]]\n"
     ]
    }
   ],
   "source": [
    "x_norm=(x_test12-min_m_reshape)/(max_m_reshape-min_m_reshape)\n",
    "print(x_norm)"
   ]
  },
  {
   "cell_type": "code",
   "execution_count": 40,
   "id": "ace39123-f101-4c86-838d-686b7a8720f5",
   "metadata": {},
   "outputs": [
    {
     "name": "stdout",
     "output_type": "stream",
     "text": [
      "x_test12_reshape shape: (16046, 500)\n",
      "y_test12_reshape shape: (16046, 75)\n"
     ]
    }
   ],
   "source": [
    "x_test12_reshape= x_test12.reshape(-1, 500)\n",
    "print(\"x_test12_reshape shape:\",x_test12_reshape.shape)\n",
    "y_test12_reshape= y_test12.reshape(-1, 75)\n",
    "print(\"y_test12_reshape shape:\",y_test12_reshape.shape)"
   ]
  },
  {
   "cell_type": "code",
   "execution_count": 41,
   "id": "2784a517-9d5b-4de7-8b1e-9cfa580e0621",
   "metadata": {},
   "outputs": [
    {
     "name": "stdout",
     "output_type": "stream",
     "text": [
      "502/502 [==============================] - 1s 2ms/step\n"
     ]
    }
   ],
   "source": [
    "y_pred_test = model.predict(x_test12_reshape)"
   ]
  },
  {
   "cell_type": "code",
   "execution_count": 42,
   "id": "3c242419-4d9e-4515-b411-938aa9e9dd83",
   "metadata": {},
   "outputs": [
    {
     "name": "stdout",
     "output_type": "stream",
     "text": [
      "13489.059476007098\n",
      "-4668.013608997836\n",
      "93.436795055066\n"
     ]
    }
   ],
   "source": [
    "from sklearn.metrics import r2_score\n",
    "from sklearn.metrics import mean_squared_error\n",
    "from sklearn.metrics import mean_absolute_error\n",
    "\n",
    "print(mean_squared_error(y_test12_reshape,y_pred_test))\n",
    "print(r2_score(y_test12_reshape,y_pred_test))\n",
    "print(mean_absolute_error(y_test12_reshape,y_pred_test))"
   ]
  },
  {
   "cell_type": "code",
   "execution_count": 43,
   "id": "586c6626-3250-479a-86c1-e6ed416d0fbb",
   "metadata": {},
   "outputs": [
    {
     "name": "stdout",
     "output_type": "stream",
     "text": [
      "502/502 [==============================] - 1s 2ms/step\n",
      "Standard Deviation of Predictions: 117.28798\n"
     ]
    }
   ],
   "source": [
    "import numpy as np\n",
    "\n",
    "# Assuming you have already trained the model and made predictions on x_test_split\n",
    "y_pred = model.predict(x_test12_reshape)\n",
    "\n",
    "# Calculate the standard deviation of the predictions\n",
    "std_deviation = np.std(y_pred_test)\n",
    "\n",
    "print(\"Standard Deviation of Predictions:\", std_deviation)"
   ]
  },
  {
   "cell_type": "code",
   "execution_count": null,
   "id": "453fd769-e69d-4239-8fde-4f5d224c02a8",
   "metadata": {},
   "outputs": [],
   "source": []
  }
 ],
 "metadata": {
  "kernelspec": {
   "display_name": "Python 3 (ipykernel)",
   "language": "python",
   "name": "python3"
  },
  "language_info": {
   "codemirror_mode": {
    "name": "ipython",
    "version": 3
   },
   "file_extension": ".py",
   "mimetype": "text/x-python",
   "name": "python",
   "nbconvert_exporter": "python",
   "pygments_lexer": "ipython3",
   "version": "3.10.9"
  }
 },
 "nbformat": 4,
 "nbformat_minor": 5
}

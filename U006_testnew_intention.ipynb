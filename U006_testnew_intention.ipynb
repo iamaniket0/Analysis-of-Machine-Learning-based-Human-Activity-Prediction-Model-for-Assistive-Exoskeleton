{
 "cells": [
  {
   "cell_type": "code",
   "execution_count": 57,
   "id": "d161ad03-4ecf-44b7-bd9d-30ec8372bedb",
   "metadata": {},
   "outputs": [],
   "source": [
    "import os\n",
    "import pandas as pd\n",
    "import numpy as np\n",
    "import matplotlib.pyplot as plt"
   ]
  },
  {
   "cell_type": "code",
   "execution_count": 58,
   "id": "c96abcd3-582d-4256-b338-5de41601b2e4",
   "metadata": {},
   "outputs": [
    {
     "name": "stdout",
     "output_type": "stream",
     "text": [
      "C:\\Users\\Aniket\\Desktop\\INTENTION\n"
     ]
    }
   ],
   "source": [
    "cd=os.getcwd()\n",
    "print(cd)\n"
   ]
  },
  {
   "cell_type": "code",
   "execution_count": 59,
   "id": "f5d29c3e-8fd3-4150-bb9b-49ecfc6f7401",
   "metadata": {},
   "outputs": [],
   "source": [
    "os.chdir(r\"C:\\Users\\Aniket\\Desktop\\INTENTION\")"
   ]
  },
  {
   "cell_type": "code",
   "execution_count": 60,
   "id": "312ea5ad-4010-472e-bbfb-a3951304b341",
   "metadata": {},
   "outputs": [
    {
     "name": "stdout",
     "output_type": "stream",
     "text": [
      "C:\\Users\\Aniket\\Desktop\\INTENTION\n"
     ]
    }
   ],
   "source": [
    "cd=os.getcwd()\n",
    "print(cd)"
   ]
  },
  {
   "cell_type": "code",
   "execution_count": 61,
   "id": "da2a0c6b-6c29-40a1-895f-353ad04e8f4b",
   "metadata": {},
   "outputs": [
    {
     "name": "stdout",
     "output_type": "stream",
     "text": [
      "['arrays.npz', 'max_m.npy', 'max_m_ML.npy', 'min_m.npy', 'min_m_ML.npy', 'U001_test_intention.csv', 'U001_train_intention.csv', 'U001_val_intention.csv', 'U002_test_intention.csv', 'U002_train_intention.csv', 'U002_val_intention.csv', 'U003_test_intention.csv', 'U003_train_intention.csv', 'U003_val_intention.csv', 'U004_test_intention.csv', 'U004_train_intention.csv', 'U004_val_intention.csv', 'U005_test_intention.csv', 'U005_train_intention.csv', 'U005_val_intention.csv', 'U006_test_intention.csv', 'U006_train_intention.csv', 'U006_val_intention.csv', 'U007_test_intention.csv', 'U007_train_intention.csv', 'U007_val_intention.csv', 'U008_test_intention.csv', 'U008_train_intention.csv', 'U008_val_intention.csv', 'U009_test_intention.csv', 'U009_train_intention.csv', 'U009_val_intention.csv', 'U010_test_intention.csv', 'U010_train_intention.csv', 'U010_val_intention.csv', 'U011_test_intention.csv', 'U011_train_intention.csv', 'U011_val_intention.csv', 'U012_test_intention.csv', 'U012_train_intention.csv', 'U012_val_intention.csv', 'x_in.npy', 'x_in1.npy', 'x_in10.npy', 'x_in11.npy', 'x_in12.npy', 'x_in2.npy', 'x_in3.npy', 'x_in4.npy', 'x_in5.npy', 'x_in6.npy', 'x_in7.npy', 'x_in8.npy', 'x_in9.npy', 'x_in=.npy', 'x_incom.npy', 'X_train.npy', 'X_vel.npy', 'X_vel_ML.npy', 'y_op.npy', 'y_op1.npy', 'y_op10.npy', 'y_op11.npy', 'y_op12.npy', 'y_op2.npy', 'y_op3.npy', 'y_op4.npy', 'y_op5.npy', 'y_op6.npy', 'y_op7.npy', 'y_op8.npy', 'y_op9.npy', 'y_opcom.npy', 'Y_train.npy', 'Y_train_ML.npy', 'Y_vel.npy', 'Y_vel_ML.npy']\n"
     ]
    }
   ],
   "source": [
    "items=os.listdir(cd)\n",
    "print(items)"
   ]
  },
  {
   "cell_type": "code",
   "execution_count": 62,
   "id": "cba961f2-e95e-471f-80e5-089675d78d48",
   "metadata": {},
   "outputs": [
    {
     "name": "stdout",
     "output_type": "stream",
     "text": [
      "   Axel_X_C9  Axel_Y_C9  Axel_Z_C9  Gyro_X_C9  Gyro_Y_C9  Gyro_Z_C9  \\\n",
      "0   9.736633  -1.093421  -1.001198   0.004058  -0.006367   0.009223   \n",
      "1   9.814605  -1.070758  -1.042814   0.001104  -0.004754   0.007595   \n",
      "2   9.812282  -1.072453  -1.018939  -0.008086  -0.003086   0.008745   \n",
      "3   9.836481  -1.074191  -1.016890  -0.012624   0.003078   0.010192   \n",
      "4   9.785650  -1.073981  -0.996498  -0.007767   0.007661   0.005917   \n",
      "\n",
      "   Axel_X_3B  Axel_Y_3B  Axel_Z_3B  Gyro_X_3B  ...  Gyro_X_B6  Gyro_Y_B6  \\\n",
      "0   9.789070   0.069454  -0.782290   0.006157  ...   0.012852   0.042103   \n",
      "1   9.793871   0.038283  -0.852972   0.004732  ...   0.008748   0.019909   \n",
      "2   9.840956   0.065626  -0.828216   0.006258  ...   0.013478   0.018660   \n",
      "3   9.814945   0.043699  -0.803660   0.001527  ...   0.010550   0.017505   \n",
      "4   9.860415   0.000125  -0.747673  -0.001527  ...   0.006630   0.026609   \n",
      "\n",
      "   Gyro_Z_B6  Axel_X_BB  Axel_Y_BB  Axel_Z_BB  Gyro_X_BB  Gyro_Y_BB  \\\n",
      "0  -0.021448   8.809536  -3.176395   4.336789  -0.014011  -0.017335   \n",
      "1  -0.023720   8.771688  -3.226909   4.366696  -0.024809  -0.016851   \n",
      "2  -0.025165   8.773414  -3.221935   4.388485  -0.030907  -0.017058   \n",
      "3  -0.018860   8.759529  -3.276116   4.369138  -0.029386  -0.016604   \n",
      "4  -0.016704   8.745598  -3.333689   4.325791  -0.018587  -0.017084   \n",
      "\n",
      "   Gyro_Z_BB  target  \n",
      "0  -0.032484     0.0  \n",
      "1  -0.033997     0.0  \n",
      "2  -0.029345     0.0  \n",
      "3  -0.024779     0.0  \n",
      "4  -0.023270     0.0  \n",
      "\n",
      "[5 rows x 31 columns]\n"
     ]
    }
   ],
   "source": [
    "path=os.path.join(cd,\"U006_test_intention.csv\")\n",
    "df1=pd.read_csv(path)\n",
    "print(df1.head(5))"
   ]
  },
  {
   "cell_type": "code",
   "execution_count": 63,
   "id": "0b80ff8e-7fa5-4583-9fcf-0085402c6f5d",
   "metadata": {},
   "outputs": [
    {
     "name": "stdout",
     "output_type": "stream",
     "text": [
      "<class 'pandas.core.frame.DataFrame'>\n",
      "RangeIndex: 15704 entries, 0 to 15703\n",
      "Data columns (total 31 columns):\n",
      " #   Column     Non-Null Count  Dtype  \n",
      "---  ------     --------------  -----  \n",
      " 0   Axel_X_C9  15704 non-null  float64\n",
      " 1   Axel_Y_C9  15704 non-null  float64\n",
      " 2   Axel_Z_C9  15704 non-null  float64\n",
      " 3   Gyro_X_C9  15704 non-null  float64\n",
      " 4   Gyro_Y_C9  15704 non-null  float64\n",
      " 5   Gyro_Z_C9  15704 non-null  float64\n",
      " 6   Axel_X_3B  15704 non-null  float64\n",
      " 7   Axel_Y_3B  15704 non-null  float64\n",
      " 8   Axel_Z_3B  15704 non-null  float64\n",
      " 9   Gyro_X_3B  15704 non-null  float64\n",
      " 10  Gyro_Y_3B  15704 non-null  float64\n",
      " 11  Gyro_Z_3B  15704 non-null  float64\n",
      " 12  Axel_X_B5  15704 non-null  float64\n",
      " 13  Axel_Y_B5  15704 non-null  float64\n",
      " 14  Axel_Z_B5  15704 non-null  float64\n",
      " 15  Gyro_X_B5  15704 non-null  float64\n",
      " 16  Gyro_Y_B5  15704 non-null  float64\n",
      " 17  Gyro_Z_B5  15704 non-null  float64\n",
      " 18  Axel_X_B6  15704 non-null  float64\n",
      " 19  Axel_Y_B6  15704 non-null  float64\n",
      " 20  Axel_Z_B6  15704 non-null  float64\n",
      " 21  Gyro_X_B6  15704 non-null  float64\n",
      " 22  Gyro_Y_B6  15704 non-null  float64\n",
      " 23  Gyro_Z_B6  15704 non-null  float64\n",
      " 24  Axel_X_BB  15704 non-null  float64\n",
      " 25  Axel_Y_BB  15704 non-null  float64\n",
      " 26  Axel_Z_BB  15704 non-null  float64\n",
      " 27  Gyro_X_BB  15704 non-null  float64\n",
      " 28  Gyro_Y_BB  15704 non-null  float64\n",
      " 29  Gyro_Z_BB  15704 non-null  float64\n",
      " 30  target     15704 non-null  float64\n",
      "dtypes: float64(31)\n",
      "memory usage: 3.7 MB\n",
      "None\n"
     ]
    }
   ],
   "source": [
    "print(df1.info())"
   ]
  },
  {
   "cell_type": "code",
   "execution_count": 64,
   "id": "68dfceca-dfe2-41af-85cc-c889da7c6fee",
   "metadata": {},
   "outputs": [
    {
     "name": "stdout",
     "output_type": "stream",
     "text": [
      "   Axel_Y_C9  Gyro_Y_C9  Axel_Y_3B  Gyro_Y_3B  Axel_Y_B5\n",
      "0  -1.093421  -0.006367   0.069454  -0.004630   2.327948\n",
      "1  -1.070758  -0.004754   0.038283  -0.001733   2.333000\n",
      "2  -1.072453  -0.003086   0.065626  -0.004778   2.306310\n",
      "3  -1.074191   0.003078   0.043699  -0.004570   2.353807\n",
      "4  -1.073981   0.007661   0.000125  -0.004580   2.365415\n",
      "(15704, 5)\n",
      "[[-1.093421e+00 -6.367000e-03  6.945400e-02 -4.630000e-03  2.327948e+00]\n",
      " [-1.070758e+00 -4.754000e-03  3.828300e-02 -1.733000e-03  2.333000e+00]\n",
      " [-1.072453e+00 -3.086000e-03  6.562600e-02 -4.778000e-03  2.306310e+00]\n",
      " ...\n",
      " [-3.672260e-01 -2.941000e-03  7.606800e-02 -5.700000e-04  2.242769e+00]\n",
      " [-3.177530e-01  1.628000e-03  7.310000e-02  1.642500e-02  2.236202e+00]\n",
      " [-2.909700e-01  8.477000e-03  4.310600e-02  2.845300e-02  2.219915e+00]]\n"
     ]
    }
   ],
   "source": [
    "Gyro_Y=df1.iloc[:,[1,4,7,10,13]]\n",
    "Dat=Gyro_Y.values\n",
    "print(Gyro_Y.head())\n",
    "print(Dat.shape)\n",
    "print(Dat)"
   ]
  },
  {
   "cell_type": "code",
   "execution_count": 65,
   "id": "7b7305ce-0625-4fe9-af75-c5b70eb36048",
   "metadata": {},
   "outputs": [
    {
     "name": "stdout",
     "output_type": "stream",
     "text": [
      "15704\n",
      "15590\n"
     ]
    }
   ],
   "source": [
    "#windowed output shape [m x o] where m=Sample-(window+output)+1\n",
    "#and windowed input shape will be [mxw].\n",
    "\n",
    "Sample=Gyro_Y.shape[0]\n",
    "print(Sample)\n",
    "window=100\n",
    "output=15\n",
    "m=Sample-(window+output)+1\n",
    "\n",
    "X=np.zeros((m,window))\n",
    "y=np.zeros((m,output))\n",
    "print(m)"
   ]
  },
  {
   "cell_type": "code",
   "execution_count": 66,
   "id": "27d7c876-1ffd-41f8-a23d-618c351d8552",
   "metadata": {},
   "outputs": [
    {
     "name": "stdout",
     "output_type": "stream",
     "text": [
      "x_in:\n",
      "(15590, 100, 5)\n",
      "(15590, 15, 5)\n"
     ]
    }
   ],
   "source": [
    "import numpy as np\n",
    "\n",
    "\n",
    "\n",
    "#taking window input as 100 and window ouput as 15 for sample=m  \n",
    "x_in = np.zeros((m,100,5))\n",
    "y_op = np.zeros((m,15,5))\n",
    "\n",
    "\n",
    "for i in range(m):\n",
    "    # Store the first 100 rows\n",
    "   # print(\"x_in[i:,:,].shape\",x_in[i,:,:].shape,\"y_op[i:,:,].shape\",y_op[i,:,:].shape,\"Dat[i:i+100,:].shape\",Dat[i:i+100,:].shape,\"Dat[i+100:i+115,:].shape\",Dat[i+100:i+115,:].shape)\n",
    "    x_in[i,:,:] =Dat[i:i+100,:]\n",
    "    y_op[i,:,:]=Dat[i+100:i+115,:]\n",
    "     \n",
    "    \n",
    " \n",
    "    \n",
    "\n",
    "    # Print the stored arrays\n",
    "print(\"x_in:\")\n",
    "print(x_in.shape)\n",
    "print(y_op.shape)\n",
    "   \n",
    "\n",
    "    \n",
    "\n",
    " \n",
    "\n",
    "\n"
   ]
  },
  {
   "cell_type": "code",
   "execution_count": 67,
   "id": "353683b7-94b2-44e9-9d03-bd4e1eded126",
   "metadata": {},
   "outputs": [],
   "source": [
    "\n",
    "\n",
    "# Save arrays to a file\n",
    "np.save('x_in6.npy',x_in)\n",
    "np.save('y_op6.npy',y_op)\n"
   ]
  },
  {
   "cell_type": "code",
   "execution_count": null,
   "id": "5d45e9ba-d9d8-4634-a50c-efb6afc535ba",
   "metadata": {},
   "outputs": [],
   "source": []
  }
 ],
 "metadata": {
  "kernelspec": {
   "display_name": "Python 3 (ipykernel)",
   "language": "python",
   "name": "python3"
  },
  "language_info": {
   "codemirror_mode": {
    "name": "ipython",
    "version": 3
   },
   "file_extension": ".py",
   "mimetype": "text/x-python",
   "name": "python",
   "nbconvert_exporter": "python",
   "pygments_lexer": "ipython3",
   "version": "3.10.9"
  }
 },
 "nbformat": 4,
 "nbformat_minor": 5
}

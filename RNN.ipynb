{
 "cells": [
  {
   "cell_type": "code",
   "execution_count": 1,
   "id": "e856e9c1-995f-4f80-a58c-1742b9e74146",
   "metadata": {},
   "outputs": [],
   "source": [
    "import os\n",
    "import pandas as pd\n",
    "import numpy as np\n",
    "import matplotlib.pyplot as plt\n",
    "os.chdir(r\"C:\\Users\\Aniket\\Desktop\\INTENTION\")\n",
    "x_train=np.load('X_train_ML.npy')\n",
    "y_train=np.load('Y_train_ML.npy')\n",
    "x_vel=np.load(\"X_vel_ML.npy\")\n",
    "y_vel=np.load(\"Y_vel_ML.npy\")\n",
    "min_m=np.load(\"min_m_ML.npy\")\n",
    "max_m=np.load(\"max_m_ML.npy\")"
   ]
  },
  {
   "cell_type": "code",
   "execution_count": 2,
   "id": "74a108ba-1a9b-488e-a160-c13215d2f157",
   "metadata": {},
   "outputs": [
    {
     "name": "stdout",
     "output_type": "stream",
     "text": [
      "input shape: (129040, 500)\n",
      "output shape: (129040, 75)\n",
      "x_vel.shape (32261, 100, 5)\n",
      "y_vel.shape (32261, 15, 5)\n",
      "min_m.shape (1, 1, 5)\n",
      "max_m.shape (1, 1, 5)\n"
     ]
    }
   ],
   "source": [
    "shape=x_train.shape\n",
    "print(\"input shape:\",shape)\n",
    "Shapey=y_train.shape\n",
    "print(\"output shape:\",y_train.shape)\n",
    "print(\"x_vel.shape\",x_vel.shape)\n",
    "print(\"y_vel.shape\",y_vel.shape)\n",
    "print(\"min_m.shape\",min_m.shape)\n",
    "print(\"max_m.shape\",max_m.shape)"
   ]
  },
  {
   "cell_type": "code",
   "execution_count": 4,
   "id": "eefb784d-3e54-44d6-b1b8-06b97f2a49e1",
   "metadata": {},
   "outputs": [
    {
     "name": "stdout",
     "output_type": "stream",
     "text": [
      "x_vel.shape (32261, 100, 5)\n",
      "x_val_reshaped.shspe: (32261, 500)\n",
      "y_val_reshaped.shspe: (32261, 75)\n"
     ]
    }
   ],
   "source": [
    "print(\"x_vel.shape\",x_vel.shape)\n",
    "x_val_reshaped = x_vel.reshape(-1, 500)\n",
    "print(\"x_val_reshaped.shspe:\",x_val_reshaped.shape)\n",
    "y_val_reshaped=y_vel.reshape(-1,75)\n",
    "print(\"y_val_reshaped.shspe:\",y_val_reshaped.shape)"
   ]
  },
  {
   "cell_type": "code",
   "execution_count": 6,
   "id": "c3cda93f-67a5-4c5b-99fc-0d51dbfbaa00",
   "metadata": {},
   "outputs": [
    {
     "name": "stdout",
     "output_type": "stream",
     "text": [
      "Epoch 1/10\n",
      "4033/4033 [==============================] - 114s 28ms/step - loss: 2.5275\n",
      "Epoch 2/10\n",
      "4033/4033 [==============================] - 113s 28ms/step - loss: 2.2518\n",
      "Epoch 3/10\n",
      "4033/4033 [==============================] - 113s 28ms/step - loss: 2.1930\n",
      "Epoch 4/10\n",
      "4033/4033 [==============================] - 112s 28ms/step - loss: 2.1365\n",
      "Epoch 5/10\n",
      "4033/4033 [==============================] - 112s 28ms/step - loss: 2.0880\n",
      "Epoch 6/10\n",
      "4033/4033 [==============================] - 112s 28ms/step - loss: 2.0537\n",
      "Epoch 7/10\n",
      "4033/4033 [==============================] - 113s 28ms/step - loss: 2.0285\n",
      "Epoch 8/10\n",
      "4033/4033 [==============================] - 113s 28ms/step - loss: 2.0164\n",
      "Epoch 9/10\n",
      "4033/4033 [==============================] - 113s 28ms/step - loss: 1.9999\n",
      "Epoch 10/10\n",
      "4033/4033 [==============================] - 113s 28ms/step - loss: 3.0097\n"
     ]
    }
   ],
   "source": [
    "import tensorflow as tf\n",
    "from tensorflow.keras.models import Sequential\n",
    "from tensorflow.keras.layers import Dense, SimpleRNN\n",
    "from tensorflow.keras.regularizers import l1, l2\n",
    "model = Sequential()\n",
    "model.add(SimpleRNN(units=64, input_shape=(500, 1), kernel_regularizer=l1(1e-16), recurrent_regularizer=l1(1e-16), bias_regularizer=l1(1e-16)))\n",
    "model.add(Dense(units=75, kernel_regularizer=l2(1e-16)))\n",
    "model.add(Dense(units=75, kernel_regularizer=l2(1e-16)))\n",
    "model.add(Dense(units=75, kernel_regularizer=l2(1e-16)))\n",
    "model.add(Dense(units=75, kernel_regularizer=l2(1e-16)))\n",
    "model.add(Dense(units=75, kernel_regularizer=l2(1e-16)))\n",
    "model.compile(optimizer='adam', loss='mean_squared_error')\n",
    "\n",
    "history=model.fit(x_train, y_train, epochs=10, batch_size=32)\n",
    "\n"
   ]
  },
  {
   "cell_type": "code",
   "execution_count": 7,
   "id": "01a0396d-9dd2-4fb1-863e-c3fb2be6d67d",
   "metadata": {},
   "outputs": [
    {
     "name": "stdout",
     "output_type": "stream",
     "text": [
      "4033/4033 [==============================] - 43s 11ms/step\n",
      "R-squared (R2): 0.5700445301857933\n",
      "Mean Squared Error (MSE): 2.553910207223861\n"
     ]
    }
   ],
   "source": [
    "\n",
    "x_train_reshaped = x_train.reshape((x_train.shape[0], x_train.shape[1], 1))\n",
    "y_train_reshaped = y_train.reshape((y_train.shape[0], y_train.shape[1]))\n",
    "y_pred = model.predict(x_train_reshaped)\n",
    "SS_res = np.sum(np.square(y_train_reshaped - y_pred))\n",
    "SS_tot = np.sum(np.square(y_train_reshaped - np.mean(y_train_reshaped)))\n",
    "r2 = 1 - (SS_res / SS_tot)\n",
    "print(\"R-squared (R2):\", r2)\n",
    "mse = np.mean(np.square(y_train_reshaped - y_pred))\n",
    "print(\"Mean Squared Error (MSE):\", mse)\n",
    "print(mae)\n",
    "\n",
    "\n"
   ]
  },
  {
   "cell_type": "code",
   "execution_count": 8,
   "id": "65453e78-cf94-4229-8154-16a4bbb3390d",
   "metadata": {},
   "outputs": [
    {
     "name": "stdout",
     "output_type": "stream",
     "text": [
      "1009/1009 [==============================] - 11s 11ms/step\n",
      "Mean Squared Error (MSE): 2.5665119696433836\n",
      "Mean Absolute Error (MAE): 0.9404492174936121\n",
      "Standard Deviation (SD): 1.601964972295331\n"
     ]
    }
   ],
   "source": [
    "from sklearn.metrics import mean_squared_error, r2_score,mean_absolute_error\n",
    "x_test_reshaped = x_val_reshaped.reshape((x_val_reshaped.shape[0], x_val_reshaped.shape[1], 1))\n",
    "\n",
    "\n",
    "y_pred = model.predict(x_test_reshaped)\n",
    "\n",
    "\n",
    "mse = mean_squared_error(y_val_reshaped, y_pred)\n",
    "\n",
    "\n",
    "mae = mean_absolute_error(y_val_reshaped, y_pred)\n",
    "\n",
    "\n",
    "sd = np.std(y_val_reshaped - y_pred)\n",
    "\n",
    "print(\"Mean Squared Error (MSE):\", mse)\n",
    "print(\"Mean Absolute Error (MAE):\", mae)\n",
    "print(\"Standard Deviation (SD):\", sd)\n"
   ]
  },
  {
   "cell_type": "code",
   "execution_count": 17,
   "id": "12715962-5057-4a9a-b0ae-56ddb4d14f9e",
   "metadata": {},
   "outputs": [
    {
     "name": "stdout",
     "output_type": "stream",
     "text": [
      "Epoch 1/10\n",
      "4032/4033 [============================>.] - ETA: 0s - loss: 2.2057"
     ]
    },
    {
     "ename": "ValueError",
     "evalue": "in user code:\n\n    File \"C:\\Users\\Aniket\\Videos\\New folder\\lib\\site-packages\\keras\\src\\engine\\training.py\", line 1972, in test_function  *\n        return step_function(self, iterator)\n    File \"C:\\Users\\Aniket\\Videos\\New folder\\lib\\site-packages\\keras\\src\\engine\\training.py\", line 1956, in step_function  **\n        outputs = model.distribute_strategy.run(run_step, args=(data,))\n    File \"C:\\Users\\Aniket\\Videos\\New folder\\lib\\site-packages\\keras\\src\\engine\\training.py\", line 1944, in run_step  **\n        outputs = model.test_step(data)\n    File \"C:\\Users\\Aniket\\Videos\\New folder\\lib\\site-packages\\keras\\src\\engine\\training.py\", line 1850, in test_step\n        y_pred = self(x, training=False)\n    File \"C:\\Users\\Aniket\\Videos\\New folder\\lib\\site-packages\\keras\\src\\utils\\traceback_utils.py\", line 70, in error_handler\n        raise e.with_traceback(filtered_tb) from None\n    File \"C:\\Users\\Aniket\\Videos\\New folder\\lib\\site-packages\\keras\\src\\engine\\input_spec.py\", line 298, in assert_input_compatibility\n        raise ValueError(\n\n    ValueError: Input 0 of layer \"sequential_2\" is incompatible with the layer: expected shape=(None, 500, 1), found shape=(None, 100, 5)\n",
     "output_type": "error",
     "traceback": [
      "\u001b[1;31m---------------------------------------------------------------------------\u001b[0m",
      "\u001b[1;31mValueError\u001b[0m                                Traceback (most recent call last)",
      "Cell \u001b[1;32mIn[17], line 2\u001b[0m\n\u001b[0;32m      1\u001b[0m \u001b[38;5;28;01mimport\u001b[39;00m \u001b[38;5;21;01mmatplotlib\u001b[39;00m\u001b[38;5;21;01m.\u001b[39;00m\u001b[38;5;21;01mpyplot\u001b[39;00m \u001b[38;5;28;01mas\u001b[39;00m \u001b[38;5;21;01mplt\u001b[39;00m\n\u001b[1;32m----> 2\u001b[0m history \u001b[38;5;241m=\u001b[39m \u001b[43mmodel\u001b[49m\u001b[38;5;241;43m.\u001b[39;49m\u001b[43mfit\u001b[49m\u001b[43m(\u001b[49m\u001b[43mx_train\u001b[49m\u001b[43m,\u001b[49m\u001b[43m \u001b[49m\u001b[43my_train\u001b[49m\u001b[43m,\u001b[49m\u001b[43m \u001b[49m\u001b[43mepochs\u001b[49m\u001b[38;5;241;43m=\u001b[39;49m\u001b[38;5;241;43m10\u001b[39;49m\u001b[43m,\u001b[49m\u001b[43m \u001b[49m\u001b[43mbatch_size\u001b[49m\u001b[38;5;241;43m=\u001b[39;49m\u001b[38;5;241;43m32\u001b[39;49m\u001b[43m,\u001b[49m\u001b[43m \u001b[49m\u001b[43mvalidation_data\u001b[49m\u001b[38;5;241;43m=\u001b[39;49m\u001b[43m(\u001b[49m\u001b[43mx_val_reshaped\u001b[49m\u001b[43m,\u001b[49m\u001b[43m \u001b[49m\u001b[43my_val_reshaped\u001b[49m\u001b[43m)\u001b[49m\u001b[43m)\u001b[49m\n\u001b[0;32m      6\u001b[0m training_loss \u001b[38;5;241m=\u001b[39m history\u001b[38;5;241m.\u001b[39mhistory[\u001b[38;5;124m'\u001b[39m\u001b[38;5;124mloss\u001b[39m\u001b[38;5;124m'\u001b[39m]\n\u001b[0;32m      7\u001b[0m validation_loss \u001b[38;5;241m=\u001b[39m history\u001b[38;5;241m.\u001b[39mhistory[\u001b[38;5;124m'\u001b[39m\u001b[38;5;124mval_loss\u001b[39m\u001b[38;5;124m'\u001b[39m]  \n",
      "File \u001b[1;32m~\\Videos\\New folder\\lib\\site-packages\\keras\\src\\utils\\traceback_utils.py:70\u001b[0m, in \u001b[0;36mfilter_traceback.<locals>.error_handler\u001b[1;34m(*args, **kwargs)\u001b[0m\n\u001b[0;32m     67\u001b[0m     filtered_tb \u001b[38;5;241m=\u001b[39m _process_traceback_frames(e\u001b[38;5;241m.\u001b[39m__traceback__)\n\u001b[0;32m     68\u001b[0m     \u001b[38;5;66;03m# To get the full stack trace, call:\u001b[39;00m\n\u001b[0;32m     69\u001b[0m     \u001b[38;5;66;03m# `tf.debugging.disable_traceback_filtering()`\u001b[39;00m\n\u001b[1;32m---> 70\u001b[0m     \u001b[38;5;28;01mraise\u001b[39;00m e\u001b[38;5;241m.\u001b[39mwith_traceback(filtered_tb) \u001b[38;5;28;01mfrom\u001b[39;00m \u001b[38;5;28mNone\u001b[39m\n\u001b[0;32m     71\u001b[0m \u001b[38;5;28;01mfinally\u001b[39;00m:\n\u001b[0;32m     72\u001b[0m     \u001b[38;5;28;01mdel\u001b[39;00m filtered_tb\n",
      "File \u001b[1;32m~\\AppData\\Local\\Temp\\__autograph_generated_fileilpbwn51.py:15\u001b[0m, in \u001b[0;36mouter_factory.<locals>.inner_factory.<locals>.tf__test_function\u001b[1;34m(iterator)\u001b[0m\n\u001b[0;32m     13\u001b[0m \u001b[38;5;28;01mtry\u001b[39;00m:\n\u001b[0;32m     14\u001b[0m     do_return \u001b[38;5;241m=\u001b[39m \u001b[38;5;28;01mTrue\u001b[39;00m\n\u001b[1;32m---> 15\u001b[0m     retval_ \u001b[38;5;241m=\u001b[39m ag__\u001b[38;5;241m.\u001b[39mconverted_call(ag__\u001b[38;5;241m.\u001b[39mld(step_function), (ag__\u001b[38;5;241m.\u001b[39mld(\u001b[38;5;28mself\u001b[39m), ag__\u001b[38;5;241m.\u001b[39mld(iterator)), \u001b[38;5;28;01mNone\u001b[39;00m, fscope)\n\u001b[0;32m     16\u001b[0m \u001b[38;5;28;01mexcept\u001b[39;00m:\n\u001b[0;32m     17\u001b[0m     do_return \u001b[38;5;241m=\u001b[39m \u001b[38;5;28;01mFalse\u001b[39;00m\n",
      "\u001b[1;31mValueError\u001b[0m: in user code:\n\n    File \"C:\\Users\\Aniket\\Videos\\New folder\\lib\\site-packages\\keras\\src\\engine\\training.py\", line 1972, in test_function  *\n        return step_function(self, iterator)\n    File \"C:\\Users\\Aniket\\Videos\\New folder\\lib\\site-packages\\keras\\src\\engine\\training.py\", line 1956, in step_function  **\n        outputs = model.distribute_strategy.run(run_step, args=(data,))\n    File \"C:\\Users\\Aniket\\Videos\\New folder\\lib\\site-packages\\keras\\src\\engine\\training.py\", line 1944, in run_step  **\n        outputs = model.test_step(data)\n    File \"C:\\Users\\Aniket\\Videos\\New folder\\lib\\site-packages\\keras\\src\\engine\\training.py\", line 1850, in test_step\n        y_pred = self(x, training=False)\n    File \"C:\\Users\\Aniket\\Videos\\New folder\\lib\\site-packages\\keras\\src\\utils\\traceback_utils.py\", line 70, in error_handler\n        raise e.with_traceback(filtered_tb) from None\n    File \"C:\\Users\\Aniket\\Videos\\New folder\\lib\\site-packages\\keras\\src\\engine\\input_spec.py\", line 298, in assert_input_compatibility\n        raise ValueError(\n\n    ValueError: Input 0 of layer \"sequential_2\" is incompatible with the layer: expected shape=(None, 500, 1), found shape=(None, 100, 5)\n"
     ]
    }
   ],
   "source": [
    "import matplotlib.pyplot as plt\n",
    "history = model.fit(x_train, y_train, epochs=10, batch_size=32, validation_data=(x_val_reshaped, y_val_reshaped))\n",
    "\n",
    "\n",
    "\n",
    "training_loss = history.history['loss']\n",
    "validation_loss = history.history['val_loss']  \n",
    "\n",
    "epochs = range(1, len(training_loss) + 1)\n",
    "\n",
    "plt.plot(epochs, training_loss, label='Training Loss')\n",
    "plt.plot(epochs, validation_loss, label='Validation Loss')\n",
    "plt.title('Training and Validation Loss')\n",
    "plt.xlabel('Epochs')\n",
    "plt.ylabel('Loss')\n",
    "plt.legend()\n",
    "plt.show()\n"
   ]
  },
  {
   "cell_type": "code",
   "execution_count": 6,
   "id": "00f1181b-318f-4150-ac59-9f1056e229e6",
   "metadata": {},
   "outputs": [
    {
     "data": {
      "image/png": "[encoded data removed]",
      "text/plain": [
       "<Figure size 640x480 with 1 Axes>"
      ]
     },
     "metadata": {},
     "output_type": "display_data"
    }
   ],
   "source": [
    "training_loss = history.history['loss']\n",
    "\n",
    "# Creating a range of epochs for the x-axis\n",
    "epochs = range(1, len(training_loss) + 1)\n",
    "\n",
    "# Plotting the training loss curve\n",
    "plt.plot(epochs, training_loss, label='Training Loss')\n",
    "plt.title('Training Loss')\n",
    "plt.xlabel('Epochs')\n",
    "plt.ylabel('Loss')\n",
    "plt.legend()\n",
    "plt.show()"
   ]
  },
  {
   "cell_type": "code",
   "execution_count": 17,
   "id": "6df8f2b2-84f3-408e-b73f-860000cc3d60",
   "metadata": {},
   "outputs": [],
   "source": [
    "import time"
   ]
  },
  {
   "cell_type": "code",
   "execution_count": 18,
   "id": "1c767a59-1cdf-4996-85a6-f47de7e794a5",
   "metadata": {},
   "outputs": [
    {
     "name": "stdout",
     "output_type": "stream",
     "text": [
      "Epoch 1/10\n",
      "4033/4033 [==============================] - 236s 59ms/step - loss: 2.2427\n",
      "Epoch 2/10\n",
      "1451/4033 [=========>....................] - ETA: 2:31 - loss: 3.2623"
     ]
    },
    {
     "ename": "KeyboardInterrupt",
     "evalue": "",
     "output_type": "error",
     "traceback": [
      "\u001b[1;31m---------------------------------------------------------------------------\u001b[0m",
      "\u001b[1;31mKeyboardInterrupt\u001b[0m                         Traceback (most recent call last)",
      "Cell \u001b[1;32mIn[18], line 5\u001b[0m\n\u001b[0;32m      2\u001b[0m start_time \u001b[38;5;241m=\u001b[39m time\u001b[38;5;241m.\u001b[39mtime()\n\u001b[0;32m      4\u001b[0m \u001b[38;5;66;03m# Train the model\u001b[39;00m\n\u001b[1;32m----> 5\u001b[0m history \u001b[38;5;241m=\u001b[39m \u001b[43mmodel\u001b[49m\u001b[38;5;241;43m.\u001b[39;49m\u001b[43mfit\u001b[49m\u001b[43m(\u001b[49m\u001b[43mx_train_reshaped\u001b[49m\u001b[43m,\u001b[49m\u001b[43m \u001b[49m\u001b[43my_train_reshaped\u001b[49m\u001b[43m,\u001b[49m\u001b[43m \u001b[49m\u001b[43mepochs\u001b[49m\u001b[38;5;241;43m=\u001b[39;49m\u001b[38;5;241;43m10\u001b[39;49m\u001b[43m,\u001b[49m\u001b[43m \u001b[49m\u001b[43mbatch_size\u001b[49m\u001b[38;5;241;43m=\u001b[39;49m\u001b[38;5;241;43m32\u001b[39;49m\u001b[43m)\u001b[49m\n\u001b[0;32m      7\u001b[0m \u001b[38;5;66;03m# End timing\u001b[39;00m\n\u001b[0;32m      8\u001b[0m end_time \u001b[38;5;241m=\u001b[39m time\u001b[38;5;241m.\u001b[39mtime()\n",
      "File \u001b[1;32m~\\Videos\\New folder\\lib\\site-packages\\keras\\src\\utils\\traceback_utils.py:65\u001b[0m, in \u001b[0;36mfilter_traceback.<locals>.error_handler\u001b[1;34m(*args, **kwargs)\u001b[0m\n\u001b[0;32m     63\u001b[0m filtered_tb \u001b[38;5;241m=\u001b[39m \u001b[38;5;28;01mNone\u001b[39;00m\n\u001b[0;32m     64\u001b[0m \u001b[38;5;28;01mtry\u001b[39;00m:\n\u001b[1;32m---> 65\u001b[0m     \u001b[38;5;28;01mreturn\u001b[39;00m fn(\u001b[38;5;241m*\u001b[39margs, \u001b[38;5;241m*\u001b[39m\u001b[38;5;241m*\u001b[39mkwargs)\n\u001b[0;32m     66\u001b[0m \u001b[38;5;28;01mexcept\u001b[39;00m \u001b[38;5;167;01mException\u001b[39;00m \u001b[38;5;28;01mas\u001b[39;00m e:\n\u001b[0;32m     67\u001b[0m     filtered_tb \u001b[38;5;241m=\u001b[39m _process_traceback_frames(e\u001b[38;5;241m.\u001b[39m__traceback__)\n",
      "File \u001b[1;32m~\\Videos\\New folder\\lib\\site-packages\\keras\\src\\engine\\training.py:1742\u001b[0m, in \u001b[0;36mModel.fit\u001b[1;34m(self, x, y, batch_size, epochs, verbose, callbacks, validation_split, validation_data, shuffle, class_weight, sample_weight, initial_epoch, steps_per_epoch, validation_steps, validation_batch_size, validation_freq, max_queue_size, workers, use_multiprocessing)\u001b[0m\n\u001b[0;32m   1734\u001b[0m \u001b[38;5;28;01mwith\u001b[39;00m tf\u001b[38;5;241m.\u001b[39mprofiler\u001b[38;5;241m.\u001b[39mexperimental\u001b[38;5;241m.\u001b[39mTrace(\n\u001b[0;32m   1735\u001b[0m     \u001b[38;5;124m\"\u001b[39m\u001b[38;5;124mtrain\u001b[39m\u001b[38;5;124m\"\u001b[39m,\n\u001b[0;32m   1736\u001b[0m     epoch_num\u001b[38;5;241m=\u001b[39mepoch,\n\u001b[1;32m   (...)\u001b[0m\n\u001b[0;32m   1739\u001b[0m     _r\u001b[38;5;241m=\u001b[39m\u001b[38;5;241m1\u001b[39m,\n\u001b[0;32m   1740\u001b[0m ):\n\u001b[0;32m   1741\u001b[0m     callbacks\u001b[38;5;241m.\u001b[39mon_train_batch_begin(step)\n\u001b[1;32m-> 1742\u001b[0m     tmp_logs \u001b[38;5;241m=\u001b[39m \u001b[38;5;28;43mself\u001b[39;49m\u001b[38;5;241;43m.\u001b[39;49m\u001b[43mtrain_function\u001b[49m\u001b[43m(\u001b[49m\u001b[43miterator\u001b[49m\u001b[43m)\u001b[49m\n\u001b[0;32m   1743\u001b[0m     \u001b[38;5;28;01mif\u001b[39;00m data_handler\u001b[38;5;241m.\u001b[39mshould_sync:\n\u001b[0;32m   1744\u001b[0m         context\u001b[38;5;241m.\u001b[39masync_wait()\n",
      "File \u001b[1;32m~\\Videos\\New folder\\lib\\site-packages\\tensorflow\\python\\util\\traceback_utils.py:150\u001b[0m, in \u001b[0;36mfilter_traceback.<locals>.error_handler\u001b[1;34m(*args, **kwargs)\u001b[0m\n\u001b[0;32m    148\u001b[0m filtered_tb \u001b[38;5;241m=\u001b[39m \u001b[38;5;28;01mNone\u001b[39;00m\n\u001b[0;32m    149\u001b[0m \u001b[38;5;28;01mtry\u001b[39;00m:\n\u001b[1;32m--> 150\u001b[0m   \u001b[38;5;28;01mreturn\u001b[39;00m fn(\u001b[38;5;241m*\u001b[39margs, \u001b[38;5;241m*\u001b[39m\u001b[38;5;241m*\u001b[39mkwargs)\n\u001b[0;32m    151\u001b[0m \u001b[38;5;28;01mexcept\u001b[39;00m \u001b[38;5;167;01mException\u001b[39;00m \u001b[38;5;28;01mas\u001b[39;00m e:\n\u001b[0;32m    152\u001b[0m   filtered_tb \u001b[38;5;241m=\u001b[39m _process_traceback_frames(e\u001b[38;5;241m.\u001b[39m__traceback__)\n",
      "File \u001b[1;32m~\\Videos\\New folder\\lib\\site-packages\\tensorflow\\python\\eager\\polymorphic_function\\polymorphic_function.py:825\u001b[0m, in \u001b[0;36mFunction.__call__\u001b[1;34m(self, *args, **kwds)\u001b[0m\n\u001b[0;32m    822\u001b[0m compiler \u001b[38;5;241m=\u001b[39m \u001b[38;5;124m\"\u001b[39m\u001b[38;5;124mxla\u001b[39m\u001b[38;5;124m\"\u001b[39m \u001b[38;5;28;01mif\u001b[39;00m \u001b[38;5;28mself\u001b[39m\u001b[38;5;241m.\u001b[39m_jit_compile \u001b[38;5;28;01melse\u001b[39;00m \u001b[38;5;124m\"\u001b[39m\u001b[38;5;124mnonXla\u001b[39m\u001b[38;5;124m\"\u001b[39m\n\u001b[0;32m    824\u001b[0m \u001b[38;5;28;01mwith\u001b[39;00m OptionalXlaContext(\u001b[38;5;28mself\u001b[39m\u001b[38;5;241m.\u001b[39m_jit_compile):\n\u001b[1;32m--> 825\u001b[0m   result \u001b[38;5;241m=\u001b[39m \u001b[38;5;28mself\u001b[39m\u001b[38;5;241m.\u001b[39m_call(\u001b[38;5;241m*\u001b[39margs, \u001b[38;5;241m*\u001b[39m\u001b[38;5;241m*\u001b[39mkwds)\n\u001b[0;32m    827\u001b[0m new_tracing_count \u001b[38;5;241m=\u001b[39m \u001b[38;5;28mself\u001b[39m\u001b[38;5;241m.\u001b[39mexperimental_get_tracing_count()\n\u001b[0;32m    828\u001b[0m without_tracing \u001b[38;5;241m=\u001b[39m (tracing_count \u001b[38;5;241m==\u001b[39m new_tracing_count)\n",
      "File \u001b[1;32m~\\Videos\\New folder\\lib\\site-packages\\tensorflow\\python\\eager\\polymorphic_function\\polymorphic_function.py:857\u001b[0m, in \u001b[0;36mFunction._call\u001b[1;34m(self, *args, **kwds)\u001b[0m\n\u001b[0;32m    854\u001b[0m   \u001b[38;5;28mself\u001b[39m\u001b[38;5;241m.\u001b[39m_lock\u001b[38;5;241m.\u001b[39mrelease()\n\u001b[0;32m    855\u001b[0m   \u001b[38;5;66;03m# In this case we have created variables on the first call, so we run the\u001b[39;00m\n\u001b[0;32m    856\u001b[0m   \u001b[38;5;66;03m# defunned version which is guaranteed to never create variables.\u001b[39;00m\n\u001b[1;32m--> 857\u001b[0m   \u001b[38;5;28;01mreturn\u001b[39;00m \u001b[38;5;28mself\u001b[39m\u001b[38;5;241m.\u001b[39m_no_variable_creation_fn(\u001b[38;5;241m*\u001b[39margs, \u001b[38;5;241m*\u001b[39m\u001b[38;5;241m*\u001b[39mkwds)  \u001b[38;5;66;03m# pylint: disable=not-callable\u001b[39;00m\n\u001b[0;32m    858\u001b[0m \u001b[38;5;28;01melif\u001b[39;00m \u001b[38;5;28mself\u001b[39m\u001b[38;5;241m.\u001b[39m_variable_creation_fn \u001b[38;5;129;01mis\u001b[39;00m \u001b[38;5;129;01mnot\u001b[39;00m \u001b[38;5;28;01mNone\u001b[39;00m:\n\u001b[0;32m    859\u001b[0m   \u001b[38;5;66;03m# Release the lock early so that multiple threads can perform the call\u001b[39;00m\n\u001b[0;32m    860\u001b[0m   \u001b[38;5;66;03m# in parallel.\u001b[39;00m\n\u001b[0;32m    861\u001b[0m   \u001b[38;5;28mself\u001b[39m\u001b[38;5;241m.\u001b[39m_lock\u001b[38;5;241m.\u001b[39mrelease()\n",
      "File \u001b[1;32m~\\Videos\\New folder\\lib\\site-packages\\tensorflow\\python\\eager\\polymorphic_function\\tracing_compiler.py:148\u001b[0m, in \u001b[0;36mTracingCompiler.__call__\u001b[1;34m(self, *args, **kwargs)\u001b[0m\n\u001b[0;32m    145\u001b[0m \u001b[38;5;28;01mwith\u001b[39;00m \u001b[38;5;28mself\u001b[39m\u001b[38;5;241m.\u001b[39m_lock:\n\u001b[0;32m    146\u001b[0m   (concrete_function,\n\u001b[0;32m    147\u001b[0m    filtered_flat_args) \u001b[38;5;241m=\u001b[39m \u001b[38;5;28mself\u001b[39m\u001b[38;5;241m.\u001b[39m_maybe_define_function(args, kwargs)\n\u001b[1;32m--> 148\u001b[0m \u001b[38;5;28;01mreturn\u001b[39;00m \u001b[43mconcrete_function\u001b[49m\u001b[38;5;241;43m.\u001b[39;49m\u001b[43m_call_flat\u001b[49m\u001b[43m(\u001b[49m\n\u001b[0;32m    149\u001b[0m \u001b[43m    \u001b[49m\u001b[43mfiltered_flat_args\u001b[49m\u001b[43m,\u001b[49m\u001b[43m \u001b[49m\u001b[43mcaptured_inputs\u001b[49m\u001b[38;5;241;43m=\u001b[39;49m\u001b[43mconcrete_function\u001b[49m\u001b[38;5;241;43m.\u001b[39;49m\u001b[43mcaptured_inputs\u001b[49m\u001b[43m)\u001b[49m\n",
      "File \u001b[1;32m~\\Videos\\New folder\\lib\\site-packages\\tensorflow\\python\\eager\\polymorphic_function\\monomorphic_function.py:1349\u001b[0m, in \u001b[0;36mConcreteFunction._call_flat\u001b[1;34m(self, args, captured_inputs)\u001b[0m\n\u001b[0;32m   1345\u001b[0m possible_gradient_type \u001b[38;5;241m=\u001b[39m gradients_util\u001b[38;5;241m.\u001b[39mPossibleTapeGradientTypes(args)\n\u001b[0;32m   1346\u001b[0m \u001b[38;5;28;01mif\u001b[39;00m (possible_gradient_type \u001b[38;5;241m==\u001b[39m gradients_util\u001b[38;5;241m.\u001b[39mPOSSIBLE_GRADIENT_TYPES_NONE\n\u001b[0;32m   1347\u001b[0m     \u001b[38;5;129;01mand\u001b[39;00m executing_eagerly):\n\u001b[0;32m   1348\u001b[0m   \u001b[38;5;66;03m# No tape is watching; skip to running the function.\u001b[39;00m\n\u001b[1;32m-> 1349\u001b[0m   \u001b[38;5;28;01mreturn\u001b[39;00m \u001b[38;5;28mself\u001b[39m\u001b[38;5;241m.\u001b[39m_build_call_outputs(\u001b[38;5;28;43mself\u001b[39;49m\u001b[38;5;241;43m.\u001b[39;49m\u001b[43m_inference_function\u001b[49m\u001b[43m(\u001b[49m\u001b[38;5;241;43m*\u001b[39;49m\u001b[43margs\u001b[49m\u001b[43m)\u001b[49m)\n\u001b[0;32m   1350\u001b[0m forward_backward \u001b[38;5;241m=\u001b[39m \u001b[38;5;28mself\u001b[39m\u001b[38;5;241m.\u001b[39m_select_forward_and_backward_functions(\n\u001b[0;32m   1351\u001b[0m     args,\n\u001b[0;32m   1352\u001b[0m     possible_gradient_type,\n\u001b[0;32m   1353\u001b[0m     executing_eagerly)\n\u001b[0;32m   1354\u001b[0m forward_function, args_with_tangents \u001b[38;5;241m=\u001b[39m forward_backward\u001b[38;5;241m.\u001b[39mforward()\n",
      "File \u001b[1;32m~\\Videos\\New folder\\lib\\site-packages\\tensorflow\\python\\eager\\polymorphic_function\\atomic_function.py:196\u001b[0m, in \u001b[0;36mAtomicFunction.__call__\u001b[1;34m(self, *args)\u001b[0m\n\u001b[0;32m    194\u001b[0m \u001b[38;5;28;01mwith\u001b[39;00m record\u001b[38;5;241m.\u001b[39mstop_recording():\n\u001b[0;32m    195\u001b[0m   \u001b[38;5;28;01mif\u001b[39;00m \u001b[38;5;28mself\u001b[39m\u001b[38;5;241m.\u001b[39m_bound_context\u001b[38;5;241m.\u001b[39mexecuting_eagerly():\n\u001b[1;32m--> 196\u001b[0m     outputs \u001b[38;5;241m=\u001b[39m \u001b[38;5;28;43mself\u001b[39;49m\u001b[38;5;241;43m.\u001b[39;49m\u001b[43m_bound_context\u001b[49m\u001b[38;5;241;43m.\u001b[39;49m\u001b[43mcall_function\u001b[49m\u001b[43m(\u001b[49m\n\u001b[0;32m    197\u001b[0m \u001b[43m        \u001b[49m\u001b[38;5;28;43mself\u001b[39;49m\u001b[38;5;241;43m.\u001b[39;49m\u001b[43mname\u001b[49m\u001b[43m,\u001b[49m\n\u001b[0;32m    198\u001b[0m \u001b[43m        \u001b[49m\u001b[38;5;28;43mlist\u001b[39;49m\u001b[43m(\u001b[49m\u001b[43margs\u001b[49m\u001b[43m)\u001b[49m\u001b[43m,\u001b[49m\n\u001b[0;32m    199\u001b[0m \u001b[43m        \u001b[49m\u001b[38;5;28;43mlen\u001b[39;49m\u001b[43m(\u001b[49m\u001b[38;5;28;43mself\u001b[39;49m\u001b[38;5;241;43m.\u001b[39;49m\u001b[43mfunction_type\u001b[49m\u001b[38;5;241;43m.\u001b[39;49m\u001b[43mflat_outputs\u001b[49m\u001b[43m)\u001b[49m\u001b[43m,\u001b[49m\n\u001b[0;32m    200\u001b[0m \u001b[43m    \u001b[49m\u001b[43m)\u001b[49m\n\u001b[0;32m    201\u001b[0m   \u001b[38;5;28;01melse\u001b[39;00m:\n\u001b[0;32m    202\u001b[0m     outputs \u001b[38;5;241m=\u001b[39m make_call_op_in_graph(\u001b[38;5;28mself\u001b[39m, \u001b[38;5;28mlist\u001b[39m(args))\n",
      "File \u001b[1;32m~\\Videos\\New folder\\lib\\site-packages\\tensorflow\\python\\eager\\context.py:1457\u001b[0m, in \u001b[0;36mContext.call_function\u001b[1;34m(self, name, tensor_inputs, num_outputs)\u001b[0m\n\u001b[0;32m   1455\u001b[0m cancellation_context \u001b[38;5;241m=\u001b[39m cancellation\u001b[38;5;241m.\u001b[39mcontext()\n\u001b[0;32m   1456\u001b[0m \u001b[38;5;28;01mif\u001b[39;00m cancellation_context \u001b[38;5;129;01mis\u001b[39;00m \u001b[38;5;28;01mNone\u001b[39;00m:\n\u001b[1;32m-> 1457\u001b[0m   outputs \u001b[38;5;241m=\u001b[39m \u001b[43mexecute\u001b[49m\u001b[38;5;241;43m.\u001b[39;49m\u001b[43mexecute\u001b[49m\u001b[43m(\u001b[49m\n\u001b[0;32m   1458\u001b[0m \u001b[43m      \u001b[49m\u001b[43mname\u001b[49m\u001b[38;5;241;43m.\u001b[39;49m\u001b[43mdecode\u001b[49m\u001b[43m(\u001b[49m\u001b[38;5;124;43m\"\u001b[39;49m\u001b[38;5;124;43mutf-8\u001b[39;49m\u001b[38;5;124;43m\"\u001b[39;49m\u001b[43m)\u001b[49m\u001b[43m,\u001b[49m\n\u001b[0;32m   1459\u001b[0m \u001b[43m      \u001b[49m\u001b[43mnum_outputs\u001b[49m\u001b[38;5;241;43m=\u001b[39;49m\u001b[43mnum_outputs\u001b[49m\u001b[43m,\u001b[49m\n\u001b[0;32m   1460\u001b[0m \u001b[43m      \u001b[49m\u001b[43minputs\u001b[49m\u001b[38;5;241;43m=\u001b[39;49m\u001b[43mtensor_inputs\u001b[49m\u001b[43m,\u001b[49m\n\u001b[0;32m   1461\u001b[0m \u001b[43m      \u001b[49m\u001b[43mattrs\u001b[49m\u001b[38;5;241;43m=\u001b[39;49m\u001b[43mattrs\u001b[49m\u001b[43m,\u001b[49m\n\u001b[0;32m   1462\u001b[0m \u001b[43m      \u001b[49m\u001b[43mctx\u001b[49m\u001b[38;5;241;43m=\u001b[39;49m\u001b[38;5;28;43mself\u001b[39;49m\u001b[43m,\u001b[49m\n\u001b[0;32m   1463\u001b[0m \u001b[43m  \u001b[49m\u001b[43m)\u001b[49m\n\u001b[0;32m   1464\u001b[0m \u001b[38;5;28;01melse\u001b[39;00m:\n\u001b[0;32m   1465\u001b[0m   outputs \u001b[38;5;241m=\u001b[39m execute\u001b[38;5;241m.\u001b[39mexecute_with_cancellation(\n\u001b[0;32m   1466\u001b[0m       name\u001b[38;5;241m.\u001b[39mdecode(\u001b[38;5;124m\"\u001b[39m\u001b[38;5;124mutf-8\u001b[39m\u001b[38;5;124m\"\u001b[39m),\n\u001b[0;32m   1467\u001b[0m       num_outputs\u001b[38;5;241m=\u001b[39mnum_outputs,\n\u001b[1;32m   (...)\u001b[0m\n\u001b[0;32m   1471\u001b[0m       cancellation_manager\u001b[38;5;241m=\u001b[39mcancellation_context,\n\u001b[0;32m   1472\u001b[0m   )\n",
      "File \u001b[1;32m~\\Videos\\New folder\\lib\\site-packages\\tensorflow\\python\\eager\\execute.py:53\u001b[0m, in \u001b[0;36mquick_execute\u001b[1;34m(op_name, num_outputs, inputs, attrs, ctx, name)\u001b[0m\n\u001b[0;32m     51\u001b[0m \u001b[38;5;28;01mtry\u001b[39;00m:\n\u001b[0;32m     52\u001b[0m   ctx\u001b[38;5;241m.\u001b[39mensure_initialized()\n\u001b[1;32m---> 53\u001b[0m   tensors \u001b[38;5;241m=\u001b[39m \u001b[43mpywrap_tfe\u001b[49m\u001b[38;5;241;43m.\u001b[39;49m\u001b[43mTFE_Py_Execute\u001b[49m\u001b[43m(\u001b[49m\u001b[43mctx\u001b[49m\u001b[38;5;241;43m.\u001b[39;49m\u001b[43m_handle\u001b[49m\u001b[43m,\u001b[49m\u001b[43m \u001b[49m\u001b[43mdevice_name\u001b[49m\u001b[43m,\u001b[49m\u001b[43m \u001b[49m\u001b[43mop_name\u001b[49m\u001b[43m,\u001b[49m\n\u001b[0;32m     54\u001b[0m \u001b[43m                                      \u001b[49m\u001b[43minputs\u001b[49m\u001b[43m,\u001b[49m\u001b[43m \u001b[49m\u001b[43mattrs\u001b[49m\u001b[43m,\u001b[49m\u001b[43m \u001b[49m\u001b[43mnum_outputs\u001b[49m\u001b[43m)\u001b[49m\n\u001b[0;32m     55\u001b[0m \u001b[38;5;28;01mexcept\u001b[39;00m core\u001b[38;5;241m.\u001b[39m_NotOkStatusException \u001b[38;5;28;01mas\u001b[39;00m e:\n\u001b[0;32m     56\u001b[0m   \u001b[38;5;28;01mif\u001b[39;00m name \u001b[38;5;129;01mis\u001b[39;00m \u001b[38;5;129;01mnot\u001b[39;00m \u001b[38;5;28;01mNone\u001b[39;00m:\n",
      "\u001b[1;31mKeyboardInterrupt\u001b[0m: "
     ]
    }
   ],
   "source": [
    "# Start timing\n",
    "start_time = time.time()\n",
    "\n",
    "# Train the model\n",
    "history = model.fit(x_train_reshaped, y_train_reshaped, epochs=10, batch_size=32)\n",
    "\n",
    "# End timing\n",
    "end_time = time.time()\n",
    "\n",
    "# Calculate the time taken for training\n",
    "time_taken = end_time - start_time\n",
    "\n",
    "print(\"Time taken for training:\", time_taken, \"seconds\")"
   ]
  },
  {
   "cell_type": "code",
   "execution_count": 19,
   "id": "fad3b17c-2e35-4702-a66c-e9ed5ae0f614",
   "metadata": {},
   "outputs": [
    {
     "name": "stdout",
     "output_type": "stream",
     "text": [
      "Epoch 1/10\n",
      "4033/4033 [==============================] - 220s 54ms/step - loss: 2.5427\n",
      "Epoch 2/10\n",
      "4033/4033 [==============================] - 204s 51ms/step - loss: 2.2722\n",
      "Epoch 3/10\n",
      "4033/4033 [==============================] - 189s 47ms/step - loss: 2.2029\n",
      "Epoch 4/10\n",
      "4033/4033 [==============================] - 149s 37ms/step - loss: 2.1609\n",
      "Epoch 5/10\n",
      "4033/4033 [==============================] - 123s 31ms/step - loss: 2.1268\n",
      "Epoch 6/10\n",
      "4033/4033 [==============================] - 122s 30ms/step - loss: 2.0863\n",
      "Epoch 7/10\n",
      "4033/4033 [==============================] - 124s 31ms/step - loss: 2.0678\n",
      "Epoch 8/10\n",
      "4033/4033 [==============================] - 126s 31ms/step - loss: 2.0358\n",
      "Epoch 9/10\n",
      "4033/4033 [==============================] - 125s 31ms/step - loss: 2.0176\n",
      "Epoch 10/10\n",
      "4033/4033 [==============================] - 125s 31ms/step - loss: 2.0010\n",
      "Time taken for training: 1507.5062835216522 seconds\n",
      "Memory used during training: 245.48828125 MB\n"
     ]
    }
   ],
   "source": [
    "import tensorflow as tf\n",
    "import numpy as np\n",
    "from tensorflow.keras.models import Sequential\n",
    "from tensorflow.keras.layers import Dense, SimpleRNN\n",
    "from tensorflow.keras.regularizers import l1, l2\n",
    "import time\n",
    "import psutil\n",
    "\n",
    "# Assuming you have loaded or generated your training data x_train and y_train\n",
    "\n",
    "# Function to get memory usage in MB\n",
    "def get_memory_usage():\n",
    "    process = psutil.Process()\n",
    "    return process.memory_info().rss / (1024 * 1024)\n",
    "\n",
    "# Create the model\n",
    "model = Sequential()\n",
    "model.add(SimpleRNN(units=64, input_shape=(500, 1), kernel_regularizer=l1(1e-16), recurrent_regularizer=l1(1e-16), bias_regularizer=l1(1e-16)))\n",
    "model.add(Dense(units=75, kernel_regularizer=l2(1e-16)))\n",
    "model.add(Dense(units=75, kernel_regularizer=l2(1e-16)))\n",
    "model.add(Dense(units=75, kernel_regularizer=l2(1e-16)))\n",
    "model.add(Dense(units=75, kernel_regularizer=l2(1e-16)))\n",
    "model.add(Dense(units=75, kernel_regularizer=l2(1e-16)))\n",
    "model.compile(optimizer='adam', loss='mean_squared_error')\n",
    "\n",
    "# Reshape training data as required\n",
    "x_train_reshaped = x_train.reshape((x_train.shape[0], x_train.shape[1], 1))\n",
    "y_train_reshaped = y_train.reshape((y_train.shape[0], y_train.shape[1]))\n",
    "\n",
    "# Get memory usage before training\n",
    "memory_before_training = get_memory_usage()\n",
    "\n",
    "# Start timing\n",
    "start_time = time.time()\n",
    "\n",
    "# Train the model\n",
    "history = model.fit(x_train_reshaped, y_train_reshaped, epochs=10, batch_size=32)\n",
    "\n",
    "# End timing\n",
    "end_time = time.time()\n",
    "\n",
    "# Calculate the time taken for training\n",
    "time_taken = end_time - start_time\n",
    "\n",
    "# Get memory usage after training\n",
    "memory_after_training = get_memory_usage()\n",
    "\n",
    "# Calculate memory used during training\n",
    "memory_used = memory_after_training - memory_before_training\n",
    "\n",
    "print(\"Time taken for training:\", time_taken, \"seconds\")\n",
    "print(\"Memory used during training:\", memory_used, \"MB\")\n"
   ]
  },
  {
   "cell_type": "code",
   "execution_count": 20,
   "id": "735f6fba-f990-4acb-b1db-c1629b877d72",
   "metadata": {},
   "outputs": [
    {
     "name": "stdout",
     "output_type": "stream",
     "text": [
      "Memory Used: 1500270592 bytes\n"
     ]
    }
   ],
   "source": [
    "import psutil\n",
    "\n",
    "def get_memory_used():\n",
    "    process = psutil.Process()\n",
    "    memory_info = process.memory_info()\n",
    "    memory_used = memory_info.rss  \n",
    "    return memory_used\n",
    "\n",
    "if __name__ == \"__main__\":\n",
    "    memory_used = get_memory_used()\n",
    "    print(f\"Memory Used: {memory_used} bytes\")"
   ]
  },
  {
   "cell_type": "code",
   "execution_count": 21,
   "id": "e6dc3152-d159-4b25-a7a2-3a1cc4a6332b",
   "metadata": {},
   "outputs": [
    {
     "name": "stdout",
     "output_type": "stream",
     "text": [
      "shape of min_m: (1, 1, 5)\n",
      "min_m_reshape= (1, 5)\n",
      "max_m_reshape= (1, 5)\n"
     ]
    }
   ],
   "source": [
    "print(\"shape of min_m:\",min_m.shape)\n",
    "min_m_reshape=min_m.reshape(-1,5)\n",
    "print(\"min_m_reshape=\",min_m_reshape.shape)\n",
    "max_m_reshape=max_m.reshape(-1,5)\n",
    "print(\"max_m_reshape=\",max_m_reshape.shape)"
   ]
  },
  {
   "cell_type": "code",
   "execution_count": 22,
   "id": "9b848e8d-9315-4609-8817-02cea5544b3c",
   "metadata": {},
   "outputs": [
    {
     "name": "stdout",
     "output_type": "stream",
     "text": [
      "x_test12.shape: (16046, 100, 5)\n",
      "y_test12.shape: (16046, 15, 5)\n"
     ]
    }
   ],
   "source": [
    "x_test12=np.load('x_in12.npy')\n",
    "y_test12=np.load('y_op12.npy')\n",
    "print(\"x_test12.shape:\",x_test12.shape)\n",
    "print(\"y_test12.shape:\",y_test12.shape)"
   ]
  },
  {
   "cell_type": "code",
   "execution_count": 23,
   "id": "b8c042db-5fd6-4eff-87ee-7dce825fd059",
   "metadata": {},
   "outputs": [
    {
     "name": "stdout",
     "output_type": "stream",
     "text": [
      "[[[0.3827419  0.51593461 0.4018613  0.45883533 0.50436771]\n",
      "  [0.38202139 0.51656545 0.40224799 0.45907565 0.50400144]\n",
      "  [0.38245823 0.51746373 0.40222012 0.45895361 0.50456772]\n",
      "  ...\n",
      "  [0.39219826 0.51257151 0.40065783 0.45382585 0.49483494]\n",
      "  [0.39106777 0.50947188 0.40130774 0.45306802 0.49664447]\n",
      "  [0.38750032 0.50947963 0.40153741 0.45196297 0.4995851 ]]\n",
      "\n",
      " [[0.38202139 0.51656545 0.40224799 0.45907565 0.50400144]\n",
      "  [0.38245823 0.51746373 0.40222012 0.45895361 0.50456772]\n",
      "  [0.38202444 0.51787686 0.40220234 0.45883839 0.50465072]\n",
      "  ...\n",
      "  [0.39106777 0.50947188 0.40130774 0.45306802 0.49664447]\n",
      "  [0.38750032 0.50947963 0.40153741 0.45196297 0.4995851 ]\n",
      "  [0.38472053 0.51065097 0.40160003 0.45089831 0.5050765 ]]\n",
      "\n",
      " [[0.38245823 0.51746373 0.40222012 0.45895361 0.50456772]\n",
      "  [0.38202444 0.51787686 0.40220234 0.45883839 0.50465072]\n",
      "  [0.38244254 0.51851574 0.40217068 0.45895275 0.50404554]\n",
      "  ...\n",
      "  [0.38750032 0.50947963 0.40153741 0.45196297 0.4995851 ]\n",
      "  [0.38472053 0.51065097 0.40160003 0.45089831 0.5050765 ]\n",
      "  [0.38475262 0.51275956 0.40162165 0.45054716 0.50752758]]\n",
      "\n",
      " ...\n",
      "\n",
      " [[0.38603076 0.51289352 0.39720267 0.45006354 0.49784557]\n",
      "  [0.38569869 0.51312064 0.39915587 0.44852921 0.49775446]\n",
      "  [0.3849128  0.51355732 0.40080827 0.44778237 0.49747077]\n",
      "  ...\n",
      "  [0.38445668 0.51839719 0.40310835 0.45469513 0.50002987]\n",
      "  [0.38460118 0.51843393 0.4028684  0.45447606 0.49949359]\n",
      "  [0.38449499 0.51856838 0.40229638 0.4545214  0.49881108]]\n",
      "\n",
      " [[0.38569869 0.51312064 0.39915587 0.44852921 0.49775446]\n",
      "  [0.3849128  0.51355732 0.40080827 0.44778237 0.49747077]\n",
      "  [0.38469555 0.5141996  0.40225858 0.44751687 0.49780133]\n",
      "  ...\n",
      "  [0.38460118 0.51843393 0.4028684  0.45447606 0.49949359]\n",
      "  [0.38449499 0.51856838 0.40229638 0.4545214  0.49881108]\n",
      "  [0.38507668 0.51825519 0.40188097 0.45431606 0.49787693]]\n",
      "\n",
      " [[0.3849128  0.51355732 0.40080827 0.44778237 0.49747077]\n",
      "  [0.38469555 0.5141996  0.40225858 0.44751687 0.49780133]\n",
      "  [0.38317528 0.51503507 0.40384194 0.44807547 0.49746718]\n",
      "  ...\n",
      "  [0.38449499 0.51856838 0.40229638 0.4545214  0.49881108]\n",
      "  [0.38507668 0.51825519 0.40188097 0.45431606 0.49787693]\n",
      "  [0.38527076 0.51877359 0.40210825 0.45429363 0.49762988]]]\n"
     ]
    }
   ],
   "source": [
    "x_norm=(x_test12-min_m_reshape)/(max_m_reshape-min_m_reshape)\n",
    "print(x_norm)"
   ]
  },
  {
   "cell_type": "code",
   "execution_count": 24,
   "id": "06979359-e875-4cb1-97b1-1620903eb7c5",
   "metadata": {},
   "outputs": [
    {
     "name": "stdout",
     "output_type": "stream",
     "text": [
      "x_test12_reshape shape: (16046, 500)\n",
      "y_test12_reshape shape: (16046, 75)\n"
     ]
    }
   ],
   "source": [
    "x_test12_reshape= x_test12.reshape(-1, 500)\n",
    "print(\"x_test12_reshape shape:\",x_test12_reshape.shape)\n",
    "y_test12_reshape= y_test12.reshape(-1, 75)\n",
    "print(\"y_test12_reshape shape:\",y_test12_reshape.shape)"
   ]
  },
  {
   "cell_type": "code",
   "execution_count": 25,
   "id": "49957e86-570c-4f16-bc41-998191f52591",
   "metadata": {},
   "outputs": [
    {
     "name": "stdout",
     "output_type": "stream",
     "text": [
      "502/502 [==============================] - 7s 14ms/step\n"
     ]
    }
   ],
   "source": [
    "y_pred_test = model.predict(x_test12_reshape)"
   ]
  },
  {
   "cell_type": "code",
   "execution_count": 26,
   "id": "527fdd61-e028-4475-9e13-3b790801baf4",
   "metadata": {},
   "outputs": [
    {
     "name": "stdout",
     "output_type": "stream",
     "text": [
      "920.246507660033\n",
      "-163.36288268018052\n",
      "15.442814501767328\n"
     ]
    }
   ],
   "source": [
    "from sklearn.metrics import r2_score\n",
    "from sklearn.metrics import mean_squared_error\n",
    "from sklearn.metrics import mean_absolute_error\n",
    "\n",
    "print(mean_squared_error(y_test12_reshape,y_pred_test))\n",
    "print(r2_score(y_test12_reshape,y_pred_test))\n",
    "print(mean_absolute_error(y_test12_reshape,y_pred_test))"
   ]
  },
  {
   "cell_type": "code",
   "execution_count": 27,
   "id": "61c77f52-93be-492d-88dc-4754dff5a423",
   "metadata": {},
   "outputs": [
    {
     "name": "stdout",
     "output_type": "stream",
     "text": [
      "502/502 [==============================] - 8s 16ms/step\n",
      "Standard Deviation of Predictions: 29.551653\n"
     ]
    }
   ],
   "source": [
    "import numpy as np\n",
    "\n",
    "# Assuming you have already trained the model and made predictions on x_test_split\n",
    "y_pred = model.predict(x_test12_reshape)\n",
    "\n",
    "# Calculate the standard deviation of the predictions\n",
    "std_deviation = np.std(y_pred_test)\n",
    "\n",
    "print(\"Standard Deviation of Predictions:\", std_deviation)"
   ]
  },
  {
   "cell_type": "code",
   "execution_count": 28,
   "id": "a2a89618-ca98-4e4f-a67a-1bbaab319b9c",
   "metadata": {},
   "outputs": [
    {
     "name": "stdout",
     "output_type": "stream",
     "text": [
      "Memory Used: 1741357056 bytes\n"
     ]
    }
   ],
   "source": [
    "import psutil\n",
    "\n",
    "def get_memory_used():\n",
    "    process = psutil.Process()\n",
    "    memory_info = process.memory_info()\n",
    "    memory_used = memory_info.rss  \n",
    "    return memory_used\n",
    "\n",
    "if __name__ == \"__main__\":\n",
    "    memory_used = get_memory_used()\n",
    "    print(f\"Memory Used: {memory_used} bytes\")"
   ]
  },
  {
   "cell_type": "code",
   "execution_count": null,
   "id": "71043a15-181a-45e6-8a71-6403d1288650",
   "metadata": {},
   "outputs": [],
   "source": []
  }
 ],
 "metadata": {
  "kernelspec": {
   "display_name": "Python 3 (ipykernel)",
   "language": "python",
   "name": "python3"
  },
  "language_info": {
   "codemirror_mode": {
    "name": "ipython",
    "version": 3
   },
   "file_extension": ".py",
   "mimetype": "text/x-python",
   "name": "python",
   "nbconvert_exporter": "python",
   "pygments_lexer": "ipython3",
   "version": "3.10.9"
  }
 },
 "nbformat": 4,
 "nbformat_minor": 5
}

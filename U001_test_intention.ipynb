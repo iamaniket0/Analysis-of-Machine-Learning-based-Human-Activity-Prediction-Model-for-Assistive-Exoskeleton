{
 "cells": [
  {
   "cell_type": "code",
   "execution_count": 1,
   "id": "d161ad03-4ecf-44b7-bd9d-30ec8372bedb",
   "metadata": {},
   "outputs": [],
   "source": [
    "import os\n",
    "import pandas as pd\n",
    "import numpy as np\n",
    "import matplotlib.pyplot as plt"
   ]
  },
  {
   "cell_type": "code",
   "execution_count": 2,
   "id": "c96abcd3-582d-4256-b338-5de41601b2e4",
   "metadata": {},
   "outputs": [
    {
     "name": "stdout",
     "output_type": "stream",
     "text": [
      "C:\\Users\\Aniket\n"
     ]
    }
   ],
   "source": [
    "cd=os.getcwd()\n",
    "print(cd)\n"
   ]
  },
  {
   "cell_type": "code",
   "execution_count": 3,
   "id": "f5d29c3e-8fd3-4150-bb9b-49ecfc6f7401",
   "metadata": {},
   "outputs": [],
   "source": [
    "os.chdir(r\"C:\\Users\\Aniket\\Desktop\\INTENTION\")"
   ]
  },
  {
   "cell_type": "code",
   "execution_count": 4,
   "id": "312ea5ad-4010-472e-bbfb-a3951304b341",
   "metadata": {},
   "outputs": [
    {
     "name": "stdout",
     "output_type": "stream",
     "text": [
      "C:\\Users\\Aniket\\Desktop\\INTENTION\n"
     ]
    }
   ],
   "source": [
    "cd=os.getcwd()\n",
    "print(cd)"
   ]
  },
  {
   "cell_type": "code",
   "execution_count": 5,
   "id": "da2a0c6b-6c29-40a1-895f-353ad04e8f4b",
   "metadata": {},
   "outputs": [
    {
     "name": "stdout",
     "output_type": "stream",
     "text": [
      "['arrays.npz', 'U001_test_intention.csv', 'U001_train_intention.csv', 'U001_val_intention.csv', 'U002_test_intention.csv', 'U002_train_intention.csv', 'U002_val_intention.csv', 'U003_test_intention.csv', 'U003_train_intention.csv', 'U003_val_intention.csv', 'U004_test_intention.csv', 'U004_train_intention.csv', 'U004_val_intention.csv', 'U005_test_intention.csv', 'U005_train_intention.csv', 'U005_val_intention.csv', 'U006_test_intention.csv', 'U006_train_intention.csv', 'U006_val_intention.csv', 'U007_test_intention.csv', 'U007_train_intention.csv', 'U007_val_intention.csv', 'U008_test_intention.csv', 'U008_train_intention.csv', 'U008_val_intention.csv', 'U009_test_intention.csv', 'U009_train_intention.csv', 'U009_val_intention.csv', 'U010_test_intention.csv', 'U010_train_intention.csv', 'U010_val_intention.csv', 'U011_test_intention.csv', 'U011_train_intention.csv', 'U011_val_intention.csv', 'U012_test_intention.csv', 'U012_train_intention.csv', 'U012_val_intention.csv', 'x_in=.npy']\n"
     ]
    }
   ],
   "source": [
    "items=os.listdir(cd)\n",
    "print(items)"
   ]
  },
  {
   "cell_type": "code",
   "execution_count": 6,
   "id": "cba961f2-e95e-471f-80e5-089675d78d48",
   "metadata": {},
   "outputs": [
    {
     "name": "stdout",
     "output_type": "stream",
     "text": [
      "   Gyro_X_C9  Gyro_Y_C9  Gyro_Z_C9  Gyro_X_3B  Gyro_Y_3B  Gyro_Z_3B  \\\n",
      "0   0.012343   0.011154   0.046459   0.280846   0.135446   0.161358   \n",
      "1   0.055380  -0.006489   0.026373   0.243645   0.122282   0.157132   \n",
      "2   0.122433  -0.021939   0.019428   0.232980   0.125588   0.150065   \n",
      "3   0.202340  -0.025395   0.003973   0.247104   0.105518   0.143457   \n",
      "4   0.268421  -0.013397   0.001976   0.219017   0.100808   0.150137   \n",
      "\n",
      "   Gyro_X_B5  Gyro_Y_B5  Gyro_Z_B5  Gyro_X_B6  Gyro_Y_B6  Gyro_Z_B6  \\\n",
      "0   0.070465  -0.057262   0.084950  -0.073917  -0.320395  -0.011203   \n",
      "1   0.054317  -0.071056   0.086333  -0.065672  -0.322257  -0.009219   \n",
      "2   0.036555  -0.085724   0.091059  -0.053523  -0.315645  -0.012640   \n",
      "3   0.022009  -0.100458   0.094337  -0.060104  -0.311796  -0.013642   \n",
      "4   0.009582  -0.107500   0.108382  -0.077943  -0.306367  -0.016528   \n",
      "\n",
      "   Gyro_X_BB  Gyro_Y_BB  Gyro_Z_BB  target  \n",
      "0  -0.223229  -0.028756  -0.044222       0  \n",
      "1  -0.225826  -0.033528  -0.042486       0  \n",
      "2  -0.231789  -0.035868  -0.048495       0  \n",
      "3  -0.246036  -0.048283  -0.057094       0  \n",
      "4  -0.267094  -0.053789  -0.068982       0  \n"
     ]
    }
   ],
   "source": [
    "path=os.path.join(cd,\"U001_train_intention.csv\")\n",
    "df1=pd.read_csv(path)\n",
    "print(df1.head(5))"
   ]
  },
  {
   "cell_type": "code",
   "execution_count": 7,
   "id": "0b80ff8e-7fa5-4583-9fcf-0085402c6f5d",
   "metadata": {},
   "outputs": [
    {
     "name": "stdout",
     "output_type": "stream",
     "text": [
      "<class 'pandas.core.frame.DataFrame'>\n",
      "RangeIndex: 109875 entries, 0 to 109874\n",
      "Data columns (total 16 columns):\n",
      " #   Column     Non-Null Count   Dtype  \n",
      "---  ------     --------------   -----  \n",
      " 0   Gyro_X_C9  109875 non-null  float64\n",
      " 1   Gyro_Y_C9  109875 non-null  float64\n",
      " 2   Gyro_Z_C9  109875 non-null  float64\n",
      " 3   Gyro_X_3B  109875 non-null  float64\n",
      " 4   Gyro_Y_3B  109875 non-null  float64\n",
      " 5   Gyro_Z_3B  109875 non-null  float64\n",
      " 6   Gyro_X_B5  109875 non-null  float64\n",
      " 7   Gyro_Y_B5  109875 non-null  float64\n",
      " 8   Gyro_Z_B5  109875 non-null  float64\n",
      " 9   Gyro_X_B6  109875 non-null  float64\n",
      " 10  Gyro_Y_B6  109875 non-null  float64\n",
      " 11  Gyro_Z_B6  109875 non-null  float64\n",
      " 12  Gyro_X_BB  109875 non-null  float64\n",
      " 13  Gyro_Y_BB  109875 non-null  float64\n",
      " 14  Gyro_Z_BB  109875 non-null  float64\n",
      " 15  target     109875 non-null  int64  \n",
      "dtypes: float64(15), int64(1)\n",
      "memory usage: 13.4 MB\n",
      "None\n"
     ]
    }
   ],
   "source": [
    "print(df1.info())"
   ]
  },
  {
   "cell_type": "code",
   "execution_count": 8,
   "id": "68dfceca-dfe2-41af-85cc-c889da7c6fee",
   "metadata": {},
   "outputs": [
    {
     "name": "stdout",
     "output_type": "stream",
     "text": [
      "   Gyro_Y_C9  Gyro_Y_3B  Gyro_Y_B5  Gyro_Y_B6  Gyro_Y_BB\n",
      "0   0.011154   0.135446  -0.057262  -0.320395  -0.028756\n",
      "1  -0.006489   0.122282  -0.071056  -0.322257  -0.033528\n",
      "2  -0.021939   0.125588  -0.085724  -0.315645  -0.035868\n",
      "3  -0.025395   0.105518  -0.100458  -0.311796  -0.048283\n",
      "4  -0.013397   0.100808  -0.107500  -0.306367  -0.053789\n",
      "(109875, 5)\n",
      "[[ 0.011154  0.135446 -0.057262 -0.320395 -0.028756]\n",
      " [-0.006489  0.122282 -0.071056 -0.322257 -0.033528]\n",
      " [-0.021939  0.125588 -0.085724 -0.315645 -0.035868]\n",
      " ...\n",
      " [ 0.011339  0.000608  0.015854 -0.008076 -0.007098]\n",
      " [ 0.011692  0.002705  0.015118 -0.005818 -0.003477]\n",
      " [ 0.012394  0.000972  0.012809 -0.006303 -0.00377 ]]\n"
     ]
    }
   ],
   "source": [
    "Gyro_Y=df1.iloc[:,[1,4,7,10,13]]\n",
    "Dat=Gyro_Y.values\n",
    "print(Gyro_Y.head())\n",
    "print(Dat.shape)\n",
    "print(Dat)"
   ]
  },
  {
   "cell_type": "code",
   "execution_count": 9,
   "id": "7b7305ce-0625-4fe9-af75-c5b70eb36048",
   "metadata": {},
   "outputs": [
    {
     "name": "stdout",
     "output_type": "stream",
     "text": [
      "109875\n",
      "109761\n"
     ]
    }
   ],
   "source": [
    "#windowed output shape [m x o] where m=Sample-(window+output)+1\n",
    "#and windowed input shape will be [mxw].\n",
    "\n",
    "Sample=Gyro_Y.shape[0]\n",
    "print(Sample)\n",
    "window=100\n",
    "output=15\n",
    "m=Sample-(window+output)+1\n",
    "\n",
    "X=np.zeros((m,window))\n",
    "y=np.zeros((m,output))\n",
    "print(m)"
   ]
  },
  {
   "cell_type": "code",
   "execution_count": 14,
   "id": "27d7c876-1ffd-41f8-a23d-618c351d8552",
   "metadata": {},
   "outputs": [
    {
     "name": "stdout",
     "output_type": "stream",
     "text": [
      "x_in:\n",
      "(109761, 100, 5)\n",
      "(109761, 15, 5)\n"
     ]
    }
   ],
   "source": [
    "import numpy as np\n",
    "\n",
    "\n",
    "\n",
    "#taking window input as 100 and window ouput as 15 for sample=m  \n",
    "x_in = np.zeros((m,100,5))\n",
    "y_op = np.zeros((m,15,5))\n",
    "\n",
    "\n",
    "for i in range(m):\n",
    "    # Store the first 100 rows\n",
    "   # print(\"x_in[i:,:,].shape\",x_in[i,:,:].shape,\"y_op[i:,:,].shape\",y_op[i,:,:].shape,\"Dat[i:i+100,:].shape\",Dat[i:i+100,:].shape,\"Dat[i+100:i+115,:].shape\",Dat[i+100:i+115,:].shape)\n",
    "    x_in[i,:,:] =Dat[i:i+100,:]\n",
    "    y_op[i,:,:]=Dat[i+100:i+115,:]\n",
    "     \n",
    "    \n",
    " \n",
    "    \n",
    "\n",
    "    # Print the stored arrays\n",
    "print(\"x_in:\")\n",
    "print(x_in.shape)\n",
    "print(y_op.shape)\n",
    "   \n",
    "\n",
    "    \n",
    "\n",
    " \n",
    "\n",
    "\n"
   ]
  },
  {
   "cell_type": "code",
   "execution_count": 15,
   "id": "353683b7-94b2-44e9-9d03-bd4e1eded126",
   "metadata": {},
   "outputs": [],
   "source": [
    "\n",
    "\n",
    "# Save arrays to a file\n",
    "np.save('x_in.npy',x_in)\n",
    "np.save('y_op.npy',y_op)\n"
   ]
  }
 ],
 "metadata": {
  "kernelspec": {
   "display_name": "Python 3 (ipykernel)",
   "language": "python",
   "name": "python3"
  },
  "language_info": {
   "codemirror_mode": {
    "name": "ipython",
    "version": 3
   },
   "file_extension": ".py",
   "mimetype": "text/x-python",
   "name": "python",
   "nbconvert_exporter": "python",
   "pygments_lexer": "ipython3",
   "version": "3.10.9"
  }
 },
 "nbformat": 4,
 "nbformat_minor": 5
}

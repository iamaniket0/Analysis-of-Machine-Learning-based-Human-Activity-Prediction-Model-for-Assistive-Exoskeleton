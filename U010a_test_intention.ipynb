{
 "cells": [
  {
   "cell_type": "code",
   "execution_count": 71,
   "id": "d161ad03-4ecf-44b7-bd9d-30ec8372bedb",
   "metadata": {},
   "outputs": [],
   "source": [
    "import os\n",
    "import pandas as pd\n",
    "import numpy as np\n",
    "import matplotlib.pyplot as plt"
   ]
  },
  {
   "cell_type": "code",
   "execution_count": 72,
   "id": "c96abcd3-582d-4256-b338-5de41601b2e4",
   "metadata": {},
   "outputs": [
    {
     "name": "stdout",
     "output_type": "stream",
     "text": [
      "C:\\Users\\Aniket\\Desktop\\INTENTION\n"
     ]
    }
   ],
   "source": [
    "cd=os.getcwd()\n",
    "print(cd)\n"
   ]
  },
  {
   "cell_type": "code",
   "execution_count": 73,
   "id": "f5d29c3e-8fd3-4150-bb9b-49ecfc6f7401",
   "metadata": {},
   "outputs": [],
   "source": [
    "os.chdir(r\"C:\\Users\\Aniket\\Desktop\\INTENTION\")"
   ]
  },
  {
   "cell_type": "code",
   "execution_count": 74,
   "id": "312ea5ad-4010-472e-bbfb-a3951304b341",
   "metadata": {},
   "outputs": [
    {
     "name": "stdout",
     "output_type": "stream",
     "text": [
      "C:\\Users\\Aniket\\Desktop\\INTENTION\n"
     ]
    }
   ],
   "source": [
    "cd=os.getcwd()\n",
    "print(cd)"
   ]
  },
  {
   "cell_type": "code",
   "execution_count": 75,
   "id": "da2a0c6b-6c29-40a1-895f-353ad04e8f4b",
   "metadata": {},
   "outputs": [
    {
     "name": "stdout",
     "output_type": "stream",
     "text": [
      "['arrays.npz', 'U001_test_intention.csv', 'U001_train_intention.csv', 'U001_val_intention.csv', 'U002_test_intention.csv', 'U002_train_intention.csv', 'U002_val_intention.csv', 'U003_test_intention.csv', 'U003_train_intention.csv', 'U003_val_intention.csv', 'U004_test_intention.csv', 'U004_train_intention.csv', 'U004_val_intention.csv', 'U005_test_intention.csv', 'U005_train_intention.csv', 'U005_val_intention.csv', 'U006_test_intention.csv', 'U006_train_intention.csv', 'U006_val_intention.csv', 'U007_test_intention.csv', 'U007_train_intention.csv', 'U007_val_intention.csv', 'U008_test_intention.csv', 'U008_train_intention.csv', 'U008_val_intention.csv', 'U009_test_intention.csv', 'U009_train_intention.csv', 'U009_val_intention.csv', 'U010_test_intention.csv', 'U010_train_intention.csv', 'U010_val_intention.csv', 'U011_test_intention.csv', 'U011_train_intention.csv', 'U011_val_intention.csv', 'U012_test_intention.csv', 'U012_train_intention.csv', 'U012_val_intention.csv', 'x_in.npy', 'x_in2.npy', 'x_in3.npy', 'x_in4.npy', 'x_in5.npy', 'x_in6.npy', 'x_in7.npy', 'x_in8.npy', 'x_in=.npy', 'y_op.npy', 'y_op2.npy', 'y_op3.npy', 'y_op4.npy', 'y_op5.npy', 'y_op6.npy', 'y_op7.npy', 'y_op8.npy']\n"
     ]
    }
   ],
   "source": [
    "items=os.listdir(cd)\n",
    "print(items)"
   ]
  },
  {
   "cell_type": "code",
   "execution_count": 76,
   "id": "cba961f2-e95e-471f-80e5-089675d78d48",
   "metadata": {},
   "outputs": [
    {
     "name": "stdout",
     "output_type": "stream",
     "text": [
      "   Axel_X_C9  Axel_Y_C9  Axel_Z_C9  Gyro_X_C9  Gyro_Y_C9  Gyro_Z_C9  \\\n",
      "0   9.856110   1.023643  -0.281951   0.046817  -0.273344  -0.022671   \n",
      "1   9.774105   1.034285  -0.386320   0.052214  -0.276186  -0.026417   \n",
      "2   9.765562   1.038173  -0.390561   0.055699  -0.276008  -0.029024   \n",
      "3   9.777779   0.920142  -0.407188   0.056771  -0.286803  -0.031567   \n",
      "4   9.806516   0.924666  -0.452770   0.067643  -0.295193  -0.028137   \n",
      "\n",
      "   Axel_X_3B  Axel_Y_3B  Axel_Z_3B  Gyro_X_3B  ...  Gyro_X_B6  Gyro_Y_B6  \\\n",
      "0   9.914101   0.961165   0.654575  -0.174861  ...   0.043539  -0.088496   \n",
      "1  10.059575   0.808485   0.849333  -0.152273  ...   0.035656  -0.075539   \n",
      "2  10.211329   0.670051   1.016547  -0.116625  ...   0.026244  -0.072260   \n",
      "3  10.281549   0.541180   1.293326  -0.075142  ...   0.012712  -0.086827   \n",
      "4  10.373435   0.295252   1.541625  -0.037211  ...   0.013656  -0.114490   \n",
      "\n",
      "   Gyro_Z_B6  Axel_X_BB  Axel_Y_BB  Axel_Z_BB  Gyro_X_BB  Gyro_Y_BB  \\\n",
      "0   0.062219   9.102532  -2.212475   1.030055  -0.377982   0.022092   \n",
      "1   0.067203   9.299204  -2.205961   1.131913  -0.407507  -0.005772   \n",
      "2   0.058057   9.480829  -2.145570   1.228218  -0.444779  -0.028839   \n",
      "3   0.055296   9.664306  -2.016151   1.345270  -0.509368  -0.058567   \n",
      "4   0.045443   9.842649  -1.945965   1.449342  -0.592288  -0.068333   \n",
      "\n",
      "   Gyro_Z_BB  target  \n",
      "0   0.164554     1.0  \n",
      "1   0.188838     1.0  \n",
      "2   0.207409     1.0  \n",
      "3   0.232822     1.0  \n",
      "4   0.267137     1.0  \n",
      "\n",
      "[5 rows x 31 columns]\n"
     ]
    }
   ],
   "source": [
    "path=os.path.join(cd,\"U009_train_intention.csv\")\n",
    "df1=pd.read_csv(path)\n",
    "print(df1.head(5))"
   ]
  },
  {
   "cell_type": "code",
   "execution_count": 77,
   "id": "0b80ff8e-7fa5-4583-9fcf-0085402c6f5d",
   "metadata": {},
   "outputs": [
    {
     "name": "stdout",
     "output_type": "stream",
     "text": [
      "<class 'pandas.core.frame.DataFrame'>\n",
      "RangeIndex: 97601 entries, 0 to 97600\n",
      "Data columns (total 31 columns):\n",
      " #   Column     Non-Null Count  Dtype  \n",
      "---  ------     --------------  -----  \n",
      " 0   Axel_X_C9  97601 non-null  float64\n",
      " 1   Axel_Y_C9  97601 non-null  float64\n",
      " 2   Axel_Z_C9  97601 non-null  float64\n",
      " 3   Gyro_X_C9  97601 non-null  float64\n",
      " 4   Gyro_Y_C9  97601 non-null  float64\n",
      " 5   Gyro_Z_C9  97601 non-null  float64\n",
      " 6   Axel_X_3B  97601 non-null  float64\n",
      " 7   Axel_Y_3B  97601 non-null  float64\n",
      " 8   Axel_Z_3B  97601 non-null  float64\n",
      " 9   Gyro_X_3B  97601 non-null  float64\n",
      " 10  Gyro_Y_3B  97601 non-null  float64\n",
      " 11  Gyro_Z_3B  97601 non-null  float64\n",
      " 12  Axel_X_B5  97601 non-null  float64\n",
      " 13  Axel_Y_B5  97601 non-null  float64\n",
      " 14  Axel_Z_B5  97601 non-null  float64\n",
      " 15  Gyro_X_B5  97601 non-null  float64\n",
      " 16  Gyro_Y_B5  97601 non-null  float64\n",
      " 17  Gyro_Z_B5  97601 non-null  float64\n",
      " 18  Axel_X_B6  97601 non-null  float64\n",
      " 19  Axel_Y_B6  97601 non-null  float64\n",
      " 20  Axel_Z_B6  97601 non-null  float64\n",
      " 21  Gyro_X_B6  97601 non-null  float64\n",
      " 22  Gyro_Y_B6  97601 non-null  float64\n",
      " 23  Gyro_Z_B6  97601 non-null  float64\n",
      " 24  Axel_X_BB  97601 non-null  float64\n",
      " 25  Axel_Y_BB  97601 non-null  float64\n",
      " 26  Axel_Z_BB  97601 non-null  float64\n",
      " 27  Gyro_X_BB  97601 non-null  float64\n",
      " 28  Gyro_Y_BB  97601 non-null  float64\n",
      " 29  Gyro_Z_BB  97601 non-null  float64\n",
      " 30  target     97601 non-null  float64\n",
      "dtypes: float64(31)\n",
      "memory usage: 23.1 MB\n",
      "None\n"
     ]
    }
   ],
   "source": [
    "print(df1.info())"
   ]
  },
  {
   "cell_type": "code",
   "execution_count": 78,
   "id": "68dfceca-dfe2-41af-85cc-c889da7c6fee",
   "metadata": {},
   "outputs": [
    {
     "name": "stdout",
     "output_type": "stream",
     "text": [
      "   Axel_Y_C9  Gyro_Y_C9  Axel_Y_3B  Gyro_Y_3B  Axel_Y_B5\n",
      "0   1.023643  -0.273344   0.961165   0.057996   0.909655\n",
      "1   1.034285  -0.276186   0.808485   0.086914   0.876790\n",
      "2   1.038173  -0.276008   0.670051   0.123822   0.840687\n",
      "3   0.920142  -0.286803   0.541180   0.165899   0.832321\n",
      "4   0.924666  -0.295193   0.295252   0.209836   0.757823\n",
      "(97601, 5)\n",
      "[[ 1.023643e+00 -2.733440e-01  9.611650e-01  5.799600e-02  9.096550e-01]\n",
      " [ 1.034285e+00 -2.761860e-01  8.084850e-01  8.691400e-02  8.767900e-01]\n",
      " [ 1.038173e+00 -2.760080e-01  6.700510e-01  1.238220e-01  8.406870e-01]\n",
      " ...\n",
      " [-1.271778e+00 -8.456000e-03  2.566161e+00  1.298500e-02  3.298102e+00]\n",
      " [-1.250069e+00 -2.847000e-03  2.612561e+00  1.509900e-02  3.247275e+00]\n",
      " [-1.262337e+00  7.299000e-03  2.604430e+00  1.782700e-02  3.330518e+00]]\n"
     ]
    }
   ],
   "source": [
    "Gyro_Y=df1.iloc[:,[1,4,7,10,13]]\n",
    "Dat=Gyro_Y.values\n",
    "print(Gyro_Y.head())\n",
    "print(Dat.shape)\n",
    "print(Dat)"
   ]
  },
  {
   "cell_type": "code",
   "execution_count": 79,
   "id": "7b7305ce-0625-4fe9-af75-c5b70eb36048",
   "metadata": {},
   "outputs": [
    {
     "name": "stdout",
     "output_type": "stream",
     "text": [
      "97601\n",
      "97487\n"
     ]
    }
   ],
   "source": [
    "#windowed output shape [m x o] where m=Sample-(window+output)+1\n",
    "#and windowed input shape will be [mxw].\n",
    "\n",
    "Sample=Gyro_Y.shape[0]\n",
    "print(Sample)\n",
    "window=100\n",
    "output=15\n",
    "m=Sample-(window+output)+1\n",
    "\n",
    "X=np.zeros((m,window))\n",
    "y=np.zeros((m,output))\n",
    "print(m)"
   ]
  },
  {
   "cell_type": "code",
   "execution_count": 80,
   "id": "27d7c876-1ffd-41f8-a23d-618c351d8552",
   "metadata": {},
   "outputs": [
    {
     "name": "stdout",
     "output_type": "stream",
     "text": [
      "x_in:\n",
      "(97487, 100, 5)\n",
      "(97487, 15, 5)\n"
     ]
    }
   ],
   "source": [
    "import numpy as np\n",
    "\n",
    "\n",
    "\n",
    "#taking window input as 100 and window ouput as 15 for sample=m  \n",
    "x_in = np.zeros((m,100,5))\n",
    "y_op = np.zeros((m,15,5))\n",
    "\n",
    "\n",
    "for i in range(m):\n",
    "    # Store the first 100 rows\n",
    "   # print(\"x_in[i:,:,].shape\",x_in[i,:,:].shape,\"y_op[i:,:,].shape\",y_op[i,:,:].shape,\"Dat[i:i+100,:].shape\",Dat[i:i+100,:].shape,\"Dat[i+100:i+115,:].shape\",Dat[i+100:i+115,:].shape)\n",
    "    x_in[i,:,:] =Dat[i:i+100,:]\n",
    "    y_op[i,:,:]=Dat[i+100:i+115,:]\n",
    "     \n",
    "    \n",
    " \n",
    "    \n",
    "\n",
    "    # Print the stored arrays\n",
    "print(\"x_in:\")\n",
    "print(x_in.shape)\n",
    "print(y_op.shape)\n",
    "   \n",
    "\n",
    "    \n",
    "\n",
    " \n",
    "\n",
    "\n"
   ]
  },
  {
   "cell_type": "code",
   "execution_count": 81,
   "id": "353683b7-94b2-44e9-9d03-bd4e1eded126",
   "metadata": {},
   "outputs": [],
   "source": [
    "\n",
    "\n",
    "# Save arrays to a file\n",
    "np.save('x_in9.npy',x_in)\n",
    "np.save('y_op9.npy',y_op)\n"
   ]
  },
  {
   "cell_type": "code",
   "execution_count": null,
   "id": "5d45e9ba-d9d8-4634-a50c-efb6afc535ba",
   "metadata": {},
   "outputs": [],
   "source": []
  }
 ],
 "metadata": {
  "kernelspec": {
   "display_name": "Python 3 (ipykernel)",
   "language": "python",
   "name": "python3"
  },
  "language_info": {
   "codemirror_mode": {
    "name": "ipython",
    "version": 3
   },
   "file_extension": ".py",
   "mimetype": "text/x-python",
   "name": "python",
   "nbconvert_exporter": "python",
   "pygments_lexer": "ipython3",
   "version": "3.10.9"
  }
 },
 "nbformat": 4,
 "nbformat_minor": 5
}

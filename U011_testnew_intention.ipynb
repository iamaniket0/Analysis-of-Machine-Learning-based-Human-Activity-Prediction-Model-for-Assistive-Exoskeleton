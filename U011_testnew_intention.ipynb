{
 "cells": [
  {
   "cell_type": "code",
   "execution_count": 120,
   "id": "d161ad03-4ecf-44b7-bd9d-30ec8372bedb",
   "metadata": {},
   "outputs": [],
   "source": [
    "import os\n",
    "import pandas as pd\n",
    "import numpy as np\n",
    "import matplotlib.pyplot as plt"
   ]
  },
  {
   "cell_type": "code",
   "execution_count": 121,
   "id": "c96abcd3-582d-4256-b338-5de41601b2e4",
   "metadata": {},
   "outputs": [
    {
     "name": "stdout",
     "output_type": "stream",
     "text": [
      "C:\\Users\\Aniket\\Desktop\\INTENTION\n"
     ]
    }
   ],
   "source": [
    "cd=os.getcwd()\n",
    "print(cd)\n"
   ]
  },
  {
   "cell_type": "code",
   "execution_count": 122,
   "id": "f5d29c3e-8fd3-4150-bb9b-49ecfc6f7401",
   "metadata": {},
   "outputs": [],
   "source": [
    "os.chdir(r\"C:\\Users\\Aniket\\Desktop\\INTENTION\")"
   ]
  },
  {
   "cell_type": "code",
   "execution_count": 123,
   "id": "312ea5ad-4010-472e-bbfb-a3951304b341",
   "metadata": {},
   "outputs": [
    {
     "name": "stdout",
     "output_type": "stream",
     "text": [
      "C:\\Users\\Aniket\\Desktop\\INTENTION\n"
     ]
    }
   ],
   "source": [
    "cd=os.getcwd()\n",
    "print(cd)"
   ]
  },
  {
   "cell_type": "code",
   "execution_count": 124,
   "id": "da2a0c6b-6c29-40a1-895f-353ad04e8f4b",
   "metadata": {},
   "outputs": [
    {
     "name": "stdout",
     "output_type": "stream",
     "text": [
      "['arrays.npz', 'max_m.npy', 'max_m_ML.npy', 'min_m.npy', 'min_m_ML.npy', 'U001_test_intention.csv', 'U001_train_intention.csv', 'U001_val_intention.csv', 'U002_test_intention.csv', 'U002_train_intention.csv', 'U002_val_intention.csv', 'U003_test_intention.csv', 'U003_train_intention.csv', 'U003_val_intention.csv', 'U004_test_intention.csv', 'U004_train_intention.csv', 'U004_val_intention.csv', 'U005_test_intention.csv', 'U005_train_intention.csv', 'U005_val_intention.csv', 'U006_test_intention.csv', 'U006_train_intention.csv', 'U006_val_intention.csv', 'U007_test_intention.csv', 'U007_train_intention.csv', 'U007_val_intention.csv', 'U008_test_intention.csv', 'U008_train_intention.csv', 'U008_val_intention.csv', 'U009_test_intention.csv', 'U009_train_intention.csv', 'U009_val_intention.csv', 'U010_test_intention.csv', 'U010_train_intention.csv', 'U010_val_intention.csv', 'U011_test_intention.csv', 'U011_train_intention.csv', 'U011_val_intention.csv', 'U012_test_intention.csv', 'U012_train_intention.csv', 'U012_val_intention.csv', 'x_in.npy', 'x_in1.npy', 'x_in10.npy', 'x_in11.npy', 'x_in12.npy', 'x_in2.npy', 'x_in3.npy', 'x_in4.npy', 'x_in5.npy', 'x_in6.npy', 'x_in7.npy', 'x_in8.npy', 'x_in9.npy', 'x_in=.npy', 'x_incom.npy', 'X_train.npy', 'X_vel.npy', 'X_vel_ML.npy', 'y_op.npy', 'y_op1.npy', 'y_op10.npy', 'y_op11.npy', 'y_op12.npy', 'y_op2.npy', 'y_op3.npy', 'y_op4.npy', 'y_op5.npy', 'y_op6.npy', 'y_op7.npy', 'y_op8.npy', 'y_op9.npy', 'y_opcom.npy', 'Y_train.npy', 'Y_train_ML.npy', 'Y_vel.npy', 'Y_vel_ML.npy']\n"
     ]
    }
   ],
   "source": [
    "items=os.listdir(cd)\n",
    "print(items)"
   ]
  },
  {
   "cell_type": "code",
   "execution_count": 125,
   "id": "cba961f2-e95e-471f-80e5-089675d78d48",
   "metadata": {},
   "outputs": [
    {
     "name": "stdout",
     "output_type": "stream",
     "text": [
      "   Axel_X_C9  Axel_Y_C9  Axel_Z_C9  Gyro_X_C9  Gyro_Y_C9  Gyro_Z_C9  \\\n",
      "0   9.713589  -0.033663  -1.760637  -0.030069   0.019694  -0.012073   \n",
      "1   9.727557  -0.084089  -1.751376  -0.042461   0.016970  -0.013918   \n",
      "2   9.726308  -0.144232  -1.704068  -0.052008   0.017649  -0.012037   \n",
      "3   9.709696  -0.180742  -1.703855  -0.058284   0.012940  -0.014658   \n",
      "4   9.722746  -0.244987  -1.715124  -0.060743   0.010184  -0.015671   \n",
      "\n",
      "   Axel_X_3B  Axel_Y_3B  Axel_Z_3B  Gyro_X_3B  ...  Gyro_X_B6  Gyro_Y_B6  \\\n",
      "0   9.594379   1.937624  -1.333950  -0.003372  ...   0.032154  -0.055487   \n",
      "1   9.587683   1.915791  -1.327601  -0.005239  ...   0.034568  -0.053297   \n",
      "2   9.615640   1.935570  -1.314398  -0.010366  ...   0.033630  -0.052239   \n",
      "3   9.570503   1.900749  -1.295906  -0.007590  ...   0.031092  -0.046752   \n",
      "4   9.602433   1.891472  -1.300939  -0.011812  ...   0.033613  -0.052226   \n",
      "\n",
      "   Gyro_Z_B6  Axel_X_BB  Axel_Y_BB  Axel_Z_BB  Gyro_X_BB  Gyro_Y_BB  \\\n",
      "0   0.000004   9.209758  -3.437090   1.436980   0.019001  -0.025308   \n",
      "1   0.005503   9.182540  -3.451194   1.445846   0.030897  -0.030155   \n",
      "2   0.003853   9.212256  -3.431749   1.433728   0.041685  -0.030661   \n",
      "3   0.005519   9.202248  -3.431132   1.453813   0.054818  -0.033741   \n",
      "4   0.003864   9.217119  -3.447576   1.457019   0.062658  -0.041266   \n",
      "\n",
      "   Gyro_Z_BB  target  \n",
      "0  -0.022972     0.0  \n",
      "1  -0.022491     0.0  \n",
      "2  -0.028936     0.0  \n",
      "3  -0.027851     0.0  \n",
      "4  -0.028747     0.0  \n",
      "\n",
      "[5 rows x 31 columns]\n"
     ]
    }
   ],
   "source": [
    "path=os.path.join(cd,\"U011_test_intention.csv\")\n",
    "df1=pd.read_csv(path)\n",
    "print(df1.head(5))"
   ]
  },
  {
   "cell_type": "code",
   "execution_count": 126,
   "id": "0b80ff8e-7fa5-4583-9fcf-0085402c6f5d",
   "metadata": {},
   "outputs": [
    {
     "name": "stdout",
     "output_type": "stream",
     "text": [
      "<class 'pandas.core.frame.DataFrame'>\n",
      "RangeIndex: 16528 entries, 0 to 16527\n",
      "Data columns (total 31 columns):\n",
      " #   Column     Non-Null Count  Dtype  \n",
      "---  ------     --------------  -----  \n",
      " 0   Axel_X_C9  16528 non-null  float64\n",
      " 1   Axel_Y_C9  16528 non-null  float64\n",
      " 2   Axel_Z_C9  16528 non-null  float64\n",
      " 3   Gyro_X_C9  16528 non-null  float64\n",
      " 4   Gyro_Y_C9  16528 non-null  float64\n",
      " 5   Gyro_Z_C9  16528 non-null  float64\n",
      " 6   Axel_X_3B  16528 non-null  float64\n",
      " 7   Axel_Y_3B  16528 non-null  float64\n",
      " 8   Axel_Z_3B  16528 non-null  float64\n",
      " 9   Gyro_X_3B  16528 non-null  float64\n",
      " 10  Gyro_Y_3B  16528 non-null  float64\n",
      " 11  Gyro_Z_3B  16528 non-null  float64\n",
      " 12  Axel_X_B5  16528 non-null  float64\n",
      " 13  Axel_Y_B5  16528 non-null  float64\n",
      " 14  Axel_Z_B5  16528 non-null  float64\n",
      " 15  Gyro_X_B5  16528 non-null  float64\n",
      " 16  Gyro_Y_B5  16528 non-null  float64\n",
      " 17  Gyro_Z_B5  16528 non-null  float64\n",
      " 18  Axel_X_B6  16528 non-null  float64\n",
      " 19  Axel_Y_B6  16528 non-null  float64\n",
      " 20  Axel_Z_B6  16528 non-null  float64\n",
      " 21  Gyro_X_B6  16528 non-null  float64\n",
      " 22  Gyro_Y_B6  16528 non-null  float64\n",
      " 23  Gyro_Z_B6  16528 non-null  float64\n",
      " 24  Axel_X_BB  16528 non-null  float64\n",
      " 25  Axel_Y_BB  16528 non-null  float64\n",
      " 26  Axel_Z_BB  16528 non-null  float64\n",
      " 27  Gyro_X_BB  16528 non-null  float64\n",
      " 28  Gyro_Y_BB  16528 non-null  float64\n",
      " 29  Gyro_Z_BB  16528 non-null  float64\n",
      " 30  target     16528 non-null  float64\n",
      "dtypes: float64(31)\n",
      "memory usage: 3.9 MB\n",
      "None\n"
     ]
    }
   ],
   "source": [
    "print(df1.info())"
   ]
  },
  {
   "cell_type": "code",
   "execution_count": 127,
   "id": "68dfceca-dfe2-41af-85cc-c889da7c6fee",
   "metadata": {},
   "outputs": [
    {
     "name": "stdout",
     "output_type": "stream",
     "text": [
      "   Axel_Y_C9  Gyro_Y_C9  Axel_Y_3B  Gyro_Y_3B  Axel_Y_B5\n",
      "0  -0.033663   0.019694   1.937624   0.037937   1.864164\n",
      "1  -0.084089   0.016970   1.915791   0.038231   1.874085\n",
      "2  -0.144232   0.017649   1.935570   0.040363   1.889299\n",
      "3  -0.180742   0.012940   1.900749   0.039847   1.911490\n",
      "4  -0.244987   0.010184   1.891472   0.044331   1.899025\n",
      "(16528, 5)\n",
      "[[-3.366300e-02  1.969400e-02  1.937624e+00  3.793700e-02  1.864164e+00]\n",
      " [-8.408900e-02  1.697000e-02  1.915791e+00  3.823100e-02  1.874085e+00]\n",
      " [-1.442320e-01  1.764900e-02  1.935570e+00  4.036300e-02  1.889299e+00]\n",
      " ...\n",
      " [-4.195760e-01 -2.860000e-04  1.832592e+00  6.331000e-03  2.461632e+00]\n",
      " [-4.198110e-01  5.159000e-03  1.835082e+00  6.761000e-03  2.485237e+00]\n",
      " [-4.166340e-01  7.574000e-03  1.839693e+00  8.795000e-03  2.481421e+00]]\n"
     ]
    }
   ],
   "source": [
    "Gyro_Y=df1.iloc[:,[1,4,7,10,13]]\n",
    "Dat=Gyro_Y.values\n",
    "print(Gyro_Y.head())\n",
    "print(Dat.shape)\n",
    "print(Dat)"
   ]
  },
  {
   "cell_type": "code",
   "execution_count": 128,
   "id": "7b7305ce-0625-4fe9-af75-c5b70eb36048",
   "metadata": {},
   "outputs": [
    {
     "name": "stdout",
     "output_type": "stream",
     "text": [
      "16528\n",
      "16414\n"
     ]
    }
   ],
   "source": [
    "#windowed output shape [m x o] where m=Sample-(window+output)+1\n",
    "#and windowed input shape will be [mxw].\n",
    "\n",
    "Sample=Gyro_Y.shape[0]\n",
    "print(Sample)\n",
    "window=100\n",
    "output=15\n",
    "m=Sample-(window+output)+1\n",
    "\n",
    "X=np.zeros((m,window))\n",
    "y=np.zeros((m,output))\n",
    "print(m)"
   ]
  },
  {
   "cell_type": "code",
   "execution_count": 129,
   "id": "27d7c876-1ffd-41f8-a23d-618c351d8552",
   "metadata": {},
   "outputs": [
    {
     "name": "stdout",
     "output_type": "stream",
     "text": [
      "x_in:\n",
      "(16414, 100, 5)\n",
      "(16414, 15, 5)\n"
     ]
    }
   ],
   "source": [
    "import numpy as np\n",
    "\n",
    "\n",
    "\n",
    "#taking window input as 100 and window ouput as 15 for sample=m  \n",
    "x_in = np.zeros((m,100,5))\n",
    "y_op = np.zeros((m,15,5))\n",
    "\n",
    "\n",
    "for i in range(m):\n",
    "    # Store the first 100 rows\n",
    "   # print(\"x_in[i:,:,].shape\",x_in[i,:,:].shape,\"y_op[i:,:,].shape\",y_op[i,:,:].shape,\"Dat[i:i+100,:].shape\",Dat[i:i+100,:].shape,\"Dat[i+100:i+115,:].shape\",Dat[i+100:i+115,:].shape)\n",
    "    x_in[i,:,:] =Dat[i:i+100,:]\n",
    "    y_op[i,:,:]=Dat[i+100:i+115,:]\n",
    "     \n",
    "    \n",
    " \n",
    "    \n",
    "\n",
    "    # Print the stored arrays\n",
    "print(\"x_in:\")\n",
    "print(x_in.shape)\n",
    "print(y_op.shape)\n",
    "   \n",
    "\n",
    "    \n",
    "\n",
    " \n",
    "\n",
    "\n"
   ]
  },
  {
   "cell_type": "code",
   "execution_count": 130,
   "id": "353683b7-94b2-44e9-9d03-bd4e1eded126",
   "metadata": {},
   "outputs": [],
   "source": [
    "\n",
    "\n",
    "# Save arrays to a file\n",
    "np.save('x_in11.npy',x_in)\n",
    "np.save('y_op11.npy',y_op)\n"
   ]
  },
  {
   "cell_type": "code",
   "execution_count": null,
   "id": "5d45e9ba-d9d8-4634-a50c-efb6afc535ba",
   "metadata": {},
   "outputs": [],
   "source": []
  }
 ],
 "metadata": {
  "kernelspec": {
   "display_name": "Python 3 (ipykernel)",
   "language": "python",
   "name": "python3"
  },
  "language_info": {
   "codemirror_mode": {
    "name": "ipython",
    "version": 3
   },
   "file_extension": ".py",
   "mimetype": "text/x-python",
   "name": "python",
   "nbconvert_exporter": "python",
   "pygments_lexer": "ipython3",
   "version": "3.10.9"
  }
 },
 "nbformat": 4,
 "nbformat_minor": 5
}

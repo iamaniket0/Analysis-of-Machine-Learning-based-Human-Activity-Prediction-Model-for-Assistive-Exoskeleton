{
 "cells": [
  {
   "cell_type": "code",
   "execution_count": null,
   "id": "2eef3e56-bef9-4752-a5d4-8ef641150298",
   "metadata": {},
   "outputs": [],
   "source": [
    "#Regular Expressions-Pattern Matching\n",
    "#Uses of Regular Expression\n",
    "'''Text processing-search and replace text\n",
    "Data Validation-Check data is in proper text\n",
    "Extracting information-extracting info from large text'''\n",
    "'''What is patern matching\n",
    "Functions\n",
    "Regular expressions -Quantifiers,special character,sequences'''"
   ]
  },
  {
   "cell_type": "code",
   "execution_count": 1,
   "id": "7bcd8497-b88c-48e3-a895-9765a66aec90",
   "metadata": {},
   "outputs": [],
   "source": [
    "#What is pattern matching\n",
    "#'and'\n",
    "s1='android'\n",
    "s2='handle'\n",
    "s3='and'\n",
    "#com|org\"\n",
    "s1=\"com\"\n",
    "s2=\"org\"\n",
    "#[abcd]-pattern it will take any letter one among a,b,c,d\n",
    "#[abc]+ you can take multiple times"
   ]
  },
  {
   "cell_type": "code",
   "execution_count": 3,
   "id": "d82ac7a6-6a35-46ab-9aaa-e2027ff9c62d",
   "metadata": {},
   "outputs": [],
   "source": [
    "import re as regex #regular expression"
   ]
  },
  {
   "cell_type": "code",
   "execution_count": 4,
   "id": "590f395a-7548-4717-9d60-378b29f304c1",
   "metadata": {},
   "outputs": [],
   "source": [
    "from re import * #* means everything"
   ]
  },
  {
   "cell_type": "code",
   "execution_count": 5,
   "id": "1597cf34-596e-472a-a265-bd2bed229b37",
   "metadata": {},
   "outputs": [
    {
     "data": {
      "text/plain": [
       "<re.Match object; span=(0, 3), match='abc'>"
      ]
     },
     "execution_count": 5,
     "metadata": {},
     "output_type": "execute_result"
    }
   ],
   "source": [
    "re.match(\"abc\",\"abcdef\")"
   ]
  },
  {
   "cell_type": "code",
   "execution_count": 6,
   "id": "4a1858c2-b232-4173-89ef-bba8db1b8a76",
   "metadata": {},
   "outputs": [
    {
     "data": {
      "text/plain": [
       "<re.Match object; span=(0, 6), match='python'>"
      ]
     },
     "execution_count": 6,
     "metadata": {},
     "output_type": "execute_result"
    }
   ],
   "source": [
    "re.fullmatch(\"python\",\"python\")"
   ]
  },
  {
   "cell_type": "code",
   "execution_count": 7,
   "id": "c43acd46-3282-496a-9f17-9ec2d23e85ab",
   "metadata": {},
   "outputs": [
    {
     "data": {
      "text/plain": [
       "'python'"
      ]
     },
     "execution_count": 7,
     "metadata": {},
     "output_type": "execute_result"
    }
   ],
   "source": [
    "re.fullmatch(\"python\",\"python\").group()"
   ]
  },
  {
   "cell_type": "code",
   "execution_count": 8,
   "id": "fdf86fab-2c01-4200-8aec-9d071ee81bba",
   "metadata": {},
   "outputs": [
    {
     "data": {
      "text/plain": [
       "(10, 14)"
      ]
     },
     "execution_count": 8,
     "metadata": {},
     "output_type": "execute_result"
    }
   ],
   "source": [
    "re.search(\"very\",\"python is very easy\").span()"
   ]
  },
  {
   "cell_type": "code",
   "execution_count": 9,
   "id": "fe0a02ab-0c6c-46c3-8987-3cc6cd25ba74",
   "metadata": {},
   "outputs": [
    {
     "data": {
      "text/plain": [
       "['can', 'can', 'can', 'can']"
      ]
     },
     "execution_count": 9,
     "metadata": {},
     "output_type": "execute_result"
    }
   ],
   "source": [
    "re.findall(\"can\",\"can you can a can as a canner\")"
   ]
  },
  {
   "cell_type": "code",
   "execution_count": null,
   "id": "5a91acbe-5796-440d-a2ac-57e33a34ec93",
   "metadata": {},
   "outputs": [],
   "source": [
    "#Quantifier\n",
    "'''+ 1 or more \n",
    "* 0 or more\n",
    "? 0 or 1\n",
    "{m} exactly m\n",
    "{m,n} from m to n'''"
   ]
  },
  {
   "cell_type": "code",
   "execution_count": 4,
   "id": "ae5e4f6a-d844-47ad-a692-6119be844a51",
   "metadata": {},
   "outputs": [],
   "source": [
    "'''a+ is match with aaaa minimum 1 time '''\n",
    "'''(ab)+ ab should take ab minimum one time'''\n",
    "'''[abc] from given letters from bracket any one letter can match'''\n",
    "''' [abc]* \"\" empty string is also valid because 0 or more times'''\n",
    "'''(abc)? \"\" entire abc either 0 or 1 time'''\n",
    "'''[eimt]{4} 'item',emit,mite,time,eimt,eeee will match'''\n",
    "'''[eimt]{4,} minimum 4 maximum infinity'''\n",
    "'''[eimt]{4,8}'''\n",
    "import re\n",
    "\n",
    "\n"
   ]
  },
  {
   "cell_type": "code",
   "execution_count": 5,
   "id": "10f0b138-fb03-4205-8635-734ee42fe19c",
   "metadata": {},
   "outputs": [
    {
     "data": {
      "text/plain": [
       "<re.Match object; span=(0, 2), match='ab'>"
      ]
     },
     "execution_count": 5,
     "metadata": {},
     "output_type": "execute_result"
    }
   ],
   "source": [
    "re.fullmatch('(ab)?','ab')"
   ]
  },
  {
   "cell_type": "code",
   "execution_count": 7,
   "id": "e4ab392f-c5cf-4667-9db4-ee1018931eec",
   "metadata": {},
   "outputs": [
    {
     "data": {
      "text/plain": [
       "<re.Match object; span=(0, 0), match=''>"
      ]
     },
     "execution_count": 7,
     "metadata": {},
     "output_type": "execute_result"
    }
   ],
   "source": [
    "re.fullmatch('(ab)?','')"
   ]
  },
  {
   "cell_type": "code",
   "execution_count": 8,
   "id": "fdd50d93-76c4-4bb2-9b02-5840d672a1b1",
   "metadata": {},
   "outputs": [
    {
     "data": {
      "text/plain": [
       "<re.Match object; span=(0, 0), match=''>"
      ]
     },
     "execution_count": 8,
     "metadata": {},
     "output_type": "execute_result"
    }
   ],
   "source": [
    "re.fullmatch('(ab)*','')"
   ]
  },
  {
   "cell_type": "code",
   "execution_count": 9,
   "id": "e90f586d-e858-4958-9700-7f94b83a46e7",
   "metadata": {},
   "outputs": [
    {
     "data": {
      "text/plain": [
       "<re.Match object; span=(0, 10), match='ababababab'>"
      ]
     },
     "execution_count": 9,
     "metadata": {},
     "output_type": "execute_result"
    }
   ],
   "source": [
    "re.fullmatch('(ab)*','ababababab')"
   ]
  },
  {
   "cell_type": "code",
   "execution_count": 12,
   "id": "3122ddbd-8a4d-4ca1-a0bf-76c07c9799a4",
   "metadata": {},
   "outputs": [
    {
     "data": {
      "text/plain": [
       "['abc', 'bbc']"
      ]
     },
     "execution_count": 12,
     "metadata": {},
     "output_type": "execute_result"
    }
   ],
   "source": [
    "re.findall(\"[abc]+\",\"123 abc bbc \")"
   ]
  },
  {
   "cell_type": "code",
   "execution_count": null,
   "id": "47fc748f-4518-4393-85c5-bdfdb04ba6ee",
   "metadata": {},
   "outputs": [],
   "source": [
    "#Special Character\n",
    "'''[...] set of possible character\n",
    "[^...] all characters except in bracket\n",
    ". any character except newline\n",
    "^ beggining of a string\n",
    "$ end of a string\n",
    "R|S R or S'''"
   ]
  },
  {
   "cell_type": "code",
   "execution_count": null,
   "id": "8e2715b9-1688-4254-9004-04ec222f6036",
   "metadata": {},
   "outputs": [],
   "source": [
    "#[ABCDEF] IS EQUAL TO \"[A-F]\"\n",
    "#\"[a-zA-Z]\" if you include space it will in\n"
   ]
  },
  {
   "cell_type": "code",
   "execution_count": null,
   "id": "edee0f82-9668-4215-bb64-d256ae693674",
   "metadata": {},
   "outputs": [],
   "source": []
  }
 ],
 "metadata": {
  "kernelspec": {
   "display_name": "Python 3 (ipykernel)",
   "language": "python",
   "name": "python3"
  },
  "language_info": {
   "codemirror_mode": {
    "name": "ipython",
    "version": 3
   },
   "file_extension": ".py",
   "mimetype": "text/x-python",
   "name": "python",
   "nbconvert_exporter": "python",
   "pygments_lexer": "ipython3",
   "version": "3.10.9"
  }
 },
 "nbformat": 4,
 "nbformat_minor": 5
}

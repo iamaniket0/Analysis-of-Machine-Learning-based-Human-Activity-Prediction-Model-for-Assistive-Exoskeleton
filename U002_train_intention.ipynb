{
 "cells": [
  {
   "cell_type": "code",
   "execution_count": 1,
   "id": "8d33e457-99cb-431d-981a-1b6f98aa58ae",
   "metadata": {},
   "outputs": [
    {
     "name": "stdout",
     "output_type": "stream",
     "text": [
      "C:\\Users\\Aniket\n",
      "C:\\Users\\Aniket\\Desktop\\INTENTION\n",
      "   Axel_X_C9  Axel_Y_C9  Axel_Z_C9  Gyro_X_C9  Gyro_Y_C9  Gyro_Z_C9  \\\n",
      "0   8.199182   2.207052   0.783509   0.850685  -1.072093   0.410495   \n",
      "1   8.438137   2.519922   1.953930   0.683856  -1.214931   0.386091   \n",
      "2   9.311604   3.379221   2.639236   0.523188  -1.256644   0.402437   \n",
      "3  10.366902   4.325544   2.550942   0.539613  -1.177270   0.409964   \n",
      "4  10.927887   4.712421   1.597345   0.666779  -0.994159   0.425805   \n",
      "\n",
      "   Axel_X_3B  Axel_Y_3B  Axel_Z_3B  Gyro_X_3B  ...  Gyro_X_B6  Gyro_Y_B6  \\\n",
      "0   4.723330   2.392470   2.848952  -0.961156  ...   0.210884  -0.007829   \n",
      "1   6.291862   1.844391   4.989606  -1.412136  ...   0.179963   0.051064   \n",
      "2   9.119535   1.955539   9.633720  -1.726296  ...   0.142519   0.121885   \n",
      "3  13.120243   2.172550  15.220164  -1.591408  ...   0.071071   0.178092   \n",
      "4  18.622875   2.935114  15.993565  -0.616234  ...  -0.015241   0.211938   \n",
      "\n",
      "   Gyro_Z_B6  Axel_X_BB  Axel_Y_BB  Axel_Z_BB  Gyro_X_BB  Gyro_Y_BB  \\\n",
      "0   0.120377   9.644582  -4.491251   2.020048  -0.258148  -0.554771   \n",
      "1   0.154036   9.464567  -4.538838   2.173844  -0.237283  -0.570201   \n",
      "2   0.182199   9.374795  -4.642478   2.440953  -0.210710  -0.577664   \n",
      "3   0.210166   9.466676  -4.803913   2.753995  -0.126127  -0.591995   \n",
      "4   0.234181   9.643507  -4.743210   3.120979  -0.013466  -0.619029   \n",
      "\n",
      "   Gyro_Z_BB  target  \n",
      "0  -1.707061     1.0  \n",
      "1  -1.489577     1.0  \n",
      "2  -1.264212     1.0  \n",
      "3  -1.027643     1.0  \n",
      "4  -0.794481     1.0  \n",
      "\n",
      "[5 rows x 31 columns]\n"
     ]
    }
   ],
   "source": [
    "import os\n",
    "import pandas as pd\n",
    "import numpy as np\n",
    "import matplotlib.pyplot as plt\n",
    "cd=os.getcwd()\n",
    "print(cd)\n",
    "os.chdir(r\"C:\\Users\\Aniket\\Desktop\\INTENTION\")\n",
    "cd=os.getcwd()\n",
    "print(cd)\n",
    "path=os.path.join(cd,\"U002_train_intention.csv\")\n",
    "df1=pd.read_csv(path)\n",
    "print(df1.head(5))"
   ]
  },
  {
   "cell_type": "code",
   "execution_count": 2,
   "id": "77294e89-365f-4c35-b284-ebdef80a280a",
   "metadata": {},
   "outputs": [
    {
     "name": "stdout",
     "output_type": "stream",
     "text": [
      "[-1.072093e+00 -1.214931e+00 -1.256644e+00 ...  4.756000e-03  1.228000e-03\n",
      " -2.625000e-03]\n",
      "89366\n",
      "89252\n",
      "(89252, 100)\n",
      "(89252, 15)\n"
     ]
    }
   ],
   "source": [
    "# for GYRO_y_C9\n",
    "Gyro_y_c9 = df1[\"Gyro_Y_C9\"]\n",
    "Gyro_c9=df1[\"Gyro_Y_C9\"]\n",
    "Dat=Gyro_c9.values\n",
    "print(Dat)\n",
    "Sample=Gyro_c9.shape[0]\n",
    "print(Sample)\n",
    "window=100\n",
    "output=15\n",
    "m=Sample-(window+output)+1\n",
    "print(m)\n",
    "x_in=np.zeros((m,100))\n",
    "y_op=np.zeros((m,15))\n",
    "x1=np.arange(0,m)\n",
    "for i in range(m):\n",
    "    x_in[i,:]=Dat[i:i+100]\n",
    "    y_op[i,:]=Dat[i+100:i+115]\n",
    "x_1=x_in[0,:]\n",
    "y_1=y_op[0,:]\n",
    "x_act=Dat[0:115]\n",
    "print(x_in.shape)\n",
    "print(y_op.shape)"
   ]
  },
  {
   "cell_type": "code",
   "execution_count": 3,
   "id": "ca47f6c7-8a12-43a1-a08d-149895c73cc9",
   "metadata": {},
   "outputs": [],
   "source": [
    "import numpy as np\n",
    "\n",
    "# Create NumPy arrays\n",
    "x = np.array(x_in)\n",
    "y = np.array(y_op)\n",
    "\n",
    "# Save arrays to a file\n",
    "np.savez('arrays.npz', x=x, y=y)\n",
    "import numpy as np\n",
    "\n",
    "# Load the arrays from file\n",
    "loaded_arrays = np.load('arrays.npz')\n",
    "\n",
    "# Access the individual arrays\n",
    "x_loaded_y_C9 = loaded_arrays['x']\n",
    "y_loaded_y_C9= loaded_arrays['y']"
   ]
  },
  {
   "cell_type": "code",
   "execution_count": 4,
   "id": "7c43d2ab-2f99-4b23-bcc3-8c00de30eb55",
   "metadata": {},
   "outputs": [
    {
     "name": "stdout",
     "output_type": "stream",
     "text": [
      "89366\n"
     ]
    }
   ],
   "source": [
    "# for GYRO_y_3B\n",
    "Gyro_y_3B = df1[\"Gyro_Y_3B\"]\n",
    "Gyro_3B=df1[\"Gyro_Y_3B\"]\n",
    "Dat=Gyro_3B.values\n",
    "Sample=Gyro_3B.shape[0]\n",
    "print(Sample)\n",
    "window=100\n",
    "output=15\n",
    "m=Sample-(window+output)+1\n",
    "\n",
    "X=np.zeros((m,window))\n",
    "y=np.zeros((m,output))\n",
    "x_in=np.zeros((m,100))\n",
    "y_op=np.zeros((m,15))\n",
    "x1=np.arange(0,m)\n",
    "for i in range(m):\n",
    "    x_in[i,:]=Dat[i:i+100]\n",
    "    y_op[i,:]=Dat[i+100:i+115]\n",
    "x_1=x_in[0,:]\n",
    "y_1=y_op[0,:]\n",
    "x_act=Dat[0:115]\n",
    "# Create NumPy arrays\n",
    "x = np.array(x_in)\n",
    "y = np.array(y_op)\n",
    "\n",
    "# Save arrays to a file\n",
    "np.savez('arrays.npz', x=x, y=y)\n",
    "loaded_arrays = np.load('arrays.npz')\n",
    "\n",
    "# Access the individual arrays\n",
    "x_loaded_y_3B = loaded_arrays['x']\n",
    "y_loaded_y_3B= loaded_arrays['y']"
   ]
  },
  {
   "cell_type": "code",
   "execution_count": 5,
   "id": "5c516b5a-f353-4178-b711-d60a631e8529",
   "metadata": {},
   "outputs": [
    {
     "name": "stdout",
     "output_type": "stream",
     "text": [
      "89366\n"
     ]
    }
   ],
   "source": [
    "# for GYRO_y_B5\n",
    "Gyro_y_B5= df1[\"Gyro_Y_B5\"]\n",
    "Gyro_B5=df1[\"Gyro_Y_B5\"]\n",
    "Dat=Gyro_B5.values\n",
    "Sample=Gyro_B5.shape[0]\n",
    "print(Sample)\n",
    "window=100\n",
    "output=15\n",
    "m=Sample-(window+output)+1\n",
    "\n",
    "X=np.zeros((m,window))\n",
    "y=np.zeros((m,output))\n",
    "x_in=np.zeros((m,100))\n",
    "y_op=np.zeros((m,15))\n",
    "x1=np.arange(0,m)\n",
    "for i in range(m):\n",
    "    x_in[i,:]=Dat[i:i+100]\n",
    "    y_op[i,:]=Dat[i+100:i+115]\n",
    "x_1=x_in[0,:]\n",
    "y_1=y_op[0,:]\n",
    "x_act=Dat[0:115]\n",
    "# Create NumPy arrays\n",
    "x = np.array(x_in)\n",
    "y = np.array(y_op)\n",
    "\n",
    "# Save arrays to a file\n",
    "np.savez('arrays.npz', x=x, y=y)\n",
    "loaded_arrays = np.load('arrays.npz')\n",
    "\n",
    "# Access the individual arrays\n",
    "x_loaded_y_B5 = loaded_arrays['x']\n",
    "y_loaded_y_B5= loaded_arrays['y']"
   ]
  },
  {
   "cell_type": "code",
   "execution_count": 6,
   "id": "f69cc49f-9af2-4bae-972c-d8663f70dae9",
   "metadata": {},
   "outputs": [
    {
     "name": "stdout",
     "output_type": "stream",
     "text": [
      "89366\n"
     ]
    }
   ],
   "source": [
    "# for GYRO_y_B6\n",
    "Gyro_y_B6 = df1[\"Gyro_Y_B6\"]\n",
    "Gyro_B6=df1[\"Gyro_Y_B6\"]\n",
    "Dat=Gyro_B6.values\n",
    "Sample=Gyro_B6.shape[0]\n",
    "print(Sample)\n",
    "window=100\n",
    "output=15\n",
    "m=Sample-(window+output)+1\n",
    "\n",
    "X=np.zeros((m,window))\n",
    "y=np.zeros((m,output))\n",
    "x_in=np.zeros((m,100))\n",
    "y_op=np.zeros((m,15))\n",
    "x1=np.arange(0,m)\n",
    "for i in range(m):\n",
    "    x_in[i,:]=Dat[i:i+100]\n",
    "    y_op[i,:]=Dat[i+100:i+115]\n",
    "x_1=x_in[0,:]\n",
    "y_1=y_op[0,:]\n",
    "x_act=Dat[0:115]\n",
    "# Create NumPy arrays\n",
    "x = np.array(x_in)\n",
    "y = np.array(y_op)\n",
    "\n",
    "# Save arrays to a file\n",
    "np.savez('arrays.npz', x=x, y=y)\n",
    "loaded_arrays = np.load('arrays.npz')\n",
    "\n",
    "# Access the individual arrays\n",
    "x_loaded_y_B6 = loaded_arrays['x']\n",
    "y_loaded_y_B6= loaded_arrays['y']"
   ]
  },
  {
   "cell_type": "code",
   "execution_count": 7,
   "id": "e77d5b5f-4605-4343-ab11-4f832fe09c1e",
   "metadata": {},
   "outputs": [
    {
     "name": "stdout",
     "output_type": "stream",
     "text": [
      "89366\n"
     ]
    }
   ],
   "source": [
    "# for GYRO_y_BB\n",
    "Gyro_y_BB = df1[\"Gyro_Y_BB\"]\n",
    "Gyro_BB=df1[\"Gyro_Y_BB\"]\n",
    "Dat=Gyro_BB.values\n",
    "Sample=Gyro_BB.shape[0]\n",
    "print(Sample)\n",
    "window=100\n",
    "output=15\n",
    "m=Sample-(window+output)+1\n",
    "\n",
    "X=np.zeros((m,window))\n",
    "y=np.zeros((m,output))\n",
    "x_in=np.zeros((m,100))\n",
    "y_op=np.zeros((m,15))\n",
    "x1=np.arange(0,m)\n",
    "for i in range(m):\n",
    "    x_in[i,:]=Dat[i:i+100]\n",
    "    y_op[i,:]=Dat[i+100:i+115]\n",
    "x_1=x_in[0,:]\n",
    "y_1=y_op[0,:]\n",
    "x_act=Dat[0:115]\n",
    "# Create NumPy arrays\n",
    "x = np.array(x_in)\n",
    "y = np.array(y_op)\n",
    "\n",
    "# Save arrays to a file\n",
    "np.savez('arrays.npz', x=x, y=y)\n",
    "loaded_arrays = np.load('arrays.npz')\n",
    "\n",
    "# Access the individual arrays\n",
    "x_loaded_y_BB = loaded_arrays['x']\n",
    "y_loaded_y_BB= loaded_arrays['y']"
   ]
  },
  {
   "cell_type": "code",
   "execution_count": null,
   "id": "d44d127f-2747-47f2-bc3c-9ef56d79c0f8",
   "metadata": {},
   "outputs": [],
   "source": []
  }
 ],
 "metadata": {
  "kernelspec": {
   "display_name": "Python 3 (ipykernel)",
   "language": "python",
   "name": "python3"
  },
  "language_info": {
   "codemirror_mode": {
    "name": "ipython",
    "version": 3
   },
   "file_extension": ".py",
   "mimetype": "text/x-python",
   "name": "python",
   "nbconvert_exporter": "python",
   "pygments_lexer": "ipython3",
   "version": "3.10.9"
  }
 },
 "nbformat": 4,
 "nbformat_minor": 5
}
